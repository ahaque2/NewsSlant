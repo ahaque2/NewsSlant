{
 "cells": [
  {
   "cell_type": "code",
   "execution_count": 1,
   "id": "c6007805-a794-48d6-8a92-ed00aa78251c",
   "metadata": {},
   "outputs": [],
   "source": [
    "import pandas as pd\n",
    "import sys"
   ]
  },
  {
   "cell_type": "code",
   "execution_count": 2,
   "id": "e7688942-3a42-4517-9e89-e5dcd98dedde",
   "metadata": {},
   "outputs": [
    {
     "name": "stderr",
     "output_type": "stream",
     "text": [
      "/tmp/ipykernel_473420/4151079534.py:3: DtypeWarning: Columns (1,8,9,10,15,16,17,19,36,37,39,46,47,58,59,60) have mixed types. Specify dtype option on import or set low_memory=False.\n",
      "  user_resp = pd.read_csv('results/user_resp.csv')\n"
     ]
    }
   ],
   "source": [
    "news = pd.read_csv('results/news.csv')\n",
    "news_tweets = pd.read_csv('results/news_tweets.csv')\n",
    "user_resp = pd.read_csv('results/user_resp.csv')"
   ]
  },
  {
   "cell_type": "code",
   "execution_count": 3,
   "id": "78f00eeb-ad99-4568-820c-0da5b9fb35e8",
   "metadata": {},
   "outputs": [
    {
     "data": {
      "text/plain": [
       "((35886, 32), (24584, 49), (4039614, 62))"
      ]
     },
     "execution_count": 3,
     "metadata": {},
     "output_type": "execute_result"
    }
   ],
   "source": [
    "news.shape, news_tweets.shape, user_resp.shape"
   ]
  },
  {
   "cell_type": "code",
   "execution_count": null,
   "id": "ee269c65-f034-4268-8869-53e042de52fa",
   "metadata": {},
   "outputs": [],
   "source": [
    "# f_user_resp = user_resp[user_resp.conversation_id.isin(news_tweets.conversation_id.unique())]"
   ]
  },
  {
   "cell_type": "code",
   "execution_count": 4,
   "id": "01585163-9dc6-4498-9f4a-4bb38be9b87f",
   "metadata": {},
   "outputs": [],
   "source": [
    "user_resp_ = user_resp.drop_duplicates(subset = ['tweet_id', 'conversation_id'])"
   ]
  },
  {
   "cell_type": "code",
   "execution_count": 7,
   "id": "a50d648a-edde-46ca-9b1d-f40e95517d5f",
   "metadata": {},
   "outputs": [
    {
     "data": {
      "text/plain": [
       "Unnamed: 0.1              0\n",
       "Unnamed: 0                0\n",
       "tweet_id                  0\n",
       "conversation_id           0\n",
       "author_id_x               0\n",
       "                     ...   \n",
       "biden_neu_new       2667965\n",
       "Trump_flag                0\n",
       "Biden_flag                0\n",
       "Trump_Biden_flag          0\n",
       "topic_id                  0\n",
       "Length: 62, dtype: int64"
      ]
     },
     "execution_count": 7,
     "metadata": {},
     "output_type": "execute_result"
    }
   ],
   "source": [
    "user_resp_.isna().sum()"
   ]
  },
  {
   "cell_type": "code",
   "execution_count": 5,
   "id": "3c8da9de-5abd-4030-bec7-801c89ac0ee3",
   "metadata": {},
   "outputs": [
    {
     "data": {
      "text/plain": [
       "((4039608, 62), (4039614, 62))"
      ]
     },
     "execution_count": 5,
     "metadata": {},
     "output_type": "execute_result"
    }
   ],
   "source": [
    "user_resp_ = user_resp.dropna(subset = ['Trump_flag'])\n",
    "user_resp_.shape, user_resp.shape"
   ]
  },
  {
   "cell_type": "code",
   "execution_count": 6,
   "id": "bb3ecbd0-7681-45e9-b5f2-ea0767fefb2e",
   "metadata": {},
   "outputs": [
    {
     "ename": "TypeError",
     "evalue": "unsupported operand type(s) for +: 'float' and 'str'",
     "output_type": "error",
     "traceback": [
      "\u001b[0;31m---------------------------------------------------------------------------\u001b[0m",
      "\u001b[0;31mTypeError\u001b[0m                                 Traceback (most recent call last)",
      "Cell \u001b[0;32mIn [6], line 1\u001b[0m\n\u001b[0;32m----> 1\u001b[0m \u001b[43muser_resp_\u001b[49m\u001b[38;5;241;43m.\u001b[39;49m\u001b[43mjoy\u001b[49m\u001b[38;5;241;43m.\u001b[39;49m\u001b[43mmean\u001b[49m\u001b[43m(\u001b[49m\u001b[43m)\u001b[49m\n",
      "File \u001b[0;32m~/venv/py3_10/lib/python3.10/site-packages/pandas/core/generic.py:11847\u001b[0m, in \u001b[0;36mNDFrame._add_numeric_operations.<locals>.mean\u001b[0;34m(self, axis, skipna, level, numeric_only, **kwargs)\u001b[0m\n\u001b[1;32m  11829\u001b[0m \u001b[38;5;129m@doc\u001b[39m(\n\u001b[1;32m  11830\u001b[0m     _num_doc,\n\u001b[1;32m  11831\u001b[0m     desc\u001b[38;5;241m=\u001b[39m\u001b[38;5;124m\"\u001b[39m\u001b[38;5;124mReturn the mean of the values over the requested axis.\u001b[39m\u001b[38;5;124m\"\u001b[39m,\n\u001b[0;32m   (...)\u001b[0m\n\u001b[1;32m  11845\u001b[0m     \u001b[38;5;241m*\u001b[39m\u001b[38;5;241m*\u001b[39mkwargs,\n\u001b[1;32m  11846\u001b[0m ):\n\u001b[0;32m> 11847\u001b[0m     \u001b[38;5;28;01mreturn\u001b[39;00m \u001b[43mNDFrame\u001b[49m\u001b[38;5;241;43m.\u001b[39;49m\u001b[43mmean\u001b[49m\u001b[43m(\u001b[49m\u001b[38;5;28;43mself\u001b[39;49m\u001b[43m,\u001b[49m\u001b[43m \u001b[49m\u001b[43maxis\u001b[49m\u001b[43m,\u001b[49m\u001b[43m \u001b[49m\u001b[43mskipna\u001b[49m\u001b[43m,\u001b[49m\u001b[43m \u001b[49m\u001b[43mlevel\u001b[49m\u001b[43m,\u001b[49m\u001b[43m \u001b[49m\u001b[43mnumeric_only\u001b[49m\u001b[43m,\u001b[49m\u001b[43m \u001b[49m\u001b[38;5;241;43m*\u001b[39;49m\u001b[38;5;241;43m*\u001b[39;49m\u001b[43mkwargs\u001b[49m\u001b[43m)\u001b[49m\n",
      "File \u001b[0;32m~/venv/py3_10/lib/python3.10/site-packages/pandas/core/generic.py:11401\u001b[0m, in \u001b[0;36mNDFrame.mean\u001b[0;34m(self, axis, skipna, level, numeric_only, **kwargs)\u001b[0m\n\u001b[1;32m  11393\u001b[0m \u001b[38;5;28;01mdef\u001b[39;00m \u001b[38;5;21mmean\u001b[39m(\n\u001b[1;32m  11394\u001b[0m     \u001b[38;5;28mself\u001b[39m,\n\u001b[1;32m  11395\u001b[0m     axis: Axis \u001b[38;5;241m|\u001b[39m \u001b[38;5;28;01mNone\u001b[39;00m \u001b[38;5;241m|\u001b[39m lib\u001b[38;5;241m.\u001b[39mNoDefault \u001b[38;5;241m=\u001b[39m lib\u001b[38;5;241m.\u001b[39mno_default,\n\u001b[0;32m   (...)\u001b[0m\n\u001b[1;32m  11399\u001b[0m     \u001b[38;5;241m*\u001b[39m\u001b[38;5;241m*\u001b[39mkwargs,\n\u001b[1;32m  11400\u001b[0m ) \u001b[38;5;241m-\u001b[39m\u001b[38;5;241m>\u001b[39m Series \u001b[38;5;241m|\u001b[39m \u001b[38;5;28mfloat\u001b[39m:\n\u001b[0;32m> 11401\u001b[0m     \u001b[38;5;28;01mreturn\u001b[39;00m \u001b[38;5;28;43mself\u001b[39;49m\u001b[38;5;241;43m.\u001b[39;49m\u001b[43m_stat_function\u001b[49m\u001b[43m(\u001b[49m\n\u001b[1;32m  11402\u001b[0m \u001b[43m        \u001b[49m\u001b[38;5;124;43m\"\u001b[39;49m\u001b[38;5;124;43mmean\u001b[39;49m\u001b[38;5;124;43m\"\u001b[39;49m\u001b[43m,\u001b[49m\u001b[43m \u001b[49m\u001b[43mnanops\u001b[49m\u001b[38;5;241;43m.\u001b[39;49m\u001b[43mnanmean\u001b[49m\u001b[43m,\u001b[49m\u001b[43m \u001b[49m\u001b[43maxis\u001b[49m\u001b[43m,\u001b[49m\u001b[43m \u001b[49m\u001b[43mskipna\u001b[49m\u001b[43m,\u001b[49m\u001b[43m \u001b[49m\u001b[43mlevel\u001b[49m\u001b[43m,\u001b[49m\u001b[43m \u001b[49m\u001b[43mnumeric_only\u001b[49m\u001b[43m,\u001b[49m\u001b[43m \u001b[49m\u001b[38;5;241;43m*\u001b[39;49m\u001b[38;5;241;43m*\u001b[39;49m\u001b[43mkwargs\u001b[49m\n\u001b[1;32m  11403\u001b[0m \u001b[43m    \u001b[49m\u001b[43m)\u001b[49m\n",
      "File \u001b[0;32m~/venv/py3_10/lib/python3.10/site-packages/pandas/core/generic.py:11353\u001b[0m, in \u001b[0;36mNDFrame._stat_function\u001b[0;34m(self, name, func, axis, skipna, level, numeric_only, **kwargs)\u001b[0m\n\u001b[1;32m  11343\u001b[0m     warnings\u001b[38;5;241m.\u001b[39mwarn(\n\u001b[1;32m  11344\u001b[0m         \u001b[38;5;124m\"\u001b[39m\u001b[38;5;124mUsing the level keyword in DataFrame and Series aggregations is \u001b[39m\u001b[38;5;124m\"\u001b[39m\n\u001b[1;32m  11345\u001b[0m         \u001b[38;5;124m\"\u001b[39m\u001b[38;5;124mdeprecated and will be removed in a future version. Use groupby \u001b[39m\u001b[38;5;124m\"\u001b[39m\n\u001b[0;32m   (...)\u001b[0m\n\u001b[1;32m  11348\u001b[0m         stacklevel\u001b[38;5;241m=\u001b[39mfind_stack_level(),\n\u001b[1;32m  11349\u001b[0m     )\n\u001b[1;32m  11350\u001b[0m     \u001b[38;5;28;01mreturn\u001b[39;00m \u001b[38;5;28mself\u001b[39m\u001b[38;5;241m.\u001b[39m_agg_by_level(\n\u001b[1;32m  11351\u001b[0m         name, axis\u001b[38;5;241m=\u001b[39maxis, level\u001b[38;5;241m=\u001b[39mlevel, skipna\u001b[38;5;241m=\u001b[39mskipna, numeric_only\u001b[38;5;241m=\u001b[39mnumeric_only\n\u001b[1;32m  11352\u001b[0m     )\n\u001b[0;32m> 11353\u001b[0m \u001b[38;5;28;01mreturn\u001b[39;00m \u001b[38;5;28;43mself\u001b[39;49m\u001b[38;5;241;43m.\u001b[39;49m\u001b[43m_reduce\u001b[49m\u001b[43m(\u001b[49m\n\u001b[1;32m  11354\u001b[0m \u001b[43m    \u001b[49m\u001b[43mfunc\u001b[49m\u001b[43m,\u001b[49m\u001b[43m \u001b[49m\u001b[43mname\u001b[49m\u001b[38;5;241;43m=\u001b[39;49m\u001b[43mname\u001b[49m\u001b[43m,\u001b[49m\u001b[43m \u001b[49m\u001b[43maxis\u001b[49m\u001b[38;5;241;43m=\u001b[39;49m\u001b[43maxis\u001b[49m\u001b[43m,\u001b[49m\u001b[43m \u001b[49m\u001b[43mskipna\u001b[49m\u001b[38;5;241;43m=\u001b[39;49m\u001b[43mskipna\u001b[49m\u001b[43m,\u001b[49m\u001b[43m \u001b[49m\u001b[43mnumeric_only\u001b[49m\u001b[38;5;241;43m=\u001b[39;49m\u001b[43mnumeric_only\u001b[49m\n\u001b[1;32m  11355\u001b[0m \u001b[43m\u001b[49m\u001b[43m)\u001b[49m\n",
      "File \u001b[0;32m~/venv/py3_10/lib/python3.10/site-packages/pandas/core/series.py:4816\u001b[0m, in \u001b[0;36mSeries._reduce\u001b[0;34m(self, op, name, axis, skipna, numeric_only, filter_type, **kwds)\u001b[0m\n\u001b[1;32m   4812\u001b[0m     \u001b[38;5;28;01mraise\u001b[39;00m \u001b[38;5;167;01mNotImplementedError\u001b[39;00m(\n\u001b[1;32m   4813\u001b[0m         \u001b[38;5;124mf\u001b[39m\u001b[38;5;124m\"\u001b[39m\u001b[38;5;124mSeries.\u001b[39m\u001b[38;5;132;01m{\u001b[39;00mname\u001b[38;5;132;01m}\u001b[39;00m\u001b[38;5;124m does not implement \u001b[39m\u001b[38;5;132;01m{\u001b[39;00mkwd_name\u001b[38;5;132;01m}\u001b[39;00m\u001b[38;5;124m.\u001b[39m\u001b[38;5;124m\"\u001b[39m\n\u001b[1;32m   4814\u001b[0m     )\n\u001b[1;32m   4815\u001b[0m \u001b[38;5;28;01mwith\u001b[39;00m np\u001b[38;5;241m.\u001b[39merrstate(\u001b[38;5;28mall\u001b[39m\u001b[38;5;241m=\u001b[39m\u001b[38;5;124m\"\u001b[39m\u001b[38;5;124mignore\u001b[39m\u001b[38;5;124m\"\u001b[39m):\n\u001b[0;32m-> 4816\u001b[0m     \u001b[38;5;28;01mreturn\u001b[39;00m \u001b[43mop\u001b[49m\u001b[43m(\u001b[49m\u001b[43mdelegate\u001b[49m\u001b[43m,\u001b[49m\u001b[43m \u001b[49m\u001b[43mskipna\u001b[49m\u001b[38;5;241;43m=\u001b[39;49m\u001b[43mskipna\u001b[49m\u001b[43m,\u001b[49m\u001b[43m \u001b[49m\u001b[38;5;241;43m*\u001b[39;49m\u001b[38;5;241;43m*\u001b[39;49m\u001b[43mkwds\u001b[49m\u001b[43m)\u001b[49m\n",
      "File \u001b[0;32m~/venv/py3_10/lib/python3.10/site-packages/pandas/core/nanops.py:93\u001b[0m, in \u001b[0;36mdisallow.__call__.<locals>._f\u001b[0;34m(*args, **kwargs)\u001b[0m\n\u001b[1;32m     91\u001b[0m \u001b[38;5;28;01mtry\u001b[39;00m:\n\u001b[1;32m     92\u001b[0m     \u001b[38;5;28;01mwith\u001b[39;00m np\u001b[38;5;241m.\u001b[39merrstate(invalid\u001b[38;5;241m=\u001b[39m\u001b[38;5;124m\"\u001b[39m\u001b[38;5;124mignore\u001b[39m\u001b[38;5;124m\"\u001b[39m):\n\u001b[0;32m---> 93\u001b[0m         \u001b[38;5;28;01mreturn\u001b[39;00m \u001b[43mf\u001b[49m\u001b[43m(\u001b[49m\u001b[38;5;241;43m*\u001b[39;49m\u001b[43margs\u001b[49m\u001b[43m,\u001b[49m\u001b[43m \u001b[49m\u001b[38;5;241;43m*\u001b[39;49m\u001b[38;5;241;43m*\u001b[39;49m\u001b[43mkwargs\u001b[49m\u001b[43m)\u001b[49m\n\u001b[1;32m     94\u001b[0m \u001b[38;5;28;01mexcept\u001b[39;00m \u001b[38;5;167;01mValueError\u001b[39;00m \u001b[38;5;28;01mas\u001b[39;00m e:\n\u001b[1;32m     95\u001b[0m     \u001b[38;5;66;03m# we want to transform an object array\u001b[39;00m\n\u001b[1;32m     96\u001b[0m     \u001b[38;5;66;03m# ValueError message to the more typical TypeError\u001b[39;00m\n\u001b[1;32m     97\u001b[0m     \u001b[38;5;66;03m# e.g. this is normally a disallowed function on\u001b[39;00m\n\u001b[1;32m     98\u001b[0m     \u001b[38;5;66;03m# object arrays that contain strings\u001b[39;00m\n\u001b[1;32m     99\u001b[0m     \u001b[38;5;28;01mif\u001b[39;00m is_object_dtype(args[\u001b[38;5;241m0\u001b[39m]):\n",
      "File \u001b[0;32m~/venv/py3_10/lib/python3.10/site-packages/pandas/core/nanops.py:155\u001b[0m, in \u001b[0;36mbottleneck_switch.__call__.<locals>.f\u001b[0;34m(values, axis, skipna, **kwds)\u001b[0m\n\u001b[1;32m    153\u001b[0m         result \u001b[38;5;241m=\u001b[39m alt(values, axis\u001b[38;5;241m=\u001b[39maxis, skipna\u001b[38;5;241m=\u001b[39mskipna, \u001b[38;5;241m*\u001b[39m\u001b[38;5;241m*\u001b[39mkwds)\n\u001b[1;32m    154\u001b[0m \u001b[38;5;28;01melse\u001b[39;00m:\n\u001b[0;32m--> 155\u001b[0m     result \u001b[38;5;241m=\u001b[39m \u001b[43malt\u001b[49m\u001b[43m(\u001b[49m\u001b[43mvalues\u001b[49m\u001b[43m,\u001b[49m\u001b[43m \u001b[49m\u001b[43maxis\u001b[49m\u001b[38;5;241;43m=\u001b[39;49m\u001b[43maxis\u001b[49m\u001b[43m,\u001b[49m\u001b[43m \u001b[49m\u001b[43mskipna\u001b[49m\u001b[38;5;241;43m=\u001b[39;49m\u001b[43mskipna\u001b[49m\u001b[43m,\u001b[49m\u001b[43m \u001b[49m\u001b[38;5;241;43m*\u001b[39;49m\u001b[38;5;241;43m*\u001b[39;49m\u001b[43mkwds\u001b[49m\u001b[43m)\u001b[49m\n\u001b[1;32m    157\u001b[0m \u001b[38;5;28;01mreturn\u001b[39;00m result\n",
      "File \u001b[0;32m~/venv/py3_10/lib/python3.10/site-packages/pandas/core/nanops.py:418\u001b[0m, in \u001b[0;36m_datetimelike_compat.<locals>.new_func\u001b[0;34m(values, axis, skipna, mask, **kwargs)\u001b[0m\n\u001b[1;32m    415\u001b[0m \u001b[38;5;28;01mif\u001b[39;00m datetimelike \u001b[38;5;129;01mand\u001b[39;00m mask \u001b[38;5;129;01mis\u001b[39;00m \u001b[38;5;28;01mNone\u001b[39;00m:\n\u001b[1;32m    416\u001b[0m     mask \u001b[38;5;241m=\u001b[39m isna(values)\n\u001b[0;32m--> 418\u001b[0m result \u001b[38;5;241m=\u001b[39m \u001b[43mfunc\u001b[49m\u001b[43m(\u001b[49m\u001b[43mvalues\u001b[49m\u001b[43m,\u001b[49m\u001b[43m \u001b[49m\u001b[43maxis\u001b[49m\u001b[38;5;241;43m=\u001b[39;49m\u001b[43maxis\u001b[49m\u001b[43m,\u001b[49m\u001b[43m \u001b[49m\u001b[43mskipna\u001b[49m\u001b[38;5;241;43m=\u001b[39;49m\u001b[43mskipna\u001b[49m\u001b[43m,\u001b[49m\u001b[43m \u001b[49m\u001b[43mmask\u001b[49m\u001b[38;5;241;43m=\u001b[39;49m\u001b[43mmask\u001b[49m\u001b[43m,\u001b[49m\u001b[43m \u001b[49m\u001b[38;5;241;43m*\u001b[39;49m\u001b[38;5;241;43m*\u001b[39;49m\u001b[43mkwargs\u001b[49m\u001b[43m)\u001b[49m\n\u001b[1;32m    420\u001b[0m \u001b[38;5;28;01mif\u001b[39;00m datetimelike:\n\u001b[1;32m    421\u001b[0m     result \u001b[38;5;241m=\u001b[39m _wrap_results(result, orig_values\u001b[38;5;241m.\u001b[39mdtype, fill_value\u001b[38;5;241m=\u001b[39miNaT)\n",
      "File \u001b[0;32m~/venv/py3_10/lib/python3.10/site-packages/pandas/core/nanops.py:706\u001b[0m, in \u001b[0;36mnanmean\u001b[0;34m(values, axis, skipna, mask)\u001b[0m\n\u001b[1;32m    703\u001b[0m     dtype_count \u001b[38;5;241m=\u001b[39m dtype\n\u001b[1;32m    705\u001b[0m count \u001b[38;5;241m=\u001b[39m _get_counts(values\u001b[38;5;241m.\u001b[39mshape, mask, axis, dtype\u001b[38;5;241m=\u001b[39mdtype_count)\n\u001b[0;32m--> 706\u001b[0m the_sum \u001b[38;5;241m=\u001b[39m _ensure_numeric(\u001b[43mvalues\u001b[49m\u001b[38;5;241;43m.\u001b[39;49m\u001b[43msum\u001b[49m\u001b[43m(\u001b[49m\u001b[43maxis\u001b[49m\u001b[43m,\u001b[49m\u001b[43m \u001b[49m\u001b[43mdtype\u001b[49m\u001b[38;5;241;43m=\u001b[39;49m\u001b[43mdtype_sum\u001b[49m\u001b[43m)\u001b[49m)\n\u001b[1;32m    708\u001b[0m \u001b[38;5;28;01mif\u001b[39;00m axis \u001b[38;5;129;01mis\u001b[39;00m \u001b[38;5;129;01mnot\u001b[39;00m \u001b[38;5;28;01mNone\u001b[39;00m \u001b[38;5;129;01mand\u001b[39;00m \u001b[38;5;28mgetattr\u001b[39m(the_sum, \u001b[38;5;124m\"\u001b[39m\u001b[38;5;124mndim\u001b[39m\u001b[38;5;124m\"\u001b[39m, \u001b[38;5;28;01mFalse\u001b[39;00m):\n\u001b[1;32m    709\u001b[0m     count \u001b[38;5;241m=\u001b[39m cast(np\u001b[38;5;241m.\u001b[39mndarray, count)\n",
      "File \u001b[0;32m~/venv/py3_10/lib/python3.10/site-packages/numpy/core/_methods.py:48\u001b[0m, in \u001b[0;36m_sum\u001b[0;34m(a, axis, dtype, out, keepdims, initial, where)\u001b[0m\n\u001b[1;32m     46\u001b[0m \u001b[38;5;28;01mdef\u001b[39;00m \u001b[38;5;21m_sum\u001b[39m(a, axis\u001b[38;5;241m=\u001b[39m\u001b[38;5;28;01mNone\u001b[39;00m, dtype\u001b[38;5;241m=\u001b[39m\u001b[38;5;28;01mNone\u001b[39;00m, out\u001b[38;5;241m=\u001b[39m\u001b[38;5;28;01mNone\u001b[39;00m, keepdims\u001b[38;5;241m=\u001b[39m\u001b[38;5;28;01mFalse\u001b[39;00m,\n\u001b[1;32m     47\u001b[0m          initial\u001b[38;5;241m=\u001b[39m_NoValue, where\u001b[38;5;241m=\u001b[39m\u001b[38;5;28;01mTrue\u001b[39;00m):\n\u001b[0;32m---> 48\u001b[0m     \u001b[38;5;28;01mreturn\u001b[39;00m \u001b[43mumr_sum\u001b[49m\u001b[43m(\u001b[49m\u001b[43ma\u001b[49m\u001b[43m,\u001b[49m\u001b[43m \u001b[49m\u001b[43maxis\u001b[49m\u001b[43m,\u001b[49m\u001b[43m \u001b[49m\u001b[43mdtype\u001b[49m\u001b[43m,\u001b[49m\u001b[43m \u001b[49m\u001b[43mout\u001b[49m\u001b[43m,\u001b[49m\u001b[43m \u001b[49m\u001b[43mkeepdims\u001b[49m\u001b[43m,\u001b[49m\u001b[43m \u001b[49m\u001b[43minitial\u001b[49m\u001b[43m,\u001b[49m\u001b[43m \u001b[49m\u001b[43mwhere\u001b[49m\u001b[43m)\u001b[49m\n",
      "\u001b[0;31mTypeError\u001b[0m: unsupported operand type(s) for +: 'float' and 'str'"
     ]
    }
   ],
   "source": [
    "user_resp_.joy.mean()"
   ]
  },
  {
   "cell_type": "code",
   "execution_count": null,
   "id": "d9c8141a-3129-476f-9c27-6ac23ef9daee",
   "metadata": {},
   "outputs": [],
   "source": [
    "# news[news.topics == 'proud boys'].publication.value_counts()"
   ]
  },
  {
   "cell_type": "code",
   "execution_count": null,
   "id": "e0638bc0-5010-4481-a67a-cf3e95797621",
   "metadata": {},
   "outputs": [],
   "source": [
    "R_news = news[((news['publication'] == 'Breitbart News') | (news['publication'] == 'Fox News'))]\n",
    "L_news = news[((news['publication'] == 'CNN') | (news['publication'] == 'The Washington Post'))]\n",
    "C_news = news[((news['publication'] == 'Business Insider') | (news['publication'] ==  'USA Today'))]\n",
    "\n",
    "R_news_tweets = news_tweets[((news_tweets['publication'] == 'Breitbart News') | (news_tweets['publication'] == 'Fox News'))]\n",
    "L_news_tweets = news_tweets[((news_tweets['publication'] == 'CNN') | (news_tweets['publication'] == 'The Washington Post'))]\n",
    "C_news_tweets = news_tweets[((news_tweets['publication'] == 'Business Insider') | (news_tweets['publication'] ==  'USA Today'))]"
   ]
  },
  {
   "cell_type": "code",
   "execution_count": null,
   "id": "08295398-a943-4efb-b8c2-4b7b7da9e185",
   "metadata": {},
   "outputs": [],
   "source": [
    "R_user_resp = user_resp[((user_resp['publication'] == 'Breitbart News') | (user_resp['publication'] == 'Fox News'))]\n",
    "L_user_resp = user_resp[((user_resp['publication'] == 'CNN') | (user_resp['publication'] == 'The Washington Post'))]\n",
    "C_user_resp = user_resp[((user_resp['publication'] == 'Business Insider') | (user_resp['publication'] ==  'USA Today'))]"
   ]
  },
  {
   "cell_type": "code",
   "execution_count": null,
   "id": "0c327fe9-25db-4aae-80ac-191d9f08e1c4",
   "metadata": {},
   "outputs": [],
   "source": [
    "R_user_resp.joy"
   ]
  },
  {
   "cell_type": "code",
   "execution_count": null,
   "id": "12115bd6-a72c-4392-9506-a25573bca86e",
   "metadata": {},
   "outputs": [],
   "source": [
    "# R_news[R_news.topics == 'proud boys'][['trump_flag', 'biden_flag']].sum(), L_news[L_news.topics == 'proud boys'][['trump_flag', 'biden_flag']].sum()"
   ]
  },
  {
   "cell_type": "code",
   "execution_count": null,
   "id": "6515e634-1911-4574-8194-0d2bb0ce66b7",
   "metadata": {},
   "outputs": [],
   "source": []
  },
  {
   "cell_type": "code",
   "execution_count": null,
   "id": "0e2032d8-6dc5-4ee8-ae58-2ee75c192c4a",
   "metadata": {},
   "outputs": [],
   "source": [
    "# def get_pos_neg_mentions(df, entity):\n",
    "    \n",
    "#     entity_mentions = df[df[entity + '_flag'] == True]\n",
    "#     pos_mean = entity_mentions[entity + '_pos'].mean()\n",
    "#     neu_mean = entity_mentions[entity + '_neu'].mean()\n",
    "#     neg_mean = entity_mentions[entity + '_neg'].mean()\n",
    "#     pos_entity_mentions = entity_mentions[((entity_mentions[entity + '_pos'] > pos_mean))]\n",
    "#     neg_entity_mentions = entity_mentions[((entity_mentions[entity + '_neg'] > neg_mean))]\n",
    "    \n",
    "#     return pos_entity_mentions, neg_entity_mentions\n",
    "\n",
    "# T_pos_mentions_R,  T_neg_mentions_R = get_pos_neg_mentions(R_news, \"trump\")\n",
    "# B_pos_mentions_R,  B_neg_mentions_R = get_pos_neg_mentions(R_news, \"biden\")\n",
    "\n",
    "# T_pos_mentions_L,  T_neg_mentions_L = get_pos_neg_mentions(L_news, \"trump\")\n",
    "# B_pos_mentions_L,  B_neg_mentions_L = get_pos_neg_mentions(L_news, \"biden\")"
   ]
  },
  {
   "cell_type": "code",
   "execution_count": null,
   "id": "0875cbe3-5ac8-4789-8354-ec927a7f04b6",
   "metadata": {},
   "outputs": [],
   "source": [
    "# T_pos_mentions_R[T_pos_mentions_R.topics == 'proud boys'].shape, T_neg_mentions_R[T_neg_mentions_R.topics == 'proud boys'].shape, B_pos_mentions_R[B_pos_mentions_R.topics == 'proud boys'].shape, T_pos_mentions_R[T_pos_mentions_R.topics == 'proud boys'].shape"
   ]
  },
  {
   "cell_type": "code",
   "execution_count": null,
   "id": "6904235e-3a42-45d4-bdce-6108c0ddf867",
   "metadata": {},
   "outputs": [],
   "source": []
  },
  {
   "cell_type": "code",
   "execution_count": null,
   "id": "329d3062-912b-4566-b208-9937d2dd2c42",
   "metadata": {},
   "outputs": [],
   "source": []
  },
  {
   "cell_type": "code",
   "execution_count": null,
   "id": "e6ff8dea-b65a-48c3-8bf5-4931a3d86c57",
   "metadata": {},
   "outputs": [],
   "source": []
  },
  {
   "cell_type": "code",
   "execution_count": null,
   "id": "10a5cfcd-ad80-44ae-bf58-24d49cacc534",
   "metadata": {},
   "outputs": [],
   "source": [
    "news_tweets[((news_tweets.Trump_flag == True) | (news_tweets.Biden_flag == True))].shape, news_tweets.shape"
   ]
  },
  {
   "cell_type": "markdown",
   "id": "1d6cda7a-faaa-4c06-8f4d-4a50acf3a369",
   "metadata": {},
   "source": [
    "### Mean sentiments "
   ]
  },
  {
   "cell_type": "code",
   "execution_count": null,
   "id": "52ada32d-995e-41ae-bce4-1f411866ee51",
   "metadata": {},
   "outputs": [],
   "source": [
    "cols = ['publication', 'trump_pos_new', 'trump_neg_new', 'trump_neu_new', 'biden_pos_new', 'biden_neg_new', 'biden_neu_new']"
   ]
  },
  {
   "cell_type": "code",
   "execution_count": null,
   "id": "d742dd1b-0e21-440d-9727-392eebd64abc",
   "metadata": {},
   "outputs": [],
   "source": [
    "R_news = news[((news['publication'] == 'Breitbart News') | (news['publication'] == 'Fox News'))]\n",
    "L_news = news[((news['publication'] == 'CNN') | (news['publication'] == 'The Washington Post'))]\n",
    "C_news = news[((news['publication'] == 'Business Insider') | (news['publication'] ==  'USA Today'))]"
   ]
  },
  {
   "cell_type": "code",
   "execution_count": null,
   "id": "7d61f68a-6a12-4f57-8ae9-408037492b21",
   "metadata": {},
   "outputs": [],
   "source": [
    "df1 = pd.DataFrame(R_news[cols].mean(), columns = ['Right'])\n",
    "df2 = pd.DataFrame(L_news[cols].mean(), columns = ['Left'])\n",
    "df3 = pd.DataFrame(C_news[cols].mean(), columns = ['Center'])\n",
    "\n",
    "pd.concat((df1, df2, df3), axis = 1).T"
   ]
  },
  {
   "cell_type": "code",
   "execution_count": null,
   "id": "d126b4e2-ee29-486d-91b7-8710f203be9d",
   "metadata": {},
   "outputs": [],
   "source": [
    "R_news_tweets = news_tweets[((news_tweets['publication'] == 'Breitbart News') | (news_tweets['publication'] == 'Fox News'))]\n",
    "L_news_tweets = news_tweets[((news_tweets['publication'] == 'CNN') | (news_tweets['publication'] == 'The Washington Post'))]\n",
    "C_news_tweets = news_tweets[((news_tweets['publication'] == 'Business Insider') | (news_tweets['publication'] ==  'USA Today'))]\n",
    "\n",
    "df1 = pd.DataFrame(R_news_tweets[cols].mean(), columns = ['Right'])\n",
    "df2 = pd.DataFrame(L_news_tweets[cols].mean(), columns = ['Left'])\n",
    "df3 = pd.DataFrame(C_news_tweets[cols].mean(), columns = ['Center'])\n",
    "\n",
    "pd.concat((df2, df3, df1), axis = 1).T.to_csv('results/sentiment_analysis/mean_tweet_sentiments.csv')"
   ]
  },
  {
   "cell_type": "code",
   "execution_count": null,
   "id": "01cbcabd-7074-4f26-8d21-555b0e77f872",
   "metadata": {},
   "outputs": [],
   "source": []
  },
  {
   "cell_type": "code",
   "execution_count": null,
   "id": "d3ba2385-d6e7-4ee8-8049-4d3b1695df54",
   "metadata": {},
   "outputs": [],
   "source": [
    "news.publication.value_counts()"
   ]
  },
  {
   "cell_type": "code",
   "execution_count": null,
   "id": "0793144a-7d48-44e1-9e65-6e800fef6d9c",
   "metadata": {},
   "outputs": [],
   "source": [
    "news_tweets.publication.value_counts()"
   ]
  },
  {
   "cell_type": "code",
   "execution_count": null,
   "id": "019c9de7-d681-438b-80fb-a2d444849a96",
   "metadata": {},
   "outputs": [],
   "source": [
    "user_resp.publication.value_counts()"
   ]
  },
  {
   "cell_type": "code",
   "execution_count": null,
   "id": "1fe765c1-e5c0-40ae-90bb-d94f46aa2639",
   "metadata": {},
   "outputs": [],
   "source": [
    "news.shape, news_tweets.shape, user_resp.shape"
   ]
  },
  {
   "cell_type": "code",
   "execution_count": null,
   "id": "6f3ab183-429e-4c17-8307-4a3df4592554",
   "metadata": {},
   "outputs": [],
   "source": [
    "news_tweets.columns"
   ]
  },
  {
   "cell_type": "code",
   "execution_count": null,
   "id": "8eb0e653-ebec-4bc9-88c3-9cab6035e40f",
   "metadata": {},
   "outputs": [],
   "source": [
    "user_resp = user_resp.merge(news_tweets[['conversation_id', 'Trump_flag', 'Biden_flag', 'Trump_Biden_flag', 'trump_pos_new', 'trump_neg_new', 'trump_neu_new', 'biden_pos_new', 'biden_neg_new', 'biden_neu_new',]], on = 'conversation_id')"
   ]
  },
  {
   "cell_type": "code",
   "execution_count": null,
   "id": "da3ceff8-e03d-48d0-a2d9-9c515d56d1b5",
   "metadata": {},
   "outputs": [],
   "source": [
    "user_resp = user_resp.rename(columns = {'trump_neg_new': 'trump_neg', 'trump_pos_new': 'trump_pos', 'trump_neu_new': 'trump_neu', 'biden_neg_new': 'biden_neg', 'biden_neu_new': 'biden_neu', 'biden_pos_new': 'biden_pos'})"
   ]
  },
  {
   "cell_type": "code",
   "execution_count": null,
   "id": "40974e92-94ab-4ec1-aace-25826e96c74d",
   "metadata": {},
   "outputs": [],
   "source": [
    "user_resp.columns"
   ]
  },
  {
   "cell_type": "code",
   "execution_count": null,
   "id": "0a03f768-70b9-49d4-8a8f-2954aab92310",
   "metadata": {},
   "outputs": [],
   "source": [
    "# user_resp.to_csv('results/user_response.csv')"
   ]
  },
  {
   "cell_type": "code",
   "execution_count": null,
   "id": "f294be8b-ead2-479b-8ea1-faee979336d5",
   "metadata": {},
   "outputs": [],
   "source": [
    "user_resp.columns, user_resp.shape"
   ]
  },
  {
   "cell_type": "code",
   "execution_count": null,
   "id": "fab0bd7b-d735-4db4-b2db-18bce2eb777e",
   "metadata": {},
   "outputs": [],
   "source": [
    "news.topics.value_counts()"
   ]
  },
  {
   "cell_type": "code",
   "execution_count": null,
   "id": "848941ce-3728-4678-b4df-45674bd9d62e",
   "metadata": {},
   "outputs": [],
   "source": [
    "# news.loc[news[\"subtopic\"] == \"first_lady\", \"topics\"] = 'first_lady'"
   ]
  },
  {
   "cell_type": "code",
   "execution_count": null,
   "id": "0d035ca7-f435-4fb4-9800-8906dfcc8fb9",
   "metadata": {},
   "outputs": [],
   "source": [
    "# news.subtopic = news.subtopic.str.replace('republican-first_lady', 'first_lady')"
   ]
  },
  {
   "cell_type": "code",
   "execution_count": null,
   "id": "d338f6be-3f15-456e-96c0-4d0bee3e0687",
   "metadata": {},
   "outputs": [],
   "source": [
    "pd.set_option('display.max_colwidth', None)\n",
    "news[((news.topics == 'social_media') & (news.title.str.contains('Biden') == True))][['title', 'date']].shape, news[((news.subtopic == 'election-fraud') & (news.title.str.contains('Trump') == True))][['title', 'date']].shape"
   ]
  },
  {
   "cell_type": "code",
   "execution_count": null,
   "id": "d1da250a-4881-4181-bfa0-42b686b6a1d9",
   "metadata": {},
   "outputs": [],
   "source": [
    "news[((news.subtopic == 'republican-first_lady') & (news.title.str.contains('Biden') == True))][['title', 'date']]"
   ]
  },
  {
   "cell_type": "code",
   "execution_count": null,
   "id": "190f6358-abef-4655-a732-640ee4f5dc9b",
   "metadata": {},
   "outputs": [],
   "source": [
    "news[((news.subtopic == 'election-fraud') & (news.title.str.contains('Trump') == True))][['title', 'date']]"
   ]
  },
  {
   "cell_type": "code",
   "execution_count": null,
   "id": "170f5125-7577-442a-8090-aac3c0d838cf",
   "metadata": {},
   "outputs": [],
   "source": [
    "news.subtopic.value_counts()"
   ]
  },
  {
   "cell_type": "code",
   "execution_count": null,
   "id": "bc46fd09-9611-4d5d-99da-62af2bda34fb",
   "metadata": {},
   "outputs": [],
   "source": [
    "news_tweets.topics.value_counts()"
   ]
  },
  {
   "cell_type": "code",
   "execution_count": null,
   "id": "35b38c27-d4ea-43ea-8964-2f8661f3a65f",
   "metadata": {},
   "outputs": [],
   "source": []
  },
  {
   "cell_type": "code",
   "execution_count": null,
   "id": "aa8f9811-b893-4564-b35b-930a33eb390e",
   "metadata": {},
   "outputs": [],
   "source": []
  },
  {
   "cell_type": "code",
   "execution_count": null,
   "id": "bd4cbda7-e466-4a23-9542-e20e4dee2e6e",
   "metadata": {},
   "outputs": [],
   "source": []
  },
  {
   "cell_type": "code",
   "execution_count": null,
   "id": "f48405c1-c82a-46fe-958b-0a1b46d56acf",
   "metadata": {},
   "outputs": [],
   "source": []
  },
  {
   "cell_type": "code",
   "execution_count": null,
   "id": "915eedd6-722f-4c51-bc70-4e400c8fe35e",
   "metadata": {},
   "outputs": [],
   "source": [
    "user_resp.columns"
   ]
  },
  {
   "cell_type": "code",
   "execution_count": null,
   "id": "dada475e-addb-4eda-88c8-942f19d34e16",
   "metadata": {},
   "outputs": [],
   "source": [
    "news_tweets['Trump_Biden_flag'] = list((news_tweets.text.str.contains('Trump')) & (news_tweets.text.str.contains('Biden')))"
   ]
  },
  {
   "cell_type": "code",
   "execution_count": null,
   "id": "696642e4-9ea0-4480-ac58-bd3cb976573b",
   "metadata": {},
   "outputs": [],
   "source": [
    "# news_tweets['Biden_flag'] = news_tweets.text.str.contains('Biden')\n",
    "# L_user_resp = L_user_resp.merge(news_tweets[['conversation_id', 'Trump_flag', 'Biden_flag']], on = 'conversation_id')"
   ]
  },
  {
   "cell_type": "code",
   "execution_count": null,
   "id": "aef356a7-e54d-4cfe-9f0f-9b4794755f30",
   "metadata": {},
   "outputs": [],
   "source": [
    "R_user_resp = R_user_resp.merge(news_tweets[['conversation_id', 'Trump_Biden_flag']], on = 'conversation_id')"
   ]
  },
  {
   "cell_type": "code",
   "execution_count": null,
   "id": "0327d384-483d-44fe-b0ae-6d62474128fb",
   "metadata": {},
   "outputs": [],
   "source": [
    "news_tweets.columns"
   ]
  },
  {
   "cell_type": "code",
   "execution_count": null,
   "id": "c5e98e57-f023-4463-ac26-d1b52f652e07",
   "metadata": {},
   "outputs": [],
   "source": [
    "news.shape, news_tweets.shape, user_resp.shape"
   ]
  },
  {
   "cell_type": "code",
   "execution_count": null,
   "id": "8727500a-fc06-46a8-857e-3fc86839e0b2",
   "metadata": {},
   "outputs": [],
   "source": [
    "news_tweets.to_csv('results/news_tweets.csv')"
   ]
  },
  {
   "cell_type": "code",
   "execution_count": null,
   "id": "0bf715f0-5ab9-4806-b5be-cdbb173ed27e",
   "metadata": {},
   "outputs": [],
   "source": [
    "user_resp_ = user_resp.merge(news_tweets[['conversation_id', 'display_name', 'topics', 'topic_labels', 'topic_ids', 'subtopic', 'biden_pos_new', 'biden_neg_new', 'biden_neu_new', 'trump_pos_new', 'trump_neg_new', 'trump_neu_new']], on = 'conversation_id')"
   ]
  },
  {
   "cell_type": "code",
   "execution_count": null,
   "id": "b381af40-f39b-42fe-9752-af5066f7dc9d",
   "metadata": {},
   "outputs": [],
   "source": [
    "user_resp_.shape, user_resp_.columns"
   ]
  },
  {
   "cell_type": "code",
   "execution_count": null,
   "id": "be3d6392-7391-4388-b042-5474c6bc0af1",
   "metadata": {},
   "outputs": [],
   "source": [
    "user_resp_.publication.value_counts()"
   ]
  },
  {
   "cell_type": "code",
   "execution_count": null,
   "id": "dc1f6cc1-0894-446b-98f3-a34963d2ee92",
   "metadata": {},
   "outputs": [],
   "source": [
    "R_user_resp = user_resp_[((user_resp_['publication'] == 'Breitbart News') | (user_resp_['publication'] == 'Fox News'))]\n",
    "L_user_resp = user_resp_[((user_resp_['publication'] == 'CNN') | (user_resp_['publication'] == 'The Washington Post'))]\n",
    "C_user_resp = user_resp_[((user_resp_['publication'] == 'Business Insider') | (user_resp_['publication'] ==  'USA Today'))]"
   ]
  },
  {
   "cell_type": "code",
   "execution_count": null,
   "id": "166bf12e-a030-4e51-867e-9e6c705f94e8",
   "metadata": {},
   "outputs": [],
   "source": [
    "R_user_resp.groupby('topics').mean().to_csv('results/R_user_resp_mean.csv')"
   ]
  },
  {
   "cell_type": "code",
   "execution_count": null,
   "id": "68fdfe96-dd01-4e72-b6cf-255e7dd625e0",
   "metadata": {},
   "outputs": [],
   "source": [
    "L_user_resp.groupby('topics').mean().to_csv('results/L_user_resp_mean.csv')"
   ]
  },
  {
   "cell_type": "code",
   "execution_count": null,
   "id": "39439156-5f24-4018-951f-ca0e04e7aec2",
   "metadata": {},
   "outputs": [],
   "source": [
    "R_user_resp.shape, L_user_resp.shape"
   ]
  },
  {
   "cell_type": "code",
   "execution_count": null,
   "id": "8ee62665-6be7-4e52-8ab1-764941694e80",
   "metadata": {},
   "outputs": [],
   "source": [
    "R_user_resp.columns"
   ]
  },
  {
   "cell_type": "code",
   "execution_count": null,
   "id": "bf533af3-d74e-479b-8e00-de7481c4a4ae",
   "metadata": {},
   "outputs": [],
   "source": [
    "R_user_resp.groupby('topics').mean()"
   ]
  },
  {
   "cell_type": "code",
   "execution_count": null,
   "id": "db27487c-1a9c-4631-8c28-687c8f43b1d6",
   "metadata": {},
   "outputs": [],
   "source": [
    "L_user_resp.groupby('topics').mean()[['anger', 'joy']]"
   ]
  },
  {
   "cell_type": "code",
   "execution_count": null,
   "id": "b948a59f-92b7-445a-a7aa-3ba3c734fede",
   "metadata": {},
   "outputs": [],
   "source": []
  },
  {
   "cell_type": "code",
   "execution_count": null,
   "id": "42172568-8271-41b2-856e-5094754f122c",
   "metadata": {},
   "outputs": [],
   "source": [
    "R_user_resp[['like_count', 'quote_count', 'reply_count', 'retweet_count', 'anger', 'joy', 'optimism', 'sadness', 'trump_pos_new', 'trump_neg_new', 'trump_neu_new', \n",
    "             'biden_pos_new', 'biden_neg_new', 'biden_neu_new', 'Trump_flag', 'Biden_flag', 'Trump_Biden_flag']].mean()"
   ]
  },
  {
   "cell_type": "code",
   "execution_count": null,
   "id": "a2e363c7-b9da-4daa-959c-6b909105d54b",
   "metadata": {},
   "outputs": [],
   "source": []
  },
  {
   "cell_type": "code",
   "execution_count": null,
   "id": "7c4ac21e-56ab-4be9-a9cf-5d550d78b922",
   "metadata": {},
   "outputs": [],
   "source": []
  },
  {
   "cell_type": "code",
   "execution_count": null,
   "id": "ed57bc8d-4022-4b4c-ac90-4af94f1715ee",
   "metadata": {},
   "outputs": [],
   "source": []
  },
  {
   "cell_type": "code",
   "execution_count": null,
   "id": "de3b678f-2bd0-4520-9967-13adf8c4eedb",
   "metadata": {},
   "outputs": [],
   "source": [
    "L_user_resp[['like_count', 'quote_count', 'reply_count', 'retweet_count', 'anger', 'joy', 'optimism', 'sadness', 'trump_pos_new', 'trump_neg_new', 'trump_neu_new', \n",
    "             'biden_pos_new', 'biden_neg_new', 'biden_neu_new', 'Trump_flag', 'Biden_flag', 'Trump_Biden_flag']].describe()"
   ]
  },
  {
   "cell_type": "code",
   "execution_count": null,
   "id": "f03d37ba-bedf-4055-8524-195bbb5e05f2",
   "metadata": {},
   "outputs": [],
   "source": []
  },
  {
   "cell_type": "code",
   "execution_count": null,
   "id": "3361afe6-d768-4588-8f04-def45f59f0d3",
   "metadata": {},
   "outputs": [],
   "source": [
    "R_Tr_mentions = R_user_resp[((R_user_resp.Trump_flag == True) & (R_user_resp.Trump_Biden_flag == False))]\n",
    "L_Tr_mentions = L_user_resp[((L_user_resp.Trump_flag == True) & (L_user_resp.Trump_Biden_flag == False))]\n",
    "\n",
    "R_Bi_mentions = R_user_resp[((R_user_resp.Biden_flag == True) & (R_user_resp.Trump_Biden_flag == False))]\n",
    "L_Bi_mentions = L_user_resp[((L_user_resp.Biden_flag == True) & (L_user_resp.Trump_Biden_flag == False))]\n",
    "\n",
    "R_both_mentions = R_user_resp[R_user_resp.Trump_Biden_flag == True]\n",
    "L_both_mentions = L_user_resp[L_user_resp.Trump_Biden_flag == True]"
   ]
  },
  {
   "cell_type": "code",
   "execution_count": null,
   "id": "c9509d5e-3aaf-4106-869b-ca607be10fe6",
   "metadata": {},
   "outputs": [],
   "source": [
    "R_both_mentions.shape, L_both_mentions.shape"
   ]
  },
  {
   "cell_type": "code",
   "execution_count": null,
   "id": "e01e984d-3780-4f1d-9522-a1298ba8d8fa",
   "metadata": {},
   "outputs": [],
   "source": [
    "# df = pd.DataFrame()\n",
    "df = pd.concat((df, L_Tr_mentions[['like_count', 'quote_count', 'reply_count', 'retweet_count', 'anger', 'joy', 'optimism', 'sadness', 'trump_pos_new', 'trump_neg_new', \n",
    "                             'trump_neu_new', 'Trump_flag', 'Biden_flag', 'Trump_Biden_flag']].mean()), axis = 1)\n",
    "df"
   ]
  },
  {
   "cell_type": "code",
   "execution_count": null,
   "id": "77d6bbe7-e0a9-4f8c-b4a2-2ca4bb34a728",
   "metadata": {},
   "outputs": [],
   "source": []
  },
  {
   "cell_type": "code",
   "execution_count": null,
   "id": "7b8d6b52-9dae-4a22-aba0-965075445a20",
   "metadata": {},
   "outputs": [],
   "source": [
    "# df2 = pd.DataFrame()\n",
    "df2 = pd.concat((df2, L_Bi_mentions[['like_count', 'quote_count', 'reply_count', 'retweet_count', 'anger', 'joy', 'optimism', 'sadness', 'biden_pos_new', 'biden_neg_new', \n",
    "                             'biden_neu_new', 'Trump_flag', 'Biden_flag', 'Trump_Biden_flag']].mean()), axis = 1)\n",
    "df2"
   ]
  },
  {
   "cell_type": "code",
   "execution_count": null,
   "id": "40426122-d4ae-4caa-a6da-1bd9aa719567",
   "metadata": {},
   "outputs": [],
   "source": [
    "# df3 = pd.DataFrame()\n",
    "df3 = pd.concat((df3, L_both_mentions[['like_count', 'quote_count', 'reply_count', 'retweet_count', 'anger', 'joy', 'optimism', 'sadness', 'trump_pos_new', 'trump_neg_new', 'trump_neu_new', \n",
    "                                     'biden_pos_new', 'biden_neg_new', 'biden_neu_new', 'Trump_flag', 'Biden_flag', 'Trump_Biden_flag']].mean()), axis = 1)\n",
    "df3"
   ]
  },
  {
   "cell_type": "code",
   "execution_count": null,
   "id": "c54d28be-f704-4daa-8e51-d368932a7231",
   "metadata": {},
   "outputs": [],
   "source": []
  },
  {
   "cell_type": "code",
   "execution_count": null,
   "id": "3794f79a-67ee-4d50-9a93-9e8a77cab522",
   "metadata": {},
   "outputs": [],
   "source": [
    "R_user_resp.trump_pos_new.isna().sum()"
   ]
  },
  {
   "cell_type": "code",
   "execution_count": null,
   "id": "aacecb16-0b91-4197-8bae-2207d0a4676c",
   "metadata": {},
   "outputs": [],
   "source": [
    "R_user_resp_T_neg = R_user_resp.dropna(subset = 'trump_neg_new')"
   ]
  },
  {
   "cell_type": "code",
   "execution_count": null,
   "id": "fd5d9994-b207-4d39-8bcc-b93d89640187",
   "metadata": {},
   "outputs": [],
   "source": [
    "R_user_resp_T_neg.columns"
   ]
  },
  {
   "cell_type": "code",
   "execution_count": null,
   "id": "2aee7a2f-4c85-4de4-be81-50c1b8e0d40b",
   "metadata": {},
   "outputs": [],
   "source": [
    "L_user_resp_T_neg = L_user_resp.dropna(subset = 'trump_neg_new')"
   ]
  },
  {
   "cell_type": "code",
   "execution_count": null,
   "id": "09b8b466-9d66-4925-87cc-510039132990",
   "metadata": {},
   "outputs": [],
   "source": [
    "R_user_resp_T_neg.shape, L_user_resp_T_neg.shape"
   ]
  },
  {
   "cell_type": "code",
   "execution_count": null,
   "id": "f0de4d2d-2fe8-42aa-bb53-c8ad98249466",
   "metadata": {},
   "outputs": [],
   "source": [
    "topic = 'covid'\n",
    "emot = 'optimism'"
   ]
  },
  {
   "cell_type": "code",
   "execution_count": null,
   "id": "27c5cdc9-f27e-40de-b64b-86ef5aeb9042",
   "metadata": {},
   "outputs": [],
   "source": [
    "from scipy.stats import pearsonr\n",
    "data1 = R_user_resp_T_pos[R_user_resp_T_pos.topics == topic].trump_pos_new\n",
    "data2 = R_user_resp_T_pos[R_user_resp_T_pos.topics == topic][emot]\n",
    "corr, _ = pearsonr(data1, data2)\n",
    "print('Pearsons correlation: %.3f' % corr)"
   ]
  },
  {
   "cell_type": "code",
   "execution_count": null,
   "id": "57c48103-8145-40fc-8208-8332616f4cb3",
   "metadata": {},
   "outputs": [],
   "source": [
    "from scipy.stats import pearsonr\n",
    "data1 = L_user_resp_T_pos[L_user_resp_T_pos.topics == topic].trump_pos_new\n",
    "data2 = L_user_resp_T_pos[L_user_resp_T_pos.topics == topic][emot]\n",
    "corr, _ = pearsonr(data1, data2)\n",
    "print('Pearsons correlation: %.3f' % corr)"
   ]
  },
  {
   "cell_type": "code",
   "execution_count": null,
   "id": "c9751580-1ecd-4707-b497-25dd745f1c4d",
   "metadata": {},
   "outputs": [],
   "source": [
    "R_user_resp_T_neg.columns"
   ]
  },
  {
   "cell_type": "code",
   "execution_count": null,
   "id": "3aa92f73-e9e2-4b0e-9e75-651a7e5d36d3",
   "metadata": {},
   "outputs": [],
   "source": [
    "import seaborn as sns\n",
    "from matplotlib import pyplot"
   ]
  },
  {
   "cell_type": "code",
   "execution_count": null,
   "id": "717fb07c-d771-497a-853c-2347ba2b1ab0",
   "metadata": {},
   "outputs": [],
   "source": [
    "# sns.set(rc={'figure.figsize':(5.7,4.27)})\n",
    "fig, ax = pyplot.subplots(figsize=(3, 3))\n",
    "for emot in ['anger', 'sadness', 'joy', 'optimism']:\n",
    "    sns.displot(ax=ax, data=R_user_resp_T_neg[R_user_resp_T_neg.topics == 'election'], x=\"trump_neg_new\", y=emot)\n",
    "    sns.displot(ax=ax, data=L_user_resp_T_neg[L_user_resp_T_neg.topics == 'election'], x=\"trump_neg_new\", y=emot)\n",
    "    print()\n",
    "    "
   ]
  },
  {
   "cell_type": "code",
   "execution_count": null,
   "id": "5bc36aa1-e7a8-431a-9945-2b714c66c762",
   "metadata": {},
   "outputs": [],
   "source": []
  },
  {
   "cell_type": "code",
   "execution_count": null,
   "id": "2a15d3f7-d4eb-438c-9156-89a261169aa4",
   "metadata": {},
   "outputs": [],
   "source": [
    "sns.displot(data=R_user_resp_T_neg[R_user_resp_T_neg.topics == 'election'], x=\"trump_neg_new\", y=\"optimism\")"
   ]
  },
  {
   "cell_type": "code",
   "execution_count": null,
   "id": "8648a3a7-37c1-4376-a427-03728fb25be2",
   "metadata": {},
   "outputs": [],
   "source": [
    "sns.displot(data=L_user_resp_T_neg[L_user_resp_T_neg.topics == 'election'], x=\"trump_neg_new\", y=\"optimism\")"
   ]
  },
  {
   "cell_type": "code",
   "execution_count": null,
   "id": "dd321b2c-71b2-4d8d-9fe5-a002a8ed85a2",
   "metadata": {},
   "outputs": [],
   "source": [
    "R_user_resp[R_user_resp['trump_pos_new'] > 0.50].shape"
   ]
  },
  {
   "cell_type": "code",
   "execution_count": null,
   "id": "1aa019cb-5c53-4804-965c-40d01977fb64",
   "metadata": {},
   "outputs": [],
   "source": [
    "L_user_resp[L_user_resp['trump_neu_new'] > 0.50].shape"
   ]
  },
  {
   "cell_type": "code",
   "execution_count": null,
   "id": "5e6e09d1-4214-48a2-b036-8cd28b359e45",
   "metadata": {},
   "outputs": [],
   "source": []
  }
 ],
 "metadata": {
  "kernelspec": {
   "display_name": "py3_10",
   "language": "python",
   "name": "py3_10"
  },
  "language_info": {
   "codemirror_mode": {
    "name": "ipython",
    "version": 3
   },
   "file_extension": ".py",
   "mimetype": "text/x-python",
   "name": "python",
   "nbconvert_exporter": "python",
   "pygments_lexer": "ipython3",
   "version": "3.10.6"
  }
 },
 "nbformat": 4,
 "nbformat_minor": 5
}
