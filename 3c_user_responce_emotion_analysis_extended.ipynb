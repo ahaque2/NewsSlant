{
 "cells": [
  {
   "cell_type": "code",
   "execution_count": 213,
   "id": "290443f0-a1e1-4979-8cf1-1c811d5444cb",
   "metadata": {},
   "outputs": [],
   "source": [
    "import pandas as pd\n",
    "import numpy as np\n",
    "import sys\n",
    "\n",
    "import matplotlib.pyplot as plt\n",
    "# from bertopic import BERTopic\n",
    "pd.set_option('display.max_colwidth', None)\n",
    "from scipy import stats"
   ]
  },
  {
   "cell_type": "code",
   "execution_count": 214,
   "id": "e026aa4e-8a13-4b33-aa44-fdf12f5c1ee1",
   "metadata": {},
   "outputs": [],
   "source": [
    "user_resp = pd.read_csv('results/user_response.csv')\n",
    "# user_resp_ = pd.read_parquet('results_old/user_resp_newslant_with_senti.parquet')"
   ]
  },
  {
   "cell_type": "code",
   "execution_count": 215,
   "id": "440e629a-8dc6-4b2f-9e41-4950782ec8fc",
   "metadata": {},
   "outputs": [
    {
     "data": {
      "text/plain": [
       "(765796, 39)"
      ]
     },
     "execution_count": 215,
     "metadata": {},
     "output_type": "execute_result"
    }
   ],
   "source": [
    "user_resp.shape"
   ]
  },
  {
   "cell_type": "code",
   "execution_count": 216,
   "id": "a4ec40d0-71fd-46ab-9a11-b46c156cd4de",
   "metadata": {},
   "outputs": [
    {
     "data": {
      "text/plain": [
       "Index(['Unnamed: 0.4', 'Unnamed: 0.3', 'Unnamed: 0.2', 'Unnamed: 0.1',\n",
       "       'Unnamed: 0', 'tweet_id', 'conversation_id', 'author_id', 'created_at',\n",
       "       'geo', 'lang', 'like_count', 'quote_count', 'reply_count',\n",
       "       'retweet_count', 'source', 'text', 'anger', 'joy', 'optimism',\n",
       "       'sadness', 'publication', 'topic_labels', 'theme', 'pos_senti',\n",
       "       'neu_senti', 'neg_senti', 'date', 'week', 'flag', 'Trump_flag',\n",
       "       'Biden_flag', 'Trump_Biden_flag', 'trump_pos', 'trump_neg', 'trump_neu',\n",
       "       'biden_pos', 'biden_neg', 'biden_neu'],\n",
       "      dtype='object')"
      ]
     },
     "execution_count": 216,
     "metadata": {},
     "output_type": "execute_result"
    }
   ],
   "source": [
    "user_resp.columns"
   ]
  },
  {
   "cell_type": "code",
   "execution_count": null,
   "id": "96af233a-76dc-41ce-8078-53be7f1be52e",
   "metadata": {},
   "outputs": [],
   "source": []
  },
  {
   "cell_type": "code",
   "execution_count": 217,
   "id": "a8bd7dce-7eae-4cd1-bdfe-eb57ce8d743a",
   "metadata": {},
   "outputs": [
    {
     "data": {
      "text/plain": [
       "CNN                    332227\n",
       "The Washington Post    219282\n",
       "Fox News               119202\n",
       "Breitbart News          67333\n",
       "USA Today               17859\n",
       "Business Insider         9893\n",
       "Name: publication, dtype: int64"
      ]
     },
     "execution_count": 217,
     "metadata": {},
     "output_type": "execute_result"
    }
   ],
   "source": [
    "user_resp.publication.value_counts()"
   ]
  },
  {
   "cell_type": "code",
   "execution_count": 218,
   "id": "055306d8-e815-46ba-837b-b8cdfe96b3d9",
   "metadata": {},
   "outputs": [],
   "source": [
    "# user_resp.created_at_y.head()"
   ]
  },
  {
   "cell_type": "code",
   "execution_count": 221,
   "id": "a9da4809-fdf8-497e-9843-a7901fd5e692",
   "metadata": {},
   "outputs": [],
   "source": [
    "user_resp['publish_date'] = pd.to_datetime(user_resp['created_at'])\n",
    "user_resp['day'] = user_resp.publish_date.dt.day\n",
    "user_resp['month'] = user_resp.publish_date.dt.month\n",
    "user_resp['year'] = user_resp.publish_date.dt.year\n",
    "user_resp['timestamp'] = user_resp.publish_date.dt.time"
   ]
  },
  {
   "cell_type": "code",
   "execution_count": 222,
   "id": "e68c9d95-63fd-4497-8405-9a90f1894e0a",
   "metadata": {},
   "outputs": [
    {
     "data": {
      "text/plain": [
       "11    139823\n",
       "10    131076\n",
       "8      82445\n",
       "1      74396\n",
       "9      59548\n",
       "4      56850\n",
       "5      54893\n",
       "6      46757\n",
       "12     44802\n",
       "7      42093\n",
       "3      29777\n",
       "2       3336\n",
       "Name: month, dtype: int64"
      ]
     },
     "execution_count": 222,
     "metadata": {},
     "output_type": "execute_result"
    }
   ],
   "source": [
    "user_resp.month.value_counts()"
   ]
  },
  {
   "cell_type": "code",
   "execution_count": 223,
   "id": "5cdb9525-9e2e-4b1d-ab9a-af0deb7545da",
   "metadata": {},
   "outputs": [],
   "source": [
    "user_resp_2020 = user_resp[user_resp.year == 2020]\n",
    "user_resp_fil_months = user_resp_2020[user_resp_2020.month.isin([5,6,7,8,9,10,11])]\n",
    "final_user_resp_df = user_resp_fil_months[((user_resp_fil_months.month.isin([6,7,8,9,10])) | \n",
    "                      ((user_resp_fil_months.month == 5) & (user_resp_fil_months.day >= 3)) | \n",
    "                      ((user_resp_fil_months.month == 11) & (user_resp_fil_months.day < 3)))]"
   ]
  },
  {
   "cell_type": "code",
   "execution_count": null,
   "id": "f53e94c3-bd07-4708-a795-19c2a01c2c79",
   "metadata": {},
   "outputs": [],
   "source": []
  },
  {
   "cell_type": "code",
   "execution_count": 24,
   "id": "f54dad70-23ca-4e53-92ed-524c7a4640c9",
   "metadata": {},
   "outputs": [],
   "source": []
  },
  {
   "cell_type": "code",
   "execution_count": 224,
   "id": "f9f6956d-126f-466f-865b-ccb294fb0042",
   "metadata": {},
   "outputs": [],
   "source": [
    "# final_user_resp_df.to_parquet('dataset/user_resp.parquet')"
   ]
  },
  {
   "cell_type": "code",
   "execution_count": null,
   "id": "c5340666-a3b3-4ca3-94d6-d7dea2ac2aac",
   "metadata": {},
   "outputs": [],
   "source": []
  },
  {
   "cell_type": "code",
   "execution_count": null,
   "id": "173b5743-bd18-4cc1-9911-fd90d7d6077c",
   "metadata": {},
   "outputs": [],
   "source": []
  },
  {
   "cell_type": "code",
   "execution_count": null,
   "id": "93d7e250-0135-471c-8899-231770cefa47",
   "metadata": {},
   "outputs": [],
   "source": []
  },
  {
   "cell_type": "code",
   "execution_count": 226,
   "id": "e288381e-54a8-45a0-83dc-feea7133cc1b",
   "metadata": {},
   "outputs": [],
   "source": [
    "senti = ['neg', 'neu', 'pos']\n",
    "emotions = ['anger', 'sadness', 'joy', 'optimism']"
   ]
  },
  {
   "cell_type": "code",
   "execution_count": 227,
   "id": "0eb8908b-390d-4010-aabb-7134c7f3ea25",
   "metadata": {},
   "outputs": [],
   "source": [
    "from pingouin import kruskal\n",
    "\n",
    "def get_KW_stat(emot1, emot2):\n",
    "    \n",
    "    df1 = pd.DataFrame(emot1.values, columns = ['senti'])\n",
    "    df1['type_flag'] = 1\n",
    "\n",
    "    df2 = pd.DataFrame(emot2.values, columns = ['senti'])\n",
    "    df2['type_flag'] = 2\n",
    "    \n",
    "    temp_df = pd.concat((df1,df2), axis = 0)\n",
    "    kwTest = kruskal(temp_df, dv='senti', between='type_flag')\n",
    "    H = kwTest.H[0]\n",
    "    p = kwTest['p-unc'][0]\n",
    "    dof = kwTest['ddof1'][0]\n",
    "    n = temp_df.shape[0]\n",
    "    esq = H * (n + 1)/(n**2 - 1)\n",
    "    return H, p, dof, esq\n",
    "\n",
    "def get_significance_stats(dist1, dist2, pub, entity, emotion):\n",
    "\n",
    "    emot1_shapiro = stats.shapiro(dist1)\n",
    "    emot2_shapiro = stats.shapiro(dist2)\n",
    "    emot1_shapiro = (emot1_shapiro.statistic, emot1_shapiro.pvalue)\n",
    "    emot2_shapiro = (emot2_shapiro.statistic, emot2_shapiro.pvalue)\n",
    "    H, p, dof, es = get_KW_stat(dist1, dist2)\n",
    "    # t, p , dof = welch_ttest(emot1, emot2)\n",
    "    res = [entity, pub, emotion, dist1.shape[0], dist2.shape[0], emot1_shapiro[0], emot1_shapiro[1], emot2_shapiro[0], emot2_shapiro[1], p, H, dof, es]\n",
    "    # print(res)\n",
    "    return res"
   ]
  },
  {
   "cell_type": "code",
   "execution_count": 228,
   "id": "e1bff2a3-0656-449a-9659-5f989681527f",
   "metadata": {},
   "outputs": [],
   "source": [
    "def get_pos_neg_mentions(df, entity):\n",
    "    \n",
    "    entity_mentions = df[df[entity + '_flag'] == True]\n",
    "    pos_mean = entity_mentions[entity + '_pos'].mean()\n",
    "    neu_mean = entity_mentions[entity + '_neu'].mean()\n",
    "    neg_mean = entity_mentions[entity + '_neg'].mean()\n",
    "    pos_entity_mentions = entity_mentions[((entity_mentions[entity + '_pos'] > pos_mean))]\n",
    "    neg_entity_mentions = entity_mentions[((entity_mentions[entity + '_neg'] > neg_mean))]\n",
    "    \n",
    "    return pos_entity_mentions, neg_entity_mentions"
   ]
  },
  {
   "cell_type": "code",
   "execution_count": 229,
   "id": "d8b163d8-3237-40c3-ad4c-dd990ad38d4a",
   "metadata": {},
   "outputs": [],
   "source": [
    "R_user_resp = user_resp[((user_resp['publication'] == 'Breitbart News') | (user_resp['publication'] == 'Fox News'))]\n",
    "L_user_resp = user_resp[((user_resp['publication'] == 'CNN') | (user_resp['publication'] == 'The Washington Post'))]\n",
    "C_user_resp = user_resp[((user_resp['publication'] == 'Business Insider') | (user_resp['publication'] ==  'USA Today'))]"
   ]
  },
  {
   "cell_type": "markdown",
   "id": "892b6640-5f42-4503-a58a-331770b2114a",
   "metadata": {},
   "source": [
    "### Regular vs non-regular users\n",
    "\n",
    "#### Do regular users have any different sentiments than less regular ones?"
   ]
  },
  {
   "cell_type": "code",
   "execution_count": 230,
   "id": "5c1bf5f3-8bd8-4131-bb97-db531e0873eb",
   "metadata": {},
   "outputs": [],
   "source": [
    "all_user_resp_freq = pd.DataFrame(user_resp.author_id.value_counts())\n",
    "all_user_resp_freq['author_ids'] = all_user_resp_freq.index\n",
    "all_user_resp_freq = all_user_resp_freq.rename(columns = {'author_id': 'freq'})\n",
    "all_user_resp_freq.index = [x for x in range(all_user_resp_freq.shape[0])]"
   ]
  },
  {
   "cell_type": "code",
   "execution_count": 231,
   "id": "6c21b2cc-4937-418a-ae5b-02c929c73bd2",
   "metadata": {},
   "outputs": [],
   "source": [
    "regular_users = all_user_resp_freq[all_user_resp_freq['freq'] > 50]\n",
    "non_regular_users = all_user_resp_freq[all_user_resp_freq['freq'] < 5]"
   ]
  },
  {
   "cell_type": "code",
   "execution_count": 232,
   "id": "227c8312-8c0e-470c-a587-bdfbdeb25a60",
   "metadata": {},
   "outputs": [
    {
     "data": {
      "text/plain": [
       "((717, 2), (222691, 2))"
      ]
     },
     "execution_count": 232,
     "metadata": {},
     "output_type": "execute_result"
    }
   ],
   "source": [
    "regular_users.shape, non_regular_users.shape"
   ]
  },
  {
   "cell_type": "code",
   "execution_count": 233,
   "id": "d4581c52-d28b-48da-a3f4-5a79a658f6ac",
   "metadata": {},
   "outputs": [],
   "source": [
    "user_resp_reg_users_L = L_user_resp[L_user_resp['author_id'].isin(regular_users['author_ids'])]\n",
    "user_resp_reg_users_R = R_user_resp[R_user_resp['author_id'].isin(regular_users['author_ids'])]\n",
    "\n",
    "user_resp_non_reg_users_L = L_user_resp[L_user_resp['author_id'].isin(non_regular_users['author_ids'])]\n",
    "user_resp_non_reg_users_R = R_user_resp[R_user_resp['author_id'].isin(non_regular_users['author_ids'])]"
   ]
  },
  {
   "cell_type": "code",
   "execution_count": 234,
   "id": "4958b635-91ae-4f64-8d7a-06ffd5df372f",
   "metadata": {},
   "outputs": [
    {
     "data": {
      "text/plain": [
       "((50058, 44), (11308, 44), (253095, 44), (97121, 44))"
      ]
     },
     "execution_count": 234,
     "metadata": {},
     "output_type": "execute_result"
    }
   ],
   "source": [
    "user_resp_reg_users_L.shape, user_resp_reg_users_R.shape, user_resp_non_reg_users_L.shape, user_resp_non_reg_users_R.shape"
   ]
  },
  {
   "cell_type": "code",
   "execution_count": 235,
   "id": "9f3603eb-747f-43d7-b097-75f0186f55ea",
   "metadata": {},
   "outputs": [
    {
     "data": {
      "text/html": [
       "<div>\n",
       "<style scoped>\n",
       "    .dataframe tbody tr th:only-of-type {\n",
       "        vertical-align: middle;\n",
       "    }\n",
       "\n",
       "    .dataframe tbody tr th {\n",
       "        vertical-align: top;\n",
       "    }\n",
       "\n",
       "    .dataframe thead th {\n",
       "        text-align: right;\n",
       "    }\n",
       "</style>\n",
       "<table border=\"1\" class=\"dataframe\">\n",
       "  <thead>\n",
       "    <tr style=\"text-align: right;\">\n",
       "      <th></th>\n",
       "      <th>user_type</th>\n",
       "      <th>slant</th>\n",
       "      <th>anger</th>\n",
       "      <th>joy</th>\n",
       "      <th>optimism</th>\n",
       "      <th>sadness</th>\n",
       "    </tr>\n",
       "  </thead>\n",
       "  <tbody>\n",
       "    <tr>\n",
       "      <th>0</th>\n",
       "      <td>Reg</td>\n",
       "      <td>L</td>\n",
       "      <td>0.659792</td>\n",
       "      <td>0.101805</td>\n",
       "      <td>0.120605</td>\n",
       "      <td>0.117798</td>\n",
       "    </tr>\n",
       "    <tr>\n",
       "      <th>1</th>\n",
       "      <td>Non-Reg</td>\n",
       "      <td>L</td>\n",
       "      <td>0.619470</td>\n",
       "      <td>0.131023</td>\n",
       "      <td>0.122812</td>\n",
       "      <td>0.126696</td>\n",
       "    </tr>\n",
       "    <tr>\n",
       "      <th>2</th>\n",
       "      <td>Reg</td>\n",
       "      <td>R</td>\n",
       "      <td>0.645973</td>\n",
       "      <td>0.102876</td>\n",
       "      <td>0.126033</td>\n",
       "      <td>0.125120</td>\n",
       "    </tr>\n",
       "    <tr>\n",
       "      <th>3</th>\n",
       "      <td>Non-Reg</td>\n",
       "      <td>R</td>\n",
       "      <td>0.657755</td>\n",
       "      <td>0.123776</td>\n",
       "      <td>0.103032</td>\n",
       "      <td>0.115440</td>\n",
       "    </tr>\n",
       "  </tbody>\n",
       "</table>\n",
       "</div>"
      ],
      "text/plain": [
       "  user_type slant     anger       joy  optimism   sadness\n",
       "0       Reg     L  0.659792  0.101805  0.120605  0.117798\n",
       "1   Non-Reg     L  0.619470  0.131023  0.122812  0.126696\n",
       "2       Reg     R  0.645973  0.102876  0.126033  0.125120\n",
       "3   Non-Reg     R  0.657755  0.123776  0.103032  0.115440"
      ]
     },
     "execution_count": 235,
     "metadata": {},
     "output_type": "execute_result"
    }
   ],
   "source": [
    "mean_senti_rnr_df = pd.DataFrame([['Reg', 'L'] + list(user_resp_reg_users_L[['anger', 'joy', 'optimism', 'sadness']].mean().values),  \n",
    "                                 ['Non-Reg', 'L'] + list(user_resp_non_reg_users_L[['anger', 'joy', 'optimism', 'sadness']].mean().values),\n",
    "                                  ['Reg', 'R'] + list(user_resp_reg_users_R[['anger', 'joy', 'optimism', 'sadness']].mean().values),\n",
    "                                 ['Non-Reg', 'R'] + list(user_resp_non_reg_users_R[['anger', 'joy', 'optimism', 'sadness']].mean().values)],\n",
    "        columns = ['user_type', 'slant', 'anger', 'joy', 'optimism', 'sadness'])\n",
    "\n",
    "mean_senti_rnr_df"
   ]
  },
  {
   "cell_type": "code",
   "execution_count": null,
   "id": "0f153348-718e-4d69-bc87-a36fa8af7935",
   "metadata": {},
   "outputs": [],
   "source": []
  },
  {
   "cell_type": "code",
   "execution_count": 236,
   "id": "885b46a7-8173-4688-ae79-a76f91928a04",
   "metadata": {},
   "outputs": [],
   "source": [
    "# mean_senti_rnr_df.round(3).to_csv('results/mean_senti_reg_non_reg.csv')"
   ]
  },
  {
   "cell_type": "markdown",
   "id": "572805e1-5d49-4a71-8199-23972e746948",
   "metadata": {},
   "source": [
    "#### Statistical Test"
   ]
  },
  {
   "cell_type": "code",
   "execution_count": 237,
   "id": "c77030cc-cb54-444a-9071-1ca63b2042c3",
   "metadata": {},
   "outputs": [
    {
     "name": "stderr",
     "output_type": "stream",
     "text": [
      "/home/ahaque2/venv/py3_10/lib/python3.10/site-packages/scipy/stats/_morestats.py:1800: UserWarning: p-value may not be accurate for N > 5000.\n",
      "  warnings.warn(\"p-value may not be accurate for N > 5000.\")\n",
      "/home/ahaque2/venv/py3_10/lib/python3.10/site-packages/scipy/stats/_morestats.py:1800: UserWarning: p-value may not be accurate for N > 5000.\n",
      "  warnings.warn(\"p-value may not be accurate for N > 5000.\")\n",
      "/home/ahaque2/venv/py3_10/lib/python3.10/site-packages/scipy/stats/_morestats.py:1800: UserWarning: p-value may not be accurate for N > 5000.\n",
      "  warnings.warn(\"p-value may not be accurate for N > 5000.\")\n",
      "/home/ahaque2/venv/py3_10/lib/python3.10/site-packages/scipy/stats/_morestats.py:1800: UserWarning: p-value may not be accurate for N > 5000.\n",
      "  warnings.warn(\"p-value may not be accurate for N > 5000.\")\n"
     ]
    }
   ],
   "source": [
    "senti = ['neg', 'neu', 'pos']\n",
    "emotions = ['anger', 'sadness', 'joy', 'optimism']\n",
    "sstat = []\n",
    "for s in emotions:\n",
    "    # dist1 = user_resp_non_reg_users[s + '_senti'].dropna()\n",
    "    # dist2 = user_resp_reg_users[s + '_senti'].dropna()\n",
    "    \n",
    "    dist1 = user_resp_non_reg_users_R[s].dropna()\n",
    "    dist2 = user_resp_non_reg_users_L[s].dropna()\n",
    "    \n",
    "    res = get_significance_stats(dist1, dist2, None, s, None)\n",
    "    sstat.append(res)\n",
    "    "
   ]
  },
  {
   "cell_type": "code",
   "execution_count": 238,
   "id": "3da5ee5a-3750-41d2-9503-193d7aa544da",
   "metadata": {},
   "outputs": [
    {
     "data": {
      "text/html": [
       "<div>\n",
       "<style scoped>\n",
       "    .dataframe tbody tr th:only-of-type {\n",
       "        vertical-align: middle;\n",
       "    }\n",
       "\n",
       "    .dataframe tbody tr th {\n",
       "        vertical-align: top;\n",
       "    }\n",
       "\n",
       "    .dataframe thead th {\n",
       "        text-align: right;\n",
       "    }\n",
       "</style>\n",
       "<table border=\"1\" class=\"dataframe\">\n",
       "  <thead>\n",
       "    <tr style=\"text-align: right;\">\n",
       "      <th></th>\n",
       "      <th>senti</th>\n",
       "      <th>pub</th>\n",
       "      <th>emotion</th>\n",
       "      <th>Sample size 1</th>\n",
       "      <th>sample size 2</th>\n",
       "      <th>shapiro_t_dist1</th>\n",
       "      <th>shapiro_p_dist2</th>\n",
       "      <th>shapiro_t_dist1</th>\n",
       "      <th>shapiro_p_dist2</th>\n",
       "      <th>KW-p</th>\n",
       "      <th>KW-H</th>\n",
       "      <th>KW-dof</th>\n",
       "      <th>ES</th>\n",
       "    </tr>\n",
       "  </thead>\n",
       "  <tbody>\n",
       "    <tr>\n",
       "      <th>0</th>\n",
       "      <td>anger</td>\n",
       "      <td>None</td>\n",
       "      <td>None</td>\n",
       "      <td>97121</td>\n",
       "      <td>253095</td>\n",
       "      <td>0.803</td>\n",
       "      <td>0.0</td>\n",
       "      <td>0.824</td>\n",
       "      <td>0.0</td>\n",
       "      <td>0.0</td>\n",
       "      <td>958.854</td>\n",
       "      <td>1</td>\n",
       "      <td>0.003</td>\n",
       "    </tr>\n",
       "    <tr>\n",
       "      <th>1</th>\n",
       "      <td>sadness</td>\n",
       "      <td>None</td>\n",
       "      <td>None</td>\n",
       "      <td>97121</td>\n",
       "      <td>253095</td>\n",
       "      <td>0.604</td>\n",
       "      <td>0.0</td>\n",
       "      <td>0.623</td>\n",
       "      <td>0.0</td>\n",
       "      <td>0.0</td>\n",
       "      <td>433.119</td>\n",
       "      <td>1</td>\n",
       "      <td>0.001</td>\n",
       "    </tr>\n",
       "    <tr>\n",
       "      <th>2</th>\n",
       "      <td>joy</td>\n",
       "      <td>None</td>\n",
       "      <td>None</td>\n",
       "      <td>97121</td>\n",
       "      <td>253095</td>\n",
       "      <td>0.537</td>\n",
       "      <td>0.0</td>\n",
       "      <td>0.557</td>\n",
       "      <td>0.0</td>\n",
       "      <td>0.0</td>\n",
       "      <td>115.797</td>\n",
       "      <td>1</td>\n",
       "      <td>0.000</td>\n",
       "    </tr>\n",
       "    <tr>\n",
       "      <th>3</th>\n",
       "      <td>optimism</td>\n",
       "      <td>None</td>\n",
       "      <td>None</td>\n",
       "      <td>97121</td>\n",
       "      <td>253095</td>\n",
       "      <td>0.591</td>\n",
       "      <td>0.0</td>\n",
       "      <td>0.632</td>\n",
       "      <td>0.0</td>\n",
       "      <td>0.0</td>\n",
       "      <td>1187.908</td>\n",
       "      <td>1</td>\n",
       "      <td>0.003</td>\n",
       "    </tr>\n",
       "  </tbody>\n",
       "</table>\n",
       "</div>"
      ],
      "text/plain": [
       "      senti   pub emotion  Sample size 1  sample size 2  shapiro_t_dist1  \\\n",
       "0     anger  None    None          97121         253095            0.803   \n",
       "1   sadness  None    None          97121         253095            0.604   \n",
       "2       joy  None    None          97121         253095            0.537   \n",
       "3  optimism  None    None          97121         253095            0.591   \n",
       "\n",
       "   shapiro_p_dist2  shapiro_t_dist1  shapiro_p_dist2  KW-p      KW-H  KW-dof  \\\n",
       "0              0.0            0.824              0.0   0.0   958.854       1   \n",
       "1              0.0            0.623              0.0   0.0   433.119       1   \n",
       "2              0.0            0.557              0.0   0.0   115.797       1   \n",
       "3              0.0            0.632              0.0   0.0  1187.908       1   \n",
       "\n",
       "      ES  \n",
       "0  0.003  \n",
       "1  0.001  \n",
       "2  0.000  \n",
       "3  0.003  "
      ]
     },
     "execution_count": 238,
     "metadata": {},
     "output_type": "execute_result"
    }
   ],
   "source": [
    "stats_df = pd.DataFrame(sstat, columns = ['senti', 'pub', 'emotion', 'Sample size 1', 'sample size 2', 'shapiro_t_dist1', 'shapiro_p_dist2', 'shapiro_t_dist1', 'shapiro_p_dist2', 'KW-p', 'KW-H', 'KW-dof', 'ES'])\n",
    "stats_df.round(3)"
   ]
  },
  {
   "cell_type": "code",
   "execution_count": null,
   "id": "e27a23e0-356f-4b6c-ba58-0682f8f0940b",
   "metadata": {},
   "outputs": [],
   "source": [
    "# stats_df[['senti', 'KW-p', 'ES']].round(3).to_csv('results/statistical_test_user_resp_reg_vs_non_reg.csv')"
   ]
  },
  {
   "cell_type": "markdown",
   "id": "13caec85-53eb-4357-986e-032661636e61",
   "metadata": {},
   "source": [
    "#### Emotion Mean"
   ]
  },
  {
   "cell_type": "code",
   "execution_count": null,
   "id": "c4efa83f-144f-4fdc-a5e1-3a5abf74afbe",
   "metadata": {},
   "outputs": [],
   "source": [
    "senti = ['neg', 'neu', 'pos']\n",
    "emotions = ['anger', 'sadness', 'joy', 'optimism']\n",
    "sstat = []\n",
    "for s in emotions:\n",
    "    # dist1 = user_resp_non_reg_users[s + '_senti'].dropna()\n",
    "    # dist2 = user_resp_reg_users[s + '_senti'].dropna()\n",
    "    \n",
    "    mean1 = user_resp_non_reg_users[s].dropna().mean()\n",
    "    mean2 = user_resp_reg_users[s].dropna().mean()\n",
    "    \n",
    "    # res = get_significance_stats(dist1, dist2, None, s, None)\n",
    "    sstat.append([s, mean1, mean2])\n",
    "    "
   ]
  },
  {
   "cell_type": "code",
   "execution_count": null,
   "id": "36028de8-3b8f-4f40-98d5-1941f8b455c1",
   "metadata": {},
   "outputs": [],
   "source": [
    "sstat = pd.DataFrame(sstat, columns = ['pub', 'mean_non_reg', 'mean_reg'])\n",
    "sstat = sstat.round(3)\n",
    "sstat\n",
    "# sstat.to_csv('results/mean_user_resp_reg_vs_non_reg.csv')"
   ]
  },
  {
   "cell_type": "code",
   "execution_count": null,
   "id": "80f8db8b-2886-47af-b7f2-f4dc137c2512",
   "metadata": {},
   "outputs": [],
   "source": []
  },
  {
   "cell_type": "code",
   "execution_count": null,
   "id": "673e7f2f-c3eb-4c8e-8065-cd88956be778",
   "metadata": {},
   "outputs": [],
   "source": [
    "# x = sstat[['pub', 'mean_non_reg']].rename(columns = {'mean_non_reg': 'em_score'})\n",
    "# x['user'] = 'non_reg'\n",
    "# y = sstat[['pub', 'mean_reg']].rename(columns = {'mean_reg': 'em_score'})\n",
    "# y['user'] = 'reg'\n",
    "# new_df = pd.concat((x, y),axis = 0)\n",
    "# new_df"
   ]
  },
  {
   "cell_type": "code",
   "execution_count": null,
   "id": "463996e7-76cc-430b-b248-ffe6a2cbed66",
   "metadata": {},
   "outputs": [],
   "source": []
  },
  {
   "cell_type": "code",
   "execution_count": null,
   "id": "e7454c20-dc10-48cd-ae64-4ba1a51de23f",
   "metadata": {},
   "outputs": [],
   "source": []
  },
  {
   "cell_type": "code",
   "execution_count": null,
   "id": "ce4147b0-4cc9-4847-b7b4-a116dbafe974",
   "metadata": {},
   "outputs": [],
   "source": []
  },
  {
   "cell_type": "code",
   "execution_count": null,
   "id": "a569be08-b46a-48cc-9a5a-860ae5e62617",
   "metadata": {},
   "outputs": [],
   "source": []
  },
  {
   "cell_type": "markdown",
   "id": "6af5c719-83e7-4901-97ce-fa7e4c29a0af",
   "metadata": {},
   "source": [
    "### Selective Vs Cross Exposure"
   ]
  },
  {
   "cell_type": "code",
   "execution_count": 145,
   "id": "9ea529a6-ed14-42d2-8d8f-acbce7bdd26c",
   "metadata": {},
   "outputs": [
    {
     "data": {
      "text/plain": [
       "Index(['Unnamed: 0.4', 'Unnamed: 0.3', 'Unnamed: 0.2', 'Unnamed: 0.1',\n",
       "       'Unnamed: 0', 'tweet_id', 'conversation_id', 'author_id', 'created_at',\n",
       "       'geo', 'lang', 'like_count', 'quote_count', 'reply_count',\n",
       "       'retweet_count', 'source', 'text', 'anger', 'joy', 'optimism',\n",
       "       'sadness', 'publication', 'topic_labels', 'theme', 'pos_senti',\n",
       "       'neu_senti', 'neg_senti', 'date', 'week', 'flag', 'Trump_flag',\n",
       "       'Biden_flag', 'Trump_Biden_flag', 'trump_pos', 'trump_neg', 'trump_neu',\n",
       "       'biden_pos', 'biden_neg', 'biden_neu'],\n",
       "      dtype='object')"
      ]
     },
     "execution_count": 145,
     "metadata": {},
     "output_type": "execute_result"
    }
   ],
   "source": [
    "user_resp.author_id"
   ]
  },
  {
   "cell_type": "code",
   "execution_count": 171,
   "id": "c66e11c7-ec2a-479c-9de7-836c64ffbba4",
   "metadata": {},
   "outputs": [],
   "source": [
    "author_freqR = pd.DataFrame(R_user_resp.author_id.value_counts())\n",
    "author_freqR['author_ids'] = author_freqR.index\n",
    "author_freqR = author_freqR.rename(columns = {'author_id': 'freq_R'})\n",
    "author_freqR = author_freqR.rename(columns = {'author_ids': 'author_id'})"
   ]
  },
  {
   "cell_type": "code",
   "execution_count": 173,
   "id": "3ca727bf-9ad3-4e78-addb-3013d1982c17",
   "metadata": {},
   "outputs": [],
   "source": [
    "author_freq = author_freq.merge(author_freqC, on = 'author_id')"
   ]
  },
  {
   "cell_type": "code",
   "execution_count": 177,
   "id": "b54aafc5-0d2f-466e-a5f0-927dab3a0386",
   "metadata": {},
   "outputs": [],
   "source": [
    "author_freq['total'] = author_freq.freq_R + author_freq.freq_L + author_freq.freq_C"
   ]
  },
  {
   "cell_type": "code",
   "execution_count": 182,
   "id": "24d053d8-94a4-4419-9afd-ded4e15cafaf",
   "metadata": {},
   "outputs": [],
   "source": [
    "author_freq['per_C'] = (author_freq.freq_C * 100)/author_freq.total"
   ]
  },
  {
   "cell_type": "code",
   "execution_count": 205,
   "id": "c1a1d954-049b-4221-90a1-134ab9c2379e",
   "metadata": {},
   "outputs": [
    {
     "data": {
      "text/html": [
       "<div>\n",
       "<style scoped>\n",
       "    .dataframe tbody tr th:only-of-type {\n",
       "        vertical-align: middle;\n",
       "    }\n",
       "\n",
       "    .dataframe tbody tr th {\n",
       "        vertical-align: top;\n",
       "    }\n",
       "\n",
       "    .dataframe thead th {\n",
       "        text-align: right;\n",
       "    }\n",
       "</style>\n",
       "<table border=\"1\" class=\"dataframe\">\n",
       "  <thead>\n",
       "    <tr style=\"text-align: right;\">\n",
       "      <th></th>\n",
       "      <th>freq_R</th>\n",
       "      <th>author_id</th>\n",
       "      <th>freq_L</th>\n",
       "      <th>freq_C</th>\n",
       "      <th>total</th>\n",
       "      <th>per_L</th>\n",
       "      <th>per_R</th>\n",
       "      <th>per_C</th>\n",
       "    </tr>\n",
       "  </thead>\n",
       "  <tbody>\n",
       "  </tbody>\n",
       "</table>\n",
       "</div>"
      ],
      "text/plain": [
       "Empty DataFrame\n",
       "Columns: [freq_R, author_id, freq_L, freq_C, total, per_L, per_R, per_C]\n",
       "Index: []"
      ]
     },
     "execution_count": 205,
     "metadata": {},
     "output_type": "execute_result"
    }
   ],
   "source": [
    "author_freq[((author_freq.total > 20) & (author_freq.per_C == 0))]"
   ]
  },
  {
   "cell_type": "code",
   "execution_count": 197,
   "id": "6bec737d-f55a-4fca-9129-39170ab9f50b",
   "metadata": {},
   "outputs": [
    {
     "name": "stderr",
     "output_type": "stream",
     "text": [
      "/tmp/ipykernel_187694/1722348428.py:1: UserWarning: Boolean Series key will be reindexed to match DataFrame index.\n",
      "  author_freq[author_freq.total > 20][(((author_freq.per_L > 20) & (author_freq.per_R > 20)))]\n"
     ]
    },
    {
     "data": {
      "text/html": [
       "<div>\n",
       "<style scoped>\n",
       "    .dataframe tbody tr th:only-of-type {\n",
       "        vertical-align: middle;\n",
       "    }\n",
       "\n",
       "    .dataframe tbody tr th {\n",
       "        vertical-align: top;\n",
       "    }\n",
       "\n",
       "    .dataframe thead th {\n",
       "        text-align: right;\n",
       "    }\n",
       "</style>\n",
       "<table border=\"1\" class=\"dataframe\">\n",
       "  <thead>\n",
       "    <tr style=\"text-align: right;\">\n",
       "      <th></th>\n",
       "      <th>freq_R</th>\n",
       "      <th>author_id</th>\n",
       "      <th>freq_L</th>\n",
       "      <th>freq_C</th>\n",
       "      <th>total</th>\n",
       "      <th>per_L</th>\n",
       "      <th>per_R</th>\n",
       "      <th>per_C</th>\n",
       "    </tr>\n",
       "  </thead>\n",
       "  <tbody>\n",
       "    <tr>\n",
       "      <th>1</th>\n",
       "      <td>101</td>\n",
       "      <td>2.194839e+09</td>\n",
       "      <td>29</td>\n",
       "      <td>1</td>\n",
       "      <td>131</td>\n",
       "      <td>22.137405</td>\n",
       "      <td>77.099237</td>\n",
       "      <td>0.763359</td>\n",
       "    </tr>\n",
       "    <tr>\n",
       "      <th>5</th>\n",
       "      <td>50</td>\n",
       "      <td>1.283365e+18</td>\n",
       "      <td>67</td>\n",
       "      <td>39</td>\n",
       "      <td>156</td>\n",
       "      <td>42.948718</td>\n",
       "      <td>32.051282</td>\n",
       "      <td>25.000000</td>\n",
       "    </tr>\n",
       "    <tr>\n",
       "      <th>6</th>\n",
       "      <td>40</td>\n",
       "      <td>1.143332e+18</td>\n",
       "      <td>47</td>\n",
       "      <td>2</td>\n",
       "      <td>89</td>\n",
       "      <td>52.808989</td>\n",
       "      <td>44.943820</td>\n",
       "      <td>2.247191</td>\n",
       "    </tr>\n",
       "    <tr>\n",
       "      <th>7</th>\n",
       "      <td>37</td>\n",
       "      <td>1.406664e+07</td>\n",
       "      <td>29</td>\n",
       "      <td>2</td>\n",
       "      <td>68</td>\n",
       "      <td>42.647059</td>\n",
       "      <td>54.411765</td>\n",
       "      <td>2.941176</td>\n",
       "    </tr>\n",
       "    <tr>\n",
       "      <th>8</th>\n",
       "      <td>37</td>\n",
       "      <td>9.477016e+17</td>\n",
       "      <td>54</td>\n",
       "      <td>3</td>\n",
       "      <td>94</td>\n",
       "      <td>57.446809</td>\n",
       "      <td>39.361702</td>\n",
       "      <td>3.191489</td>\n",
       "    </tr>\n",
       "    <tr>\n",
       "      <th>...</th>\n",
       "      <td>...</td>\n",
       "      <td>...</td>\n",
       "      <td>...</td>\n",
       "      <td>...</td>\n",
       "      <td>...</td>\n",
       "      <td>...</td>\n",
       "      <td>...</td>\n",
       "      <td>...</td>\n",
       "    </tr>\n",
       "    <tr>\n",
       "      <th>159</th>\n",
       "      <td>6</td>\n",
       "      <td>1.528568e+08</td>\n",
       "      <td>15</td>\n",
       "      <td>1</td>\n",
       "      <td>22</td>\n",
       "      <td>68.181818</td>\n",
       "      <td>27.272727</td>\n",
       "      <td>4.545455</td>\n",
       "    </tr>\n",
       "    <tr>\n",
       "      <th>169</th>\n",
       "      <td>6</td>\n",
       "      <td>7.157012e+17</td>\n",
       "      <td>14</td>\n",
       "      <td>1</td>\n",
       "      <td>21</td>\n",
       "      <td>66.666667</td>\n",
       "      <td>28.571429</td>\n",
       "      <td>4.761905</td>\n",
       "    </tr>\n",
       "    <tr>\n",
       "      <th>173</th>\n",
       "      <td>6</td>\n",
       "      <td>1.102796e+18</td>\n",
       "      <td>13</td>\n",
       "      <td>4</td>\n",
       "      <td>23</td>\n",
       "      <td>56.521739</td>\n",
       "      <td>26.086957</td>\n",
       "      <td>17.391304</td>\n",
       "    </tr>\n",
       "    <tr>\n",
       "      <th>202</th>\n",
       "      <td>5</td>\n",
       "      <td>1.518477e+09</td>\n",
       "      <td>17</td>\n",
       "      <td>1</td>\n",
       "      <td>23</td>\n",
       "      <td>73.913043</td>\n",
       "      <td>21.739130</td>\n",
       "      <td>4.347826</td>\n",
       "    </tr>\n",
       "    <tr>\n",
       "      <th>237</th>\n",
       "      <td>5</td>\n",
       "      <td>7.783218e+08</td>\n",
       "      <td>13</td>\n",
       "      <td>3</td>\n",
       "      <td>21</td>\n",
       "      <td>61.904762</td>\n",
       "      <td>23.809524</td>\n",
       "      <td>14.285714</td>\n",
       "    </tr>\n",
       "  </tbody>\n",
       "</table>\n",
       "<p>63 rows × 8 columns</p>\n",
       "</div>"
      ],
      "text/plain": [
       "     freq_R     author_id  freq_L  freq_C  total      per_L      per_R  \\\n",
       "1       101  2.194839e+09      29       1    131  22.137405  77.099237   \n",
       "5        50  1.283365e+18      67      39    156  42.948718  32.051282   \n",
       "6        40  1.143332e+18      47       2     89  52.808989  44.943820   \n",
       "7        37  1.406664e+07      29       2     68  42.647059  54.411765   \n",
       "8        37  9.477016e+17      54       3     94  57.446809  39.361702   \n",
       "..      ...           ...     ...     ...    ...        ...        ...   \n",
       "159       6  1.528568e+08      15       1     22  68.181818  27.272727   \n",
       "169       6  7.157012e+17      14       1     21  66.666667  28.571429   \n",
       "173       6  1.102796e+18      13       4     23  56.521739  26.086957   \n",
       "202       5  1.518477e+09      17       1     23  73.913043  21.739130   \n",
       "237       5  7.783218e+08      13       3     21  61.904762  23.809524   \n",
       "\n",
       "         per_C  \n",
       "1     0.763359  \n",
       "5    25.000000  \n",
       "6     2.247191  \n",
       "7     2.941176  \n",
       "8     3.191489  \n",
       "..         ...  \n",
       "159   4.545455  \n",
       "169   4.761905  \n",
       "173  17.391304  \n",
       "202   4.347826  \n",
       "237  14.285714  \n",
       "\n",
       "[63 rows x 8 columns]"
      ]
     },
     "execution_count": 197,
     "metadata": {},
     "output_type": "execute_result"
    }
   ],
   "source": [
    "cross_exposed_authors = author_freq[author_freq.total > 20][(((author_freq.per_L > 20) & (author_freq.per_R > 20)))]['author_id']"
   ]
  },
  {
   "cell_type": "code",
   "execution_count": 142,
   "id": "028f2d58-fa18-4772-902e-49eaf7e6c135",
   "metadata": {},
   "outputs": [],
   "source": [
    "# user_freq = pd.read_csv('../../backup/code/NewSlant/dataset/user_tweet_freq.csv')"
   ]
  },
  {
   "cell_type": "code",
   "execution_count": null,
   "id": "073b1c69-179c-466f-8a23-f614e45be6db",
   "metadata": {},
   "outputs": [],
   "source": []
  },
  {
   "cell_type": "code",
   "execution_count": null,
   "id": "e6f5c592-c3ec-42e2-9dc3-335c2bd1c43c",
   "metadata": {},
   "outputs": [],
   "source": [
    "# common = set(regular_users['author_id']).intersection(set(user_freq['author_id']))\n",
    "# len(common)"
   ]
  },
  {
   "cell_type": "code",
   "execution_count": null,
   "id": "0b337821-eef2-4da4-b739-5997b73006bf",
   "metadata": {
    "tags": []
   },
   "outputs": [],
   "source": [
    "# publishers = ['CNN', 'The Washington Post', 'Business Insider', 'USA Today', 'Fox News', 'Breitbart News']\n",
    "# temp_df = pd.DataFrame(columns = ['author_id'] + publishers)\n",
    "# for user in regular_users['author_id']:\n",
    "#     k = user_resp[user_resp['author_id_x'] == user].publication.value_counts()\n",
    "#     c = ['author_id'] + list(k.index)\n",
    "#     f = pd.DataFrame([[user] + list(k)], columns = c)\n",
    "#     temp_df = pd.concat((temp_df, f), axis = 0)\n",
    "#     # print(temp_df)\n",
    "    \n",
    "# temp_df = temp_df.fillna(0)\n",
    "\n",
    "# incl_count = []\n",
    "# for i, row in temp_df.iterrows():\n",
    "#     a = row['author_id']\n",
    "#     L = int(row['CNN'] + row['The Washington Post'])\n",
    "#     C = int(row['Business Insider'] + row['USA Today'])\n",
    "#     R = int(row['Fox News'] + row['Breitbart News'])\n",
    "#     incl_count.append([a,L,C,R])\n",
    "# # len(incl_count)\n",
    "\n",
    "# incl_count_df = pd.DataFrame(incl_count, columns = ['author_id', 'L', 'C', 'R'])\n",
    "# user_details = pd.merge(temp_df, incl_count_df, on = 'author_id')\n",
    "\n",
    "# s = user_details[['L', 'C', 'R']].sum(axis = 1)\n",
    "# k = user_details[['L','C', 'R']].div(s, axis=0).rename(columns = {'L':'L_f', 'C': 'C_f', 'R':'R_f'})\n",
    "\n",
    "# user_details = pd.concat((user_details, k), axis = 1)\n",
    "\n",
    "# s = user_details[['L', 'C', 'R']].sum(axis = 1)\n",
    "# user_details['tweet_count'] = s\n",
    "\n",
    "# user_details.shape\n",
    "# user_details.to_csv('dataset/user_details.csv')"
   ]
  },
  {
   "cell_type": "code",
   "execution_count": 143,
   "id": "80e59afc-6f2f-4b01-950c-d9879e8a7f53",
   "metadata": {},
   "outputs": [],
   "source": [
    "user_details = pd.read_csv('../../backup/code/NewSlant/dataset/user_details.csv')"
   ]
  },
  {
   "cell_type": "code",
   "execution_count": null,
   "id": "8e09936e-5ff8-47e2-85b5-cad631fd5c79",
   "metadata": {},
   "outputs": [],
   "source": []
  },
  {
   "cell_type": "code",
   "execution_count": null,
   "id": "f38ead25-fc91-4646-9dc2-9d3dec01a189",
   "metadata": {},
   "outputs": [],
   "source": [
    "sel_exposed_authors = user_details[((user_details['L_f'] == 1) | (user_details['R_f'] == 1))]\n",
    "# center_exposed_authors = fil_user_det[fil_user_det.C_f > 0.5]\n",
    "# cross_exposed_authors = user_details[(((user_details['L_f'] > 0.25) & (user_details['R_f'] > 0.25)) | (user_details.C_f > 0.5))]\n",
    "cross_exposed_authors = user_details[(((user_details['L_f'] > 0.40) & (user_details['R_f'] > 0.40)))]"
   ]
  },
  {
   "cell_type": "code",
   "execution_count": null,
   "id": "ae15fd75-0662-4f97-8f0a-0b3272faccd4",
   "metadata": {},
   "outputs": [],
   "source": [
    "sel_exposed_authors = user_details[~(((user_details.L_f > 0.25) & (user_details.R_f > 0.25)) | (user_details.C_f > 0.5))]\n",
    "# center_exposed_authors = fil_user_det[fil_user_det.C_f > 0.5]\n",
    "cross_exposed_authors = user_details[(((user_details.L_f > 0.25) & (user_details.R_f > 0.25)) | (user_details.C_f > 0.5))]"
   ]
  },
  {
   "cell_type": "code",
   "execution_count": null,
   "id": "fa00aff0-8046-44c5-8319-57331b8d05b1",
   "metadata": {},
   "outputs": [],
   "source": [
    "sel_exposed_authors_L = user_details[user_details['L_f'] == 1]\n",
    "sel_exposed_authors_R = user_details[user_details['R_f'] == 1]\n",
    "# center_exposed_authors = fil_user_det[fil_user_det.C_f > 0.5]\n",
    "cross_exposed_authors = user_details[(((user_details.L_f > 0.25) & (user_details.R_f > 0.25)) | (user_details.C_f > 0.5))]\n",
    "sel_exposed_authors_L.shape, sel_exposed_authors_R.shape\n",
    "\n",
    "sel_user_resp = user_resp[user_resp['author_id_x'].isin(sel_exposed_authors_L.author_id)]\n",
    "cross_user_resp = user_resp[user_resp['author_id_x'].isin(sel_exposed_authors_R.author_id)]"
   ]
  },
  {
   "cell_type": "code",
   "execution_count": null,
   "id": "905c4869-6978-408c-8f55-2eda29700637",
   "metadata": {},
   "outputs": [],
   "source": [
    "sel_exposed_authors.shape, cross_exposed_authors.shape"
   ]
  },
  {
   "cell_type": "code",
   "execution_count": null,
   "id": "b5f89905-65ac-44b1-9271-ec5b5ae8d0e3",
   "metadata": {},
   "outputs": [],
   "source": [
    "sel_user_resp = user_resp[user_resp['author_id_x'].isin(sel_exposed_authors.author_id)]\n",
    "cross_user_resp = user_resp[user_resp['author_id_x'].isin(cross_exposed_authors.author_id)]"
   ]
  },
  {
   "cell_type": "code",
   "execution_count": null,
   "id": "98f95290-2a26-409e-a63c-5f5a75c4f7b1",
   "metadata": {},
   "outputs": [],
   "source": [
    "sel_user_resp.shape, cross_user_resp.shape"
   ]
  },
  {
   "cell_type": "code",
   "execution_count": null,
   "id": "b018e503-e2a8-472b-9269-a79f49b0c1fb",
   "metadata": {},
   "outputs": [],
   "source": [
    "senti = ['neg', 'neu', 'pos']\n",
    "emotions = ['anger', 'sadness', 'joy', 'optimism']\n",
    "sstat = []\n",
    "for s in emotions:\n",
    "    # dist1 = sel_user_resp[s + '_senti'].dropna()\n",
    "    # dist2 = cross_user_resp[s + '_senti'].dropna()\n",
    "    \n",
    "    dist1 = sel_user_resp[s].dropna()\n",
    "    dist2 = cross_user_resp[s].dropna()\n",
    "    res = get_significance_stats(dist1, dist2, None, s, None)\n",
    "    sstat.append(res)\n",
    "    "
   ]
  },
  {
   "cell_type": "code",
   "execution_count": null,
   "id": "bdf88722-9da8-4580-8465-6c21af5b2b7b",
   "metadata": {},
   "outputs": [],
   "source": [
    "stats_df = pd.DataFrame(sstat, columns = ['senti', 'pub', 'emotion', 'Sample size 1', 'sample size 2', 'shapiro_t_dist1', 'shapiro_p_dist2', 'shapiro_t_dist1', 'shapiro_p_dist2', 'KW-p', 'KW-H', 'KW-dof', 'ES'])\n",
    "stats_df.round(4)"
   ]
  },
  {
   "cell_type": "code",
   "execution_count": null,
   "id": "2dd037d2-0ce7-49b7-97b3-9d08bd286bab",
   "metadata": {},
   "outputs": [],
   "source": [
    "# sel_user_resp.columns"
   ]
  },
  {
   "cell_type": "code",
   "execution_count": null,
   "id": "73ec28b9-9b80-4330-aa8a-718cf67bccb5",
   "metadata": {},
   "outputs": [],
   "source": []
  },
  {
   "cell_type": "code",
   "execution_count": null,
   "id": "f92ec8c4-36b5-4ea3-97ec-202a654844a9",
   "metadata": {},
   "outputs": [],
   "source": []
  },
  {
   "cell_type": "code",
   "execution_count": null,
   "id": "13b5cdb1-3cae-46b1-af2e-9e0b22eec1ad",
   "metadata": {},
   "outputs": [],
   "source": [
    "sel_L_exp_authors = sel_exposed_authors[sel_exposed_authors['L_f'] > 0.80].author_id\n",
    "sel_R_exp_authors = sel_exposed_authors[sel_exposed_authors['R_f'] > 0.80].author_id\n",
    "# cross_exposed_authors = user_details[(((user_details['L_f'] > 0.25) & (user_details['R_f'] > 0.25)))].author_id"
   ]
  },
  {
   "cell_type": "code",
   "execution_count": null,
   "id": "c7b2d15e-d326-4675-90b4-70192a2fc56a",
   "metadata": {},
   "outputs": [],
   "source": [
    "sel_L_exp = user_resp[user_resp.author_id_x.isin(sel_L_exp_authors)]\n",
    "sel_R_exp = user_resp[user_resp.author_id_x.isin(sel_R_exp_authors)]\n",
    "# cross_user_resp = user_resp[user_resp['author_id_x'].isin(cross_exposed_authors)]"
   ]
  },
  {
   "cell_type": "code",
   "execution_count": null,
   "id": "ea84f77f-21e9-408f-9487-9b4ce703536b",
   "metadata": {},
   "outputs": [],
   "source": [
    "sel_L_exp.shape, sel_R_exp.shape, cross_user_resp.shape"
   ]
  },
  {
   "cell_type": "code",
   "execution_count": null,
   "id": "047ff5d5-4037-47fc-bdca-500d7f1828c5",
   "metadata": {},
   "outputs": [],
   "source": [
    "sel_user_resp[['neg_senti', 'neu_senti', 'pos_senti']].describe()"
   ]
  },
  {
   "cell_type": "code",
   "execution_count": null,
   "id": "b0992221-5e62-446f-a326-d617fc773c63",
   "metadata": {},
   "outputs": [],
   "source": [
    "cross_user_resp[['neg_senti', 'neu_senti', 'pos_senti']].describe()"
   ]
  },
  {
   "cell_type": "markdown",
   "id": "7755b167-abf8-4b78-9b11-404bcb73494a",
   "metadata": {},
   "source": [
    "### Compare user response to coverage of same entity across L and R based on selective exposure (statistical tests)"
   ]
  },
  {
   "cell_type": "code",
   "execution_count": null,
   "id": "30056803-4412-4c6e-a8fc-840efcb31844",
   "metadata": {
    "tags": []
   },
   "outputs": [],
   "source": [
    "sstat, means = [], []\n",
    "for pub, x in zip(['L_C', 'C_R', 'R_L'], [(sel_L_exp, cross_user_resp),(cross_user_resp, sel_R_exp), (sel_R_exp, sel_L_exp)]):\n",
    "    for ent in ['biden', 'trump']:\n",
    "        df1_pos, df1_neg = get_pos_neg_mentions(x[0], ent)\n",
    "        df2_pos, df2_neg = get_pos_neg_mentions(x[1], ent)\n",
    "        \n",
    "        for i, s in enumerate(emotions): \n",
    "            for men in ['Mpos', 'Mneg']:\n",
    "                if(men == 'Mneg'):\n",
    "                    df1, df2 = df1_neg, df2_neg\n",
    "                else:\n",
    "                    df1, df2 = df1_pos, df2_pos\n",
    "\n",
    "                dist1 = df1[s].dropna()\n",
    "                dist2 = df2[s].dropna()\n",
    "                res = get_significance_stats(dist1, dist2, pub, men, s)\n",
    "                # print(res)\n",
    "                # sys.exit()\n",
    "                sstat.append(res + [ent])\n",
    "\n",
    "sstat_df = pd.DataFrame(sstat, columns = ['mention', 'entity', 'senti', 'Sample size 1', 'sample size 2', 'shapiro_t_dist1', 'shapiro_p_dist2', 'shapiro_t_dist1', 'shapiro_p_dist2', 'KW-p', 'KW-H', 'KW-dof', 'ES', 'Entity'])\n",
    "sstat_df = sstat_df.round(2)\n",
    "sstat_df"
   ]
  },
  {
   "cell_type": "markdown",
   "id": "1919aa69-5447-40dd-9309-d3f121fb9642",
   "metadata": {},
   "source": [
    "### Mean emotion scores based on positive and negative mentions (SE_L vs SE_R vs Cross)"
   ]
  },
  {
   "cell_type": "code",
   "execution_count": null,
   "id": "73444672-0ed5-4b42-85df-59da6fcde811",
   "metadata": {},
   "outputs": [],
   "source": [
    "sstat, means = [], []\n",
    "for pub, x in zip(['SE_L', 'CE', 'SE_R'], [sel_L_exp, cross_user_resp, sel_R_exp]):\n",
    "    for ent in ['biden', 'trump']:\n",
    "        df1_pos, df1_neg = get_pos_neg_mentions(x, ent)\n",
    "        # df2_pos, df2_neg = get_pos_neg_mentions(x[1], ent)\n",
    "        \n",
    "        for i, s in enumerate(emotions): \n",
    "            means.append([pub, ent, 'Mpos', s, df1_pos[s].mean()])\n",
    "            means.append([pub, ent, 'Mneg', s, df1_neg[s].mean()])\n",
    "\n",
    "mean_df = pd.DataFrame(means, columns = ['pub', 'entity', 'mention', 'senti', 'senti_score'])\n",
    "# mean_df = mean_df.round(2)\n",
    "# mean_df"
   ]
  },
  {
   "cell_type": "code",
   "execution_count": null,
   "id": "c41c8e8a-75b5-4da7-9092-78c25ffd4205",
   "metadata": {},
   "outputs": [],
   "source": []
  },
  {
   "cell_type": "markdown",
   "id": "bfc97ad5-8f7e-452a-913b-5de6a2192df4",
   "metadata": {},
   "source": [
    "#### Statistical tests without looking at positive or negative mentions"
   ]
  },
  {
   "cell_type": "code",
   "execution_count": null,
   "id": "bdaf750f-23fe-4839-bd5b-5f8a833c114d",
   "metadata": {},
   "outputs": [],
   "source": [
    "sstat, means = [], []\n",
    "for pub, x in zip(['L_C', 'C_R', 'R_L'], [(sel_L_exp, cross_user_resp),(cross_user_resp, sel_R_exp), (sel_R_exp, sel_L_exp)]):\n",
    "    for ent in ['biden', 'trump']:\n",
    "        # df1_pos, df1_neg = get_pos_neg_mentions(x[0], ent)\n",
    "        # df2_pos, df2_neg = get_pos_neg_mentions(x[1], ent)\n",
    "        df1 = x[0][x[0][ent + '_flag'] == True]\n",
    "        df2 = x[1][x[1][ent + '_flag'] == True]\n",
    "        \n",
    "        for i, s in enumerate(senti): \n",
    "\n",
    "            dist1 = df1[s + '_senti'].dropna()\n",
    "            dist2 = df2[s  + '_senti'].dropna()\n",
    "            res = get_significance_stats(dist1, dist2, pub, men, s)\n",
    "            # print(res)\n",
    "            # sys.exit()\n",
    "            sstat.append(res + [ent])\n",
    "            \n",
    "sstat_df = pd.DataFrame(sstat, columns = ['mention', 'entity', 'senti', 'Sample size 1', 'sample size 2', 'shapiro_t_dist1', 'shapiro_p_dist2', 'shapiro_t_dist1', 'shapiro_p_dist2', 'KW-p', 'KW-H', 'KW-dof', 'ES', 'Entity'])\n",
    "sstat_df = sstat_df.round(3)\n",
    "sstat_df"
   ]
  },
  {
   "cell_type": "markdown",
   "id": "fbf82204-5ad3-4ed1-93ae-0c7201f97950",
   "metadata": {},
   "source": [
    "### Comparing same entity within each news publisher (based on L or R)"
   ]
  },
  {
   "cell_type": "code",
   "execution_count": null,
   "id": "20e981f2-d6d2-4496-b219-8c7f2505531e",
   "metadata": {
    "tags": []
   },
   "outputs": [],
   "source": [
    "sstat, means = [], []\n",
    "for pub, x in zip(['SE_L', 'SE_R', 'Cross'], [sel_L_exp, sel_R_exp, cross_user_resp]):\n",
    "\n",
    "    b_pos_x, b_neg_x = get_pos_neg_mentions(x, 'biden')\n",
    "    t_pos_x, t_neg_x = get_pos_neg_mentions(x, 'trump')\n",
    "\n",
    "    for i, s in enumerate(senti):        \n",
    "        for men in ['Mpos', 'Mneg']:\n",
    "            if(men == 'Mneg'):\n",
    "                b_df, t_df = b_neg_x, t_neg_x\n",
    "            else:\n",
    "                b_df, t_df = b_pos_x, t_pos_x\n",
    "\n",
    "            means.append([pub, 'biden', men, s, b_df[s + '_senti'].mean()])\n",
    "            means.append([pub, 'trump', men, s, t_df[s + '_senti'].mean()])\n",
    "\n",
    "            # means.append([pub, 'biden', 'Mneg', s, b_neg_x[s + '_senti'].mean()])\n",
    "            # means.append([pub, 'trump', 'Mneg', s, t_neg_x[s + '_senti'].mean()])\n",
    "\n",
    "            dist1 = b_df[s + '_senti'].dropna()\n",
    "            dist2 = t_df[s  + '_senti'].dropna()\n",
    "            res = get_significance_stats(dist1, dist2, pub, men, s)\n",
    "            # print(res)\n",
    "            # sys.exit()\n",
    "            sstat.append(res)\n",
    "            \n",
    "sstat_df = pd.DataFrame(sstat, columns = ['mention', 'entity', 'senti', 'Sample size 1', 'sample size 2', 'shapiro_t_dist1', 'shapiro_p_dist2', 'shapiro_t_dist1', 'shapiro_p_dist2', 'KW-p', 'KW-H', 'KW-dof', 'ES'])\n",
    "sstat_df = sstat_df.round(3)\n",
    "\n",
    "mean_df = pd.DataFrame(means, columns = ['pub', 'entity', 'mention', 'senti', 'senti_score'])\n",
    "mean_df = mean_df.round(3)\n",
    "mean_df"
   ]
  },
  {
   "cell_type": "code",
   "execution_count": null,
   "id": "ac7df880-0673-4eeb-b632-172384d7047f",
   "metadata": {},
   "outputs": [],
   "source": [
    "sstat_df"
   ]
  },
  {
   "cell_type": "markdown",
   "id": "6355d6ad-9abb-49d0-ae3b-bfd22792a987",
   "metadata": {},
   "source": [
    "### Visualization"
   ]
  },
  {
   "cell_type": "code",
   "execution_count": null,
   "id": "51464865-392b-47c3-bc0b-7fd3909fc361",
   "metadata": {},
   "outputs": [],
   "source": [
    "import pylab as plt\n",
    "import seaborn as sns\n",
    "\n",
    "fig = plt.figure(figsize=(30, 15))\n",
    "fig.tight_layout(pad=10.0)\n",
    "j = 2\n",
    "i = 0\n",
    "for s in emotions:\n",
    "    for mention in ['Mpos', 'Mneg']:\n",
    "        # df_ = get_df_for_plot(temp_df, pub)\n",
    "        df_ = mean_df[((mean_df['mention'] == mention) & (mean_df['senti'] == s))]\n",
    "        # print(df_)\n",
    "        # leaning = media_incl[media_incl['Media_Outlet'] == pub]['Leaning'].values[0]\n",
    "        ax = fig.add_subplot(3, 6, i+1)\n",
    "        i+=1\n",
    "        plt.title(mention + \"-\" + s)\n",
    "        plt.xticks(rotation = 90)\n",
    "        # print(pub, df_.shape)\n",
    "        sns.barplot(x='pub', y='senti_score', hue='entity', data=df_, ax = ax)\n",
    "        ax.set(xlabel=None)\n",
    "        ax.get_legend().remove()"
   ]
  },
  {
   "cell_type": "markdown",
   "id": "ed6c497f-b02a-4036-9505-7d4972a5d5b7",
   "metadata": {},
   "source": [
    "#### Save Plots"
   ]
  },
  {
   "cell_type": "code",
   "execution_count": null,
   "id": "8d994243-0354-4b7d-8894-3a49c356ecf5",
   "metadata": {
    "tags": []
   },
   "outputs": [],
   "source": [
    "import pylab as plt\n",
    "import seaborn as sns\n",
    "\n",
    "# fig = plt.figure(figsize=(30, 15))\n",
    "# fig.tight_layout(pad=10.0)\n",
    "j = 2\n",
    "i = 0\n",
    "for emotion in emotions:\n",
    "    for men in ['Mpos', 'Mneg']:\n",
    "        # df_ = get_df_for_plot(temp_df, pub)\n",
    "        df_ = mean_df[((mean_df['senti'] == emotion) & (mean_df['mention'] == men))]\n",
    "        # print(df_)\n",
    "        # leaning = media_incl[media_incl['Media_Outlet'] == pub]['Leaning'].values[0]\n",
    "        fig = plt.figure(figsize=(10, 5))\n",
    "        ax = fig.add_subplot()\n",
    "        # ax = fig.add_subplot(3, 6, i+1)\n",
    "        i+=1\n",
    "        if(men == 'Mpos'):\n",
    "            plt.title(\"Response to Positive metions (\" + emotion + \")\", fontsize = 25)\n",
    "        else:\n",
    "            plt.title(\"Response to Negative mentions (\" + emotion + \")\", fontsize = 25)\n",
    "        # plt.xticks(rotation = 90)\n",
    "        # print(pub, df_.shape)\n",
    "        sns.barplot(x='pub', y='senti_score', hue='entity', data=df_, ax = ax)\n",
    "        ax.set(xlabel=None)\n",
    "        plt.ylabel('Emotion Score', fontsize=25)\n",
    "        plt.xticks(fontsize = 25)\n",
    "        plt.yticks(fontsize = 25)\n",
    "        plt.legend(bbox_to_anchor=(1.1, 0.6), loc='upper left', borderaxespad=0, fontsize=25)\n",
    "        ax.get_legend().remove()\n",
    "        plt.savefig('figures/user_resp_SE/' + emotion + \"-\" + men + '.png', bbox_inches='tight')"
   ]
  },
  {
   "cell_type": "code",
   "execution_count": null,
   "id": "0ab28869-f0ac-46db-9bbb-0f84bd05d6d4",
   "metadata": {},
   "outputs": [],
   "source": []
  },
  {
   "cell_type": "code",
   "execution_count": null,
   "id": "9a81eea9-9e52-4693-8048-456c4ccbae70",
   "metadata": {},
   "outputs": [],
   "source": []
  },
  {
   "cell_type": "code",
   "execution_count": null,
   "id": "46af5add-1edc-4866-83a1-af894ab45c84",
   "metadata": {},
   "outputs": [],
   "source": []
  },
  {
   "cell_type": "code",
   "execution_count": null,
   "id": "f9f0a3aa-d8da-422d-b336-a5f0b3791a84",
   "metadata": {},
   "outputs": [],
   "source": []
  },
  {
   "cell_type": "code",
   "execution_count": null,
   "id": "605d017a-6aaa-4846-8b8f-d2ed0537733a",
   "metadata": {},
   "outputs": [],
   "source": []
  },
  {
   "cell_type": "markdown",
   "id": "d2b2e0bc-5719-42a2-8dee-1ed2e459a542",
   "metadata": {},
   "source": [
    "### User response to Sentimental Vs Neutral tweets"
   ]
  },
  {
   "cell_type": "code",
   "execution_count": null,
   "id": "ae67a395-d83e-4caf-bff9-cd9709253f8c",
   "metadata": {},
   "outputs": [],
   "source": [
    "user_resp.trump_neu.describe()"
   ]
  },
  {
   "cell_type": "code",
   "execution_count": null,
   "id": "b0c838bf-272d-4ac2-b7a2-ba5db4adbaa1",
   "metadata": {},
   "outputs": [],
   "source": []
  },
  {
   "cell_type": "code",
   "execution_count": null,
   "id": "639eb5de-837f-4b2f-a196-3dbfd0b9b82c",
   "metadata": {},
   "outputs": [],
   "source": [
    "senti_tweet_resp = user_resp[(((user_resp['trump_neg'] > 0.25) & (user_resp['trump_neu'] < 0.25)) | ((user_resp['trump_pos'] > 0.25)  & (user_resp['trump_neu'] < 0.25)) | ((user_resp['biden_neg'] > 0.25)  & (user_resp['biden_neu'] < 0.25)) | ((user_resp['biden_pos'] > 0.25)  & (user_resp['biden_neu'] < 0.25)))]\n",
    "neu_tweet_resp = user_resp[((user_resp['trump_neu'] > 0.50) | (user_resp['biden_neu'] > 0.50))]\n",
    "neu_tweet_resp.shape, senti_tweet_resp.shape"
   ]
  },
  {
   "cell_type": "markdown",
   "id": "8c8d15df-4eb9-44a1-8868-6da99ae24460",
   "metadata": {},
   "source": [
    "### Sentimental Vs neutral"
   ]
  },
  {
   "cell_type": "code",
   "execution_count": null,
   "id": "18959691-511f-472d-883e-c2829e92e938",
   "metadata": {},
   "outputs": [],
   "source": [
    "senti = ['neg', 'neu', 'pos']\n",
    "emotions = ['anger', 'sadness', 'joy', 'optimism']\n",
    "sstat = []\n",
    "for s in emotions:\n",
    "    # dist1 = senti_tweet_resp[s + '_senti'].dropna()\n",
    "    # dist2 = neu_tweet_resp[s + '_senti'].dropna()\n",
    "    \n",
    "    dist1 = senti_tweet_resp[s].dropna()\n",
    "    dist2 = neu_tweet_resp[s].dropna()\n",
    "    res = get_significance_stats(dist1, dist2, None, s, None)\n",
    "    sstat.append(res)\n",
    "\n",
    "stats_df = pd.DataFrame(sstat, columns = ['senti', 'pub', 'emotion', 'Sample size 1', 'sample size 2', 'shapiro_t_dist1', 'shapiro_p_dist2', 'shapiro_t_dist1', 'shapiro_p_dist2', 'KW-p', 'KW-H', 'KW-dof', 'ES'])\n",
    "stats_df.round(4)"
   ]
  },
  {
   "cell_type": "code",
   "execution_count": null,
   "id": "f0e40237-2320-490f-8ee7-2429eb42b4e6",
   "metadata": {},
   "outputs": [],
   "source": [
    "# stats_df.round(4).to_csv('results/statistical_test_user_resp_senti_vs_neutral.csv')"
   ]
  },
  {
   "cell_type": "code",
   "execution_count": null,
   "id": "66374b04-999f-418a-b10f-d8cb78b71365",
   "metadata": {},
   "outputs": [],
   "source": [
    "senti_tweet_resp.tweet_id.nunique()/senti_tweet_resp.conversation_id.nunique()"
   ]
  },
  {
   "cell_type": "code",
   "execution_count": null,
   "id": "5f05e45a-8719-44e7-90f8-8988e96cca94",
   "metadata": {},
   "outputs": [],
   "source": [
    "neu_tweet_resp.tweet_id.nunique()/neu_tweet_resp.conversation_id.nunique()"
   ]
  },
  {
   "cell_type": "code",
   "execution_count": null,
   "id": "bbd2e1d3-9621-468d-8992-b508b5e61a3a",
   "metadata": {},
   "outputs": [],
   "source": [
    "k1 = pd.DataFrame([['Sentimental'] + list(senti_tweet_resp[emotions].mean())], columns = ['News Tweets', emotions[0], emotions[1], emotions[2], emotions[3]])\n",
    "k2 = pd.DataFrame([['Neutral'] + list(neu_tweet_resp[emotions].mean())], columns = ['News Tweets', emotions[0], emotions[1], emotions[2], emotions[3]])"
   ]
  },
  {
   "cell_type": "code",
   "execution_count": null,
   "id": "23d30ef4-fdec-4738-965a-14ec792ed4f0",
   "metadata": {},
   "outputs": [],
   "source": [
    "pd.concat((k1, k2), axis = 0).round(2).to_csv('results/user_resp_emot_means_senti_vs_neutral_tweets.csv')"
   ]
  },
  {
   "cell_type": "code",
   "execution_count": null,
   "id": "0a26c640-cb46-4a57-8a78-49bc13d1bcee",
   "metadata": {},
   "outputs": [],
   "source": [
    "t_pos_df, t_neg_df = get_pos_neg_mentions(user_resp, 'trump')\n",
    "b_pos_df, b_neg_df = get_pos_neg_mentions(user_resp, 'biden')"
   ]
  },
  {
   "cell_type": "code",
   "execution_count": null,
   "id": "c19bd74e-d675-4dab-a65d-d61d30fb9e88",
   "metadata": {},
   "outputs": [],
   "source": [
    "t_pos_df.shape, t_neg_df.shape, b_pos_df.shape, b_neg_df.shape"
   ]
  },
  {
   "cell_type": "code",
   "execution_count": null,
   "id": "bd637f85-b0d1-433a-8bd8-7dead6c28308",
   "metadata": {},
   "outputs": [],
   "source": [
    "pos_df = pd.concat((t_pos_df, b_pos_df), axis = 0)\n",
    "neg_df = pd.concat((t_neg_df, b_neg_df), axis = 0)\n",
    "pos_df.shape, neg_df.shape"
   ]
  },
  {
   "cell_type": "code",
   "execution_count": null,
   "id": "55cacfd1-82e7-4fd3-87db-f1711349156f",
   "metadata": {},
   "outputs": [],
   "source": [
    "neu_df = user_resp[((user_resp['trump_neu'] > 0.8) | (user_resp['biden_neu'])) > 0.8]\n",
    "neu_df.shape"
   ]
  },
  {
   "cell_type": "code",
   "execution_count": null,
   "id": "00c387ad-4e6c-4066-b8aa-b47967e501df",
   "metadata": {},
   "outputs": [],
   "source": []
  },
  {
   "cell_type": "code",
   "execution_count": null,
   "id": "8b257630-a2c9-46c1-881a-b7e6ea8ffe3a",
   "metadata": {},
   "outputs": [],
   "source": [
    "senti = ['neg', 'neu', 'pos']\n",
    "emotions = ['anger', 'sadness', 'joy', 'optimism']\n",
    "sstat = []\n",
    "for s in emotions:\n",
    "#     dist1 = pos_df[s + '_senti'].dropna().sample(1000, random_state = 1)\n",
    "#     dist2 = neg_df[s + '_senti'].dropna().sample(1000, random_state = 2)\n",
    "    \n",
    "    dist1 = pos_df[s].dropna()\n",
    "    dist2 = neg_df[s].dropna()\n",
    "    res = get_significance_stats(dist1, dist2, None, s, None)\n",
    "    sstat.append(res)\n",
    "\n",
    "stats_df = pd.DataFrame(sstat, columns = ['senti', 'pub', 'emotion', 'Sample size 1', 'sample size 2', 'shapiro_t_dist1', 'shapiro_p_dist2', 'shapiro_t_dist1', 'shapiro_p_dist2', 'KW-p', 'KW-H', 'KW-dof', 'ES'])\n",
    "stats_df.round(3)"
   ]
  },
  {
   "cell_type": "code",
   "execution_count": null,
   "id": "07b54086-5827-42a8-aafc-5cee8a6b4138",
   "metadata": {},
   "outputs": [],
   "source": [
    "neu_df.tweet_id.nunique()/neu_df.conversation_id.nunique()"
   ]
  },
  {
   "cell_type": "code",
   "execution_count": null,
   "id": "466941bf-1ef6-4c94-86ce-801056a6e9a9",
   "metadata": {},
   "outputs": [],
   "source": [
    "pos_df.tweet_id.nunique()/pos_df.conversation_id.nunique()"
   ]
  },
  {
   "cell_type": "code",
   "execution_count": null,
   "id": "7b409b1a-ca27-43a8-97a5-dc44f6f79416",
   "metadata": {},
   "outputs": [],
   "source": [
    "neg_df.tweet_id.nunique()/neg_df.conversation_id.nunique()"
   ]
  },
  {
   "cell_type": "code",
   "execution_count": null,
   "id": "123a529b-8e35-4a0b-86d0-166bc4fa12ab",
   "metadata": {},
   "outputs": [],
   "source": [
    "senti_tweet_resp.theme.value_counts()/senti_tweet_resp.shape[0], neu_tweet_resp.theme.value_counts()/neu_tweet_resp.shape[0]"
   ]
  },
  {
   "cell_type": "code",
   "execution_count": null,
   "id": "e2c6fd09-761b-4237-a738-5b16b34ac2c4",
   "metadata": {},
   "outputs": [],
   "source": [
    "user_resp.columns"
   ]
  },
  {
   "cell_type": "code",
   "execution_count": null,
   "id": "bc005656-3796-4b04-8939-1ab2fa7e4a67",
   "metadata": {
    "tags": []
   },
   "outputs": [],
   "source": [
    "pd.set_option('display.max_columns', None)\n",
    "user_resp.head()"
   ]
  },
  {
   "cell_type": "code",
   "execution_count": null,
   "id": "1f976302-8895-4acb-9d33-e131794c6c7b",
   "metadata": {},
   "outputs": [],
   "source": []
  },
  {
   "cell_type": "markdown",
   "id": "d2373325-9793-4a12-b8d5-e03a2ca4fbf7",
   "metadata": {},
   "source": [
    "### Analyze likes, replies and retweets"
   ]
  },
  {
   "cell_type": "code",
   "execution_count": null,
   "id": "6e18d673-fde9-4a8f-83fe-7583fc276dae",
   "metadata": {},
   "outputs": [],
   "source": [
    "pos_df[['like_count_y', 'quote_count_y', 'reply_count_y', 'retweet_count_y']].mean()"
   ]
  },
  {
   "cell_type": "code",
   "execution_count": null,
   "id": "42f64a28-feac-4c21-9afe-0bc69f0a660d",
   "metadata": {},
   "outputs": [],
   "source": [
    "neg_df[['like_count_y', 'quote_count_y', 'reply_count_y', 'retweet_count_y']].mean()"
   ]
  },
  {
   "cell_type": "code",
   "execution_count": null,
   "id": "3b468515-29dc-4d61-8266-8af090e8d25f",
   "metadata": {},
   "outputs": [],
   "source": [
    "neu_df[['like_count_y', 'quote_count_y', 'reply_count_y', 'retweet_count_y']].mean()"
   ]
  },
  {
   "cell_type": "code",
   "execution_count": null,
   "id": "d4d30c45-09a8-43e1-80e9-6de7e50b1e8b",
   "metadata": {},
   "outputs": [],
   "source": [
    "user_resp[['anger', 'joy', 'optimism', 'sadness']].mean()"
   ]
  },
  {
   "cell_type": "code",
   "execution_count": null,
   "id": "2475f84d-52df-4ec0-904e-f82528d87c50",
   "metadata": {},
   "outputs": [],
   "source": []
  }
 ],
 "metadata": {
  "kernelspec": {
   "display_name": "py3_10",
   "language": "python",
   "name": "py3_10"
  },
  "language_info": {
   "codemirror_mode": {
    "name": "ipython",
    "version": 3
   },
   "file_extension": ".py",
   "mimetype": "text/x-python",
   "name": "python",
   "nbconvert_exporter": "python",
   "pygments_lexer": "ipython3",
   "version": "3.10.6"
  }
 },
 "nbformat": 4,
 "nbformat_minor": 5
}
