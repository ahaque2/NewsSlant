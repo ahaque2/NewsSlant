{
 "cells": [
  {
   "cell_type": "code",
   "execution_count": 156,
   "id": "61012e48-5223-4dc2-912e-cc079102bb79",
   "metadata": {},
   "outputs": [],
   "source": [
    "import pandas as pd\n",
    "import numpy as np\n",
    "import sys\n",
    "\n",
    "from transformers import BertTokenizer, BertModel\n",
    "import torch\n",
    "\n",
    "import pandas as pd\n",
    "pd.set_option('display.max_rows', 10)"
   ]
  },
  {
   "cell_type": "code",
   "execution_count": 2,
   "id": "c91589d1-a44d-4678-89ce-bb4504212cfe",
   "metadata": {},
   "outputs": [],
   "source": [
    "news = pd.read_csv('results/news.csv')\n",
    "news_tweets = pd.read_csv('results/news_tweets.csv')\n",
    "# user_resp = pd.read_csv('results/user_response.csv')"
   ]
  },
  {
   "cell_type": "code",
   "execution_count": 45,
   "id": "4362db91-0a17-40dc-9701-9cc86f126886",
   "metadata": {},
   "outputs": [],
   "source": [
    "from nltk.corpus import stopwords\n",
    "from nltk.tokenize import word_tokenize, sent_tokenize\n",
    "\n",
    "stop_words = set(stopwords.words('english'))\n",
    "\n",
    "exclude_words = ['donald', 'trump', 'joe', 'biden', 'president', 'ad']\n",
    "\n",
    "def preprocess(txt):\n",
    "    \n",
    "    proc_sent = []\n",
    "    for line in txt:\n",
    "        word_tokens = word_tokenize(line)\n",
    "        sent = [w for w in word_tokens if (not w.lower() in stop_words and not w.lower() in exclude_words)]\n",
    "        proc_sent.append(\" \".join(sent))\n",
    "    \n",
    "    return proc_sent\n",
    "\n",
    "news['processed_title'] = preprocess(list(news.title))"
   ]
  },
  {
   "cell_type": "code",
   "execution_count": 46,
   "id": "81f2af07-5d53-4cbc-8bf2-7b45439b9866",
   "metadata": {},
   "outputs": [
    {
     "data": {
      "text/plain": [
       "Index(['Unnamed: 0', 'Unnamed: 0.2', 'Unnamed: 0.1', 'Unnamed: 0.1.1', 'id',\n",
       "       'author', 'date', 'title', 'publication', 'trump_neg', 'trump_neu',\n",
       "       'trump_pos', 'biden_neg', 'biden_neu', 'biden_pos', 'trump_flag',\n",
       "       'biden_flag', 'vad_neg', 'vad_neu', 'vad_pos', 'vad_comp', 'text',\n",
       "       'processed_text', 'topic_ids', 'topics', 'subtopic', 'trump_pos_new',\n",
       "       'trump_neg_new', 'trump_neu_new', 'biden_pos_new', 'biden_neg_new',\n",
       "       'biden_neu_new', 'processed_title'],\n",
       "      dtype='object')"
      ]
     },
     "execution_count": 46,
     "metadata": {},
     "output_type": "execute_result"
    }
   ],
   "source": [
    "news.columns"
   ]
  },
  {
   "cell_type": "code",
   "execution_count": 24,
   "id": "df417a2b-9dfe-4916-af09-5132fcde7ec8",
   "metadata": {},
   "outputs": [
    {
     "data": {
      "text/plain": [
       "(23795, 32)"
      ]
     },
     "execution_count": 24,
     "metadata": {},
     "output_type": "execute_result"
    }
   ],
   "source": [
    "news[((news.title.str.contains('Trump')) & ~(news.title.str.contains('Biden')))].shape"
   ]
  },
  {
   "cell_type": "code",
   "execution_count": 49,
   "id": "2f98bfb3-b7a8-4b52-8947-5d53e1dc9500",
   "metadata": {},
   "outputs": [
    {
     "data": {
      "text/plain": [
       "(35886, 384)"
      ]
     },
     "execution_count": 49,
     "metadata": {},
     "output_type": "execute_result"
    }
   ],
   "source": [
    "device = torch.device('cuda') if torch.cuda.is_available() else torch.device('cpu')\n",
    "\n",
    "#Sentences we want to encode. Example:\n",
    "\n",
    "from sentence_transformers import SentenceTransformer\n",
    "model_sent = SentenceTransformer('paraphrase-MiniLM-L6-v2')\n",
    "\n",
    "model_sent.to(device)\n",
    "#Sentences are encoded by calling model.encode()\n",
    "embedding = model_sent.encode(news.processed_title)\n",
    "embedding.shape\n",
    "\n",
    "#model = DistilBertForSequenceClassification.from_pretrained('distilbert-base-uncased'"
   ]
  },
  {
   "cell_type": "code",
   "execution_count": null,
   "id": "a4f37c1d-2f1c-4332-bd10-aa08663529a4",
   "metadata": {},
   "outputs": [],
   "source": []
  },
  {
   "cell_type": "code",
   "execution_count": 1,
   "id": "d8571c05-0f1e-4b7c-bf2c-a4bd70f3b2e9",
   "metadata": {},
   "outputs": [],
   "source": [
    "# news.processed_text.iloc[0]"
   ]
  },
  {
   "cell_type": "code",
   "execution_count": null,
   "id": "1ef7acbc-6a3e-4db8-8363-4eb0f4151dee",
   "metadata": {},
   "outputs": [],
   "source": []
  },
  {
   "cell_type": "code",
   "execution_count": 76,
   "id": "3a6a8898-67d7-4995-9ce3-7d090986acb2",
   "metadata": {},
   "outputs": [],
   "source": [
    "def get_similarity(sent_emb, list1_index, list2_index):\n",
    "    \n",
    "    sim = []\n",
    "    \n",
    "    # print(list1.index)\n",
    "    # print(news.iloc[list1.index])\n",
    "    # print\n",
    "    \n",
    "    list1 = sent_emb[list1_index]\n",
    "    list2 = sent_emb[list2_index]\n",
    "    \n",
    "    # sys.exit()\n",
    "    for e1 in list1:\n",
    "        cs_e1 = []\n",
    "        for e2 in list2:\n",
    "            # print(e1)\n",
    "            # print(e2)\n",
    "            cos_sim = 1 - spatial.distance.cosine(e1, e2)\n",
    "            cs_e1.append(cos_sim)\n",
    "        sim.append(cs_e1)\n",
    "\n",
    "    return np.array(sim)"
   ]
  },
  {
   "cell_type": "code",
   "execution_count": null,
   "id": "8fc92a9c-f1bb-4912-8534-98359a2e6c1a",
   "metadata": {},
   "outputs": [],
   "source": []
  },
  {
   "cell_type": "code",
   "execution_count": 152,
   "id": "a14ab522-a7e0-42b5-afa3-2a799fe80816",
   "metadata": {
    "collapsed": true,
    "jupyter": {
     "outputs_hidden": true
    },
    "tags": []
   },
   "outputs": [
    {
     "name": "stdout",
     "output_type": "stream",
     "text": [
      "abortion (255, 33)\n",
      "(79, 31)\n",
      "(83, 11)\n",
      "capitol (1577, 33)\n",
      "(390, 293)\n",
      "(149, 96)\n",
      "climate (655, 33)\n",
      "(76, 154)\n",
      "(138, 103)\n",
      "court (1277, 33)\n",
      "(413, 358)\n",
      "(127, 34)\n",
      "covid (5265, 33)\n",
      "(1265, 1618)\n",
      "(297, 159)\n",
      "democrats (2039, 33)\n",
      "(457, 199)\n",
      "(592, 259)\n",
      "economy (1305, 33)\n",
      "(192, 272)\n",
      "(100, 71)\n",
      "election (4986, 33)\n",
      "(1090, 1222)\n",
      "(597, 285)\n",
      "first_lady (365, 33)\n",
      "(120, 89)\n",
      "(20, 15)\n",
      "floyd (1386, 33)\n",
      "(495, 269)\n",
      "(154, 35)\n",
      "healthcare (215, 33)\n",
      "(33, 67)\n",
      "(19, 9)\n",
      "hunter_biden (737, 33)\n",
      "(28, 14)\n",
      "(509, 32)\n",
      "immigration (817, 33)\n",
      "(261, 164)\n",
      "(150, 32)\n",
      "internatinal (2392, 33)\n",
      "(732, 544)\n",
      "(303, 109)\n",
      "other (7457, 33)\n",
      "(1691, 2086)\n",
      "(1093, 484)\n",
      "pres_debate (710, 33)\n",
      "(103, 98)\n",
      "(62, 21)\n",
      "proud boys (212, 33)\n",
      "(39, 69)\n",
      "(8, 1)\n",
      "republican (870, 33)\n",
      "(201, 168)\n",
      "(101, 42)\n",
      "security (909, 33)\n",
      "(249, 301)\n",
      "(47, 27)\n",
      "social_media (2457, 33)\n",
      "(1098, 306)\n",
      "(267, 45)\n"
     ]
    }
   ],
   "source": [
    "def get_L_R_news(news):\n",
    "    \n",
    "    R_news = news[((news['publication'] == 'Breitbart News') | (news['publication'] == 'Fox News'))]\n",
    "    L_news = news[((news['publication'] == 'CNN') | (news['publication'] == 'The Washington Post'))]\n",
    "    \n",
    "    return R_news, L_news\n",
    "\n",
    "threshold = 0.5\n",
    "right_news, left_news, similarity = [], [], []\n",
    "for i, grp in news.groupby('topics'):\n",
    "    \n",
    "    print(i, grp.shape)\n",
    "    \n",
    "    r_news, l_news = get_L_R_news(grp)\n",
    "    \n",
    "    T_R_news = r_news[((r_news.title.str.contains('Trump')) & ~(r_news.title.str.contains('Biden')))]\n",
    "    T_L_news = l_news[((l_news.title.str.contains('Trump')) & ~(l_news.title.str.contains('Biden')))]\n",
    "    \n",
    "    # print(T_R_news)\n",
    "    MatSim = get_similarity(embedding, T_R_news.index, T_L_news.index)\n",
    "    fil_index = np.transpose((MatSim > threshold).nonzero())\n",
    "    for f in fil_index:\n",
    "        \n",
    "        rn = T_R_news.iloc[f[0]].title\n",
    "        ln = T_L_news.iloc[f[1]].title\n",
    "        sim = MatSim[f[0], f[1]]\n",
    "        right_news.append(rn)\n",
    "        left_news.append(ln)\n",
    "        similarity.append(sim)\n",
    "        \n",
    "    print(MatSim.shape)\n",
    "    \n",
    "    # print(len(right_news), len(left_news))\n",
    "    # sys.exit()\n",
    "    \n",
    "    B_L_news = l_news[((l_news.title.str.contains('Biden')) & ~(l_news.title.str.contains('Trump')))]\n",
    "    B_R_news = r_news[((r_news.title.str.contains('Biden')) & ~(r_news.title.str.contains('Trump')))]\n",
    "    \n",
    "    MatSim = get_similarity(embedding, B_R_news.index, B_L_news.index)\n",
    "    fil_index = np.transpose((MatSim > threshold).nonzero())\n",
    "    for f in fil_index:\n",
    "        \n",
    "        rn = B_R_news.iloc[f[0]].title\n",
    "        ln = B_L_news.iloc[f[1]].title\n",
    "        sim = MatSim[f[0], f[1]]\n",
    "        right_news.append(rn)\n",
    "        left_news.append(ln)\n",
    "        similarity.append(sim)\n",
    "        \n",
    "    print(MatSim.shape)"
   ]
  },
  {
   "cell_type": "code",
   "execution_count": 154,
   "id": "0804c95f-52c1-4532-8e74-2ea455e1870e",
   "metadata": {},
   "outputs": [],
   "source": [
    "d = pd.DataFrame()\n",
    "d['right'] = right_news\n",
    "d['left'] = left_news\n",
    "d['sim'] = similarity"
   ]
  },
  {
   "cell_type": "code",
   "execution_count": 175,
   "id": "bd4e3dfb-7c3d-4035-8052-c1332ba4dee2",
   "metadata": {},
   "outputs": [],
   "source": [
    "d.sort_values(by=['sim'], ascending=False).to_csv('datasets/L-vs-R_news.csv')"
   ]
  },
  {
   "cell_type": "code",
   "execution_count": 174,
   "id": "7ce86f00-6534-45e8-a451-186bdc9a9f8f",
   "metadata": {},
   "outputs": [
    {
     "data": {
      "text/html": [
       "<div>\n",
       "<style scoped>\n",
       "    .dataframe tbody tr th:only-of-type {\n",
       "        vertical-align: middle;\n",
       "    }\n",
       "\n",
       "    .dataframe tbody tr th {\n",
       "        vertical-align: top;\n",
       "    }\n",
       "\n",
       "    .dataframe thead th {\n",
       "        text-align: right;\n",
       "    }\n",
       "</style>\n",
       "<table border=\"1\" class=\"dataframe\">\n",
       "  <thead>\n",
       "    <tr style=\"text-align: right;\">\n",
       "      <th></th>\n",
       "      <th>right</th>\n",
       "      <th>left</th>\n",
       "      <th>sim</th>\n",
       "    </tr>\n",
       "  </thead>\n",
       "  <tbody>\n",
       "    <tr>\n",
       "      <th>6789</th>\n",
       "      <td>Trump Administration Asks Supreme Court to Inv...</td>\n",
       "      <td>Trump administration asks Supreme Court to inv...</td>\n",
       "      <td>1.000000</td>\n",
       "    </tr>\n",
       "    <tr>\n",
       "      <th>104677</th>\n",
       "      <td>Snapchat Permanently Bans President Donald Trump</td>\n",
       "      <td>Snapchat permanently bans President Trump</td>\n",
       "      <td>1.000000</td>\n",
       "    </tr>\n",
       "    <tr>\n",
       "      <th>64691</th>\n",
       "      <td>Bernie Sanders Endorses Joe Biden for President</td>\n",
       "      <td>Bernie Sanders endorses Joe Biden for president</td>\n",
       "      <td>1.000000</td>\n",
       "    </tr>\n",
       "    <tr>\n",
       "      <th>64655</th>\n",
       "      <td>Bernie Sanders Endorses Joe Biden for President</td>\n",
       "      <td>Bernie Sanders endorses Joe Biden for president</td>\n",
       "      <td>1.000000</td>\n",
       "    </tr>\n",
       "    <tr>\n",
       "      <th>64657</th>\n",
       "      <td>Bernie Sanders Endorses Joe Biden for President</td>\n",
       "      <td>Bernie Sanders endorses Joe Biden for president</td>\n",
       "      <td>1.000000</td>\n",
       "    </tr>\n",
       "    <tr>\n",
       "      <th>...</th>\n",
       "      <td>...</td>\n",
       "      <td>...</td>\n",
       "      <td>...</td>\n",
       "    </tr>\n",
       "    <tr>\n",
       "      <th>60879</th>\n",
       "      <td>Donald Trump: Rudy Giuliani Tested Positive fo...</td>\n",
       "      <td>Donald Trump Jr. tests positive for coronavirus</td>\n",
       "      <td>0.700136</td>\n",
       "    </tr>\n",
       "    <tr>\n",
       "      <th>91663</th>\n",
       "      <td>Trump commutes Roger Stone's sentence, days be...</td>\n",
       "      <td>How Trump made the decision to commute Stone's...</td>\n",
       "      <td>0.700121</td>\n",
       "    </tr>\n",
       "    <tr>\n",
       "      <th>55438</th>\n",
       "      <td>Live updates: 2020 Election: Trump plans retur...</td>\n",
       "      <td>Trump's devious -- and brilliant -- coronaviru...</td>\n",
       "      <td>0.700087</td>\n",
       "    </tr>\n",
       "    <tr>\n",
       "      <th>33379</th>\n",
       "      <td>Pelosi dubs Trump 'Mr. Make Matters Worse' ove...</td>\n",
       "      <td>Trump says the coronavirus pandemic in the U.S...</td>\n",
       "      <td>0.700080</td>\n",
       "    </tr>\n",
       "    <tr>\n",
       "      <th>94775</th>\n",
       "      <td>Joel Pollak: Unlike Democrats, Trump Preserved...</td>\n",
       "      <td>US voters discuss Trump's response to coronavi...</td>\n",
       "      <td>0.700043</td>\n",
       "    </tr>\n",
       "  </tbody>\n",
       "</table>\n",
       "<p>3811 rows × 3 columns</p>\n",
       "</div>"
      ],
      "text/plain": [
       "                                                    right                                               left       sim\n",
       "6789    Trump Administration Asks Supreme Court to Inv...  Trump administration asks Supreme Court to inv...  1.000000\n",
       "104677   Snapchat Permanently Bans President Donald Trump          Snapchat permanently bans President Trump  1.000000\n",
       "64691     Bernie Sanders Endorses Joe Biden for President    Bernie Sanders endorses Joe Biden for president  1.000000\n",
       "64655     Bernie Sanders Endorses Joe Biden for President    Bernie Sanders endorses Joe Biden for president  1.000000\n",
       "64657     Bernie Sanders Endorses Joe Biden for President    Bernie Sanders endorses Joe Biden for president  1.000000\n",
       "...                                                   ...                                                ...       ...\n",
       "60879   Donald Trump: Rudy Giuliani Tested Positive fo...    Donald Trump Jr. tests positive for coronavirus  0.700136\n",
       "91663   Trump commutes Roger Stone's sentence, days be...  How Trump made the decision to commute Stone's...  0.700121\n",
       "55438   Live updates: 2020 Election: Trump plans retur...  Trump's devious -- and brilliant -- coronaviru...  0.700087\n",
       "33379   Pelosi dubs Trump 'Mr. Make Matters Worse' ove...  Trump says the coronavirus pandemic in the U.S...  0.700080\n",
       "94775   Joel Pollak: Unlike Democrats, Trump Preserved...  US voters discuss Trump's response to coronavi...  0.700043\n",
       "\n",
       "[3811 rows x 3 columns]"
      ]
     },
     "execution_count": 174,
     "metadata": {},
     "output_type": "execute_result"
    }
   ],
   "source": [
    "pd.set_option('display.max_columns', None)\n",
    "d[d.sim > 0.7].sort_values(by=['sim'], ascending=False)"
   ]
  },
  {
   "cell_type": "code",
   "execution_count": 176,
   "id": "37e9a191-0f39-4ffe-ada1-df3a66484650",
   "metadata": {},
   "outputs": [],
   "source": [
    "# np.transpose((MatSim>0.3).nonzero())"
   ]
  },
  {
   "cell_type": "code",
   "execution_count": 198,
   "id": "2d858b5a-a878-4d1c-945a-020b560ee1f7",
   "metadata": {},
   "outputs": [],
   "source": [
    "def get_dataset_with_labels(df, threshold):\n",
    "    \n",
    "    df = df[df.sim > threshold]\n",
    "    \n",
    "    df1 = df.sample(frac = 0.5)\n",
    "    df2 = df.drop(df1.index)\n",
    "    \n",
    "    df1['label'] = 0\n",
    "    df2 = df2.rename(columns = {'right': 'right_o', 'left': 'left_o'}).rename(columns = {'right_o': 'left', 'left_o': 'right'})\n",
    "    df2['label'] = 1\n",
    "    \n",
    "    df_ = pd.concat((df1, df2), axis = 0)\n",
    "    \n",
    "    return df1, df2, df_"
   ]
  },
  {
   "cell_type": "code",
   "execution_count": 203,
   "id": "b093693a-26cd-40be-9c62-952dfa3ddb1e",
   "metadata": {},
   "outputs": [],
   "source": [
    "df1, df2, df_ = get_dataset_with_labels(d, 0.70)"
   ]
  },
  {
   "cell_type": "code",
   "execution_count": null,
   "id": "f23412c4-2c25-4367-a61b-7c674a5e372f",
   "metadata": {},
   "outputs": [],
   "source": []
  },
  {
   "cell_type": "code",
   "execution_count": 209,
   "id": "797dc32a-ff2e-4d03-854c-c04c4ed3a8c6",
   "metadata": {},
   "outputs": [],
   "source": [
    "df_.sample(frac = 1).to_csv('datasets/L-vs-R-news_labeled.csv')"
   ]
  },
  {
   "cell_type": "code",
   "execution_count": null,
   "id": "dd868c4b-9309-463c-91d0-3ca619f7ae0d",
   "metadata": {},
   "outputs": [],
   "source": []
  },
  {
   "cell_type": "code",
   "execution_count": null,
   "id": "90b7ef66-a1d3-4cd4-a376-31132466f53c",
   "metadata": {},
   "outputs": [],
   "source": []
  }
 ],
 "metadata": {
  "kernelspec": {
   "display_name": "py3_7",
   "language": "python",
   "name": "py3_7"
  },
  "language_info": {
   "codemirror_mode": {
    "name": "ipython",
    "version": 3
   },
   "file_extension": ".py",
   "mimetype": "text/x-python",
   "name": "python",
   "nbconvert_exporter": "python",
   "pygments_lexer": "ipython3",
   "version": "3.7.17"
  }
 },
 "nbformat": 4,
 "nbformat_minor": 5
}
