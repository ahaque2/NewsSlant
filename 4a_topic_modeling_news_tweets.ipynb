{
 "cells": [
  {
   "cell_type": "code",
   "execution_count": 30,
   "id": "c911a1bf-f131-491f-8878-28ac76329728",
   "metadata": {},
   "outputs": [
    {
     "name": "stderr",
     "output_type": "stream",
     "text": [
      "[nltk_data] Downloading package wordnet to /home/ahaque2/nltk_data...\n",
      "[nltk_data]   Package wordnet is already up-to-date!\n",
      "[nltk_data] Downloading package stopwords to\n",
      "[nltk_data]     /home/ahaque2/nltk_data...\n",
      "[nltk_data]   Package stopwords is already up-to-date!\n"
     ]
    }
   ],
   "source": [
    "import pandas as pd\n",
    "from nltk.tokenize import word_tokenize, sent_tokenize\n",
    "\n",
    "import nltk\n",
    "from nltk import word_tokenize, FreqDist\n",
    "from nltk.corpus import stopwords\n",
    "from nltk.stem import WordNetLemmatizer\n",
    "nltk.download\n",
    "nltk.download('wordnet')\n",
    "nltk.download('stopwords')\n",
    "from nltk.tokenize import TweetTokenizer\n",
    "from nltk.corpus import stopwords"
   ]
  },
  {
   "cell_type": "code",
   "execution_count": 4,
   "id": "d6169b3b-6305-4d18-8a21-5428dae43f70",
   "metadata": {},
   "outputs": [],
   "source": [
    "# news = pd.read_csv('final_dataset/news_text_with_senti_scores.csv')\n",
    "\n",
    "# Download and place dataset in the dataset/ folder\n",
    "news_tweets = pd.read_csv('results/news_tweets.csv')\n",
    "user_resp = pd.read_csv('results/user_response.csv')"
   ]
  },
  {
   "cell_type": "code",
   "execution_count": 5,
   "id": "09ee7601-91bf-4f4f-aa4f-26dfd9df057a",
   "metadata": {},
   "outputs": [
    {
     "data": {
      "text/plain": [
       "(Index(['Unnamed: 0.6', 'Unnamed: 0.5', 'Unnamed: 0.4', 'Unnamed: 0',\n",
       "        'Unnamed: 0.3', 'Unnamed: 0.2', 'Unnamed: 0.1', 'Unnamed: 0.1.1',\n",
       "        'Unnamed: 0.1.1.1', 'tweet_id', 'conversation_id', 'author_id',\n",
       "        'created_at', 'geo', 'lang', 'like_count', 'quote_count', 'reply_count',\n",
       "        'retweet_count', 'source', 'text', 'display_name', 'topics',\n",
       "        'topic_labels', 'theme', 'pos_senti', 'neu_senti', 'neg_senti',\n",
       "        'publication', 'date', 'week', 'polIncl', 'hashtag', 'clean_text',\n",
       "        'proc_text', 'Segmented#', 'processed_text', 'topic_ids', 'subtopic',\n",
       "        'trump_pos_new', 'trump_neg_new', 'trump_neu_new', 'biden_pos_new',\n",
       "        'biden_neg_new', 'biden_neu_new', 'Trump_flag', 'Biden_flag',\n",
       "        'Trump_Biden_flag', 'topic_id'],\n",
       "       dtype='object'),\n",
       " (24584, 49))"
      ]
     },
     "execution_count": 5,
     "metadata": {},
     "output_type": "execute_result"
    }
   ],
   "source": [
    "news_tweets.columns, news_tweets.shape"
   ]
  },
  {
   "cell_type": "code",
   "execution_count": 728,
   "id": "c7d97a3a-75a1-4cfd-b529-350001da83fa",
   "metadata": {},
   "outputs": [],
   "source": [
    "news_tweets = news_tweets.drop_duplicates(subset = ['text'])"
   ]
  },
  {
   "cell_type": "code",
   "execution_count": 730,
   "id": "d38df63f-002f-4dfd-b3df-3f96163fc739",
   "metadata": {},
   "outputs": [],
   "source": [
    "import re\n",
    "news_tweets['hashtag'] = news_tweets.text.apply(lambda x: re.findall(r'#(\\w+)', x))"
   ]
  },
  {
   "cell_type": "code",
   "execution_count": 731,
   "id": "266d0b04-077d-43e3-a9fa-8efe13edbb06",
   "metadata": {
    "tags": []
   },
   "outputs": [],
   "source": [
    "import preprocessor as p\n",
    "#forming a separate feature for cleaned tweets\n",
    "clean_tweet = []\n",
    "for i, v in enumerate(news_tweets['text']):\n",
    "    # print(v)\n",
    "    clean_tweet.append(p.clean(v))\n",
    "    \n",
    "news_tweets['clean_text'] = clean_tweet"
   ]
  },
  {
   "cell_type": "code",
   "execution_count": 732,
   "id": "aca51e54-ee3b-4565-a16c-01e3c20322d4",
   "metadata": {},
   "outputs": [],
   "source": [
    "def preprocess_data(data):\n",
    "    \n",
    "    #Removes Numbers\n",
    "    data = data.astype(str).str.replace('\\d+', '')\n",
    "    lower_text = data.str.lower()\n",
    "    lemmatizer = nltk.stem.WordNetLemmatizer()\n",
    "    w_tokenizer =  TweetTokenizer()\n",
    "\n",
    "    def lemmatize_text(text):\n",
    "        return [(lemmatizer.lemmatize(w)) for w \\\n",
    "                       in w_tokenizer.tokenize((text))]\n",
    "    \n",
    "    def preprocess(txt):\n",
    "\n",
    "        stop_words = set(stopwords.words('english'))\n",
    "        exclude_words = ['donald', 'trump', 'joe', 'biden', 'president']\n",
    "        return [w for w in txt if (not w.lower() in stop_words and not w.lower() in exclude_words)]\n",
    "    \n",
    "    def remove_punctuation(words):\n",
    "        new_words = []\n",
    "        # print(words)\n",
    "        # sys.exit()\n",
    "        for word in words:\n",
    "          new_word = re.sub(r'[^\\w\\s]', '', (word))\n",
    "          if new_word != '':\n",
    "             new_words.append(new_word)\n",
    "        # print(new_words)\n",
    "        # sys.exit()\n",
    "        \n",
    "        return new_words\n",
    "    \n",
    "    words = lower_text.apply(lemmatize_text)\n",
    "    words = words.apply(remove_punctuation)\n",
    "    words = words.apply(preprocess)\n",
    "    \n",
    "    # print(words)\n",
    "    # sys.exit()\n",
    "    \n",
    "    return pd.DataFrame(words)"
   ]
  },
  {
   "cell_type": "code",
   "execution_count": 733,
   "id": "ad8d9ab5-de66-4d72-aa6f-c1f0fa417e53",
   "metadata": {},
   "outputs": [],
   "source": [
    "proc_text = preprocess_data(news_tweets['clean_text'])\n",
    "# proc_text = preprocess(proc_text.clean_text.to_list())"
   ]
  },
  {
   "cell_type": "code",
   "execution_count": 734,
   "id": "a7c9a92e-f66e-4b63-b62f-237b8213b0bd",
   "metadata": {},
   "outputs": [
    {
     "data": {
      "text/plain": [
       "26388"
      ]
     },
     "execution_count": 734,
     "metadata": {},
     "output_type": "execute_result"
    }
   ],
   "source": [
    "len(proc_text)"
   ]
  },
  {
   "cell_type": "code",
   "execution_count": null,
   "id": "1861957c-da96-463f-8f6c-7a4d3363a41c",
   "metadata": {},
   "outputs": [],
   "source": []
  },
  {
   "cell_type": "code",
   "execution_count": 735,
   "id": "7870ff09-6937-4753-9234-c4c28c13e29b",
   "metadata": {},
   "outputs": [],
   "source": [
    "news_tweets['proc_text'] = proc_text"
   ]
  },
  {
   "cell_type": "code",
   "execution_count": 736,
   "id": "fb60d083-0ce6-48a1-9324-8c061fef1452",
   "metadata": {},
   "outputs": [],
   "source": [
    "news_tweets = news_tweets.drop_duplicates(subset = ['proc_text'])"
   ]
  },
  {
   "cell_type": "code",
   "execution_count": 739,
   "id": "57258fb2-9494-4b91-bf9f-10598ce86c2a",
   "metadata": {},
   "outputs": [
    {
     "data": {
      "text/plain": [
       "(26388, (24584, 47))"
      ]
     },
     "execution_count": 739,
     "metadata": {},
     "output_type": "execute_result"
    }
   ],
   "source": [
    "len(proc_tweets), news_tweets.shape"
   ]
  },
  {
   "cell_type": "code",
   "execution_count": 740,
   "id": "015728d0-e8de-4db8-be47-f8eaf95d7a41",
   "metadata": {},
   "outputs": [],
   "source": [
    "proc_tweets = [' '.join(map(str, l)) for l in news_tweets['proc_text']]\n",
    "news_tweets['processed_text'] = proc_tweets"
   ]
  },
  {
   "cell_type": "code",
   "execution_count": 742,
   "id": "1a671fde-c7d9-4358-a711-60b45bcae541",
   "metadata": {},
   "outputs": [],
   "source": [
    "from bertopic import BERTopic\n",
    "from umap import UMAP\n",
    "from hdbscan import HDBSCAN\n",
    "from sklearn.feature_extraction.text import CountVectorizer"
   ]
  },
  {
   "cell_type": "code",
   "execution_count": 743,
   "id": "423d4d66-007a-4957-814d-de77bf1e7706",
   "metadata": {},
   "outputs": [],
   "source": [
    "seed_topic_list = [['drug', 'outbreak', 'flu', 'infection', 'contagious', 'treatment', 'prescription', 'covid', 'test', 'virus', 'ventilator', 'deaths', 'cases', 'pandemic', \n",
    "                    'epidemic', 'corona', 'coronavirus', 'covid19', 'patients', 'symptom'],\n",
    "                   ['lockdown', 'shutdown', 'mask', 'distancing', 'masks'],\n",
    "                   ['vaccine', 'vaccination', 'cure', 'moderna', 'pfizer', 'astrazeneca', 'j&j', 'dose'],\n",
    "                   ['education', 'school', 'student', 'teacher', 'children', 'homeschool', 'schools', 'students', 'teachers'],\n",
    "                   ['economy', 'industry', 'business', 'financial', 'finance', 'fiscal', 'economic', 'job', 'jobless', 'investing', 'investor', 'billion', 'gdp', 'debt', \n",
    "                    'liquidity', 'inflation', 'stimulus', 'bill', 'stocks', 'market', 'employment', 'unemployment', 'checks', 'cheques', 'recession', 'bull', 'bullish', 'bear',\n",
    "                    'bearish', 'dow', 's&p', 'nasdaq', 'trade', 'trading', 'tax', 'loan', 'labor', 'buyback', 'selloff', 'wealth', 'wealthy', 'billionare', 'millionare'],\n",
    "                   ['earth', 'green', 'pollution', 'ozone', 'deforestation', 'greenhouse', 'wildfire', 'climate', 'warming', 'temperature', 'flood', 'drought', 'glacier', 'environment', 'environmental', 'carbon', 'emission', 'gas', 'fracking'],\n",
    "                   ['capitol', 'riot', 'siege', 'rioter', 'mob'],\n",
    "                   ['voter', 'absentee', 'ballot', 'fraud', 'mailin', 'stolen', 'voting', 'election', 'black voters'],\n",
    "                   ['immigration', 'immigrant', 'refugee', 'border', 'wall', 'migration', 'h1b', 'visa'],\n",
    "                   ['blm', 'floyd', 'police', 'brutality', 'defund', 'protest', 'protesters', 'officer', 'black lives matter', 'injustice', 'racism', 'racial', 'supremacist'],\n",
    "                   ['abortion', 'wade', 'roe'],\n",
    "                   ['supreme', 'court', 'coney', 'barret', 'packing', 'justice', 'judge'],\n",
    "                   ['security', 'military', 'weapons', 'attack', 'defense', 'gun', 'shooting', 'pentagon'],\n",
    "                   ['international', 'country', 'global', 'china', 'chinese', 'beijing', 'shanghai', 'iran', 'irani', 'iranian', 'tehran', 'afghanistan', 'afghan', 'afghani', 'afghanistani', \n",
    "                    'kabul', 'russia', 'russian', 'moscow', 'britain', 'british', 'brit', 'brexit', 'london', 'Korea', 'Korean', 'kim', 'venezuelan', 'venezuela', 'syrian', 'syria'\n",
    "                    'world', 'worldwide']]"
   ]
  },
  {
   "cell_type": "code",
   "execution_count": 770,
   "id": "c077d580-dc5d-4425-aa68-0ef96c461556",
   "metadata": {},
   "outputs": [],
   "source": [
    "my_stopwords = frozenset(list([\"rt\",\"RT\", \"&\", \"amp\", \"&amp\", \"http\",\"https\", \"http://\", \"https://\", \"fav\", \"FAV\"]))\n",
    "vectorizer_model = CountVectorizer(ngram_range=(1, 2), stop_words = my_stopwords, min_df=5)\n",
    "\n",
    "# do the BERT topic modelling\n",
    "umap_model = UMAP(n_neighbors=10, n_components=5, min_dist=0.0, metric='cosine', random_state=42)\n",
    "\n",
    "min_clusters = round(len(proc_tweets) * 0.0017)\n",
    "hdbscan_model = HDBSCAN(min_cluster_size= min_clusters, metric='euclidean', cluster_selection_method='eom', prediction_data=True, min_samples=5)\n",
    "\n",
    "# sentence_model = SentenceTransformer(\"all-mpnet-base-v2\")\n",
    "# embeddings = sentence_model.encode(news_list)\n",
    "\n",
    "#run the model\n",
    "topic_model = BERTopic(seed_topic_list = seed_topic_list, nr_topics = 'auto', umap_model=umap_model, hdbscan_model=hdbscan_model, vectorizer_model=vectorizer_model, low_memory=True, calculate_probabilities=True)\n",
    "\n",
    "topics, probs = topic_model.fit_transform(proc_tweets)"
   ]
  },
  {
   "cell_type": "code",
   "execution_count": 772,
   "id": "e31f2134-d2d3-43fd-b499-2ddb3d85d5c2",
   "metadata": {},
   "outputs": [],
   "source": [
    "news_tweets['topic_id'] = topics"
   ]
  },
  {
   "cell_type": "code",
   "execution_count": 773,
   "id": "5f0bd91b-b057-4224-aa70-98efe2fd87a3",
   "metadata": {},
   "outputs": [
    {
     "data": {
      "text/html": [
       "<div>\n",
       "<style scoped>\n",
       "    .dataframe tbody tr th:only-of-type {\n",
       "        vertical-align: middle;\n",
       "    }\n",
       "\n",
       "    .dataframe tbody tr th {\n",
       "        vertical-align: top;\n",
       "    }\n",
       "\n",
       "    .dataframe thead th {\n",
       "        text-align: right;\n",
       "    }\n",
       "</style>\n",
       "<table border=\"1\" class=\"dataframe\">\n",
       "  <thead>\n",
       "    <tr style=\"text-align: right;\">\n",
       "      <th></th>\n",
       "      <th>Topic</th>\n",
       "      <th>Count</th>\n",
       "      <th>Name</th>\n",
       "    </tr>\n",
       "  </thead>\n",
       "  <tbody>\n",
       "    <tr>\n",
       "      <th>0</th>\n",
       "      <td>-1</td>\n",
       "      <td>2901</td>\n",
       "      <td>-1_white house_white_house_capitol</td>\n",
       "    </tr>\n",
       "    <tr>\n",
       "      <th>1</th>\n",
       "      <td>0</td>\n",
       "      <td>1086</td>\n",
       "      <td>0_voter_voting_fraud_election</td>\n",
       "    </tr>\n",
       "    <tr>\n",
       "      <th>2</th>\n",
       "      <td>1</td>\n",
       "      <td>1074</td>\n",
       "      <td>1_opinion_bidens_inauguration_bidens inauguration</td>\n",
       "    </tr>\n",
       "    <tr>\n",
       "      <th>3</th>\n",
       "      <td>2</td>\n",
       "      <td>835</td>\n",
       "      <td>2_analysis_coronavirus_response_death</td>\n",
       "    </tr>\n",
       "    <tr>\n",
       "      <th>4</th>\n",
       "      <td>3</td>\n",
       "      <td>769</td>\n",
       "      <td>3_black_protest_life_police</td>\n",
       "    </tr>\n",
       "    <tr>\n",
       "      <th>...</th>\n",
       "      <td>...</td>\n",
       "      <td>...</td>\n",
       "      <td>...</td>\n",
       "    </tr>\n",
       "    <tr>\n",
       "      <th>85</th>\n",
       "      <td>84</td>\n",
       "      <td>51</td>\n",
       "      <td>84_going_im_im going_shut</td>\n",
       "    </tr>\n",
       "    <tr>\n",
       "      <th>86</th>\n",
       "      <td>85</td>\n",
       "      <td>49</td>\n",
       "      <td>85_federal_federal judge_administration_judge</td>\n",
       "    </tr>\n",
       "    <tr>\n",
       "      <th>87</th>\n",
       "      <td>86</td>\n",
       "      <td>48</td>\n",
       "      <td>86_school_reopen_reopen school_reopening</td>\n",
       "    </tr>\n",
       "    <tr>\n",
       "      <th>88</th>\n",
       "      <td>87</td>\n",
       "      <td>48</td>\n",
       "      <td>87_border_wall_border wall_wall street</td>\n",
       "    </tr>\n",
       "    <tr>\n",
       "      <th>89</th>\n",
       "      <td>88</td>\n",
       "      <td>43</td>\n",
       "      <td>88_american_ha_chinese_administration</td>\n",
       "    </tr>\n",
       "  </tbody>\n",
       "</table>\n",
       "<p>90 rows × 3 columns</p>\n",
       "</div>"
      ],
      "text/plain": [
       "    Topic  Count                                               Name\n",
       "0      -1   2901                 -1_white house_white_house_capitol\n",
       "1       0   1086                      0_voter_voting_fraud_election\n",
       "2       1   1074  1_opinion_bidens_inauguration_bidens inauguration\n",
       "3       2    835              2_analysis_coronavirus_response_death\n",
       "4       3    769                        3_black_protest_life_police\n",
       "..    ...    ...                                                ...\n",
       "85     84     51                          84_going_im_im going_shut\n",
       "86     85     49      85_federal_federal judge_administration_judge\n",
       "87     86     48           86_school_reopen_reopen school_reopening\n",
       "88     87     48             87_border_wall_border wall_wall street\n",
       "89     88     43              88_american_ha_chinese_administration\n",
       "\n",
       "[90 rows x 3 columns]"
      ]
     },
     "execution_count": 773,
     "metadata": {},
     "output_type": "execute_result"
    }
   ],
   "source": [
    "topic_model.get_topic_info()"
   ]
  },
  {
   "cell_type": "code",
   "execution_count": 899,
   "id": "7b786a02-8bf0-4fbc-b443-6e2c8cdbd270",
   "metadata": {},
   "outputs": [],
   "source": [
    "# news_tweets[news_tweets.topic_id == 26][['text', 'conversation_id']].iloc[0:50]"
   ]
  },
  {
   "cell_type": "code",
   "execution_count": 900,
   "id": "bb9d38d7-96b3-484a-afda-3ef625269b4b",
   "metadata": {},
   "outputs": [
    {
     "data": {
      "text/plain": [
       "[('democratic', 0.09892212918155356),\n",
       " ('democratic presidential', 0.08531983082595261),\n",
       " ('nominee', 0.07389369425294269),\n",
       " ('presidential nominee', 0.07142068448347932),\n",
       " ('presidential', 0.05050432466091089),\n",
       " ('presumptive democratic', 0.039622404729708495),\n",
       " ('presumptive', 0.039158129915054095),\n",
       " ('democratic nominee', 0.033198618601624014),\n",
       " ('democratic party', 0.025838794167238353),\n",
       " ('party', 0.020754158017640245)]"
      ]
     },
     "execution_count": 900,
     "metadata": {},
     "output_type": "execute_result"
    }
   ],
   "source": [
    "topic_model.get_topic(46)"
   ]
  },
  {
   "cell_type": "markdown",
   "id": "ebc07b89-69bc-4f53-9f7b-58585fa39e33",
   "metadata": {},
   "source": [
    "#### Merging similar subtopics and grouping based on similarity after manual inspection"
   ]
  },
  {
   "cell_type": "code",
   "execution_count": 910,
   "id": "18119ce3-39fb-4215-86df-c1cfb2ccc8aa",
   "metadata": {},
   "outputs": [],
   "source": [
    "topic_list = {'election': {'fraud': [0, 71], 'electoral': [15], 'pres_deb': [18], 'opinion': [19, 30, 33], 'biden_transition': [1], 'rally': [6], 'general': [45, 52]},\n",
    "              'covid': {'general': [2], 'mask': [8], 'response': [2, 9], 'vaccine': [14], 'school-reopen': [49, 86], 'treatment': [11], 'positive': [29], 'advisory': [43]},\n",
    "              'republican': {'general': [5], 'gop': [63], 'william_barr': [35], 'pence': [55]},\n",
    "              'white_house': {'general': [12], 'staff': [78, 83], 'first_lady': [58]},\n",
    "              'democrats': {'harris': [13, 76], 'obama': [20], 'general': [37, 46], 'sander': [31], 'palosi': [62]},\n",
    "              'national': {'security': [23], 'state': [34], 'executive_order': [25], 'admininstration': [32, 64], 'federal': [65, 85]},\n",
    "              'blm': {'protest': [3]},\n",
    "              'capitol': {'riot': [17]},\n",
    "              'supreme_court': {'general': [4, 79]},\n",
    "              'economy': {'stimulus': [7, 28], 'tax': [36]},\n",
    "              'international': {'china': [16]},\n",
    "              'impeachment': {'general': [27]},\n",
    "              'media':{'twitter': [21], 'live': [24], 'fox': [41], 'usa_today': [77], 'news':[81]},\n",
    "              'newyork': {'general': [10]},\n",
    "              'american': {'people': [38, 73, 88], 'america_first': [42]},\n",
    "              'healthcare': {'general': [51]},\n",
    "              'conspiracy_theory': {'general':[44],'fact-check':[72, 75], 'perspective': [26]},\n",
    "              'other': {'general': [22, 39, 40, 47, 48, 50, 53, 54, 56, 57, 59, 60, 61, 66, 67, 68, 69, 70, 74, 80, 84]},\n",
    "              'immigration': {'general': [82, 87]}\n",
    "             }"
   ]
  },
  {
   "cell_type": "code",
   "execution_count": 22,
   "id": "e36960a8-c356-4a4f-9b75-0a4dc0fde9e7",
   "metadata": {},
   "outputs": [],
   "source": [
    "R_news_tweets = news_tweets[((news_tweets['publication'] == 'Breitbart News') | (news_tweets['publication'] == 'Fox News'))]\n",
    "L_news_tweets = news_tweets[((news_tweets['publication'] == 'CNN') | (news_tweets['publication'] == 'The Washington Post'))]\n",
    "C_news_tweets = news_tweets[((news_tweets['publication'] == 'Business Insider') | (news_tweets['publication'] ==  'USA Today'))]"
   ]
  },
  {
   "cell_type": "code",
   "execution_count": 29,
   "id": "668d9b58-9df7-46b3-8f44-dee30665063b",
   "metadata": {},
   "outputs": [],
   "source": [
    "# for top in set(news_tweets.topics):\n",
    "    \n",
    "#     print(\"- \" * 50)\n",
    "#     print(top)\n",
    "#     print(R_news_tweets[R_news_tweets.topics == top][['like_count', 'quote_count', 'reply_count', 'retweet_count']].mean())\n",
    "#     print(L_news_tweets[L_news_tweets.topics == top][['like_count', 'quote_count', 'reply_count', 'retweet_count']].mean())\n",
    "#     print(\"- \" * 50)\n",
    "    "
   ]
  },
  {
   "cell_type": "code",
   "execution_count": 24,
   "id": "15fa27d8-600f-4c15-b56a-267f7d42ac45",
   "metadata": {},
   "outputs": [
    {
     "name": "stderr",
     "output_type": "stream",
     "text": [
      "/tmp/ipykernel_2552712/1728425267.py:1: UserWarning: Boolean Series key will be reindexed to match DataFrame index.\n",
      "  L_news_tweets[news_tweets.topics == 'conspiracy_theory'][['like_count', 'quote_count', 'reply_count', 'retweet_count']].mean()\n"
     ]
    },
    {
     "data": {
      "text/plain": [
       "like_count       875.033195\n",
       "quote_count       54.056017\n",
       "reply_count      225.809129\n",
       "retweet_count    293.280083\n",
       "dtype: float64"
      ]
     },
     "execution_count": 24,
     "metadata": {},
     "output_type": "execute_result"
    }
   ],
   "source": [
    "L_news_tweets[news_tweets.topics == 'conspiracy_theory'][['like_count', 'quote_count', 'reply_count', 'retweet_count']].mean()"
   ]
  },
  {
   "cell_type": "code",
   "execution_count": 18,
   "id": "6f041c8c-cc7b-4bf1-aa8c-32a20f0934d8",
   "metadata": {},
   "outputs": [
    {
     "data": {
      "text/html": [
       "<div>\n",
       "<style scoped>\n",
       "    .dataframe tbody tr th:only-of-type {\n",
       "        vertical-align: middle;\n",
       "    }\n",
       "\n",
       "    .dataframe tbody tr th {\n",
       "        vertical-align: top;\n",
       "    }\n",
       "\n",
       "    .dataframe thead th {\n",
       "        text-align: right;\n",
       "    }\n",
       "</style>\n",
       "<table border=\"1\" class=\"dataframe\">\n",
       "  <thead>\n",
       "    <tr style=\"text-align: right;\">\n",
       "      <th></th>\n",
       "      <th>subtopic</th>\n",
       "      <th>text</th>\n",
       "    </tr>\n",
       "  </thead>\n",
       "  <tbody>\n",
       "    <tr>\n",
       "      <th>194</th>\n",
       "      <td>conspiracy_theory-general</td>\n",
       "      <td>Donald Trump's future on Facebook and Instagram is now up in the air https://t.co/gmKtlWuGcX</td>\n",
       "    </tr>\n",
       "    <tr>\n",
       "      <th>220</th>\n",
       "      <td>conspiracy_theory-fact-check</td>\n",
       "      <td>Former President Trump made false claims from the first hours of his term to the last.\\n\\nHe repeated some of his favorite falsehoods in both his farewell video address and in his final speech at Joint Base Andrews. Here's a fact check. https://t.co/USyI0FJy0q</td>\n",
       "    </tr>\n",
       "    <tr>\n",
       "      <th>418</th>\n",
       "      <td>conspiracy_theory-fact-check</td>\n",
       "      <td>During the debate on the impeachment resolution, some of President Trump's allies were still using many of the same arguments they did a year ago to criticize Democrats and defend Trump's actions.\\n\\nHere's a fact check of the false and misleading claims. https://t.co/sgmjolSxSK</td>\n",
       "    </tr>\n",
       "    <tr>\n",
       "      <th>818</th>\n",
       "      <td>conspiracy_theory-general</td>\n",
       "      <td>Analysis: Joe Biden will be president in a month. Until then, the question is how much damage can be done by a vengeful, delusional soon-to-be ex-President swilling conspiracy theories, writes @stcollinson https://t.co/GRWRbqNIbv</td>\n",
       "    </tr>\n",
       "    <tr>\n",
       "      <th>830</th>\n",
       "      <td>conspiracy_theory-perspective</td>\n",
       "      <td>With his presidency coming to a close, historians and Americans alike are starting to put Trump in historical perspective, CNN's Harry Enten writes\\nhttps://t.co/jP6I6bNhCa</td>\n",
       "    </tr>\n",
       "    <tr>\n",
       "      <th>...</th>\n",
       "      <td>...</td>\n",
       "      <td>...</td>\n",
       "    </tr>\n",
       "    <tr>\n",
       "      <th>24169</th>\n",
       "      <td>conspiracy_theory-fact-check</td>\n",
       "      <td>RT @carenbohan: Fact Check: Trump claims coronavirus tests are widely available. They're not https://t.co/W1UwskoACX via @mcollinsNEWS @nic…</td>\n",
       "    </tr>\n",
       "    <tr>\n",
       "      <th>24514</th>\n",
       "      <td>conspiracy_theory-general</td>\n",
       "      <td>RT @JillDLawrence: By @aslavitt: #Coronavirus isn't about Trump's #StockMarket and 2020 odds. Or at least it shouldn't be. https://t.co/ayJ…</td>\n",
       "    </tr>\n",
       "    <tr>\n",
       "      <th>24559</th>\n",
       "      <td>conspiracy_theory-general</td>\n",
       "      <td>RT @usatodayDC: Trump's family members, such as Donald Trump Jr. and Lara Trump, are tailoring their messages to reach out to an array of v…</td>\n",
       "    </tr>\n",
       "    <tr>\n",
       "      <th>24578</th>\n",
       "      <td>conspiracy_theory-general</td>\n",
       "      <td>Trump ally Roger Stone is sentenced to 40 months in prison, less than what prosecutors originally recommended before the DOJ backtracked. https://t.co/EVJKIAPJX6</td>\n",
       "    </tr>\n",
       "    <tr>\n",
       "      <th>24579</th>\n",
       "      <td>conspiracy_theory-general</td>\n",
       "      <td>RT @usatodayDC: The 67-year-old political operative is the latest Trump ally to be convicted in cases stemming from the Russia investigatio…</td>\n",
       "    </tr>\n",
       "  </tbody>\n",
       "</table>\n",
       "<p>659 rows × 2 columns</p>\n",
       "</div>"
      ],
      "text/plain": [
       "                            subtopic  \\\n",
       "194        conspiracy_theory-general   \n",
       "220     conspiracy_theory-fact-check   \n",
       "418     conspiracy_theory-fact-check   \n",
       "818        conspiracy_theory-general   \n",
       "830    conspiracy_theory-perspective   \n",
       "...                              ...   \n",
       "24169   conspiracy_theory-fact-check   \n",
       "24514      conspiracy_theory-general   \n",
       "24559      conspiracy_theory-general   \n",
       "24578      conspiracy_theory-general   \n",
       "24579      conspiracy_theory-general   \n",
       "\n",
       "                                                                                                                                                                                                                                                                                          text  \n",
       "194                                                                                                                                                                                               Donald Trump's future on Facebook and Instagram is now up in the air https://t.co/gmKtlWuGcX  \n",
       "220                       Former President Trump made false claims from the first hours of his term to the last.\\n\\nHe repeated some of his favorite falsehoods in both his farewell video address and in his final speech at Joint Base Andrews. Here's a fact check. https://t.co/USyI0FJy0q  \n",
       "418    During the debate on the impeachment resolution, some of President Trump's allies were still using many of the same arguments they did a year ago to criticize Democrats and defend Trump's actions.\\n\\nHere's a fact check of the false and misleading claims. https://t.co/sgmjolSxSK  \n",
       "818                                                      Analysis: Joe Biden will be president in a month. Until then, the question is how much damage can be done by a vengeful, delusional soon-to-be ex-President swilling conspiracy theories, writes @stcollinson https://t.co/GRWRbqNIbv  \n",
       "830                                                                                                               With his presidency coming to a close, historians and Americans alike are starting to put Trump in historical perspective, CNN's Harry Enten writes\\nhttps://t.co/jP6I6bNhCa  \n",
       "...                                                                                                                                                                                                                                                                                        ...  \n",
       "24169                                                                                                                                             RT @carenbohan: Fact Check: Trump claims coronavirus tests are widely available. They're not https://t.co/W1UwskoACX via @mcollinsNEWS @nic…  \n",
       "24514                                                                                                                                             RT @JillDLawrence: By @aslavitt: #Coronavirus isn't about Trump's #StockMarket and 2020 odds. Or at least it shouldn't be. https://t.co/ayJ…  \n",
       "24559                                                                                                                                             RT @usatodayDC: Trump's family members, such as Donald Trump Jr. and Lara Trump, are tailoring their messages to reach out to an array of v…  \n",
       "24578                                                                                                                        Trump ally Roger Stone is sentenced to 40 months in prison, less than what prosecutors originally recommended before the DOJ backtracked. https://t.co/EVJKIAPJX6  \n",
       "24579                                                                                                                                             RT @usatodayDC: The 67-year-old political operative is the latest Trump ally to be convicted in cases stemming from the Russia investigatio…  \n",
       "\n",
       "[659 rows x 2 columns]"
      ]
     },
     "execution_count": 18,
     "metadata": {},
     "output_type": "execute_result"
    }
   ],
   "source": [
    "pd.set_option('display.max_colwidth', None)\n",
    "news_tweets[news_tweets.topics == 'conspiracy_theory'][['subtopic', 'text']]\n"
   ]
  },
  {
   "cell_type": "code",
   "execution_count": 4,
   "id": "d68c0d61-6ee0-49b8-8dd0-ebfa5f129e1a",
   "metadata": {},
   "outputs": [],
   "source": [
    "# Uncomment to save model\n",
    "\n",
    "# import pickle\n",
    "\n",
    "# topic_model.save(\"bertopic/topic_model_news_tweets\")\n",
    "# pickle.dump(topics, open( \"bertopic/topics_news_tweets.pickle\", \"wb\" ) )\n",
    "# # assert topics == new_topics"
   ]
  },
  {
   "cell_type": "markdown",
   "id": "4adc4284-eff4-41c3-a3b5-c57492a2f85a",
   "metadata": {},
   "source": [
    "### Load saved model"
   ]
  },
  {
   "cell_type": "code",
   "execution_count": 2,
   "id": "58bee752-86f7-4cf0-b1be-7e103e559837",
   "metadata": {},
   "outputs": [],
   "source": [
    "from bertopic import BERTopic\n",
    "import pickle\n",
    "#Clear cache or restart kernel\n",
    "my_model = BERTopic.load(\"../../bertopic/topic_model_news_tweets\")\n",
    "\n",
    "# topic_model.save(\"bertopic/topic_model_news_tweets\")\n",
    "# pickle.dump(topics, open( \"bertopic/topics_news_tweets.pickle\", \"wb\" ) )\n",
    "# # assert topics == new_topics"
   ]
  },
  {
   "cell_type": "code",
   "execution_count": 3,
   "id": "c5c668a4-8277-49b9-bd9d-6c7ca1885769",
   "metadata": {},
   "outputs": [
    {
     "data": {
      "text/html": [
       "<div>\n",
       "<style scoped>\n",
       "    .dataframe tbody tr th:only-of-type {\n",
       "        vertical-align: middle;\n",
       "    }\n",
       "\n",
       "    .dataframe tbody tr th {\n",
       "        vertical-align: top;\n",
       "    }\n",
       "\n",
       "    .dataframe thead th {\n",
       "        text-align: right;\n",
       "    }\n",
       "</style>\n",
       "<table border=\"1\" class=\"dataframe\">\n",
       "  <thead>\n",
       "    <tr style=\"text-align: right;\">\n",
       "      <th></th>\n",
       "      <th>Topic</th>\n",
       "      <th>Count</th>\n",
       "      <th>Name</th>\n",
       "    </tr>\n",
       "  </thead>\n",
       "  <tbody>\n",
       "    <tr>\n",
       "      <th>0</th>\n",
       "      <td>-1</td>\n",
       "      <td>2901</td>\n",
       "      <td>-1_white house_white_house_capitol</td>\n",
       "    </tr>\n",
       "    <tr>\n",
       "      <th>1</th>\n",
       "      <td>0</td>\n",
       "      <td>1086</td>\n",
       "      <td>0_voter_voting_fraud_election</td>\n",
       "    </tr>\n",
       "    <tr>\n",
       "      <th>2</th>\n",
       "      <td>1</td>\n",
       "      <td>1074</td>\n",
       "      <td>1_opinion_bidens_inauguration_bidens inauguration</td>\n",
       "    </tr>\n",
       "    <tr>\n",
       "      <th>3</th>\n",
       "      <td>2</td>\n",
       "      <td>835</td>\n",
       "      <td>2_analysis_coronavirus_response_death</td>\n",
       "    </tr>\n",
       "    <tr>\n",
       "      <th>4</th>\n",
       "      <td>3</td>\n",
       "      <td>769</td>\n",
       "      <td>3_black_protest_life_police</td>\n",
       "    </tr>\n",
       "    <tr>\n",
       "      <th>...</th>\n",
       "      <td>...</td>\n",
       "      <td>...</td>\n",
       "      <td>...</td>\n",
       "    </tr>\n",
       "    <tr>\n",
       "      <th>85</th>\n",
       "      <td>84</td>\n",
       "      <td>51</td>\n",
       "      <td>84_going_im_im going_shut</td>\n",
       "    </tr>\n",
       "    <tr>\n",
       "      <th>86</th>\n",
       "      <td>85</td>\n",
       "      <td>49</td>\n",
       "      <td>85_federal_federal judge_administration_judge</td>\n",
       "    </tr>\n",
       "    <tr>\n",
       "      <th>87</th>\n",
       "      <td>86</td>\n",
       "      <td>48</td>\n",
       "      <td>86_school_reopen_reopen school_reopening</td>\n",
       "    </tr>\n",
       "    <tr>\n",
       "      <th>88</th>\n",
       "      <td>87</td>\n",
       "      <td>48</td>\n",
       "      <td>87_border_wall_border wall_wall street</td>\n",
       "    </tr>\n",
       "    <tr>\n",
       "      <th>89</th>\n",
       "      <td>88</td>\n",
       "      <td>43</td>\n",
       "      <td>88_american_ha_chinese_administration</td>\n",
       "    </tr>\n",
       "  </tbody>\n",
       "</table>\n",
       "<p>90 rows × 3 columns</p>\n",
       "</div>"
      ],
      "text/plain": [
       "    Topic  Count                                               Name\n",
       "0      -1   2901                 -1_white house_white_house_capitol\n",
       "1       0   1086                      0_voter_voting_fraud_election\n",
       "2       1   1074  1_opinion_bidens_inauguration_bidens inauguration\n",
       "3       2    835              2_analysis_coronavirus_response_death\n",
       "4       3    769                        3_black_protest_life_police\n",
       "..    ...    ...                                                ...\n",
       "85     84     51                          84_going_im_im going_shut\n",
       "86     85     49      85_federal_federal judge_administration_judge\n",
       "87     86     48           86_school_reopen_reopen school_reopening\n",
       "88     87     48             87_border_wall_border wall_wall street\n",
       "89     88     43              88_american_ha_chinese_administration\n",
       "\n",
       "[90 rows x 3 columns]"
      ]
     },
     "execution_count": 3,
     "metadata": {},
     "output_type": "execute_result"
    }
   ],
   "source": [
    "my_model.get_topic_info()"
   ]
  },
  {
   "cell_type": "code",
   "execution_count": 913,
   "id": "bf4a76c6-33a4-4504-86d7-3b7692fc52c4",
   "metadata": {},
   "outputs": [],
   "source": [
    "# topic_list = {'covid': {'general': [16, 22], 'testing': [0], 'analysis': [8], 'mask': [12], 'cases': [15], 'fauci': [45], 'school-reopen': [56]},\n",
    "#             'election': {'general': [9, 27, 28, 38, 40, 54, 63], 'fraud': [1], 'opinion': [4, 29, 69, 89], 'georgia': [25]},\n",
    "#             'white_house': {'general': [2], 'staff': [90]},\n",
    "#             'security': {'general': [3], 'intelligence': [85]},\n",
    "#             'supreme_court': {'general': [5, 52]},\n",
    "#             'blm': {'general': [6]},\n",
    "#             'capitol': {'general': [7], 'impeachment': [68]},\n",
    "#             'economy': {'stimulus': [10], 'tax': [51], 'stock': [81]},\n",
    "#             'international': {'china': [14]},\n",
    "#             'pres_debate': {'general': [17]},\n",
    "#             'democarts':{'general': [19], 'kamala': [23, 59, 79], 'obama': [84], 'sanders': [32], 'biden': [39, 50, 66], 'pelosi': [75], 'primary': [60]},\n",
    "#             'republican': {'general': [20], 'pence': [58], 'trump': [67], 'first_lady': [71]},\n",
    "#             'others': {'general': [11, 13, 21, 24, 26, 30, 31, 33, 35, 36, 37, 43, 44, 46, 47, 48, 49, 53, 57, 61, 64, 70, 72, 73, 76, 77, 78, 82, 87, 88, 91, 92]},\n",
    "#             'fact-check': {'general': [55], 'misleading': [74]},\n",
    "#             'healthcare': {'general': [62]},\n",
    "#             'immigration': {'border': [83]},\n",
    "#             'social_media': {'general': [34, 86]},\n",
    "#             'media': {'general': [18, 80, 93]},\n",
    "#             'america': {'general': [41, 42, 65]}}"
   ]
  },
  {
   "cell_type": "code",
   "execution_count": 914,
   "id": "ed652a9a-855d-4d0e-b122-7e4d5920f611",
   "metadata": {},
   "outputs": [],
   "source": [
    "# pd.options.display.max_colwidth = 2000\n",
    "# news_tweets[news_tweets['topic_ids'] == 41].text"
   ]
  },
  {
   "cell_type": "code",
   "execution_count": 916,
   "id": "1a47eb9e-adf5-4ac7-b27d-1322026011b4",
   "metadata": {},
   "outputs": [],
   "source": [
    "# cls_to_fine_top[46]"
   ]
  },
  {
   "cell_type": "code",
   "execution_count": 915,
   "id": "76d00b46-ddd0-4413-a563-aea15fe0721f",
   "metadata": {},
   "outputs": [],
   "source": [
    "### topic Ids\n",
    "topic_cat_dic = dict([(j, i) for i, j in zip([key for key in topic_list], [x for x in range(len(topic_list))])])\n",
    "\n",
    "### topic to cluster id mapping\n",
    "topic_cls_map = dict()\n",
    "for key in topic_list:\n",
    "    cls_ids = []\n",
    "    for k in topic_list[key]:\n",
    "        cls_ids.extend(topic_list[key][k])\n",
    "    topic_cls_map[key] =  cls_ids\n",
    "    \n",
    "cls_to_fine_top = dict()\n",
    "for top in topic_list:\n",
    "    for t in topic_list[top]:\n",
    "        for k in topic_list[top][t]:\n",
    "            cls_to_fine_top[k] = top + \"-\" + t\n",
    "            \n",
    "tops, fine_top = [], []\n",
    "for t in topics:\n",
    "    \n",
    "    if(t == -1):\n",
    "        tops.append('none')\n",
    "        fine_top.append('none')\n",
    "        continue\n",
    "    for k in topic_cls_map:\n",
    "        if(t in topic_cls_map[k]):\n",
    "            tops.append(k)\n",
    "    fine_top.append(cls_to_fine_top[t])"
   ]
  },
  {
   "cell_type": "code",
   "execution_count": 917,
   "id": "dd257fbc-d3c9-4762-a1c6-bc978125ad85",
   "metadata": {},
   "outputs": [],
   "source": [
    "# cls_to_fine_top"
   ]
  },
  {
   "cell_type": "code",
   "execution_count": 918,
   "id": "cb402003-501c-4d8a-a83a-b3a90292d081",
   "metadata": {},
   "outputs": [
    {
     "data": {
      "text/plain": [
       "(24584, 24584, 24584)"
      ]
     },
     "execution_count": 918,
     "metadata": {},
     "output_type": "execute_result"
    }
   ],
   "source": [
    "len(tops), len(topics), len(fine_top)"
   ]
  },
  {
   "cell_type": "code",
   "execution_count": 919,
   "id": "cb3ed193-0979-4d1f-82b7-c8851d0fefe9",
   "metadata": {},
   "outputs": [],
   "source": [
    "news_tweets['topic_ids'] = topics\n",
    "news_tweets['topics'] = tops\n",
    "news_tweets['subtopic'] = fine_top"
   ]
  },
  {
   "cell_type": "code",
   "execution_count": 920,
   "id": "f98d8038-2f31-4184-9357-c40656950d60",
   "metadata": {},
   "outputs": [],
   "source": [
    "news_tweets.to_csv('dataset/news_tweets.csv')"
   ]
  },
  {
   "cell_type": "code",
   "execution_count": null,
   "id": "915c7f83-4c91-4da5-b41d-9fbada4513c7",
   "metadata": {},
   "outputs": [],
   "source": []
  }
 ],
 "metadata": {
  "kernelspec": {
   "display_name": "py3_10",
   "language": "python",
   "name": "py3_10"
  },
  "language_info": {
   "codemirror_mode": {
    "name": "ipython",
    "version": 3
   },
   "file_extension": ".py",
   "mimetype": "text/x-python",
   "name": "python",
   "nbconvert_exporter": "python",
   "pygments_lexer": "ipython3",
   "version": "3.10.6"
  }
 },
 "nbformat": 4,
 "nbformat_minor": 5
}
