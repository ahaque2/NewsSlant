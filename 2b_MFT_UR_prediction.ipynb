{
 "cells": [
  {
   "cell_type": "code",
   "execution_count": 1,
   "id": "cfb235be-8eef-4b7c-b406-73083872e849",
   "metadata": {
    "tags": []
   },
   "outputs": [
    {
     "name": "stderr",
     "output_type": "stream",
     "text": [
      "/home/ahaque2/venv/py3_7/lib/python3.7/site-packages/tqdm/auto.py:22: TqdmWarning: IProgress not found. Please update jupyter and ipywidgets. See https://ipywidgets.readthedocs.io/en/stable/user_install.html\n",
      "  from .autonotebook import tqdm as notebook_tqdm\n"
     ]
    }
   ],
   "source": [
    "import pandas as pd\n",
    "import numpy as np\n",
    "import sys\n",
    "# from torch.utils.data import DataLoader\n",
    "\n",
    "from transformers import AutoTokenizer, TrainingArguments, Trainer\n",
    "\n",
    "from transformers import DistilBertForSequenceClassification, Trainer, TrainingArguments\n",
    "from torch.utils.data import DataLoader\n",
    "from transformers import AutoModelForSequenceClassification, AdamW\n",
    "import torch\n",
    "\n",
    "from statsmodels.stats.contingency_tables import mcnemar\n",
    "from sklearn.metrics import f1_score, confusion_matrix\n",
    "from sklearn.metrics import classification_report, confusion_matrix\n",
    "\n",
    "import warnings\n",
    "warnings.filterwarnings('ignore')"
   ]
  },
  {
   "cell_type": "code",
   "execution_count": 2,
   "id": "abe2d87e-2fe3-4f2a-9a15-ae6ca0d1243d",
   "metadata": {
    "tags": []
   },
   "outputs": [],
   "source": [
    "import pandas as pd\n",
    "\n",
    "# user_resp = pd.read_csv('dataset/user_response.csv')\n",
    "user_resp = pd.read_csv('dataset/user_resp.csv')"
   ]
  },
  {
   "cell_type": "code",
   "execution_count": 3,
   "id": "469b8c07-ca17-4fc7-84df-78e2945614e2",
   "metadata": {
    "tags": []
   },
   "outputs": [
    {
     "data": {
      "text/plain": [
       "(4039474, 3)"
      ]
     },
     "execution_count": 3,
     "metadata": {},
     "output_type": "execute_result"
    }
   ],
   "source": [
    "user_resp.shape"
   ]
  },
  {
   "cell_type": "code",
   "execution_count": 6,
   "id": "cf658528-1052-4837-a357-9e3342f8e85c",
   "metadata": {
    "tags": []
   },
   "outputs": [],
   "source": [
    "user_resp = user_resp.dropna(subset = ['clean_text'])"
   ]
  },
  {
   "cell_type": "code",
   "execution_count": 7,
   "id": "bc3193e5-6f03-4abf-b9de-4eabe9e7e580",
   "metadata": {
    "tags": []
   },
   "outputs": [
    {
     "data": {
      "text/plain": [
       "0"
      ]
     },
     "execution_count": 7,
     "metadata": {},
     "output_type": "execute_result"
    }
   ],
   "source": [
    "user_resp.clean_text.isna().sum()"
   ]
  },
  {
   "cell_type": "code",
   "execution_count": 15,
   "id": "7b7f7d4a-b2f6-4ca1-b216-a8e48a025896",
   "metadata": {
    "tags": []
   },
   "outputs": [],
   "source": [
    "tokenizer = AutoTokenizer.from_pretrained('cardiffnlp/twitter-roberta-base', use_fast=True)\n",
    "# model = DistilBertForSequenceClassification.from_pretrained('distilbert-base-uncased', num_labels=11)\n",
    "device = torch.device('cuda:0') if torch.cuda.is_available() else torch.device('cpu')\n",
    "model = AutoModelForSequenceClassification.from_pretrained(\"model/model_MFT_all\", num_labels=11).to(device)"
   ]
  },
  {
   "cell_type": "code",
   "execution_count": 16,
   "id": "a7b02b1f-d88f-4f2c-bf1b-fcf373305eb4",
   "metadata": {
    "tags": []
   },
   "outputs": [],
   "source": [
    "import torch\n",
    "\n",
    "class setDataset(torch.utils.data.Dataset):\n",
    "    def __init__(self, encodings, labels):\n",
    "        self.encodings = encodings\n",
    "        self.labels = labels\n",
    "\n",
    "    def __getitem__(self, idx):\n",
    "        item = {key: torch.tensor(val[idx]) for key, val in self.encodings.items()}\n",
    "        item['labels'] = torch.tensor(self.labels[idx])\n",
    "        return item\n",
    "\n",
    "    def __len__(self):\n",
    "        return len(self.labels)\n",
    "\n",
    "# data_encodings = tokenizer(user_resp.clean_text.tolist(), truncation=True, max_length=500, padding=True)\n",
    "# dataset = setDataset(data_encodings, user_resp.label_id)"
   ]
  },
  {
   "cell_type": "code",
   "execution_count": 17,
   "id": "f24b9ae5-54f5-4198-a109-e5a8c6e2bb21",
   "metadata": {
    "tags": []
   },
   "outputs": [],
   "source": [
    "def get_predictions(X_test, tokenizer, model):\n",
    "    \n",
    "    x = 0\n",
    "    pred_labs, tweet_ids = [], []\n",
    "    while x < X_test.shape[0]:\n",
    "        #model = DistilBertForSequenceClassification.from_pretrained(\"models/DistilBert_1\", num_labels=4).to(device)\n",
    "        # y = x + 100\n",
    "        if((x+10) < X_test.shape[0]):\n",
    "            y = x + 10\n",
    "        else:\n",
    "            y = X_test.shape[0]\n",
    "\n",
    "        x_test = X_test.iloc[x:y].tolist()\n",
    "        # t_ids = tweet_id_df.iloc[x:y].tolist()\n",
    "        # print(x, y, len(x_test))\n",
    "        inputs = tokenizer(x_test,  padding=True, truncation=True, max_length=500, return_tensors=\"pt\").to(device)\n",
    "        outputs = model(**inputs)\n",
    "        \n",
    "        softmax_labs = list([x for x in outputs[0].softmax(1)])\n",
    "        softmax_scores = [x.tolist() for x in softmax_labs]\n",
    "        \n",
    "        y_pred = [int(x.argmax()) for x in outputs[0].softmax(1)]\n",
    "        \n",
    "        pred_labs.extend(y_pred)\n",
    "        pred_labels.extend(y_pred)\n",
    "        sm_scores.extend(softmax_scores)\n",
    "        # tweet_ids.extend(t_ids)\n",
    "        \n",
    "        x+=10\n",
    "        \n",
    "        if(x%1000 == 0):\n",
    "            print(x, end = '\\r')\n",
    "        \n",
    "    return pred_labs, sm_scores"
   ]
  },
  {
   "cell_type": "code",
   "execution_count": 18,
   "id": "bd1f8773-3110-401e-acb2-a85d2adddb6c",
   "metadata": {
    "tags": []
   },
   "outputs": [],
   "source": [
    "pred_labels, sm_scores = [], []"
   ]
  },
  {
   "cell_type": "code",
   "execution_count": 25,
   "id": "a94c8875-a0e2-4094-9636-f0adc6e4b38f",
   "metadata": {
    "tags": []
   },
   "outputs": [
    {
     "name": "stdout",
     "output_type": "stream",
     "text": [
      "4039000\r"
     ]
    }
   ],
   "source": [
    "y_pred, sm_scr = get_predictions(user_resp.clean_text, tokenizer, model)"
   ]
  },
  {
   "cell_type": "code",
   "execution_count": 28,
   "id": "c216a827-a284-4325-89d6-6250c2eeb93f",
   "metadata": {
    "tags": []
   },
   "outputs": [
    {
     "data": {
      "text/plain": [
       "(4039474, 4039474)"
      ]
     },
     "execution_count": 28,
     "metadata": {},
     "output_type": "execute_result"
    }
   ],
   "source": [
    "len(y_pred), len(sm_scr)"
   ]
  },
  {
   "cell_type": "code",
   "execution_count": 27,
   "id": "c29c23b3-c1a2-4c9f-9a01-03b1fe2ef5b0",
   "metadata": {
    "tags": []
   },
   "outputs": [
    {
     "ename": "SystemExit",
     "evalue": "",
     "output_type": "error",
     "traceback": [
      "An exception has occurred, use %tb to see the full traceback.\n",
      "\u001b[0;31mSystemExit\u001b[0m\n"
     ]
    }
   ],
   "source": [
    "sys.exit()"
   ]
  },
  {
   "cell_type": "code",
   "execution_count": 29,
   "id": "27279bd9-4f95-465e-884f-9f29d7d3f2d7",
   "metadata": {
    "tags": []
   },
   "outputs": [],
   "source": [
    "sm_score_df = pd.DataFrame(sm_scr)"
   ]
  },
  {
   "cell_type": "code",
   "execution_count": 30,
   "id": "c2d20d3d-fdb9-412d-bb24-53a7b65b92fa",
   "metadata": {
    "tags": []
   },
   "outputs": [],
   "source": [
    "sm_score_df['tweet_id'] = user_resp.tweet_id"
   ]
  },
  {
   "cell_type": "code",
   "execution_count": 31,
   "id": "beb2caec-6e2f-4d60-a85e-b8f20fcdc38e",
   "metadata": {
    "tags": []
   },
   "outputs": [],
   "source": [
    "sm_score_df.to_csv('dataset/user_resp_MFT_all_softmax.csv')"
   ]
  },
  {
   "cell_type": "code",
   "execution_count": null,
   "id": "2d9ff8fe-43f0-4564-b464-4b0a2b21c47a",
   "metadata": {
    "tags": []
   },
   "outputs": [],
   "source": [
    "[x for x in y_pred[0].softmax(1)][0]"
   ]
  },
  {
   "cell_type": "code",
   "execution_count": null,
   "id": "d477ab70-4177-4040-8d39-f59ae95ffb1a",
   "metadata": {
    "tags": []
   },
   "outputs": [],
   "source": [
    "type(y_pred[0].softmax(1))"
   ]
  },
  {
   "cell_type": "code",
   "execution_count": null,
   "id": "c8df0ae9-79b4-4493-a65a-5dde0827b2ee",
   "metadata": {
    "tags": []
   },
   "outputs": [],
   "source": [
    "y_pred[0].softmax(1)[0]"
   ]
  },
  {
   "cell_type": "code",
   "execution_count": null,
   "id": "0920d003-0fc9-4348-8d6c-549a4a50229c",
   "metadata": {
    "tags": []
   },
   "outputs": [],
   "source": [
    "[x.tolist() for x in k]"
   ]
  },
  {
   "cell_type": "code",
   "execution_count": null,
   "id": "2d6cc5d0-f979-4ba7-a6d7-c2e703348752",
   "metadata": {
    "tags": []
   },
   "outputs": [],
   "source": [
    "pd.set_option('display.max_colwidth', None)"
   ]
  },
  {
   "cell_type": "code",
   "execution_count": null,
   "id": "65a2667a-2635-4a27-b2fc-732d5fa55ba7",
   "metadata": {
    "tags": []
   },
   "outputs": [],
   "source": [
    "user_resp2.shape, user_resp2.columns"
   ]
  },
  {
   "cell_type": "code",
   "execution_count": null,
   "id": "cf344f4c-2279-4121-a781-29f33aa4023c",
   "metadata": {
    "tags": []
   },
   "outputs": [],
   "source": [
    "user_resp2.text_x.nunique()"
   ]
  },
  {
   "cell_type": "code",
   "execution_count": null,
   "id": "9a21fd88-8618-4308-a1cb-af982617c6cf",
   "metadata": {
    "tags": []
   },
   "outputs": [],
   "source": [
    "pd.set_option('display.max_colwidth', None)\n",
    "user_resp[['text_x', 'clean_text']].iloc[0:100]"
   ]
  },
  {
   "cell_type": "code",
   "execution_count": null,
   "id": "5596f9b1-0a2f-4ee2-b134-b7f752cf1ab7",
   "metadata": {
    "tags": []
   },
   "outputs": [],
   "source": [
    "user_resp.to_csv('dataset/MFTC_data.csv')"
   ]
  },
  {
   "cell_type": "code",
   "execution_count": null,
   "id": "21ef09ac-419c-4f4f-812d-3db60327b439",
   "metadata": {},
   "outputs": [],
   "source": []
  }
 ],
 "metadata": {
  "kernelspec": {
   "display_name": "py3_7",
   "language": "python",
   "name": "py3_7"
  },
  "language_info": {
   "codemirror_mode": {
    "name": "ipython",
    "version": 3
   },
   "file_extension": ".py",
   "mimetype": "text/x-python",
   "name": "python",
   "nbconvert_exporter": "python",
   "pygments_lexer": "ipython3",
   "version": "3.7.17"
  }
 },
 "nbformat": 4,
 "nbformat_minor": 5
}
