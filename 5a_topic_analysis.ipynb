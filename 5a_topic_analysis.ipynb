{
 "cells": [
  {
   "cell_type": "code",
   "execution_count": 2,
   "id": "02376e0a-e116-477a-b91b-fb84eb5329cb",
   "metadata": {},
   "outputs": [],
   "source": [
    "import pandas as pd\n",
    "import sys"
   ]
  },
  {
   "cell_type": "code",
   "execution_count": 7,
   "id": "706553ce-1dfc-4cfd-8b9d-2790ff778743",
   "metadata": {},
   "outputs": [],
   "source": [
    "news = pd.read_csv('results/news.csv')\n",
    "news_tweets = pd.read_csv('results/news_tweets.csv')\n",
    "# user_resp = pd.read_csv('results/user_response.csv')"
   ]
  },
  {
   "cell_type": "code",
   "execution_count": 8,
   "id": "83bbd095-d8ab-47c8-8348-f80c103f376c",
   "metadata": {},
   "outputs": [
    {
     "data": {
      "text/plain": [
       "((35886, 32), (24584, 49))"
      ]
     },
     "execution_count": 8,
     "metadata": {},
     "output_type": "execute_result"
    }
   ],
   "source": [
    "news.shape, news_tweets.shape"
   ]
  },
  {
   "cell_type": "code",
   "execution_count": 211,
   "id": "2e4c6cc4-933f-4a68-8a01-4ccf28e161fc",
   "metadata": {},
   "outputs": [],
   "source": [
    "# news_filtered = news[news['topic_ids'] != -1]\n",
    "# news_tweets_filtered = news_tweets[news_tweets['topic_ids'] != -1]"
   ]
  },
  {
   "cell_type": "code",
   "execution_count": 81,
   "id": "5f359bd6-5679-4629-b660-1fc5eaa267dc",
   "metadata": {},
   "outputs": [],
   "source": [
    "R_news = news[((news['publication'] == 'Breitbart News') | (news['publication'] == 'Fox News'))]\n",
    "L_news = news[((news['publication'] == 'CNN') | (news['publication'] == 'The Washington Post'))]\n",
    "C_news = news[((news['publication'] == 'Business Insider') | (news['publication'] ==  'USA Today'))]"
   ]
  },
  {
   "cell_type": "code",
   "execution_count": 102,
   "id": "a1744969-f364-4cfb-bd0f-20adbc2af1ad",
   "metadata": {},
   "outputs": [
    {
     "data": {
      "text/plain": [
       "((15704, 32), (11163, 32), (9019, 32))"
      ]
     },
     "execution_count": 102,
     "metadata": {},
     "output_type": "execute_result"
    }
   ],
   "source": [
    "R_news.shape, L_news.shape, C_news.shape"
   ]
  },
  {
   "cell_type": "code",
   "execution_count": 10,
   "id": "916112c0-f8e3-4c92-b130-fa26625aa24e",
   "metadata": {},
   "outputs": [],
   "source": [
    "R_news_tweets = news_tweets[((news_tweets['publication'] == 'Breitbart News') | (news_tweets['publication'] == 'Fox News'))]\n",
    "L_news_tweets = news_tweets[((news_tweets['publication'] == 'CNN') | (news_tweets['publication'] == 'The Washington Post'))]\n",
    "C_news_tweets = news_tweets[((news_tweets['publication'] == 'Business Insider') | (news_tweets['publication'] ==  'USA Today'))]"
   ]
  },
  {
   "cell_type": "code",
   "execution_count": 105,
   "id": "c6af0a53-fdbb-45a1-ba65-26259b4eea7a",
   "metadata": {},
   "outputs": [
    {
     "data": {
      "text/plain": [
       "((4115, 49), (13107, 49), (7362, 49))"
      ]
     },
     "execution_count": 105,
     "metadata": {},
     "output_type": "execute_result"
    }
   ],
   "source": [
    "R_news_tweets.shape, L_news_tweets.shape, C_news_tweets.shape"
   ]
  },
  {
   "cell_type": "code",
   "execution_count": 94,
   "id": "9d2bf3d0-1502-4538-97c3-31809e476f9a",
   "metadata": {},
   "outputs": [
    {
     "data": {
      "text/plain": [
       "trump_pos_new    0.161783\n",
       "trump_neg_new    0.503286\n",
       "trump_neu_new    0.334931\n",
       "biden_pos_new    0.177913\n",
       "biden_neg_new    0.409237\n",
       "biden_neu_new    0.412850\n",
       "dtype: float64"
      ]
     },
     "execution_count": 94,
     "metadata": {},
     "output_type": "execute_result"
    }
   ],
   "source": [
    "R_news[['trump_pos_new', 'trump_neg_new', 'trump_neu_new', 'biden_pos_new', 'biden_neg_new', 'biden_neu_new']].mean()"
   ]
  },
  {
   "cell_type": "code",
   "execution_count": 95,
   "id": "f0e94f92-287a-4187-be73-3da5d62de5ad",
   "metadata": {},
   "outputs": [
    {
     "data": {
      "text/plain": [
       "trump_pos_new    0.110019\n",
       "trump_neg_new    0.567835\n",
       "trump_neu_new    0.322146\n",
       "biden_pos_new    0.274957\n",
       "biden_neg_new    0.217636\n",
       "biden_neu_new    0.507407\n",
       "dtype: float64"
      ]
     },
     "execution_count": 95,
     "metadata": {},
     "output_type": "execute_result"
    }
   ],
   "source": [
    "L_news[['trump_pos_new', 'trump_neg_new', 'trump_neu_new', 'biden_pos_new', 'biden_neg_new', 'biden_neu_new']].mean()"
   ]
  },
  {
   "cell_type": "code",
   "execution_count": 96,
   "id": "e1d5b215-05af-4acc-a6d2-562f1daa4dc7",
   "metadata": {},
   "outputs": [
    {
     "data": {
      "text/plain": [
       "trump_pos_new    0.128275\n",
       "trump_neg_new    0.550279\n",
       "trump_neu_new    0.321447\n",
       "biden_pos_new    0.294181\n",
       "biden_neg_new    0.243145\n",
       "biden_neu_new    0.462674\n",
       "dtype: float64"
      ]
     },
     "execution_count": 96,
     "metadata": {},
     "output_type": "execute_result"
    }
   ],
   "source": [
    "C_news[['trump_pos_new', 'trump_neg_new', 'trump_neu_new', 'biden_pos_new', 'biden_neg_new', 'biden_neu_new']].mean()"
   ]
  },
  {
   "cell_type": "code",
   "execution_count": null,
   "id": "5be48d8e-662a-4332-ab36-4c231f80c1fb",
   "metadata": {},
   "outputs": [],
   "source": []
  },
  {
   "cell_type": "code",
   "execution_count": 11,
   "id": "8a776151-01d4-4bce-8e1b-dd8da95b8e0a",
   "metadata": {},
   "outputs": [
    {
     "data": {
      "text/plain": [
       "((4115, 49), (13107, 49), (7362, 49))"
      ]
     },
     "execution_count": 11,
     "metadata": {},
     "output_type": "execute_result"
    }
   ],
   "source": [
    "R_news_tweets.shape, L_news_tweets.shape, C_news_tweets.shape"
   ]
  },
  {
   "cell_type": "code",
   "execution_count": 101,
   "id": "191bddd7-520f-4437-9935-569b72f97223",
   "metadata": {},
   "outputs": [
    {
     "data": {
      "text/plain": [
       "(47,\n",
       " array(['covid', 'social_media', 'election', 'other', 'economy',\n",
       "        'internatinal', 'court', 'democrats', 'healthcare', 'climate',\n",
       "        'republican', 'security', 'immigration', 'floyd', 'capitol',\n",
       "        'hunter_biden', 'proud boys', 'first_lady', 'abortion',\n",
       "        'pres_debate'], dtype=object),\n",
       " 53,\n",
       " array(['american', 'white_house', 'republican', 'other', 'none',\n",
       "        'impeachment', 'covid', 'election', 'capitol', 'national',\n",
       "        'supreme_court', 'economy', 'democrats', 'international',\n",
       "        'healthcare', 'immigration', 'blm', 'newyork', 'media',\n",
       "        'conspiracy_theory'], dtype=object))"
      ]
     },
     "execution_count": 101,
     "metadata": {},
     "output_type": "execute_result"
    }
   ],
   "source": [
    "news.subtopic.nunique(), news.topics.unique(), news_tweets.subtopic.nunique(), news_tweets.topics.unique()"
   ]
  },
  {
   "cell_type": "markdown",
   "id": "f5ae12a2-14b0-4eda-bf80-ea1d27e6f608",
   "metadata": {},
   "source": [
    "### Topic-wise sentiment means"
   ]
  },
  {
   "cell_type": "code",
   "execution_count": 82,
   "id": "1e95ab07-8176-4e06-98b1-4d0e5034fac8",
   "metadata": {},
   "outputs": [
    {
     "name": "stderr",
     "output_type": "stream",
     "text": [
      "/tmp/ipykernel_7512/3753601638.py:1: FutureWarning: The default value of numeric_only in DataFrameGroupBy.mean is deprecated. In a future version, numeric_only will default to False. Either specify numeric_only or select only columns which should be valid for the function.\n",
      "  df1 = R_news.groupby('topics').mean()\n"
     ]
    }
   ],
   "source": [
    "df1 = R_news.groupby('topics').mean()"
   ]
  },
  {
   "cell_type": "code",
   "execution_count": 83,
   "id": "4d99ac5b-e596-4fc2-ab50-73d3cdf97f8a",
   "metadata": {},
   "outputs": [
    {
     "name": "stderr",
     "output_type": "stream",
     "text": [
      "/tmp/ipykernel_7512/1180168080.py:1: FutureWarning: The default value of numeric_only in DataFrameGroupBy.mean is deprecated. In a future version, numeric_only will default to False. Either specify numeric_only or select only columns which should be valid for the function.\n",
      "  df2 = L_news.groupby('topics').mean()\n"
     ]
    }
   ],
   "source": [
    "df2 = L_news.groupby('topics').mean()"
   ]
  },
  {
   "cell_type": "code",
   "execution_count": 84,
   "id": "c3ef27ec-994c-48b5-b6cb-bcffbd2e05e4",
   "metadata": {},
   "outputs": [
    {
     "name": "stderr",
     "output_type": "stream",
     "text": [
      "/tmp/ipykernel_7512/3392689116.py:1: FutureWarning: The default value of numeric_only in DataFrameGroupBy.mean is deprecated. In a future version, numeric_only will default to False. Either specify numeric_only or select only columns which should be valid for the function.\n",
      "  df3 = C_news.groupby('topics').mean()\n"
     ]
    }
   ],
   "source": [
    "df3 = C_news.groupby('topics').mean()"
   ]
  },
  {
   "cell_type": "code",
   "execution_count": 85,
   "id": "f7c59dfe-fdb6-4391-a28b-a414ee6931e3",
   "metadata": {},
   "outputs": [
    {
     "data": {
      "text/plain": [
       "((20, 24), (20, 24), (20, 24))"
      ]
     },
     "execution_count": 85,
     "metadata": {},
     "output_type": "execute_result"
    }
   ],
   "source": [
    "df1.shape, df2.shape, df3.shape"
   ]
  },
  {
   "cell_type": "code",
   "execution_count": 86,
   "id": "2485c6db-c3c9-47ef-b4f5-c60ce54cafc8",
   "metadata": {},
   "outputs": [],
   "source": [
    "df1 = df1[['trump_pos_new', 'trump_neg_new', 'trump_neu_new', 'biden_pos_new', 'biden_neg_new', 'biden_neu_new']]\n",
    "df2 = df2[['trump_pos_new', 'trump_neg_new', 'trump_neu_new', 'biden_pos_new', 'biden_neg_new', 'biden_neu_new']]\n",
    "df3 = df3[['trump_pos_new', 'trump_neg_new', 'trump_neu_new', 'biden_pos_new', 'biden_neg_new', 'biden_neu_new']]"
   ]
  },
  {
   "cell_type": "code",
   "execution_count": 87,
   "id": "71b32374-5142-4339-af53-9b29511e9a52",
   "metadata": {},
   "outputs": [],
   "source": [
    "df1['trump_fav_score'] = df1.trump_pos_new/df1.trump_neg_new\n",
    "df2['trump_fav_score'] = df2.trump_pos_new/df2.trump_neg_new\n",
    "df3['trump_fav_score'] = df3.trump_pos_new/df3.trump_neg_new\n",
    "\n",
    "df1['biden_fav_score'] = df1.biden_pos_new/df1.biden_neg_new\n",
    "df2['biden_fav_score'] = df2.biden_pos_new/df2.biden_neg_new\n",
    "df3['biden_fav_score'] = df3.biden_pos_new/df3.biden_neg_new"
   ]
  },
  {
   "cell_type": "code",
   "execution_count": 88,
   "id": "2046a59b-16cb-4078-9784-929eaea31fd6",
   "metadata": {},
   "outputs": [
    {
     "data": {
      "text/plain": [
       "(Index(['abortion', 'capitol', 'climate', 'court', 'covid', 'democrats',\n",
       "        'economy', 'election', 'first_lady', 'floyd', 'healthcare',\n",
       "        'hunter_biden', 'immigration', 'internatinal', 'other', 'pres_debate',\n",
       "        'proud boys', 'republican', 'security', 'social_media'],\n",
       "       dtype='object', name='topics'),\n",
       " Index(['abortion', 'capitol', 'climate', 'court', 'covid', 'democrats',\n",
       "        'economy', 'election', 'first_lady', 'floyd', 'healthcare',\n",
       "        'hunter_biden', 'immigration', 'internatinal', 'other', 'pres_debate',\n",
       "        'proud boys', 'republican', 'security', 'social_media'],\n",
       "       dtype='object', name='topics'),\n",
       " Index(['abortion', 'capitol', 'climate', 'court', 'covid', 'democrats',\n",
       "        'economy', 'election', 'first_lady', 'floyd', 'healthcare',\n",
       "        'hunter_biden', 'immigration', 'internatinal', 'other', 'pres_debate',\n",
       "        'proud boys', 'republican', 'security', 'social_media'],\n",
       "       dtype='object', name='topics'))"
      ]
     },
     "execution_count": 88,
     "metadata": {},
     "output_type": "execute_result"
    }
   ],
   "source": [
    "df1.index.unique(), df2.index.unique(), df3.index.unique()"
   ]
  },
  {
   "cell_type": "code",
   "execution_count": 89,
   "id": "af7374dd-7380-4765-b23e-34a3fb8c5cac",
   "metadata": {},
   "outputs": [],
   "source": [
    "pd.concat((df1[['trump_fav_score', 'biden_fav_score']].rename(columns = {'trump_fav_score': 'trump_fav_score_R', 'biden_fav_score': 'biden_fav_score_R'}), \n",
    "           df2[['trump_fav_score', 'biden_fav_score']].rename(columns = {'trump_fav_score': 'trump_fav_score_L', 'biden_fav_score': 'biden_fav_score_L'}), \n",
    "           df3[['trump_fav_score', 'biden_fav_score']].rename(columns = {'trump_fav_score': 'trump_fav_score_C', 'biden_fav_score': 'biden_fav_score_C'})), axis = 1).to_csv('results/topic_analysis/favorability_scores_news_headlines.csv')"
   ]
  },
  {
   "cell_type": "code",
   "execution_count": null,
   "id": "b39f91f1-8ff5-453b-9fa5-4cf427813462",
   "metadata": {},
   "outputs": [],
   "source": []
  },
  {
   "cell_type": "code",
   "execution_count": 37,
   "id": "26fcb4af-db96-4c9f-ba6e-ddec7c3d1e9e",
   "metadata": {},
   "outputs": [
    {
     "data": {
      "text/html": [
       "<div>\n",
       "<style scoped>\n",
       "    .dataframe tbody tr th:only-of-type {\n",
       "        vertical-align: middle;\n",
       "    }\n",
       "\n",
       "    .dataframe tbody tr th {\n",
       "        vertical-align: top;\n",
       "    }\n",
       "\n",
       "    .dataframe thead th {\n",
       "        text-align: right;\n",
       "    }\n",
       "</style>\n",
       "<table border=\"1\" class=\"dataframe\">\n",
       "  <thead>\n",
       "    <tr style=\"text-align: right;\">\n",
       "      <th></th>\n",
       "      <th>id</th>\n",
       "      <th>trump_pos_new</th>\n",
       "      <th>trump_neg_new</th>\n",
       "      <th>trump_neu_new</th>\n",
       "      <th>biden_pos_new</th>\n",
       "      <th>biden_neg_new</th>\n",
       "      <th>biden_neu_new</th>\n",
       "      <th>trump_fav_score</th>\n",
       "      <th>biden_fav_score</th>\n",
       "    </tr>\n",
       "    <tr>\n",
       "      <th>topics</th>\n",
       "      <th></th>\n",
       "      <th></th>\n",
       "      <th></th>\n",
       "      <th></th>\n",
       "      <th></th>\n",
       "      <th></th>\n",
       "      <th></th>\n",
       "      <th></th>\n",
       "      <th></th>\n",
       "    </tr>\n",
       "  </thead>\n",
       "  <tbody>\n",
       "    <tr>\n",
       "      <th>abortion</th>\n",
       "      <td>82515.988764</td>\n",
       "      <td>0.308380</td>\n",
       "      <td>0.372263</td>\n",
       "      <td>0.319357</td>\n",
       "      <td>0.216128</td>\n",
       "      <td>0.468801</td>\n",
       "      <td>0.315070</td>\n",
       "      <td>0.828391</td>\n",
       "      <td>0.461023</td>\n",
       "    </tr>\n",
       "    <tr>\n",
       "      <th>capitol</th>\n",
       "      <td>133608.041812</td>\n",
       "      <td>0.070063</td>\n",
       "      <td>0.748393</td>\n",
       "      <td>0.181544</td>\n",
       "      <td>0.171141</td>\n",
       "      <td>0.167566</td>\n",
       "      <td>0.661293</td>\n",
       "      <td>0.093618</td>\n",
       "      <td>1.021336</td>\n",
       "    </tr>\n",
       "    <tr>\n",
       "      <th>climate</th>\n",
       "      <td>84778.722449</td>\n",
       "      <td>0.249738</td>\n",
       "      <td>0.404307</td>\n",
       "      <td>0.345955</td>\n",
       "      <td>0.259123</td>\n",
       "      <td>0.440589</td>\n",
       "      <td>0.300288</td>\n",
       "      <td>0.617695</td>\n",
       "      <td>0.588128</td>\n",
       "    </tr>\n",
       "    <tr>\n",
       "      <th>court</th>\n",
       "      <td>84190.026224</td>\n",
       "      <td>0.159786</td>\n",
       "      <td>0.389056</td>\n",
       "      <td>0.451158</td>\n",
       "      <td>0.146712</td>\n",
       "      <td>0.473867</td>\n",
       "      <td>0.379421</td>\n",
       "      <td>0.410701</td>\n",
       "      <td>0.309607</td>\n",
       "    </tr>\n",
       "    <tr>\n",
       "      <th>covid</th>\n",
       "      <td>63975.520142</td>\n",
       "      <td>0.195626</td>\n",
       "      <td>0.457030</td>\n",
       "      <td>0.347343</td>\n",
       "      <td>0.184845</td>\n",
       "      <td>0.375101</td>\n",
       "      <td>0.440055</td>\n",
       "      <td>0.428037</td>\n",
       "      <td>0.492787</td>\n",
       "    </tr>\n",
       "    <tr>\n",
       "      <th>democrats</th>\n",
       "      <td>61101.873057</td>\n",
       "      <td>0.092935</td>\n",
       "      <td>0.598943</td>\n",
       "      <td>0.308122</td>\n",
       "      <td>0.216710</td>\n",
       "      <td>0.348753</td>\n",
       "      <td>0.434537</td>\n",
       "      <td>0.155165</td>\n",
       "      <td>0.621384</td>\n",
       "    </tr>\n",
       "    <tr>\n",
       "      <th>economy</th>\n",
       "      <td>86034.382920</td>\n",
       "      <td>0.246511</td>\n",
       "      <td>0.424289</td>\n",
       "      <td>0.329200</td>\n",
       "      <td>0.254790</td>\n",
       "      <td>0.412936</td>\n",
       "      <td>0.332274</td>\n",
       "      <td>0.580998</td>\n",
       "      <td>0.617019</td>\n",
       "    </tr>\n",
       "    <tr>\n",
       "      <th>election</th>\n",
       "      <td>81046.408173</td>\n",
       "      <td>0.185906</td>\n",
       "      <td>0.445589</td>\n",
       "      <td>0.368505</td>\n",
       "      <td>0.224348</td>\n",
       "      <td>0.344468</td>\n",
       "      <td>0.431183</td>\n",
       "      <td>0.417214</td>\n",
       "      <td>0.651288</td>\n",
       "    </tr>\n",
       "    <tr>\n",
       "      <th>first_lady</th>\n",
       "      <td>89817.809524</td>\n",
       "      <td>0.289956</td>\n",
       "      <td>0.289459</td>\n",
       "      <td>0.420585</td>\n",
       "      <td>0.125754</td>\n",
       "      <td>0.611178</td>\n",
       "      <td>0.263067</td>\n",
       "      <td>1.001717</td>\n",
       "      <td>0.205757</td>\n",
       "    </tr>\n",
       "    <tr>\n",
       "      <th>floyd</th>\n",
       "      <td>63862.278447</td>\n",
       "      <td>0.155446</td>\n",
       "      <td>0.539205</td>\n",
       "      <td>0.305349</td>\n",
       "      <td>0.111334</td>\n",
       "      <td>0.535897</td>\n",
       "      <td>0.352769</td>\n",
       "      <td>0.288287</td>\n",
       "      <td>0.207753</td>\n",
       "    </tr>\n",
       "    <tr>\n",
       "      <th>healthcare</th>\n",
       "      <td>61065.677966</td>\n",
       "      <td>0.421541</td>\n",
       "      <td>0.341808</td>\n",
       "      <td>0.236652</td>\n",
       "      <td>0.205578</td>\n",
       "      <td>0.296301</td>\n",
       "      <td>0.498121</td>\n",
       "      <td>1.233268</td>\n",
       "      <td>0.693814</td>\n",
       "    </tr>\n",
       "    <tr>\n",
       "      <th>hunter_biden</th>\n",
       "      <td>101446.381494</td>\n",
       "      <td>0.055272</td>\n",
       "      <td>0.422637</td>\n",
       "      <td>0.522091</td>\n",
       "      <td>0.067128</td>\n",
       "      <td>0.556101</td>\n",
       "      <td>0.376771</td>\n",
       "      <td>0.130779</td>\n",
       "      <td>0.120711</td>\n",
       "    </tr>\n",
       "    <tr>\n",
       "      <th>immigration</th>\n",
       "      <td>78692.081633</td>\n",
       "      <td>0.226782</td>\n",
       "      <td>0.401573</td>\n",
       "      <td>0.371645</td>\n",
       "      <td>0.282422</td>\n",
       "      <td>0.328484</td>\n",
       "      <td>0.389094</td>\n",
       "      <td>0.564733</td>\n",
       "      <td>0.859774</td>\n",
       "    </tr>\n",
       "    <tr>\n",
       "      <th>internatinal</th>\n",
       "      <td>71227.109483</td>\n",
       "      <td>0.196029</td>\n",
       "      <td>0.489643</td>\n",
       "      <td>0.314328</td>\n",
       "      <td>0.215954</td>\n",
       "      <td>0.374533</td>\n",
       "      <td>0.409513</td>\n",
       "      <td>0.400351</td>\n",
       "      <td>0.576595</td>\n",
       "    </tr>\n",
       "    <tr>\n",
       "      <th>other</th>\n",
       "      <td>67530.802080</td>\n",
       "      <td>0.152937</td>\n",
       "      <td>0.496604</td>\n",
       "      <td>0.350459</td>\n",
       "      <td>0.155367</td>\n",
       "      <td>0.449985</td>\n",
       "      <td>0.394648</td>\n",
       "      <td>0.307965</td>\n",
       "      <td>0.345272</td>\n",
       "    </tr>\n",
       "    <tr>\n",
       "      <th>pres_debate</th>\n",
       "      <td>83375.810056</td>\n",
       "      <td>0.125854</td>\n",
       "      <td>0.363794</td>\n",
       "      <td>0.510352</td>\n",
       "      <td>0.125850</td>\n",
       "      <td>0.319471</td>\n",
       "      <td>0.554679</td>\n",
       "      <td>0.345949</td>\n",
       "      <td>0.393934</td>\n",
       "    </tr>\n",
       "    <tr>\n",
       "      <th>proud boys</th>\n",
       "      <td>82211.929825</td>\n",
       "      <td>0.091193</td>\n",
       "      <td>0.658734</td>\n",
       "      <td>0.250073</td>\n",
       "      <td>0.039882</td>\n",
       "      <td>0.456507</td>\n",
       "      <td>0.503611</td>\n",
       "      <td>0.138436</td>\n",
       "      <td>0.087364</td>\n",
       "    </tr>\n",
       "    <tr>\n",
       "      <th>republican</th>\n",
       "      <td>66656.401114</td>\n",
       "      <td>0.232306</td>\n",
       "      <td>0.335205</td>\n",
       "      <td>0.432489</td>\n",
       "      <td>0.181828</td>\n",
       "      <td>0.466935</td>\n",
       "      <td>0.351237</td>\n",
       "      <td>0.693024</td>\n",
       "      <td>0.389408</td>\n",
       "    </tr>\n",
       "    <tr>\n",
       "      <th>security</th>\n",
       "      <td>70918.987179</td>\n",
       "      <td>0.116517</td>\n",
       "      <td>0.538106</td>\n",
       "      <td>0.345377</td>\n",
       "      <td>0.172301</td>\n",
       "      <td>0.414782</td>\n",
       "      <td>0.412917</td>\n",
       "      <td>0.216532</td>\n",
       "      <td>0.415402</td>\n",
       "    </tr>\n",
       "    <tr>\n",
       "      <th>social_media</th>\n",
       "      <td>78507.561475</td>\n",
       "      <td>0.090650</td>\n",
       "      <td>0.697414</td>\n",
       "      <td>0.211936</td>\n",
       "      <td>0.154515</td>\n",
       "      <td>0.439814</td>\n",
       "      <td>0.405671</td>\n",
       "      <td>0.129980</td>\n",
       "      <td>0.351320</td>\n",
       "    </tr>\n",
       "  </tbody>\n",
       "</table>\n",
       "</div>"
      ],
      "text/plain": [
       "                         id  trump_pos_new  trump_neg_new  trump_neu_new  \\\n",
       "topics                                                                     \n",
       "abortion       82515.988764       0.308380       0.372263       0.319357   \n",
       "capitol       133608.041812       0.070063       0.748393       0.181544   \n",
       "climate        84778.722449       0.249738       0.404307       0.345955   \n",
       "court          84190.026224       0.159786       0.389056       0.451158   \n",
       "covid          63975.520142       0.195626       0.457030       0.347343   \n",
       "democrats      61101.873057       0.092935       0.598943       0.308122   \n",
       "economy        86034.382920       0.246511       0.424289       0.329200   \n",
       "election       81046.408173       0.185906       0.445589       0.368505   \n",
       "first_lady     89817.809524       0.289956       0.289459       0.420585   \n",
       "floyd          63862.278447       0.155446       0.539205       0.305349   \n",
       "healthcare     61065.677966       0.421541       0.341808       0.236652   \n",
       "hunter_biden  101446.381494       0.055272       0.422637       0.522091   \n",
       "immigration    78692.081633       0.226782       0.401573       0.371645   \n",
       "internatinal   71227.109483       0.196029       0.489643       0.314328   \n",
       "other          67530.802080       0.152937       0.496604       0.350459   \n",
       "pres_debate    83375.810056       0.125854       0.363794       0.510352   \n",
       "proud boys     82211.929825       0.091193       0.658734       0.250073   \n",
       "republican     66656.401114       0.232306       0.335205       0.432489   \n",
       "security       70918.987179       0.116517       0.538106       0.345377   \n",
       "social_media   78507.561475       0.090650       0.697414       0.211936   \n",
       "\n",
       "              biden_pos_new  biden_neg_new  biden_neu_new  trump_fav_score  \\\n",
       "topics                                                                       \n",
       "abortion           0.216128       0.468801       0.315070         0.828391   \n",
       "capitol            0.171141       0.167566       0.661293         0.093618   \n",
       "climate            0.259123       0.440589       0.300288         0.617695   \n",
       "court              0.146712       0.473867       0.379421         0.410701   \n",
       "covid              0.184845       0.375101       0.440055         0.428037   \n",
       "democrats          0.216710       0.348753       0.434537         0.155165   \n",
       "economy            0.254790       0.412936       0.332274         0.580998   \n",
       "election           0.224348       0.344468       0.431183         0.417214   \n",
       "first_lady         0.125754       0.611178       0.263067         1.001717   \n",
       "floyd              0.111334       0.535897       0.352769         0.288287   \n",
       "healthcare         0.205578       0.296301       0.498121         1.233268   \n",
       "hunter_biden       0.067128       0.556101       0.376771         0.130779   \n",
       "immigration        0.282422       0.328484       0.389094         0.564733   \n",
       "internatinal       0.215954       0.374533       0.409513         0.400351   \n",
       "other              0.155367       0.449985       0.394648         0.307965   \n",
       "pres_debate        0.125850       0.319471       0.554679         0.345949   \n",
       "proud boys         0.039882       0.456507       0.503611         0.138436   \n",
       "republican         0.181828       0.466935       0.351237         0.693024   \n",
       "security           0.172301       0.414782       0.412917         0.216532   \n",
       "social_media       0.154515       0.439814       0.405671         0.129980   \n",
       "\n",
       "              biden_fav_score  \n",
       "topics                         \n",
       "abortion             0.461023  \n",
       "capitol              1.021336  \n",
       "climate              0.588128  \n",
       "court                0.309607  \n",
       "covid                0.492787  \n",
       "democrats            0.621384  \n",
       "economy              0.617019  \n",
       "election             0.651288  \n",
       "first_lady           0.205757  \n",
       "floyd                0.207753  \n",
       "healthcare           0.693814  \n",
       "hunter_biden         0.120711  \n",
       "immigration          0.859774  \n",
       "internatinal         0.576595  \n",
       "other                0.345272  \n",
       "pres_debate          0.393934  \n",
       "proud boys           0.087364  \n",
       "republican           0.389408  \n",
       "security             0.415402  \n",
       "social_media         0.351320  "
      ]
     },
     "execution_count": 37,
     "metadata": {},
     "output_type": "execute_result"
    }
   ],
   "source": [
    "# df1.reset_index(drop=True).merge(df2.reset_index(drop=True), left_index=True, right_index=True)\n",
    "df1.to_csv('results/topic_analysis/R_news_tweets_subtopic_based_mean_sentiments.csv')\n",
    "df2.to_csv('results/topic_analysis/L_news_tweets_subtopic_based_mean_sentiments.csv')"
   ]
  },
  {
   "cell_type": "code",
   "execution_count": 38,
   "id": "bcf2d7e0-e3f3-4c38-9d55-aade2abbd340",
   "metadata": {},
   "outputs": [
    {
     "data": {
      "text/html": [
       "<div>\n",
       "<style scoped>\n",
       "    .dataframe tbody tr th:only-of-type {\n",
       "        vertical-align: middle;\n",
       "    }\n",
       "\n",
       "    .dataframe tbody tr th {\n",
       "        vertical-align: top;\n",
       "    }\n",
       "\n",
       "    .dataframe thead th {\n",
       "        text-align: right;\n",
       "    }\n",
       "</style>\n",
       "<table border=\"1\" class=\"dataframe\">\n",
       "  <thead>\n",
       "    <tr style=\"text-align: right;\">\n",
       "      <th></th>\n",
       "      <th>id</th>\n",
       "      <th>trump_pos_new</th>\n",
       "      <th>trump_neg_new</th>\n",
       "      <th>trump_neu_new</th>\n",
       "      <th>biden_pos_new</th>\n",
       "      <th>biden_neg_new</th>\n",
       "      <th>biden_neu_new</th>\n",
       "      <th>trump_fav_score</th>\n",
       "      <th>biden_fav_score</th>\n",
       "    </tr>\n",
       "    <tr>\n",
       "      <th>topics</th>\n",
       "      <th></th>\n",
       "      <th></th>\n",
       "      <th></th>\n",
       "      <th></th>\n",
       "      <th></th>\n",
       "      <th></th>\n",
       "      <th></th>\n",
       "      <th></th>\n",
       "      <th></th>\n",
       "    </tr>\n",
       "  </thead>\n",
       "  <tbody>\n",
       "    <tr>\n",
       "      <th>abortion</th>\n",
       "      <td>74959.734694</td>\n",
       "      <td>0.078996</td>\n",
       "      <td>0.636226</td>\n",
       "      <td>0.284779</td>\n",
       "      <td>0.379313</td>\n",
       "      <td>0.218090</td>\n",
       "      <td>0.402597</td>\n",
       "      <td>0.124163</td>\n",
       "      <td>1.739248</td>\n",
       "    </tr>\n",
       "    <tr>\n",
       "      <th>capitol</th>\n",
       "      <td>135434.610837</td>\n",
       "      <td>0.050790</td>\n",
       "      <td>0.745370</td>\n",
       "      <td>0.203840</td>\n",
       "      <td>0.215293</td>\n",
       "      <td>0.130617</td>\n",
       "      <td>0.654091</td>\n",
       "      <td>0.068141</td>\n",
       "      <td>1.648281</td>\n",
       "    </tr>\n",
       "    <tr>\n",
       "      <th>climate</th>\n",
       "      <td>84679.852518</td>\n",
       "      <td>0.160363</td>\n",
       "      <td>0.479995</td>\n",
       "      <td>0.359641</td>\n",
       "      <td>0.405006</td>\n",
       "      <td>0.205851</td>\n",
       "      <td>0.389143</td>\n",
       "      <td>0.334094</td>\n",
       "      <td>1.967471</td>\n",
       "    </tr>\n",
       "    <tr>\n",
       "      <th>court</th>\n",
       "      <td>76114.182716</td>\n",
       "      <td>0.118898</td>\n",
       "      <td>0.492988</td>\n",
       "      <td>0.388114</td>\n",
       "      <td>0.236043</td>\n",
       "      <td>0.195428</td>\n",
       "      <td>0.568529</td>\n",
       "      <td>0.241179</td>\n",
       "      <td>1.207824</td>\n",
       "    </tr>\n",
       "    <tr>\n",
       "      <th>covid</th>\n",
       "      <td>59071.397122</td>\n",
       "      <td>0.135867</td>\n",
       "      <td>0.543563</td>\n",
       "      <td>0.320569</td>\n",
       "      <td>0.257824</td>\n",
       "      <td>0.186267</td>\n",
       "      <td>0.555909</td>\n",
       "      <td>0.249957</td>\n",
       "      <td>1.384160</td>\n",
       "    </tr>\n",
       "    <tr>\n",
       "      <th>democrats</th>\n",
       "      <td>54556.321721</td>\n",
       "      <td>0.095377</td>\n",
       "      <td>0.622150</td>\n",
       "      <td>0.282474</td>\n",
       "      <td>0.295080</td>\n",
       "      <td>0.159275</td>\n",
       "      <td>0.545645</td>\n",
       "      <td>0.153301</td>\n",
       "      <td>1.852643</td>\n",
       "    </tr>\n",
       "    <tr>\n",
       "      <th>economy</th>\n",
       "      <td>90847.267857</td>\n",
       "      <td>0.147144</td>\n",
       "      <td>0.597935</td>\n",
       "      <td>0.254921</td>\n",
       "      <td>0.347618</td>\n",
       "      <td>0.256485</td>\n",
       "      <td>0.395897</td>\n",
       "      <td>0.246088</td>\n",
       "      <td>1.355313</td>\n",
       "    </tr>\n",
       "    <tr>\n",
       "      <th>election</th>\n",
       "      <td>86960.511806</td>\n",
       "      <td>0.103657</td>\n",
       "      <td>0.674238</td>\n",
       "      <td>0.222105</td>\n",
       "      <td>0.369275</td>\n",
       "      <td>0.237824</td>\n",
       "      <td>0.392901</td>\n",
       "      <td>0.153739</td>\n",
       "      <td>1.552725</td>\n",
       "    </tr>\n",
       "    <tr>\n",
       "      <th>first_lady</th>\n",
       "      <td>87116.813084</td>\n",
       "      <td>0.149317</td>\n",
       "      <td>0.421089</td>\n",
       "      <td>0.429594</td>\n",
       "      <td>0.311099</td>\n",
       "      <td>0.325345</td>\n",
       "      <td>0.363556</td>\n",
       "      <td>0.354596</td>\n",
       "      <td>0.956214</td>\n",
       "    </tr>\n",
       "    <tr>\n",
       "      <th>floyd</th>\n",
       "      <td>55614.115727</td>\n",
       "      <td>0.122503</td>\n",
       "      <td>0.570655</td>\n",
       "      <td>0.306843</td>\n",
       "      <td>0.212490</td>\n",
       "      <td>0.289362</td>\n",
       "      <td>0.498148</td>\n",
       "      <td>0.214670</td>\n",
       "      <td>0.734338</td>\n",
       "    </tr>\n",
       "    <tr>\n",
       "      <th>healthcare</th>\n",
       "      <td>70080.602273</td>\n",
       "      <td>0.236004</td>\n",
       "      <td>0.507444</td>\n",
       "      <td>0.256553</td>\n",
       "      <td>0.239277</td>\n",
       "      <td>0.276928</td>\n",
       "      <td>0.483794</td>\n",
       "      <td>0.465083</td>\n",
       "      <td>0.864041</td>\n",
       "    </tr>\n",
       "    <tr>\n",
       "      <th>hunter_biden</th>\n",
       "      <td>82114.839286</td>\n",
       "      <td>0.038474</td>\n",
       "      <td>0.634128</td>\n",
       "      <td>0.327398</td>\n",
       "      <td>0.031462</td>\n",
       "      <td>0.514006</td>\n",
       "      <td>0.454533</td>\n",
       "      <td>0.060672</td>\n",
       "      <td>0.061209</td>\n",
       "    </tr>\n",
       "    <tr>\n",
       "      <th>immigration</th>\n",
       "      <td>68254.216981</td>\n",
       "      <td>0.088850</td>\n",
       "      <td>0.522689</td>\n",
       "      <td>0.388461</td>\n",
       "      <td>0.295856</td>\n",
       "      <td>0.214208</td>\n",
       "      <td>0.489936</td>\n",
       "      <td>0.169987</td>\n",
       "      <td>1.381161</td>\n",
       "    </tr>\n",
       "    <tr>\n",
       "      <th>internatinal</th>\n",
       "      <td>70845.807588</td>\n",
       "      <td>0.100495</td>\n",
       "      <td>0.560646</td>\n",
       "      <td>0.338858</td>\n",
       "      <td>0.243076</td>\n",
       "      <td>0.253035</td>\n",
       "      <td>0.503889</td>\n",
       "      <td>0.179249</td>\n",
       "      <td>0.960641</td>\n",
       "    </tr>\n",
       "    <tr>\n",
       "      <th>other</th>\n",
       "      <td>75970.743717</td>\n",
       "      <td>0.098163</td>\n",
       "      <td>0.499663</td>\n",
       "      <td>0.402173</td>\n",
       "      <td>0.235776</td>\n",
       "      <td>0.200805</td>\n",
       "      <td>0.563419</td>\n",
       "      <td>0.196459</td>\n",
       "      <td>1.174157</td>\n",
       "    </tr>\n",
       "    <tr>\n",
       "      <th>pres_debate</th>\n",
       "      <td>87443.803191</td>\n",
       "      <td>0.111483</td>\n",
       "      <td>0.508990</td>\n",
       "      <td>0.379527</td>\n",
       "      <td>0.184179</td>\n",
       "      <td>0.199876</td>\n",
       "      <td>0.615946</td>\n",
       "      <td>0.219027</td>\n",
       "      <td>0.921465</td>\n",
       "    </tr>\n",
       "    <tr>\n",
       "      <th>proud boys</th>\n",
       "      <td>82936.648649</td>\n",
       "      <td>0.121275</td>\n",
       "      <td>0.742795</td>\n",
       "      <td>0.135930</td>\n",
       "      <td>0.199724</td>\n",
       "      <td>0.521818</td>\n",
       "      <td>0.278457</td>\n",
       "      <td>0.163269</td>\n",
       "      <td>0.382747</td>\n",
       "    </tr>\n",
       "    <tr>\n",
       "      <th>republican</th>\n",
       "      <td>65076.575630</td>\n",
       "      <td>0.163764</td>\n",
       "      <td>0.481416</td>\n",
       "      <td>0.354819</td>\n",
       "      <td>0.304845</td>\n",
       "      <td>0.206708</td>\n",
       "      <td>0.488447</td>\n",
       "      <td>0.340172</td>\n",
       "      <td>1.474762</td>\n",
       "    </tr>\n",
       "    <tr>\n",
       "      <th>security</th>\n",
       "      <td>69444.209440</td>\n",
       "      <td>0.072233</td>\n",
       "      <td>0.630159</td>\n",
       "      <td>0.297608</td>\n",
       "      <td>0.159426</td>\n",
       "      <td>0.240527</td>\n",
       "      <td>0.600047</td>\n",
       "      <td>0.114627</td>\n",
       "      <td>0.662821</td>\n",
       "    </tr>\n",
       "    <tr>\n",
       "      <th>social_media</th>\n",
       "      <td>75548.305630</td>\n",
       "      <td>0.066030</td>\n",
       "      <td>0.683012</td>\n",
       "      <td>0.250958</td>\n",
       "      <td>0.207620</td>\n",
       "      <td>0.341497</td>\n",
       "      <td>0.450883</td>\n",
       "      <td>0.096675</td>\n",
       "      <td>0.607970</td>\n",
       "    </tr>\n",
       "  </tbody>\n",
       "</table>\n",
       "</div>"
      ],
      "text/plain": [
       "                         id  trump_pos_new  trump_neg_new  trump_neu_new  \\\n",
       "topics                                                                     \n",
       "abortion       74959.734694       0.078996       0.636226       0.284779   \n",
       "capitol       135434.610837       0.050790       0.745370       0.203840   \n",
       "climate        84679.852518       0.160363       0.479995       0.359641   \n",
       "court          76114.182716       0.118898       0.492988       0.388114   \n",
       "covid          59071.397122       0.135867       0.543563       0.320569   \n",
       "democrats      54556.321721       0.095377       0.622150       0.282474   \n",
       "economy        90847.267857       0.147144       0.597935       0.254921   \n",
       "election       86960.511806       0.103657       0.674238       0.222105   \n",
       "first_lady     87116.813084       0.149317       0.421089       0.429594   \n",
       "floyd          55614.115727       0.122503       0.570655       0.306843   \n",
       "healthcare     70080.602273       0.236004       0.507444       0.256553   \n",
       "hunter_biden   82114.839286       0.038474       0.634128       0.327398   \n",
       "immigration    68254.216981       0.088850       0.522689       0.388461   \n",
       "internatinal   70845.807588       0.100495       0.560646       0.338858   \n",
       "other          75970.743717       0.098163       0.499663       0.402173   \n",
       "pres_debate    87443.803191       0.111483       0.508990       0.379527   \n",
       "proud boys     82936.648649       0.121275       0.742795       0.135930   \n",
       "republican     65076.575630       0.163764       0.481416       0.354819   \n",
       "security       69444.209440       0.072233       0.630159       0.297608   \n",
       "social_media   75548.305630       0.066030       0.683012       0.250958   \n",
       "\n",
       "              biden_pos_new  biden_neg_new  biden_neu_new  trump_fav_score  \\\n",
       "topics                                                                       \n",
       "abortion           0.379313       0.218090       0.402597         0.124163   \n",
       "capitol            0.215293       0.130617       0.654091         0.068141   \n",
       "climate            0.405006       0.205851       0.389143         0.334094   \n",
       "court              0.236043       0.195428       0.568529         0.241179   \n",
       "covid              0.257824       0.186267       0.555909         0.249957   \n",
       "democrats          0.295080       0.159275       0.545645         0.153301   \n",
       "economy            0.347618       0.256485       0.395897         0.246088   \n",
       "election           0.369275       0.237824       0.392901         0.153739   \n",
       "first_lady         0.311099       0.325345       0.363556         0.354596   \n",
       "floyd              0.212490       0.289362       0.498148         0.214670   \n",
       "healthcare         0.239277       0.276928       0.483794         0.465083   \n",
       "hunter_biden       0.031462       0.514006       0.454533         0.060672   \n",
       "immigration        0.295856       0.214208       0.489936         0.169987   \n",
       "internatinal       0.243076       0.253035       0.503889         0.179249   \n",
       "other              0.235776       0.200805       0.563419         0.196459   \n",
       "pres_debate        0.184179       0.199876       0.615946         0.219027   \n",
       "proud boys         0.199724       0.521818       0.278457         0.163269   \n",
       "republican         0.304845       0.206708       0.488447         0.340172   \n",
       "security           0.159426       0.240527       0.600047         0.114627   \n",
       "social_media       0.207620       0.341497       0.450883         0.096675   \n",
       "\n",
       "              biden_fav_score  \n",
       "topics                         \n",
       "abortion             1.739248  \n",
       "capitol              1.648281  \n",
       "climate              1.967471  \n",
       "court                1.207824  \n",
       "covid                1.384160  \n",
       "democrats            1.852643  \n",
       "economy              1.355313  \n",
       "election             1.552725  \n",
       "first_lady           0.956214  \n",
       "floyd                0.734338  \n",
       "healthcare           0.864041  \n",
       "hunter_biden         0.061209  \n",
       "immigration          1.381161  \n",
       "internatinal         0.960641  \n",
       "other                1.174157  \n",
       "pres_debate          0.921465  \n",
       "proud boys           0.382747  \n",
       "republican           1.474762  \n",
       "security             0.662821  \n",
       "social_media         0.607970  "
      ]
     },
     "execution_count": 38,
     "metadata": {},
     "output_type": "execute_result"
    }
   ],
   "source": [
    "df2"
   ]
  },
  {
   "cell_type": "code",
   "execution_count": 223,
   "id": "552ad7f7-4686-495f-92f9-3e45d2447e0e",
   "metadata": {},
   "outputs": [],
   "source": [
    "# df1.reset_index(drop=True).merge(df2.reset_index(drop=True), left_index=True, right_index=True)\n",
    "df1.to_csv('results/topic_analysis/R_news_tweets_subtopic_based_mean_sentiments.csv')\n",
    "df2.to_csv('results/topic_analysis/L_news_tweets_subtopic_based_mean_sentiments.csv')"
   ]
  },
  {
   "cell_type": "code",
   "execution_count": null,
   "id": "bd7b7e5a-0eb1-4f3c-b1b7-77efb2d2781f",
   "metadata": {},
   "outputs": [],
   "source": []
  },
  {
   "cell_type": "markdown",
   "id": "ab94ffd8-7d4e-4b3c-90a1-adca58bb9a3c",
   "metadata": {},
   "source": [
    "### Publisher-wise Trump vs Biden"
   ]
  },
  {
   "cell_type": "code",
   "execution_count": 176,
   "id": "d170be95-842d-4bb0-af66-032a399c9b98",
   "metadata": {},
   "outputs": [
    {
     "data": {
      "text/plain": [
       "The Washington Post    7481\n",
       "CNN                    7015\n",
       "Business Insider       3942\n",
       "Breitbart News         3579\n",
       "USA Today              3517\n",
       "Fox News                878\n",
       "Name: publication, dtype: int64"
      ]
     },
     "execution_count": 176,
     "metadata": {},
     "output_type": "execute_result"
    }
   ],
   "source": [
    "news.publication.value_counts()"
   ]
  },
  {
   "cell_type": "code",
   "execution_count": 188,
   "id": "2827e6f6-29d7-4212-a046-491aa0e9accd",
   "metadata": {},
   "outputs": [
    {
     "name": "stderr",
     "output_type": "stream",
     "text": [
      "/tmp/ipykernel_1748971/3957141388.py:1: FutureWarning: The default value of numeric_only in DataFrameGroupBy.mean is deprecated. In a future version, numeric_only will default to False. Either specify numeric_only or select only columns which should be valid for the function.\n",
      "  pubwise_news_mean = news.groupby('publication').mean()\n"
     ]
    }
   ],
   "source": [
    "pubwise_news_mean = news.groupby('publication').mean()"
   ]
  },
  {
   "cell_type": "code",
   "execution_count": 189,
   "id": "1f4a3bba-7c69-45a1-873b-218d3f30d09d",
   "metadata": {},
   "outputs": [
    {
     "data": {
      "text/html": [
       "<div>\n",
       "<style scoped>\n",
       "    .dataframe tbody tr th:only-of-type {\n",
       "        vertical-align: middle;\n",
       "    }\n",
       "\n",
       "    .dataframe tbody tr th {\n",
       "        vertical-align: top;\n",
       "    }\n",
       "\n",
       "    .dataframe thead th {\n",
       "        text-align: right;\n",
       "    }\n",
       "</style>\n",
       "<table border=\"1\" class=\"dataframe\">\n",
       "  <thead>\n",
       "    <tr style=\"text-align: right;\">\n",
       "      <th></th>\n",
       "      <th>topic_ids</th>\n",
       "      <th>trump_pos_new</th>\n",
       "      <th>trump_neg_new</th>\n",
       "      <th>trump_neu_new</th>\n",
       "      <th>biden_pos_new</th>\n",
       "      <th>biden_neg_new</th>\n",
       "      <th>biden_neu_new</th>\n",
       "    </tr>\n",
       "    <tr>\n",
       "      <th>publication</th>\n",
       "      <th></th>\n",
       "      <th></th>\n",
       "      <th></th>\n",
       "      <th></th>\n",
       "      <th></th>\n",
       "      <th></th>\n",
       "      <th></th>\n",
       "    </tr>\n",
       "  </thead>\n",
       "  <tbody>\n",
       "    <tr>\n",
       "      <th>Breitbart News</th>\n",
       "      <td>19.18</td>\n",
       "      <td>0.16</td>\n",
       "      <td>0.52</td>\n",
       "      <td>0.32</td>\n",
       "      <td>0.18</td>\n",
       "      <td>0.41</td>\n",
       "      <td>0.41</td>\n",
       "    </tr>\n",
       "    <tr>\n",
       "      <th>Business Insider</th>\n",
       "      <td>20.56</td>\n",
       "      <td>0.12</td>\n",
       "      <td>0.62</td>\n",
       "      <td>0.26</td>\n",
       "      <td>0.31</td>\n",
       "      <td>0.28</td>\n",
       "      <td>0.40</td>\n",
       "    </tr>\n",
       "    <tr>\n",
       "      <th>CNN</th>\n",
       "      <td>23.52</td>\n",
       "      <td>0.10</td>\n",
       "      <td>0.54</td>\n",
       "      <td>0.36</td>\n",
       "      <td>0.26</td>\n",
       "      <td>0.19</td>\n",
       "      <td>0.55</td>\n",
       "    </tr>\n",
       "    <tr>\n",
       "      <th>Fox News</th>\n",
       "      <td>21.11</td>\n",
       "      <td>0.16</td>\n",
       "      <td>0.49</td>\n",
       "      <td>0.35</td>\n",
       "      <td>0.17</td>\n",
       "      <td>0.41</td>\n",
       "      <td>0.42</td>\n",
       "    </tr>\n",
       "    <tr>\n",
       "      <th>The Washington Post</th>\n",
       "      <td>20.32</td>\n",
       "      <td>0.12</td>\n",
       "      <td>0.61</td>\n",
       "      <td>0.27</td>\n",
       "      <td>0.29</td>\n",
       "      <td>0.25</td>\n",
       "      <td>0.45</td>\n",
       "    </tr>\n",
       "    <tr>\n",
       "      <th>USA Today</th>\n",
       "      <td>19.98</td>\n",
       "      <td>0.14</td>\n",
       "      <td>0.47</td>\n",
       "      <td>0.39</td>\n",
       "      <td>0.28</td>\n",
       "      <td>0.21</td>\n",
       "      <td>0.52</td>\n",
       "    </tr>\n",
       "  </tbody>\n",
       "</table>\n",
       "</div>"
      ],
      "text/plain": [
       "                     topic_ids  trump_pos_new  trump_neg_new  trump_neu_new  \\\n",
       "publication                                                                   \n",
       "Breitbart News           19.18           0.16           0.52           0.32   \n",
       "Business Insider         20.56           0.12           0.62           0.26   \n",
       "CNN                      23.52           0.10           0.54           0.36   \n",
       "Fox News                 21.11           0.16           0.49           0.35   \n",
       "The Washington Post      20.32           0.12           0.61           0.27   \n",
       "USA Today                19.98           0.14           0.47           0.39   \n",
       "\n",
       "                     biden_pos_new  biden_neg_new  biden_neu_new  \n",
       "publication                                                       \n",
       "Breitbart News                0.18           0.41           0.41  \n",
       "Business Insider              0.31           0.28           0.40  \n",
       "CNN                           0.26           0.19           0.55  \n",
       "Fox News                      0.17           0.41           0.42  \n",
       "The Washington Post           0.29           0.25           0.45  \n",
       "USA Today                     0.28           0.21           0.52  "
      ]
     },
     "execution_count": 189,
     "metadata": {},
     "output_type": "execute_result"
    }
   ],
   "source": [
    "pubwise_news_mean[['topic_ids', 'trump_pos_new', 'trump_neg_new', 'trump_neu_new', 'biden_pos_new', 'biden_neg_new', 'biden_neu_new']]  #.to_csv('results/Trump-vs-Biden_news_tweets.csv')"
   ]
  },
  {
   "cell_type": "code",
   "execution_count": 178,
   "id": "9828e207-4d12-427f-a3f5-5e5385ca2c9c",
   "metadata": {},
   "outputs": [
    {
     "data": {
      "text/plain": [
       "Index(['Unnamed: 0.4', 'Unnamed: 0', 'Unnamed: 0.3', 'Unnamed: 0.2',\n",
       "       'Unnamed: 0.1', 'Unnamed: 0.1.1', 'Unnamed: 0.1.1.1', 'tweet_id',\n",
       "       'conversation_id', 'author_id', 'like_count', 'quote_count',\n",
       "       'reply_count', 'retweet_count', 'pos_senti', 'neu_senti', 'neg_senti',\n",
       "       'week', 'topic_ids', 'trump_pos_new', 'trump_neg_new', 'trump_neu_new',\n",
       "       'biden_pos_new', 'biden_neg_new', 'biden_neu_new'],\n",
       "      dtype='object')"
      ]
     },
     "execution_count": 178,
     "metadata": {},
     "output_type": "execute_result"
    }
   ],
   "source": [
    "pubwise_news_mean.columns"
   ]
  },
  {
   "cell_type": "code",
   "execution_count": 165,
   "id": "95ae8e91-5543-41d5-8d1e-c328d45bae63",
   "metadata": {},
   "outputs": [],
   "source": [
    "# df = pd.DataFrame()\n",
    "# for pub, grp in news.groupby('publication'):\n",
    "#     temp_df = grp.groupby('topics').mean()\n",
    "#     temp_df['publication'] = pub\n",
    "#     print(temp_df.head())\n",
    "#     # print(.shape)\n",
    "#     # sys.exit()"
   ]
  },
  {
   "cell_type": "code",
   "execution_count": null,
   "id": "4d5034f7-dfeb-4f8c-a9ca-28ab4e227ccd",
   "metadata": {},
   "outputs": [],
   "source": []
  },
  {
   "cell_type": "code",
   "execution_count": null,
   "id": "75091e47-a3f6-4105-9dc6-0f0c8b640c96",
   "metadata": {},
   "outputs": [],
   "source": []
  },
  {
   "cell_type": "code",
   "execution_count": null,
   "id": "3c17d568-f2f0-4246-84ac-0a321ad9d231",
   "metadata": {},
   "outputs": [],
   "source": []
  }
 ],
 "metadata": {
  "kernelspec": {
   "display_name": "py3_10",
   "language": "python",
   "name": "py3_10"
  },
  "language_info": {
   "codemirror_mode": {
    "name": "ipython",
    "version": 3
   },
   "file_extension": ".py",
   "mimetype": "text/x-python",
   "name": "python",
   "nbconvert_exporter": "python",
   "pygments_lexer": "ipython3",
   "version": "3.10.6"
  }
 },
 "nbformat": 4,
 "nbformat_minor": 5
}
