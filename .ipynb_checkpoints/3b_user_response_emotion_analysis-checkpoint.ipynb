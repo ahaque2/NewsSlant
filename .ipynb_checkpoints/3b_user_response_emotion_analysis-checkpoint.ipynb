{
 "cells": [
  {
   "cell_type": "markdown",
   "id": "31d8ee0c-3a9d-4a77-9846-4bf20056d927",
   "metadata": {},
   "source": [
    "### Analyzing User responses"
   ]
  },
  {
   "cell_type": "code",
   "execution_count": null,
   "id": "245f8b15-de8e-4f71-96d0-b6d9b73df608",
   "metadata": {},
   "outputs": [],
   "source": [
    "import pandas as pd\n",
    "import numpy as np\n",
    "import sys\n",
    "\n",
    "import matplotlib.pyplot as plt\n",
    "# from bertopic import BERTopic\n",
    "pd.set_option('display.max_colwidth', None)\n",
    "from scipy import stats"
   ]
  },
  {
   "cell_type": "code",
   "execution_count": 3,
   "id": "e2a7e640-36f2-4288-a213-2fe6008726c6",
   "metadata": {},
   "outputs": [],
   "source": [
    "user_resp = pd.read_csv('results/user_response.csv')\n",
    "news_tweets = pd.read_csv('results/news_tweets.csv')\n",
    "# news_tweets = pd.read_csv('results/older_sentiment/news_tweets.csv')"
   ]
  },
  {
   "cell_type": "code",
   "execution_count": 4,
   "id": "1dd151e2-3b72-4f98-8c1a-eca049850659",
   "metadata": {},
   "outputs": [
    {
     "data": {
      "text/plain": [
       "CNN                    332227\n",
       "The Washington Post    219282\n",
       "Fox News               119202\n",
       "Breitbart News          67333\n",
       "USA Today               17859\n",
       "Business Insider         9893\n",
       "Name: publication, dtype: int64"
      ]
     },
     "execution_count": 4,
     "metadata": {},
     "output_type": "execute_result"
    }
   ],
   "source": [
    "user_resp.publication.value_counts()"
   ]
  },
  {
   "cell_type": "code",
   "execution_count": 5,
   "id": "f8e8b862-1f8a-41a4-a747-ade26c26c7ee",
   "metadata": {},
   "outputs": [
    {
     "data": {
      "text/plain": [
       "(765796, 43)"
      ]
     },
     "execution_count": 5,
     "metadata": {},
     "output_type": "execute_result"
    }
   ],
   "source": [
    "user_resp.shape"
   ]
  },
  {
   "cell_type": "code",
   "execution_count": 6,
   "id": "4b6d39ce-52c9-4f39-bb59-1165e1be12b6",
   "metadata": {},
   "outputs": [],
   "source": [
    "user_resp['publish_date'] = pd.to_datetime(user_resp['created_at'])\n",
    "user_resp['day'] = user_resp.publish_date.dt.day\n",
    "user_resp['month'] = user_resp.publish_date.dt.month\n",
    "user_resp['year'] = user_resp.publish_date.dt.year\n",
    "user_resp['timestamp'] = user_resp.publish_date.dt.time"
   ]
  },
  {
   "cell_type": "code",
   "execution_count": 7,
   "id": "f6ed761a-6c81-474d-a27d-9f02be35d93d",
   "metadata": {},
   "outputs": [
    {
     "data": {
      "text/plain": [
       "(765796, 48)"
      ]
     },
     "execution_count": 7,
     "metadata": {},
     "output_type": "execute_result"
    }
   ],
   "source": [
    "user_resp.shape"
   ]
  },
  {
   "cell_type": "code",
   "execution_count": 8,
   "id": "aa50062f-e855-433f-854b-d15126f1f2fc",
   "metadata": {},
   "outputs": [
    {
     "data": {
      "text/plain": [
       "(2911, 24584)"
      ]
     },
     "execution_count": 8,
     "metadata": {},
     "output_type": "execute_result"
    }
   ],
   "source": [
    "user_resp.conversation_id.nunique(), news_tweets.conversation_id.nunique()"
   ]
  },
  {
   "cell_type": "code",
   "execution_count": 9,
   "id": "6a514047-9bde-4948-8255-fedfaab608ee",
   "metadata": {},
   "outputs": [],
   "source": [
    "R_user_resp = user_resp[((user_resp['publication'] == 'Breitbart News') | (user_resp['publication'] == 'Fox News'))]\n",
    "L_user_resp = user_resp[((user_resp['publication'] == 'CNN') | (user_resp['publication'] == 'The Washington Post'))]\n",
    "C_user_resp = user_resp[((user_resp['publication'] == 'Business Insider') | (user_resp['publication'] ==  'USA Today'))]"
   ]
  },
  {
   "cell_type": "code",
   "execution_count": 26,
   "id": "3774449b-b61f-48a8-87e1-ce6b7a439d47",
   "metadata": {},
   "outputs": [],
   "source": [
    "R_news_tweets = news_tweets[((news_tweets['publication'] == 'Breitbart News') | (news_tweets['publication'] == 'Fox News'))]\n",
    "L_news_tweets = news_tweets[((news_tweets['publication'] == 'CNN') | (news_tweets['publication'] == 'The Washington Post'))]\n",
    "C_news_tweets = news_tweets[((news_tweets['publication'] == 'Business Insider') | (news_tweets['publication'] ==  'USA Today'))]"
   ]
  },
  {
   "cell_type": "code",
   "execution_count": 27,
   "id": "654fcb9c-c48e-443f-9ded-51e258f5c512",
   "metadata": {},
   "outputs": [
    {
     "data": {
      "text/plain": [
       "((4115, 49), (7362, 49), (13107, 49))"
      ]
     },
     "execution_count": 27,
     "metadata": {},
     "output_type": "execute_result"
    }
   ],
   "source": [
    "R_news_tweets.shape, C_news_tweets.shape, L_news_tweets.shape"
   ]
  },
  {
   "cell_type": "markdown",
   "id": "0f7365db-f540-4202-8459-86b84ad9a5e5",
   "metadata": {},
   "source": [
    "### Average number of user responses per news tweet"
   ]
  },
  {
   "cell_type": "code",
   "execution_count": 11,
   "id": "00061aff-8cfa-41a5-bb16-4cd45f420442",
   "metadata": {},
   "outputs": [
    {
     "data": {
      "text/plain": [
       "(396.8829787234043, 313.5355315520182, 40.69208211143695)"
      ]
     },
     "execution_count": 11,
     "metadata": {},
     "output_type": "execute_result"
    }
   ],
   "source": [
    "R_user_resp.shape[0]/R_user_resp.conversation_id.nunique(), L_user_resp.shape[0]/L_user_resp.conversation_id.nunique(), C_user_resp.shape[0]/C_user_resp.conversation_id.nunique()"
   ]
  },
  {
   "cell_type": "code",
   "execution_count": 12,
   "id": "36057b39-3599-459a-acf3-f06d74a2b1e3",
   "metadata": {},
   "outputs": [],
   "source": [
    "cols = ['topics', 'like_count', 'quote_count', 'reply_count', 'retweet_count', 'anger', 'joy', 'optimism', 'sadness', 'trump_pos', 'trump_neg', 'trump_neu', 'biden_pos', 'biden_neg', 'biden_neu']"
   ]
  },
  {
   "cell_type": "code",
   "execution_count": 13,
   "id": "78e91b67-6d14-4b28-a422-7817918ea973",
   "metadata": {},
   "outputs": [],
   "source": [
    "data = []\n",
    "for top, grp in R_user_resp.groupby('topics'):\n",
    "    num_resp = grp.shape[0]/grp.conversation_id.nunique()\n",
    "    \n",
    "    data.append((top, num_resp))\n",
    "df_resp_pt_R = pd.DataFrame(data, columns = ['topics', 'resp_per_tweet'])"
   ]
  },
  {
   "cell_type": "code",
   "execution_count": 14,
   "id": "f588cc10-5f48-4c24-8ca1-3b21d87181f4",
   "metadata": {},
   "outputs": [],
   "source": [
    "data = []\n",
    "for top, grp in L_user_resp.groupby('topics'):\n",
    "    num_resp = grp.shape[0]/grp.conversation_id.nunique()\n",
    "    \n",
    "    data.append((top, num_resp))\n",
    "df_resp_pt_L = pd.DataFrame(data, columns = ['topics', 'resp_per_tweet'])"
   ]
  },
  {
   "cell_type": "code",
   "execution_count": 36,
   "id": "feebd5b9-3e38-45a6-a2a2-4ac6e84dde40",
   "metadata": {},
   "outputs": [],
   "source": [
    "# for top in set(news_tweets.topics):\n",
    "    \n",
    "#     print(top, R_news_tweets[R_news_tweets.topics == top].Trump_flag.value_counts())"
   ]
  },
  {
   "cell_type": "code",
   "execution_count": 38,
   "id": "d731c2a4-6342-4304-987b-c5751d53b89f",
   "metadata": {},
   "outputs": [
    {
     "data": {
      "text/html": [
       "<div>\n",
       "<style scoped>\n",
       "    .dataframe tbody tr th:only-of-type {\n",
       "        vertical-align: middle;\n",
       "    }\n",
       "\n",
       "    .dataframe tbody tr th {\n",
       "        vertical-align: top;\n",
       "    }\n",
       "\n",
       "    .dataframe thead th {\n",
       "        text-align: right;\n",
       "    }\n",
       "</style>\n",
       "<table border=\"1\" class=\"dataframe\">\n",
       "  <thead>\n",
       "    <tr style=\"text-align: right;\">\n",
       "      <th></th>\n",
       "      <th>Unnamed: 0.6</th>\n",
       "      <th>Unnamed: 0.5</th>\n",
       "      <th>Unnamed: 0.4</th>\n",
       "      <th>Unnamed: 0</th>\n",
       "      <th>Unnamed: 0.3</th>\n",
       "      <th>Unnamed: 0.2</th>\n",
       "      <th>Unnamed: 0.1</th>\n",
       "      <th>Unnamed: 0.1.1</th>\n",
       "      <th>Unnamed: 0.1.1.1</th>\n",
       "      <th>tweet_id</th>\n",
       "      <th>...</th>\n",
       "      <th>trump_pos_new</th>\n",
       "      <th>trump_neg_new</th>\n",
       "      <th>trump_neu_new</th>\n",
       "      <th>biden_pos_new</th>\n",
       "      <th>biden_neg_new</th>\n",
       "      <th>biden_neu_new</th>\n",
       "      <th>Trump_flag</th>\n",
       "      <th>Biden_flag</th>\n",
       "      <th>Trump_Biden_flag</th>\n",
       "      <th>topic_id</th>\n",
       "    </tr>\n",
       "  </thead>\n",
       "  <tbody>\n",
       "    <tr>\n",
       "      <th>8</th>\n",
       "      <td>8</td>\n",
       "      <td>8</td>\n",
       "      <td>8</td>\n",
       "      <td>8</td>\n",
       "      <td>8</td>\n",
       "      <td>8</td>\n",
       "      <td>8</td>\n",
       "      <td>8</td>\n",
       "      <td>8</td>\n",
       "      <td>1355803043120480256</td>\n",
       "      <td>...</td>\n",
       "      <td>0.362204</td>\n",
       "      <td>0.424258</td>\n",
       "      <td>0.213537</td>\n",
       "      <td>NaN</td>\n",
       "      <td>NaN</td>\n",
       "      <td>NaN</td>\n",
       "      <td>True</td>\n",
       "      <td>False</td>\n",
       "      <td>False</td>\n",
       "      <td>17</td>\n",
       "    </tr>\n",
       "    <tr>\n",
       "      <th>68</th>\n",
       "      <td>77</td>\n",
       "      <td>77</td>\n",
       "      <td>82</td>\n",
       "      <td>90</td>\n",
       "      <td>90</td>\n",
       "      <td>90</td>\n",
       "      <td>90</td>\n",
       "      <td>90</td>\n",
       "      <td>90</td>\n",
       "      <td>1354288962957938692</td>\n",
       "      <td>...</td>\n",
       "      <td>0.003119</td>\n",
       "      <td>0.990542</td>\n",
       "      <td>0.006339</td>\n",
       "      <td>NaN</td>\n",
       "      <td>NaN</td>\n",
       "      <td>NaN</td>\n",
       "      <td>True</td>\n",
       "      <td>False</td>\n",
       "      <td>False</td>\n",
       "      <td>17</td>\n",
       "    </tr>\n",
       "    <tr>\n",
       "      <th>94</th>\n",
       "      <td>104</td>\n",
       "      <td>104</td>\n",
       "      <td>112</td>\n",
       "      <td>122</td>\n",
       "      <td>122</td>\n",
       "      <td>122</td>\n",
       "      <td>122</td>\n",
       "      <td>122</td>\n",
       "      <td>122</td>\n",
       "      <td>1353994874656346112</td>\n",
       "      <td>...</td>\n",
       "      <td>NaN</td>\n",
       "      <td>NaN</td>\n",
       "      <td>NaN</td>\n",
       "      <td>0.416678</td>\n",
       "      <td>0.489520</td>\n",
       "      <td>0.093802</td>\n",
       "      <td>False</td>\n",
       "      <td>True</td>\n",
       "      <td>False</td>\n",
       "      <td>17</td>\n",
       "    </tr>\n",
       "    <tr>\n",
       "      <th>150</th>\n",
       "      <td>175</td>\n",
       "      <td>175</td>\n",
       "      <td>191</td>\n",
       "      <td>210</td>\n",
       "      <td>210</td>\n",
       "      <td>210</td>\n",
       "      <td>210</td>\n",
       "      <td>210</td>\n",
       "      <td>210</td>\n",
       "      <td>1352813578613620736</td>\n",
       "      <td>...</td>\n",
       "      <td>NaN</td>\n",
       "      <td>NaN</td>\n",
       "      <td>NaN</td>\n",
       "      <td>0.387591</td>\n",
       "      <td>0.262706</td>\n",
       "      <td>0.349703</td>\n",
       "      <td>False</td>\n",
       "      <td>True</td>\n",
       "      <td>False</td>\n",
       "      <td>17</td>\n",
       "    </tr>\n",
       "    <tr>\n",
       "      <th>175</th>\n",
       "      <td>201</td>\n",
       "      <td>201</td>\n",
       "      <td>221</td>\n",
       "      <td>247</td>\n",
       "      <td>247</td>\n",
       "      <td>247</td>\n",
       "      <td>247</td>\n",
       "      <td>247</td>\n",
       "      <td>247</td>\n",
       "      <td>1352447411084472324</td>\n",
       "      <td>...</td>\n",
       "      <td>NaN</td>\n",
       "      <td>NaN</td>\n",
       "      <td>NaN</td>\n",
       "      <td>0.032023</td>\n",
       "      <td>0.135405</td>\n",
       "      <td>0.832572</td>\n",
       "      <td>False</td>\n",
       "      <td>True</td>\n",
       "      <td>False</td>\n",
       "      <td>17</td>\n",
       "    </tr>\n",
       "    <tr>\n",
       "      <th>...</th>\n",
       "      <td>...</td>\n",
       "      <td>...</td>\n",
       "      <td>...</td>\n",
       "      <td>...</td>\n",
       "      <td>...</td>\n",
       "      <td>...</td>\n",
       "      <td>...</td>\n",
       "      <td>...</td>\n",
       "      <td>...</td>\n",
       "      <td>...</td>\n",
       "      <td>...</td>\n",
       "      <td>...</td>\n",
       "      <td>...</td>\n",
       "      <td>...</td>\n",
       "      <td>...</td>\n",
       "      <td>...</td>\n",
       "      <td>...</td>\n",
       "      <td>...</td>\n",
       "      <td>...</td>\n",
       "      <td>...</td>\n",
       "      <td>...</td>\n",
       "    </tr>\n",
       "    <tr>\n",
       "      <th>23593</th>\n",
       "      <td>25418</td>\n",
       "      <td>25418</td>\n",
       "      <td>33346</td>\n",
       "      <td>37283</td>\n",
       "      <td>37283</td>\n",
       "      <td>52087</td>\n",
       "      <td>52087</td>\n",
       "      <td>52087</td>\n",
       "      <td>52087</td>\n",
       "      <td>1287861933048311808</td>\n",
       "      <td>...</td>\n",
       "      <td>0.027021</td>\n",
       "      <td>0.053664</td>\n",
       "      <td>0.919315</td>\n",
       "      <td>NaN</td>\n",
       "      <td>NaN</td>\n",
       "      <td>NaN</td>\n",
       "      <td>True</td>\n",
       "      <td>False</td>\n",
       "      <td>False</td>\n",
       "      <td>17</td>\n",
       "    </tr>\n",
       "    <tr>\n",
       "      <th>23746</th>\n",
       "      <td>25571</td>\n",
       "      <td>25571</td>\n",
       "      <td>33579</td>\n",
       "      <td>37538</td>\n",
       "      <td>37538</td>\n",
       "      <td>52342</td>\n",
       "      <td>52342</td>\n",
       "      <td>52342</td>\n",
       "      <td>52342</td>\n",
       "      <td>1279268195791253505</td>\n",
       "      <td>...</td>\n",
       "      <td>0.103578</td>\n",
       "      <td>0.052376</td>\n",
       "      <td>0.844046</td>\n",
       "      <td>NaN</td>\n",
       "      <td>NaN</td>\n",
       "      <td>NaN</td>\n",
       "      <td>True</td>\n",
       "      <td>False</td>\n",
       "      <td>False</td>\n",
       "      <td>17</td>\n",
       "    </tr>\n",
       "    <tr>\n",
       "      <th>23889</th>\n",
       "      <td>25715</td>\n",
       "      <td>25715</td>\n",
       "      <td>33777</td>\n",
       "      <td>37756</td>\n",
       "      <td>37756</td>\n",
       "      <td>52560</td>\n",
       "      <td>52560</td>\n",
       "      <td>52560</td>\n",
       "      <td>52560</td>\n",
       "      <td>1271805293245222912</td>\n",
       "      <td>...</td>\n",
       "      <td>0.025168</td>\n",
       "      <td>0.090636</td>\n",
       "      <td>0.884196</td>\n",
       "      <td>NaN</td>\n",
       "      <td>NaN</td>\n",
       "      <td>NaN</td>\n",
       "      <td>True</td>\n",
       "      <td>False</td>\n",
       "      <td>False</td>\n",
       "      <td>17</td>\n",
       "    </tr>\n",
       "    <tr>\n",
       "      <th>24390</th>\n",
       "      <td>26218</td>\n",
       "      <td>26218</td>\n",
       "      <td>34505</td>\n",
       "      <td>38577</td>\n",
       "      <td>38577</td>\n",
       "      <td>53381</td>\n",
       "      <td>53381</td>\n",
       "      <td>53381</td>\n",
       "      <td>53381</td>\n",
       "      <td>1239320470270476290</td>\n",
       "      <td>...</td>\n",
       "      <td>0.027032</td>\n",
       "      <td>0.857785</td>\n",
       "      <td>0.115184</td>\n",
       "      <td>NaN</td>\n",
       "      <td>NaN</td>\n",
       "      <td>NaN</td>\n",
       "      <td>True</td>\n",
       "      <td>False</td>\n",
       "      <td>False</td>\n",
       "      <td>17</td>\n",
       "    </tr>\n",
       "    <tr>\n",
       "      <th>24391</th>\n",
       "      <td>26219</td>\n",
       "      <td>26219</td>\n",
       "      <td>34506</td>\n",
       "      <td>38578</td>\n",
       "      <td>38578</td>\n",
       "      <td>53382</td>\n",
       "      <td>53382</td>\n",
       "      <td>53382</td>\n",
       "      <td>53382</td>\n",
       "      <td>1239316236464422921</td>\n",
       "      <td>...</td>\n",
       "      <td>0.015595</td>\n",
       "      <td>0.877002</td>\n",
       "      <td>0.107403</td>\n",
       "      <td>NaN</td>\n",
       "      <td>NaN</td>\n",
       "      <td>NaN</td>\n",
       "      <td>True</td>\n",
       "      <td>False</td>\n",
       "      <td>False</td>\n",
       "      <td>17</td>\n",
       "    </tr>\n",
       "  </tbody>\n",
       "</table>\n",
       "<p>336 rows × 49 columns</p>\n",
       "</div>"
      ],
      "text/plain": [
       "       Unnamed: 0.6  Unnamed: 0.5  Unnamed: 0.4  Unnamed: 0  Unnamed: 0.3  \\\n",
       "8                 8             8             8           8             8   \n",
       "68               77            77            82          90            90   \n",
       "94              104           104           112         122           122   \n",
       "150             175           175           191         210           210   \n",
       "175             201           201           221         247           247   \n",
       "...             ...           ...           ...         ...           ...   \n",
       "23593         25418         25418         33346       37283         37283   \n",
       "23746         25571         25571         33579       37538         37538   \n",
       "23889         25715         25715         33777       37756         37756   \n",
       "24390         26218         26218         34505       38577         38577   \n",
       "24391         26219         26219         34506       38578         38578   \n",
       "\n",
       "       Unnamed: 0.2  Unnamed: 0.1  Unnamed: 0.1.1  Unnamed: 0.1.1.1  \\\n",
       "8                 8             8               8                 8   \n",
       "68               90            90              90                90   \n",
       "94              122           122             122               122   \n",
       "150             210           210             210               210   \n",
       "175             247           247             247               247   \n",
       "...             ...           ...             ...               ...   \n",
       "23593         52087         52087           52087             52087   \n",
       "23746         52342         52342           52342             52342   \n",
       "23889         52560         52560           52560             52560   \n",
       "24390         53381         53381           53381             53381   \n",
       "24391         53382         53382           53382             53382   \n",
       "\n",
       "                  tweet_id  ...  trump_pos_new  trump_neg_new trump_neu_new  \\\n",
       "8      1355803043120480256  ...       0.362204       0.424258      0.213537   \n",
       "68     1354288962957938692  ...       0.003119       0.990542      0.006339   \n",
       "94     1353994874656346112  ...            NaN            NaN           NaN   \n",
       "150    1352813578613620736  ...            NaN            NaN           NaN   \n",
       "175    1352447411084472324  ...            NaN            NaN           NaN   \n",
       "...                    ...  ...            ...            ...           ...   \n",
       "23593  1287861933048311808  ...       0.027021       0.053664      0.919315   \n",
       "23746  1279268195791253505  ...       0.103578       0.052376      0.844046   \n",
       "23889  1271805293245222912  ...       0.025168       0.090636      0.884196   \n",
       "24390  1239320470270476290  ...       0.027032       0.857785      0.115184   \n",
       "24391  1239316236464422921  ...       0.015595       0.877002      0.107403   \n",
       "\n",
       "      biden_pos_new biden_neg_new  biden_neu_new  Trump_flag  Biden_flag  \\\n",
       "8               NaN           NaN            NaN        True       False   \n",
       "68              NaN           NaN            NaN        True       False   \n",
       "94         0.416678      0.489520       0.093802       False        True   \n",
       "150        0.387591      0.262706       0.349703       False        True   \n",
       "175        0.032023      0.135405       0.832572       False        True   \n",
       "...             ...           ...            ...         ...         ...   \n",
       "23593           NaN           NaN            NaN        True       False   \n",
       "23746           NaN           NaN            NaN        True       False   \n",
       "23889           NaN           NaN            NaN        True       False   \n",
       "24390           NaN           NaN            NaN        True       False   \n",
       "24391           NaN           NaN            NaN        True       False   \n",
       "\n",
       "       Trump_Biden_flag topic_id  \n",
       "8                 False       17  \n",
       "68                False       17  \n",
       "94                False       17  \n",
       "150               False       17  \n",
       "175               False       17  \n",
       "...                 ...      ...  \n",
       "23593             False       17  \n",
       "23746             False       17  \n",
       "23889             False       17  \n",
       "24390             False       17  \n",
       "24391             False       17  \n",
       "\n",
       "[336 rows x 49 columns]"
      ]
     },
     "execution_count": 38,
     "metadata": {},
     "output_type": "execute_result"
    }
   ],
   "source": [
    "news_tweets[news_tweets.topics == 'capitol']"
   ]
  },
  {
   "cell_type": "code",
   "execution_count": 47,
   "id": "459d93e1-5953-477b-afc7-f3f2a7890eb4",
   "metadata": {},
   "outputs": [
    {
     "data": {
      "text/plain": [
       "fact-check-general      9225\n",
       "others-general          7005\n",
       "democarts-kamala         800\n",
       "republican-trump         528\n",
       "social_media-general     320\n",
       "republican-general       121\n",
       "covid-mask               112\n",
       "security-general          42\n",
       "white_house-general        8\n",
       "Name: subtopic, dtype: int64"
      ]
     },
     "execution_count": 47,
     "metadata": {},
     "output_type": "execute_result"
    }
   ],
   "source": [
    "user_resp[user_resp.conversation_id.isin(news_tweets[news_tweets.topics == 'conspiracy_theory'].conversation_id)].subtopic.value_counts()"
   ]
  },
  {
   "cell_type": "code",
   "execution_count": 41,
   "id": "61d3faf1-e217-41f5-88ca-18967e025f69",
   "metadata": {},
   "outputs": [
    {
     "data": {
      "text/plain": [
       "fact-check-general       13204\n",
       "fact-check-misleading     2351\n",
       "Name: subtopic, dtype: int64"
      ]
     },
     "execution_count": 41,
     "metadata": {},
     "output_type": "execute_result"
    }
   ],
   "source": [
    "user_resp[user_resp.topics == 'fact-check'].subtopic.value_counts()"
   ]
  },
  {
   "cell_type": "code",
   "execution_count": 266,
   "id": "a6079211-f384-48bb-9927-fff136f98a49",
   "metadata": {},
   "outputs": [],
   "source": [
    "data = []\n",
    "for top, grp in C_user_resp.groupby('topics'):\n",
    "    num_resp = grp.shape[0]/grp.conversation_id.nunique()\n",
    "    \n",
    "    data.append((top, num_resp))\n",
    "df_resp_pt_C = pd.DataFrame(data, columns = ['topics', 'resp_per_tweet'])"
   ]
  },
  {
   "cell_type": "code",
   "execution_count": 277,
   "id": "803c2787-395d-418c-87ee-027bf718e9aa",
   "metadata": {},
   "outputs": [
    {
     "data": {
      "text/html": [
       "<div>\n",
       "<style scoped>\n",
       "    .dataframe tbody tr th:only-of-type {\n",
       "        vertical-align: middle;\n",
       "    }\n",
       "\n",
       "    .dataframe tbody tr th {\n",
       "        vertical-align: top;\n",
       "    }\n",
       "\n",
       "    .dataframe thead th {\n",
       "        text-align: right;\n",
       "    }\n",
       "</style>\n",
       "<table border=\"1\" class=\"dataframe\">\n",
       "  <thead>\n",
       "    <tr style=\"text-align: right;\">\n",
       "      <th></th>\n",
       "      <th>topics</th>\n",
       "      <th>resp_per_tweet_x</th>\n",
       "      <th>resp_per_tweet_y</th>\n",
       "      <th>resp_per_tweet</th>\n",
       "    </tr>\n",
       "  </thead>\n",
       "  <tbody>\n",
       "    <tr>\n",
       "      <th>0</th>\n",
       "      <td>america</td>\n",
       "      <td>233.0</td>\n",
       "      <td>77.0</td>\n",
       "      <td>192.0</td>\n",
       "    </tr>\n",
       "    <tr>\n",
       "      <th>1</th>\n",
       "      <td>blm</td>\n",
       "      <td>297.0</td>\n",
       "      <td>33.0</td>\n",
       "      <td>230.0</td>\n",
       "    </tr>\n",
       "    <tr>\n",
       "      <th>2</th>\n",
       "      <td>capitol</td>\n",
       "      <td>266.0</td>\n",
       "      <td>35.0</td>\n",
       "      <td>623.0</td>\n",
       "    </tr>\n",
       "    <tr>\n",
       "      <th>3</th>\n",
       "      <td>covid</td>\n",
       "      <td>267.0</td>\n",
       "      <td>67.0</td>\n",
       "      <td>608.0</td>\n",
       "    </tr>\n",
       "    <tr>\n",
       "      <th>4</th>\n",
       "      <td>democarts</td>\n",
       "      <td>226.0</td>\n",
       "      <td>52.0</td>\n",
       "      <td>332.0</td>\n",
       "    </tr>\n",
       "    <tr>\n",
       "      <th>5</th>\n",
       "      <td>economy</td>\n",
       "      <td>208.0</td>\n",
       "      <td>17.0</td>\n",
       "      <td>421.0</td>\n",
       "    </tr>\n",
       "    <tr>\n",
       "      <th>6</th>\n",
       "      <td>election</td>\n",
       "      <td>268.0</td>\n",
       "      <td>40.0</td>\n",
       "      <td>547.0</td>\n",
       "    </tr>\n",
       "    <tr>\n",
       "      <th>7</th>\n",
       "      <td>fact-check</td>\n",
       "      <td>467.0</td>\n",
       "      <td>31.0</td>\n",
       "      <td>243.0</td>\n",
       "    </tr>\n",
       "    <tr>\n",
       "      <th>8</th>\n",
       "      <td>immigration</td>\n",
       "      <td>125.0</td>\n",
       "      <td>3.0</td>\n",
       "      <td>96.0</td>\n",
       "    </tr>\n",
       "    <tr>\n",
       "      <th>9</th>\n",
       "      <td>international</td>\n",
       "      <td>391.0</td>\n",
       "      <td>17.0</td>\n",
       "      <td>45.0</td>\n",
       "    </tr>\n",
       "    <tr>\n",
       "      <th>10</th>\n",
       "      <td>media</td>\n",
       "      <td>658.0</td>\n",
       "      <td>35.0</td>\n",
       "      <td>398.0</td>\n",
       "    </tr>\n",
       "    <tr>\n",
       "      <th>11</th>\n",
       "      <td>others</td>\n",
       "      <td>395.0</td>\n",
       "      <td>34.0</td>\n",
       "      <td>354.0</td>\n",
       "    </tr>\n",
       "    <tr>\n",
       "      <th>12</th>\n",
       "      <td>pres_debate</td>\n",
       "      <td>287.0</td>\n",
       "      <td>19.0</td>\n",
       "      <td>666.0</td>\n",
       "    </tr>\n",
       "    <tr>\n",
       "      <th>13</th>\n",
       "      <td>republican</td>\n",
       "      <td>249.0</td>\n",
       "      <td>38.0</td>\n",
       "      <td>265.0</td>\n",
       "    </tr>\n",
       "    <tr>\n",
       "      <th>14</th>\n",
       "      <td>security</td>\n",
       "      <td>297.0</td>\n",
       "      <td>18.0</td>\n",
       "      <td>212.0</td>\n",
       "    </tr>\n",
       "    <tr>\n",
       "      <th>15</th>\n",
       "      <td>social_media</td>\n",
       "      <td>292.0</td>\n",
       "      <td>86.0</td>\n",
       "      <td>434.0</td>\n",
       "    </tr>\n",
       "    <tr>\n",
       "      <th>16</th>\n",
       "      <td>supreme_court</td>\n",
       "      <td>280.0</td>\n",
       "      <td>18.0</td>\n",
       "      <td>666.0</td>\n",
       "    </tr>\n",
       "    <tr>\n",
       "      <th>17</th>\n",
       "      <td>white_house</td>\n",
       "      <td>520.0</td>\n",
       "      <td>42.0</td>\n",
       "      <td>341.0</td>\n",
       "    </tr>\n",
       "  </tbody>\n",
       "</table>\n",
       "</div>"
      ],
      "text/plain": [
       "           topics  resp_per_tweet_x  resp_per_tweet_y  resp_per_tweet\n",
       "0         america             233.0              77.0           192.0\n",
       "1             blm             297.0              33.0           230.0\n",
       "2         capitol             266.0              35.0           623.0\n",
       "3           covid             267.0              67.0           608.0\n",
       "4       democarts             226.0              52.0           332.0\n",
       "5         economy             208.0              17.0           421.0\n",
       "6        election             268.0              40.0           547.0\n",
       "7      fact-check             467.0              31.0           243.0\n",
       "8     immigration             125.0               3.0            96.0\n",
       "9   international             391.0              17.0            45.0\n",
       "10          media             658.0              35.0           398.0\n",
       "11         others             395.0              34.0           354.0\n",
       "12    pres_debate             287.0              19.0           666.0\n",
       "13     republican             249.0              38.0           265.0\n",
       "14       security             297.0              18.0           212.0\n",
       "15   social_media             292.0              86.0           434.0\n",
       "16  supreme_court             280.0              18.0           666.0\n",
       "17    white_house             520.0              42.0           341.0"
      ]
     },
     "execution_count": 277,
     "metadata": {},
     "output_type": "execute_result"
    }
   ],
   "source": [
    "df_resp_pt_L.merge(df_resp_pt_C, on = 'topics').merge(df_resp_pt_R, on = 'topics').round()"
   ]
  },
  {
   "cell_type": "code",
   "execution_count": 502,
   "id": "4d8d9436-8ca9-4203-bfcd-7a45df69c6ab",
   "metadata": {},
   "outputs": [
    {
     "data": {
      "text/plain": [
       "(40.69208211143695, 313.5355315520182, 396.8829787234043)"
      ]
     },
     "execution_count": 502,
     "metadata": {},
     "output_type": "execute_result"
    }
   ],
   "source": [
    "C_user_resp.shape[0]/C_user_resp.conversation_id.nunique(), L_user_resp.shape[0]/L_user_resp.conversation_id.nunique(), R_user_resp.shape[0]/R_user_resp.conversation_id.nunique()"
   ]
  },
  {
   "cell_type": "code",
   "execution_count": null,
   "id": "7e66c39c-1d95-4078-970a-5cdfc8b0a494",
   "metadata": {},
   "outputs": [],
   "source": []
  },
  {
   "cell_type": "code",
   "execution_count": 226,
   "id": "e551195a-7eda-4ea4-ab87-9f1c31afaaab",
   "metadata": {},
   "outputs": [],
   "source": [
    "# R_user_resp[cols].describe()"
   ]
  },
  {
   "cell_type": "code",
   "execution_count": 213,
   "id": "8d4f29cd-865b-4a6d-8cb5-30f881933fc5",
   "metadata": {},
   "outputs": [],
   "source": [
    "# L_user_resp[cols].describe()"
   ]
  },
  {
   "cell_type": "code",
   "execution_count": 214,
   "id": "e9a5f5a1-6b04-40eb-9915-746b9df97a66",
   "metadata": {},
   "outputs": [],
   "source": [
    "# C_user_resp[cols].describe()"
   ]
  },
  {
   "cell_type": "code",
   "execution_count": 286,
   "id": "1db34b76-812b-4b50-944c-09a28d8685a1",
   "metadata": {},
   "outputs": [],
   "source": [
    "cols = ['topics', 'like_count', 'quote_count', 'reply_count', 'retweet_count', 'anger', 'joy', 'optimism', 'sadness', 'trump_pos', 'trump_neg', 'trump_neu', 'biden_pos', 'biden_neg', 'biden_neu']"
   ]
  },
  {
   "cell_type": "markdown",
   "id": "c672b223-12ca-4a54-96e5-18524a6de9dd",
   "metadata": {},
   "source": [
    "### Compare mean emotion values (L vs R vs C) across topics"
   ]
  },
  {
   "cell_type": "code",
   "execution_count": 287,
   "id": "b5af5aae-d838-4e94-bc95-dddcfb4209be",
   "metadata": {},
   "outputs": [],
   "source": [
    "R_user_resp_topic_mean = R_user_resp[cols].groupby('topics').mean()\n",
    "L_user_resp_topic_mean = L_user_resp[cols].groupby('topics').mean()\n",
    "C_user_resp_topic_mean = C_user_resp[cols].groupby('topics').mean()"
   ]
  },
  {
   "cell_type": "code",
   "execution_count": 289,
   "id": "aa4fbcdf-cd3a-4849-91d7-12a6ace128b6",
   "metadata": {},
   "outputs": [],
   "source": [
    "R_user_resp_topic_mean.to_csv('results/user_resp_analysis/R_mean_emotions.csv')\n",
    "L_user_resp_topic_mean.to_csv('results/user_resp_analysis/L_mean_emotions.csv')\n",
    "C_user_resp_topic_mean.to_csv('results/user_resp_analysis/C_mean_emotions.csv')"
   ]
  },
  {
   "cell_type": "code",
   "execution_count": null,
   "id": "db4a57dd-a0ed-4a5f-bc73-00fc1afc81d2",
   "metadata": {},
   "outputs": [],
   "source": []
  },
  {
   "cell_type": "markdown",
   "id": "3114ff18-e7cc-41ed-918f-223f2ffb80be",
   "metadata": {},
   "source": [
    "#### Comparison based on Positive or negative mentions of Trump and Biden"
   ]
  },
  {
   "cell_type": "code",
   "execution_count": 367,
   "id": "1f64c9d4-2508-4d46-8683-88f98da124b1",
   "metadata": {},
   "outputs": [],
   "source": [
    "def get_pos_neg_mentions(df, entity):\n",
    "    \n",
    "    entity_mentions = df[df[entity.title() + '_flag'] == True]\n",
    "    pos_mean = entity_mentions[entity + '_pos'].mean()\n",
    "    neu_mean = entity_mentions[entity + '_neu'].mean()\n",
    "    neg_mean = entity_mentions[entity + '_neg'].mean()\n",
    "    pos_entity_mentions = entity_mentions[((entity_mentions[entity + '_pos'] > pos_mean))]\n",
    "    neg_entity_mentions = entity_mentions[((entity_mentions[entity + '_neg'] > neg_mean))]\n",
    "    \n",
    "    return pos_entity_mentions, neg_entity_mentions"
   ]
  },
  {
   "cell_type": "code",
   "execution_count": 368,
   "id": "6eeedf80-c1e9-4c81-aee4-57a37edca443",
   "metadata": {},
   "outputs": [],
   "source": [
    "T_pos_mentions_R,  T_neg_mentions_R = get_pos_neg_mentions(R_user_resp, \"trump\")\n",
    "B_pos_mentions_R,  B_neg_mentions_R = get_pos_neg_mentions(R_user_resp, \"biden\")\n",
    "\n",
    "T_pos_mentions_L,  T_neg_mentions_L = get_pos_neg_mentions(L_user_resp, \"trump\")\n",
    "B_pos_mentions_L,  B_neg_mentions_L = get_pos_neg_mentions(L_user_resp, \"biden\")"
   ]
  },
  {
   "cell_type": "code",
   "execution_count": 369,
   "id": "cefaf6b6-b045-4050-b9b1-71f336769b17",
   "metadata": {},
   "outputs": [],
   "source": [
    "# import seaborn as sns\n",
    "# sns.displot(R_user_resp.trump_pos)"
   ]
  },
  {
   "cell_type": "code",
   "execution_count": 370,
   "id": "58fa4276-8b3e-4682-bfca-b5dae49f65f8",
   "metadata": {},
   "outputs": [
    {
     "data": {
      "text/plain": [
       "((21919, 48), (57444, 48), (47445, 48), (38275, 48))"
      ]
     },
     "execution_count": 370,
     "metadata": {},
     "output_type": "execute_result"
    }
   ],
   "source": [
    "T_pos_mentions_R.shape, T_neg_mentions_R.shape, B_pos_mentions_R.shape, B_neg_mentions_R.shape"
   ]
  },
  {
   "cell_type": "code",
   "execution_count": 371,
   "id": "65202825-8a25-4188-bf35-f154d5f9369f",
   "metadata": {},
   "outputs": [
    {
     "data": {
      "text/plain": [
       "((112717, 48), (246742, 48), (73686, 48), (56858, 48))"
      ]
     },
     "execution_count": 371,
     "metadata": {},
     "output_type": "execute_result"
    }
   ],
   "source": [
    "T_pos_mentions_L.shape, T_neg_mentions_L.shape, B_pos_mentions_L.shape, B_neg_mentions_L.shape"
   ]
  },
  {
   "cell_type": "code",
   "execution_count": 377,
   "id": "9e57e53a-4715-48c1-9ba9-ddf4cafbc8af",
   "metadata": {},
   "outputs": [
    {
     "data": {
      "text/html": [
       "<div>\n",
       "<style scoped>\n",
       "    .dataframe tbody tr th:only-of-type {\n",
       "        vertical-align: middle;\n",
       "    }\n",
       "\n",
       "    .dataframe tbody tr th {\n",
       "        vertical-align: top;\n",
       "    }\n",
       "\n",
       "    .dataframe thead th {\n",
       "        text-align: right;\n",
       "    }\n",
       "</style>\n",
       "<table border=\"1\" class=\"dataframe\">\n",
       "  <thead>\n",
       "    <tr style=\"text-align: right;\">\n",
       "      <th></th>\n",
       "      <th>Trump_pos_R</th>\n",
       "      <th>Trump_pos_L</th>\n",
       "      <th>Trump_neg_R</th>\n",
       "      <th>Trump_neg_L</th>\n",
       "      <th>Biden_pos_R</th>\n",
       "      <th>Biden_pos_L</th>\n",
       "      <th>Biden_neg_R</th>\n",
       "      <th>Biden_neg_L</th>\n",
       "    </tr>\n",
       "  </thead>\n",
       "  <tbody>\n",
       "    <tr>\n",
       "      <th>anger</th>\n",
       "      <td>0.653085</td>\n",
       "      <td>0.641080</td>\n",
       "      <td>0.683769</td>\n",
       "      <td>0.663073</td>\n",
       "      <td>0.621833</td>\n",
       "      <td>0.551197</td>\n",
       "      <td>0.675020</td>\n",
       "      <td>0.672712</td>\n",
       "    </tr>\n",
       "    <tr>\n",
       "      <th>joy</th>\n",
       "      <td>0.107816</td>\n",
       "      <td>0.112407</td>\n",
       "      <td>0.109157</td>\n",
       "      <td>0.109547</td>\n",
       "      <td>0.136809</td>\n",
       "      <td>0.152836</td>\n",
       "      <td>0.110584</td>\n",
       "      <td>0.104745</td>\n",
       "    </tr>\n",
       "    <tr>\n",
       "      <th>optimism</th>\n",
       "      <td>0.121151</td>\n",
       "      <td>0.120760</td>\n",
       "      <td>0.099699</td>\n",
       "      <td>0.110665</td>\n",
       "      <td>0.115785</td>\n",
       "      <td>0.166967</td>\n",
       "      <td>0.099052</td>\n",
       "      <td>0.108752</td>\n",
       "    </tr>\n",
       "    <tr>\n",
       "      <th>sadness</th>\n",
       "      <td>0.117950</td>\n",
       "      <td>0.125754</td>\n",
       "      <td>0.107374</td>\n",
       "      <td>0.116715</td>\n",
       "      <td>0.125575</td>\n",
       "      <td>0.129000</td>\n",
       "      <td>0.115349</td>\n",
       "      <td>0.113788</td>\n",
       "    </tr>\n",
       "  </tbody>\n",
       "</table>\n",
       "</div>"
      ],
      "text/plain": [
       "          Trump_pos_R  Trump_pos_L  Trump_neg_R  Trump_neg_L  Biden_pos_R  \\\n",
       "anger        0.653085     0.641080     0.683769     0.663073     0.621833   \n",
       "joy          0.107816     0.112407     0.109157     0.109547     0.136809   \n",
       "optimism     0.121151     0.120760     0.099699     0.110665     0.115785   \n",
       "sadness      0.117950     0.125754     0.107374     0.116715     0.125575   \n",
       "\n",
       "          Biden_pos_L  Biden_neg_R  Biden_neg_L  \n",
       "anger        0.551197     0.675020     0.672712  \n",
       "joy          0.152836     0.110584     0.104745  \n",
       "optimism     0.166967     0.099052     0.108752  \n",
       "sadness      0.129000     0.115349     0.113788  "
      ]
     },
     "execution_count": 377,
     "metadata": {},
     "output_type": "execute_result"
    }
   ],
   "source": [
    "def get_mean_emotions_for_pos_neg_entity_mentions(df1, df2, ent, cols):\n",
    "    \n",
    "    return pd.concat((pd.DataFrame(df1[cols].mean(), columns = [ent + '_R']), df2[cols].mean()), axis = 1).rename(columns={0: ent + \"_L\"})\n",
    "    # return pd.concat((pd.DataFrame(df1[cols].mean(), columns = [ent + '_pos']), df2[cols].mean()), axis = 1).rename(columns={0: ent + \"_neg\"})\n",
    "\n",
    "_df1 = get_mean_emotions_for_pos_neg_entity_mentions(T_pos_mentions_R, T_pos_mentions_L, ent = 'Trump_pos', cols = ['anger', 'joy', 'optimism', 'sadness'])\n",
    "_df2 = get_mean_emotions_for_pos_neg_entity_mentions(T_neg_mentions_R, T_neg_mentions_L, ent = 'Trump_neg', cols = ['anger', 'joy', 'optimism', 'sadness'])\n",
    "_df3 = get_mean_emotions_for_pos_neg_entity_mentions(B_pos_mentions_R, B_pos_mentions_L, ent = 'Biden_pos', cols = ['anger', 'joy', 'optimism', 'sadness'])\n",
    "_df4 = get_mean_emotions_for_pos_neg_entity_mentions(B_neg_mentions_R, B_neg_mentions_L, ent = 'Biden_neg', cols = ['anger', 'joy', 'optimism', 'sadness'])\n",
    "\n",
    "# _df1 = get_mean_emotions_for_pos_neg_entity_mentions(T_pos_mentions_R, T_neg_mentions_R, ent = 'Trump_R', cols = ['anger', 'joy', 'optimism', 'sadness'])\n",
    "# _df2 = get_mean_emotions_for_pos_neg_entity_mentions(T_pos_mentions_L, T_neg_mentions_L, ent = 'Trump_L', cols = ['anger', 'joy', 'optimism', 'sadness'])\n",
    "# _df3 = get_mean_emotions_for_pos_neg_entity_mentions(B_pos_mentions_R, B_neg_mentions_R, ent = 'Biden_R', cols = ['anger', 'joy', 'optimism', 'sadness'])\n",
    "# _df4 = get_mean_emotions_for_pos_neg_entity_mentions(B_pos_mentions_L, B_neg_mentions_L, ent = 'Biden_L', cols = ['anger', 'joy', 'optimism', 'sadness'])\n",
    "\n",
    "comb_df = pd.concat((_df1, _df2, _df3, _df4), axis = 1)\n",
    "comb_df\n",
    "\n",
    "# comb_df.to_csv('results/user_resp_analysis/mean_emotions_for_pos_vs_neg_mentions.csv')"
   ]
  },
  {
   "cell_type": "code",
   "execution_count": 386,
   "id": "e0ebb2e2-773e-4510-bb93-7151531b7d31",
   "metadata": {},
   "outputs": [],
   "source": [
    "cols = ['anger', 'joy', 'optimism', 'sadness']"
   ]
  },
  {
   "cell_type": "code",
   "execution_count": 402,
   "id": "ae0ce9e3-aa6e-4a48-a541-724102170d34",
   "metadata": {},
   "outputs": [
    {
     "name": "stderr",
     "output_type": "stream",
     "text": [
      "/tmp/ipykernel_1202148/4268974879.py:1: FutureWarning: The default value of numeric_only in DataFrameGroupBy.mean is deprecated. In a future version, numeric_only will default to False. Either specify numeric_only or select only columns which should be valid for the function.\n",
      "  pd.concat((B_pos_mentions_L.groupby('topics').mean()[cols].rename(columns = {'anger': 'anger_B-L-pos', 'joy': 'joy_B-L-pos', 'optimism': 'optimism_B-L-pos', 'sadness': 'sadness_B-L-pos'}),\n",
      "/tmp/ipykernel_1202148/4268974879.py:2: FutureWarning: The default value of numeric_only in DataFrameGroupBy.mean is deprecated. In a future version, numeric_only will default to False. Either specify numeric_only or select only columns which should be valid for the function.\n",
      "  B_neg_mentions_L.groupby('topics').mean()[cols].rename(columns = {'anger': 'anger_B-L-neg', 'joy': 'joy_B-L-neg', 'optimism': 'optimism_B-L-neg', 'sadness': 'sadness_B-L-neg'}),\n",
      "/tmp/ipykernel_1202148/4268974879.py:3: FutureWarning: The default value of numeric_only in DataFrameGroupBy.mean is deprecated. In a future version, numeric_only will default to False. Either specify numeric_only or select only columns which should be valid for the function.\n",
      "  B_pos_mentions_R.groupby('topics').mean()[cols].rename(columns = {'anger': 'anger_B-R-pos', 'joy': 'joy_B-R-pos', 'optimism': 'optimism_B-R-pos', 'sadness': 'sadness_B-R-pos'}),\n",
      "/tmp/ipykernel_1202148/4268974879.py:4: FutureWarning: The default value of numeric_only in DataFrameGroupBy.mean is deprecated. In a future version, numeric_only will default to False. Either specify numeric_only or select only columns which should be valid for the function.\n",
      "  B_neg_mentions_R.groupby('topics').mean()[cols].rename(columns = {'anger': 'anger_B-R-neg', 'joy': 'joy_B-R-neg', 'optimism': 'optimism_B-R-neg', 'sadness': 'sadness_B-R-neg'}),\n",
      "/tmp/ipykernel_1202148/4268974879.py:5: FutureWarning: The default value of numeric_only in DataFrameGroupBy.mean is deprecated. In a future version, numeric_only will default to False. Either specify numeric_only or select only columns which should be valid for the function.\n",
      "  T_pos_mentions_L.groupby('topics').mean()[cols].rename(columns = {'anger': 'anger_T-L-pos', 'joy': 'joy_T-L-pos', 'optimism': 'optimism_T-L-pos', 'sadness': 'sadness_T-L-pos'}),\n",
      "/tmp/ipykernel_1202148/4268974879.py:6: FutureWarning: The default value of numeric_only in DataFrameGroupBy.mean is deprecated. In a future version, numeric_only will default to False. Either specify numeric_only or select only columns which should be valid for the function.\n",
      "  T_neg_mentions_L.groupby('topics').mean()[cols].rename(columns = {'anger': 'anger_T-L-neg', 'joy': 'joy_T-L-neg', 'optimism': 'optimism_T-L-neg', 'sadness': 'sadness_T-L-neg'}),\n",
      "/tmp/ipykernel_1202148/4268974879.py:7: FutureWarning: The default value of numeric_only in DataFrameGroupBy.mean is deprecated. In a future version, numeric_only will default to False. Either specify numeric_only or select only columns which should be valid for the function.\n",
      "  T_pos_mentions_R.groupby('topics').mean()[cols].rename(columns = {'anger': 'anger_T-R-pos', 'joy': 'joy_T-R-pos', 'optimism': 'optimism_T-R-pos', 'sadness': 'sadness_T-R-pos'}),\n",
      "/tmp/ipykernel_1202148/4268974879.py:8: FutureWarning: The default value of numeric_only in DataFrameGroupBy.mean is deprecated. In a future version, numeric_only will default to False. Either specify numeric_only or select only columns which should be valid for the function.\n",
      "  T_neg_mentions_R.groupby('topics').mean()[cols].rename(columns = {'anger': 'anger_T-R-neg', 'joy': 'joy_T-R-neg', 'optimism': 'optimism_T-R-neg', 'sadness': 'sadness_T-R-neg'})),\n"
     ]
    }
   ],
   "source": [
    "pd.concat((B_pos_mentions_L.groupby('topics').mean()[cols].rename(columns = {'anger': 'anger_B-L-pos', 'joy': 'joy_B-L-pos', 'optimism': 'optimism_B-L-pos', 'sadness': 'sadness_B-L-pos'}),\n",
    "           B_neg_mentions_L.groupby('topics').mean()[cols].rename(columns = {'anger': 'anger_B-L-neg', 'joy': 'joy_B-L-neg', 'optimism': 'optimism_B-L-neg', 'sadness': 'sadness_B-L-neg'}),\n",
    "           B_pos_mentions_R.groupby('topics').mean()[cols].rename(columns = {'anger': 'anger_B-R-pos', 'joy': 'joy_B-R-pos', 'optimism': 'optimism_B-R-pos', 'sadness': 'sadness_B-R-pos'}),\n",
    "           B_neg_mentions_R.groupby('topics').mean()[cols].rename(columns = {'anger': 'anger_B-R-neg', 'joy': 'joy_B-R-neg', 'optimism': 'optimism_B-R-neg', 'sadness': 'sadness_B-R-neg'}),\n",
    "           T_pos_mentions_L.groupby('topics').mean()[cols].rename(columns = {'anger': 'anger_T-L-pos', 'joy': 'joy_T-L-pos', 'optimism': 'optimism_T-L-pos', 'sadness': 'sadness_T-L-pos'}),\n",
    "           T_neg_mentions_L.groupby('topics').mean()[cols].rename(columns = {'anger': 'anger_T-L-neg', 'joy': 'joy_T-L-neg', 'optimism': 'optimism_T-L-neg', 'sadness': 'sadness_T-L-neg'}),\n",
    "           T_pos_mentions_R.groupby('topics').mean()[cols].rename(columns = {'anger': 'anger_T-R-pos', 'joy': 'joy_T-R-pos', 'optimism': 'optimism_T-R-pos', 'sadness': 'sadness_T-R-pos'}),\n",
    "           T_neg_mentions_R.groupby('topics').mean()[cols].rename(columns = {'anger': 'anger_T-R-neg', 'joy': 'joy_T-R-neg', 'optimism': 'optimism_T-R-neg', 'sadness': 'sadness_T-R-neg'})), \n",
    "           axis = 1).to_csv('results/user_resp_analysis/mean_emotions_pos_neg_men_topic_wise.csv')"
   ]
  },
  {
   "cell_type": "code",
   "execution_count": null,
   "id": "f8a067fa-0000-478d-85b6-812d1319b66c",
   "metadata": {},
   "outputs": [],
   "source": []
  },
  {
   "cell_type": "code",
   "execution_count": 398,
   "id": "a072b13f-26df-4c58-b176-1e30175eccb9",
   "metadata": {},
   "outputs": [
    {
     "name": "stderr",
     "output_type": "stream",
     "text": [
      "/tmp/ipykernel_1202148/4196122557.py:1: FutureWarning: The default value of numeric_only in DataFrameGroupBy.mean is deprecated. In a future version, numeric_only will default to False. Either specify numeric_only or select only columns which should be valid for the function.\n",
      "  B_neg_mentions_R.groupby('topics').mean()[cols].rename(columns = {'anger': 'anger_B-R-neg', 'joy': 'joy_B-R-neg', 'optimism': 'optimism_B-R-neg', 'sadness': 'sadness_B-R-neg'})\n"
     ]
    },
    {
     "data": {
      "text/html": [
       "<div>\n",
       "<style scoped>\n",
       "    .dataframe tbody tr th:only-of-type {\n",
       "        vertical-align: middle;\n",
       "    }\n",
       "\n",
       "    .dataframe tbody tr th {\n",
       "        vertical-align: top;\n",
       "    }\n",
       "\n",
       "    .dataframe thead th {\n",
       "        text-align: right;\n",
       "    }\n",
       "</style>\n",
       "<table border=\"1\" class=\"dataframe\">\n",
       "  <thead>\n",
       "    <tr style=\"text-align: right;\">\n",
       "      <th></th>\n",
       "      <th>anger_B-R-neg</th>\n",
       "      <th>joy_B-R-neg</th>\n",
       "      <th>optimism_B-R-neg</th>\n",
       "      <th>sadness_B-R-neg</th>\n",
       "    </tr>\n",
       "    <tr>\n",
       "      <th>topics</th>\n",
       "      <th></th>\n",
       "      <th></th>\n",
       "      <th></th>\n",
       "      <th></th>\n",
       "    </tr>\n",
       "  </thead>\n",
       "  <tbody>\n",
       "    <tr>\n",
       "      <th>america</th>\n",
       "      <td>0.599000</td>\n",
       "      <td>0.077057</td>\n",
       "      <td>0.127186</td>\n",
       "      <td>0.196886</td>\n",
       "    </tr>\n",
       "    <tr>\n",
       "      <th>blm</th>\n",
       "      <td>0.658134</td>\n",
       "      <td>0.157120</td>\n",
       "      <td>0.087778</td>\n",
       "      <td>0.096962</td>\n",
       "    </tr>\n",
       "    <tr>\n",
       "      <th>capitol</th>\n",
       "      <td>0.769050</td>\n",
       "      <td>0.068542</td>\n",
       "      <td>0.070319</td>\n",
       "      <td>0.092088</td>\n",
       "    </tr>\n",
       "    <tr>\n",
       "      <th>covid</th>\n",
       "      <td>0.646907</td>\n",
       "      <td>0.098998</td>\n",
       "      <td>0.105707</td>\n",
       "      <td>0.148396</td>\n",
       "    </tr>\n",
       "    <tr>\n",
       "      <th>democarts</th>\n",
       "      <td>0.684946</td>\n",
       "      <td>0.100074</td>\n",
       "      <td>0.102336</td>\n",
       "      <td>0.112639</td>\n",
       "    </tr>\n",
       "    <tr>\n",
       "      <th>election</th>\n",
       "      <td>0.603425</td>\n",
       "      <td>0.132098</td>\n",
       "      <td>0.135438</td>\n",
       "      <td>0.129051</td>\n",
       "    </tr>\n",
       "    <tr>\n",
       "      <th>fact-check</th>\n",
       "      <td>0.732947</td>\n",
       "      <td>0.080573</td>\n",
       "      <td>0.082953</td>\n",
       "      <td>0.103545</td>\n",
       "    </tr>\n",
       "    <tr>\n",
       "      <th>immigration</th>\n",
       "      <td>0.714724</td>\n",
       "      <td>0.072782</td>\n",
       "      <td>0.094827</td>\n",
       "      <td>0.117631</td>\n",
       "    </tr>\n",
       "    <tr>\n",
       "      <th>international</th>\n",
       "      <td>0.561167</td>\n",
       "      <td>0.218722</td>\n",
       "      <td>0.068722</td>\n",
       "      <td>0.151556</td>\n",
       "    </tr>\n",
       "    <tr>\n",
       "      <th>others</th>\n",
       "      <td>0.670422</td>\n",
       "      <td>0.115699</td>\n",
       "      <td>0.098352</td>\n",
       "      <td>0.115534</td>\n",
       "    </tr>\n",
       "    <tr>\n",
       "      <th>pres_debate</th>\n",
       "      <td>0.709930</td>\n",
       "      <td>0.100465</td>\n",
       "      <td>0.091719</td>\n",
       "      <td>0.097879</td>\n",
       "    </tr>\n",
       "    <tr>\n",
       "      <th>republican</th>\n",
       "      <td>0.656085</td>\n",
       "      <td>0.101485</td>\n",
       "      <td>0.122000</td>\n",
       "      <td>0.120482</td>\n",
       "    </tr>\n",
       "    <tr>\n",
       "      <th>social_media</th>\n",
       "      <td>0.705572</td>\n",
       "      <td>0.094601</td>\n",
       "      <td>0.101985</td>\n",
       "      <td>0.097850</td>\n",
       "    </tr>\n",
       "    <tr>\n",
       "      <th>white_house</th>\n",
       "      <td>0.639867</td>\n",
       "      <td>0.116536</td>\n",
       "      <td>0.110547</td>\n",
       "      <td>0.133066</td>\n",
       "    </tr>\n",
       "  </tbody>\n",
       "</table>\n",
       "</div>"
      ],
      "text/plain": [
       "               anger_B-R-neg  joy_B-R-neg  optimism_B-R-neg  sadness_B-R-neg\n",
       "topics                                                                      \n",
       "america             0.599000     0.077057          0.127186         0.196886\n",
       "blm                 0.658134     0.157120          0.087778         0.096962\n",
       "capitol             0.769050     0.068542          0.070319         0.092088\n",
       "covid               0.646907     0.098998          0.105707         0.148396\n",
       "democarts           0.684946     0.100074          0.102336         0.112639\n",
       "election            0.603425     0.132098          0.135438         0.129051\n",
       "fact-check          0.732947     0.080573          0.082953         0.103545\n",
       "immigration         0.714724     0.072782          0.094827         0.117631\n",
       "international       0.561167     0.218722          0.068722         0.151556\n",
       "others              0.670422     0.115699          0.098352         0.115534\n",
       "pres_debate         0.709930     0.100465          0.091719         0.097879\n",
       "republican          0.656085     0.101485          0.122000         0.120482\n",
       "social_media        0.705572     0.094601          0.101985         0.097850\n",
       "white_house         0.639867     0.116536          0.110547         0.133066"
      ]
     },
     "execution_count": 398,
     "metadata": {},
     "output_type": "execute_result"
    }
   ],
   "source": [
    "B_neg_mentions_R.groupby('topics').mean()[cols].rename(columns = {'anger': 'anger_B-R-neg', 'joy': 'joy_B-R-neg', 'optimism': 'optimism_B-R-neg', 'sadness': 'sadness_B-R-neg'})"
   ]
  },
  {
   "cell_type": "code",
   "execution_count": null,
   "id": "4cd4558f-172d-41db-bf59-a582933d4ec5",
   "metadata": {},
   "outputs": [],
   "source": []
  },
  {
   "cell_type": "code",
   "execution_count": 375,
   "id": "34719784-a3b6-4c87-8912-0bff435d82b1",
   "metadata": {},
   "outputs": [
    {
     "data": {
      "text/html": [
       "<div>\n",
       "<style scoped>\n",
       "    .dataframe tbody tr th:only-of-type {\n",
       "        vertical-align: middle;\n",
       "    }\n",
       "\n",
       "    .dataframe tbody tr th {\n",
       "        vertical-align: top;\n",
       "    }\n",
       "\n",
       "    .dataframe thead th {\n",
       "        text-align: right;\n",
       "    }\n",
       "</style>\n",
       "<table border=\"1\" class=\"dataframe\">\n",
       "  <thead>\n",
       "    <tr style=\"text-align: right;\">\n",
       "      <th></th>\n",
       "      <th>Trump_R_pos</th>\n",
       "      <th>Trump_R_neg</th>\n",
       "      <th>Trump_L_pos</th>\n",
       "      <th>Trump_L_neg</th>\n",
       "      <th>Biden_R_pos</th>\n",
       "      <th>Biden_R_neg</th>\n",
       "      <th>Biden_L_pos</th>\n",
       "      <th>Biden_L_neg</th>\n",
       "    </tr>\n",
       "  </thead>\n",
       "  <tbody>\n",
       "    <tr>\n",
       "      <th>anger</th>\n",
       "      <td>0.653085</td>\n",
       "      <td>0.683769</td>\n",
       "      <td>0.641080</td>\n",
       "      <td>0.663073</td>\n",
       "      <td>0.621833</td>\n",
       "      <td>0.675020</td>\n",
       "      <td>0.551197</td>\n",
       "      <td>0.672712</td>\n",
       "    </tr>\n",
       "    <tr>\n",
       "      <th>joy</th>\n",
       "      <td>0.107816</td>\n",
       "      <td>0.109157</td>\n",
       "      <td>0.112407</td>\n",
       "      <td>0.109547</td>\n",
       "      <td>0.136809</td>\n",
       "      <td>0.110584</td>\n",
       "      <td>0.152836</td>\n",
       "      <td>0.104745</td>\n",
       "    </tr>\n",
       "    <tr>\n",
       "      <th>optimism</th>\n",
       "      <td>0.121151</td>\n",
       "      <td>0.099699</td>\n",
       "      <td>0.120760</td>\n",
       "      <td>0.110665</td>\n",
       "      <td>0.115785</td>\n",
       "      <td>0.099052</td>\n",
       "      <td>0.166967</td>\n",
       "      <td>0.108752</td>\n",
       "    </tr>\n",
       "    <tr>\n",
       "      <th>sadness</th>\n",
       "      <td>0.117950</td>\n",
       "      <td>0.107374</td>\n",
       "      <td>0.125754</td>\n",
       "      <td>0.116715</td>\n",
       "      <td>0.125575</td>\n",
       "      <td>0.115349</td>\n",
       "      <td>0.129000</td>\n",
       "      <td>0.113788</td>\n",
       "    </tr>\n",
       "  </tbody>\n",
       "</table>\n",
       "</div>"
      ],
      "text/plain": [
       "          Trump_R_pos  Trump_R_neg  Trump_L_pos  Trump_L_neg  Biden_R_pos  \\\n",
       "anger        0.653085     0.683769     0.641080     0.663073     0.621833   \n",
       "joy          0.107816     0.109157     0.112407     0.109547     0.136809   \n",
       "optimism     0.121151     0.099699     0.120760     0.110665     0.115785   \n",
       "sadness      0.117950     0.107374     0.125754     0.116715     0.125575   \n",
       "\n",
       "          Biden_R_neg  Biden_L_pos  Biden_L_neg  \n",
       "anger        0.675020     0.551197     0.672712  \n",
       "joy          0.110584     0.152836     0.104745  \n",
       "optimism     0.099052     0.166967     0.108752  \n",
       "sadness      0.115349     0.129000     0.113788  "
      ]
     },
     "execution_count": 375,
     "metadata": {},
     "output_type": "execute_result"
    }
   ],
   "source": [
    "comb_df"
   ]
  },
  {
   "cell_type": "code",
   "execution_count": 303,
   "id": "1bea4511-c734-445e-b1c6-12f3820c875f",
   "metadata": {},
   "outputs": [
    {
     "data": {
      "text/plain": [
       "((112717, 48), (246742, 48), (73686, 48), (56858, 48))"
      ]
     },
     "execution_count": 303,
     "metadata": {},
     "output_type": "execute_result"
    }
   ],
   "source": []
  },
  {
   "cell_type": "code",
   "execution_count": 304,
   "id": "a53b8e99-cbf3-4dc7-b60e-9c6ae8ffe2dc",
   "metadata": {},
   "outputs": [
    {
     "data": {
      "text/plain": [
       "(551509, 48)"
      ]
     },
     "execution_count": 304,
     "metadata": {},
     "output_type": "execute_result"
    }
   ],
   "source": [
    "L_user_resp.shape"
   ]
  },
  {
   "cell_type": "code",
   "execution_count": 458,
   "id": "07876a07-4439-4d6d-85f5-fe131636fd32",
   "metadata": {},
   "outputs": [],
   "source": [
    "def get_normalized_dist(dist):\n",
    "    \n",
    "    return (dist - dist.min()) / (dist.max() - dist.min())\n",
    "\n",
    "def get_normalized_emotion_scores(df):\n",
    "    \n",
    "    df['anger_norm'] = get_normalized_dist(df.anger)\n",
    "    df['optimism_norm'] = get_normalized_dist(df.optimism)\n",
    "    df['sadness_norm'] = get_normalized_dist(df.sadness)\n",
    "    df['joy_norm'] = get_normalized_dist(df.joy)\n",
    "    \n",
    "    return df"
   ]
  },
  {
   "cell_type": "code",
   "execution_count": 472,
   "id": "194a5702-1aa1-4cb4-b9ea-d71cb494f66f",
   "metadata": {},
   "outputs": [],
   "source": [
    "# T_pos_mentions_R = get_normalized_emotion_scores(T_pos_mentions_R)\n",
    "# B_neg_mentions_R = get_normalized_emotion_scores(B_neg_mentions_R)\n",
    "# T_neg_mentions_R = get_normalized_emotion_scores(T_neg_mentions_R)\n",
    "# B_pos_mentions_R = get_normalized_emotion_scores(B_pos_mentions_R)\n",
    "\n",
    "# T_pos_mentions_L = get_normalized_emotion_scores(T_pos_mentions_L)\n",
    "# B_neg_mentions_L = get_normalized_emotion_scores(B_neg_mentions_L)\n",
    "# T_neg_mentions_L = get_normalized_emotion_scores(T_neg_mentions_L)\n",
    "# B_pos_mentions_L = get_normalized_emotion_scores(B_pos_mentions_L)"
   ]
  },
  {
   "cell_type": "code",
   "execution_count": 473,
   "id": "4c2bc3a3-6e86-4c09-bcd0-e90242735519",
   "metadata": {},
   "outputs": [
    {
     "data": {
      "text/plain": [
       "((320428, 52), (169575, 52))"
      ]
     },
     "execution_count": 473,
     "metadata": {},
     "output_type": "execute_result"
    }
   ],
   "source": [
    "# R_fav = pd.concat((T_pos_mentions_R, B_neg_mentions_R), axis = 0)\n",
    "# R_unfav = pd.concat((T_neg_mentions_R, B_pos_mentions_R), axis = 0)\n",
    "# R_fav.shape, R_unfav.shape\n",
    "\n",
    "# L_fav = pd.concat((T_neg_mentions_L, B_pos_mentions_L), axis = 0)\n",
    "# L_unfav = pd.concat((T_pos_mentions_L, B_neg_mentions_L), axis = 0)\n",
    "# L_fav.shape, L_unfav.shape"
   ]
  },
  {
   "cell_type": "code",
   "execution_count": 488,
   "id": "5c94efe2-135c-4ac2-a378-963ed1c2bc8f",
   "metadata": {},
   "outputs": [],
   "source": [
    "def get_pos_and_neg_mentions(df, pub, ent):\n",
    "\n",
    "    pos_mentions = df[((df['publication'] == pub) & (df[ent + '_pos'] > df[ent + '_pos'].mean()))]\n",
    "    neg_mentions = df[((df['publication'] == pub) & (df[ent + '_neg'] > df[ent + '_neg'].mean()))]\n",
    "    \n",
    "    return pos_mentions, neg_mentions"
   ]
  },
  {
   "cell_type": "code",
   "execution_count": 489,
   "id": "f01087cc-625e-4fe6-827b-8fb9b911c8db",
   "metadata": {},
   "outputs": [],
   "source": [
    "T_pos_men_CNN, T_neg_men_CNN = get_pos_and_neg_mentions(user_resp, 'CNN', 'trump')\n",
    "B_pos_men_CNN, B_neg_men_CNN = get_pos_and_neg_mentions(user_resp, 'CNN', 'biden')\n",
    "\n",
    "T_pos_men_TWP, T_neg_men_TWP = get_pos_and_neg_mentions(user_resp, 'The Washington Post', 'trump')\n",
    "B_pos_men_TWP, B_neg_men_TWP = get_pos_and_neg_mentions(user_resp, 'The Washington Post', 'biden')\n",
    "\n",
    "T_pos_men_UST, T_neg_men_UST = get_pos_and_neg_mentions(user_resp, 'USA Today', 'trump')\n",
    "B_pos_men_UST, B_neg_men_UST = get_pos_and_neg_mentions(user_resp, 'USA Today', 'biden')\n",
    "\n",
    "T_pos_men_BI, T_neg_men_BI = get_pos_and_neg_mentions(user_resp, 'Business Insider', 'trump')\n",
    "B_pos_men_BI, B_neg_men_BI = get_pos_and_neg_mentions(user_resp, 'Business Insider', 'biden')\n",
    "\n",
    "T_pos_men_FN, T_neg_men_FN = get_pos_and_neg_mentions(user_resp, 'Fox News', 'trump')\n",
    "B_pos_men_FN, B_neg_men_FN = get_pos_and_neg_mentions(user_resp, 'Fox News', 'biden')\n",
    "\n",
    "T_pos_men_BN, T_neg_men_BN = get_pos_and_neg_mentions(user_resp, 'Breitbart News', 'trump')\n",
    "B_pos_men_BN, B_neg_men_BN = get_pos_and_neg_mentions(user_resp, 'Breitbart News', 'biden')"
   ]
  },
  {
   "cell_type": "code",
   "execution_count": 498,
   "id": "dcd76716-b24f-45de-9388-32ce4c31af52",
   "metadata": {},
   "outputs": [
    {
     "name": "stdout",
     "output_type": "stream",
     "text": [
      "(60316, 48) (101963, 48)\n"
     ]
    },
    {
     "data": {
      "text/plain": [
       "((322635, 48), (167388, 48))"
      ]
     },
     "execution_count": 498,
     "metadata": {},
     "output_type": "execute_result"
    }
   ],
   "source": [
    "R_fav = pd.concat((T_pos_men_FN, T_pos_men_BN, B_neg_men_FN, B_neg_men_BN), axis = 0)\n",
    "R_unfav = pd.concat((T_neg_men_FN, T_neg_men_BN, B_pos_men_FN, B_pos_men_BN), axis = 0)\n",
    "print(R_fav.shape, R_unfav.shape)\n",
    "\n",
    "L_fav = pd.concat((B_pos_men_CNN, B_pos_men_TWP, T_neg_men_CNN, T_neg_men_TWP), axis = 0)\n",
    "L_unfav = pd.concat((T_pos_men_CNN, T_pos_men_TWP, B_neg_men_CNN, B_neg_men_TWP,), axis = 0)\n",
    "L_fav.shape, L_unfav.shape"
   ]
  },
  {
   "cell_type": "code",
   "execution_count": null,
   "id": "f7684e54-9803-46f5-b934-c5249df16eef",
   "metadata": {},
   "outputs": [],
   "source": []
  },
  {
   "cell_type": "code",
   "execution_count": 494,
   "id": "d21274dd-ae25-400c-9c4b-442941e77847",
   "metadata": {},
   "outputs": [
    {
     "data": {
      "text/html": [
       "<div>\n",
       "<style scoped>\n",
       "    .dataframe tbody tr th:only-of-type {\n",
       "        vertical-align: middle;\n",
       "    }\n",
       "\n",
       "    .dataframe tbody tr th {\n",
       "        vertical-align: top;\n",
       "    }\n",
       "\n",
       "    .dataframe thead th {\n",
       "        text-align: right;\n",
       "    }\n",
       "</style>\n",
       "<table border=\"1\" class=\"dataframe\">\n",
       "  <thead>\n",
       "    <tr style=\"text-align: right;\">\n",
       "      <th></th>\n",
       "      <th>0</th>\n",
       "    </tr>\n",
       "  </thead>\n",
       "  <tbody>\n",
       "    <tr>\n",
       "      <th>anger</th>\n",
       "      <td>0.637492</td>\n",
       "    </tr>\n",
       "    <tr>\n",
       "      <th>optimism</th>\n",
       "      <td>0.123575</td>\n",
       "    </tr>\n",
       "    <tr>\n",
       "      <th>sadness</th>\n",
       "      <td>0.119448</td>\n",
       "    </tr>\n",
       "    <tr>\n",
       "      <th>joy</th>\n",
       "      <td>0.119485</td>\n",
       "    </tr>\n",
       "  </tbody>\n",
       "</table>\n",
       "</div>"
      ],
      "text/plain": [
       "                 0\n",
       "anger     0.637492\n",
       "optimism  0.123575\n",
       "sadness   0.119448\n",
       "joy       0.119485"
      ]
     },
     "execution_count": 494,
     "metadata": {},
     "output_type": "execute_result"
    }
   ],
   "source": [
    "cols = ['anger', 'optimism', 'sadness', 'joy']\n",
    "pd.DataFrame(L_fav[cols].mean())"
   ]
  },
  {
   "cell_type": "code",
   "execution_count": 495,
   "id": "155778d3-390a-4677-8bac-90d2fc9bc744",
   "metadata": {},
   "outputs": [
    {
     "data": {
      "text/html": [
       "<div>\n",
       "<style scoped>\n",
       "    .dataframe tbody tr th:only-of-type {\n",
       "        vertical-align: middle;\n",
       "    }\n",
       "\n",
       "    .dataframe tbody tr th {\n",
       "        vertical-align: top;\n",
       "    }\n",
       "\n",
       "    .dataframe thead th {\n",
       "        text-align: right;\n",
       "    }\n",
       "</style>\n",
       "<table border=\"1\" class=\"dataframe\">\n",
       "  <thead>\n",
       "    <tr style=\"text-align: right;\">\n",
       "      <th></th>\n",
       "      <th>0</th>\n",
       "    </tr>\n",
       "  </thead>\n",
       "  <tbody>\n",
       "    <tr>\n",
       "      <th>anger</th>\n",
       "      <td>0.651080</td>\n",
       "    </tr>\n",
       "    <tr>\n",
       "      <th>optimism</th>\n",
       "      <td>0.116906</td>\n",
       "    </tr>\n",
       "    <tr>\n",
       "      <th>sadness</th>\n",
       "      <td>0.121676</td>\n",
       "    </tr>\n",
       "    <tr>\n",
       "      <th>joy</th>\n",
       "      <td>0.110337</td>\n",
       "    </tr>\n",
       "  </tbody>\n",
       "</table>\n",
       "</div>"
      ],
      "text/plain": [
       "                 0\n",
       "anger     0.651080\n",
       "optimism  0.116906\n",
       "sadness   0.121676\n",
       "joy       0.110337"
      ]
     },
     "execution_count": 495,
     "metadata": {},
     "output_type": "execute_result"
    }
   ],
   "source": [
    "pd.DataFrame(L_unfav[cols].mean())"
   ]
  },
  {
   "cell_type": "code",
   "execution_count": 496,
   "id": "8447d130-f2d4-41cf-adfa-a535656807bb",
   "metadata": {},
   "outputs": [
    {
     "data": {
      "text/html": [
       "<div>\n",
       "<style scoped>\n",
       "    .dataframe tbody tr th:only-of-type {\n",
       "        vertical-align: middle;\n",
       "    }\n",
       "\n",
       "    .dataframe tbody tr th {\n",
       "        vertical-align: top;\n",
       "    }\n",
       "\n",
       "    .dataframe thead th {\n",
       "        text-align: right;\n",
       "    }\n",
       "</style>\n",
       "<table border=\"1\" class=\"dataframe\">\n",
       "  <thead>\n",
       "    <tr style=\"text-align: right;\">\n",
       "      <th></th>\n",
       "      <th>0</th>\n",
       "    </tr>\n",
       "  </thead>\n",
       "  <tbody>\n",
       "    <tr>\n",
       "      <th>anger</th>\n",
       "      <td>0.666838</td>\n",
       "    </tr>\n",
       "    <tr>\n",
       "      <th>optimism</th>\n",
       "      <td>0.107213</td>\n",
       "    </tr>\n",
       "    <tr>\n",
       "      <th>sadness</th>\n",
       "      <td>0.116315</td>\n",
       "    </tr>\n",
       "    <tr>\n",
       "      <th>joy</th>\n",
       "      <td>0.109639</td>\n",
       "    </tr>\n",
       "  </tbody>\n",
       "</table>\n",
       "</div>"
      ],
      "text/plain": [
       "                 0\n",
       "anger     0.666838\n",
       "optimism  0.107213\n",
       "sadness   0.116315\n",
       "joy       0.109639"
      ]
     },
     "execution_count": 496,
     "metadata": {},
     "output_type": "execute_result"
    }
   ],
   "source": [
    "pd.DataFrame(R_fav[cols].mean())"
   ]
  },
  {
   "cell_type": "code",
   "execution_count": 497,
   "id": "5c43e06c-e681-455e-8743-9f5ef38cee93",
   "metadata": {},
   "outputs": [
    {
     "data": {
      "text/html": [
       "<div>\n",
       "<style scoped>\n",
       "    .dataframe tbody tr th:only-of-type {\n",
       "        vertical-align: middle;\n",
       "    }\n",
       "\n",
       "    .dataframe tbody tr th {\n",
       "        vertical-align: top;\n",
       "    }\n",
       "\n",
       "    .dataframe thead th {\n",
       "        text-align: right;\n",
       "    }\n",
       "</style>\n",
       "<table border=\"1\" class=\"dataframe\">\n",
       "  <thead>\n",
       "    <tr style=\"text-align: right;\">\n",
       "      <th></th>\n",
       "      <th>0</th>\n",
       "    </tr>\n",
       "  </thead>\n",
       "  <tbody>\n",
       "    <tr>\n",
       "      <th>anger</th>\n",
       "      <td>0.655879</td>\n",
       "    </tr>\n",
       "    <tr>\n",
       "      <th>optimism</th>\n",
       "      <td>0.106865</td>\n",
       "    </tr>\n",
       "    <tr>\n",
       "      <th>sadness</th>\n",
       "      <td>0.115183</td>\n",
       "    </tr>\n",
       "    <tr>\n",
       "      <th>joy</th>\n",
       "      <td>0.122073</td>\n",
       "    </tr>\n",
       "  </tbody>\n",
       "</table>\n",
       "</div>"
      ],
      "text/plain": [
       "                 0\n",
       "anger     0.655879\n",
       "optimism  0.106865\n",
       "sadness   0.115183\n",
       "joy       0.122073"
      ]
     },
     "execution_count": 497,
     "metadata": {},
     "output_type": "execute_result"
    }
   ],
   "source": [
    "pd.DataFrame(R_unfav[cols].mean())"
   ]
  },
  {
   "cell_type": "code",
   "execution_count": null,
   "id": "d8e71a04-83b8-484b-9de9-e3249b98ec70",
   "metadata": {},
   "outputs": [],
   "source": []
  },
  {
   "cell_type": "code",
   "execution_count": 474,
   "id": "2860710d-a09e-4216-a9ba-fe8d58a19352",
   "metadata": {},
   "outputs": [
    {
     "data": {
      "text/html": [
       "<div>\n",
       "<style scoped>\n",
       "    .dataframe tbody tr th:only-of-type {\n",
       "        vertical-align: middle;\n",
       "    }\n",
       "\n",
       "    .dataframe tbody tr th {\n",
       "        vertical-align: top;\n",
       "    }\n",
       "\n",
       "    .dataframe thead th {\n",
       "        text-align: right;\n",
       "    }\n",
       "</style>\n",
       "<table border=\"1\" class=\"dataframe\">\n",
       "  <thead>\n",
       "    <tr style=\"text-align: right;\">\n",
       "      <th></th>\n",
       "      <th>Right_R</th>\n",
       "      <th>Right_L</th>\n",
       "      <th>Left_R</th>\n",
       "      <th>Left_L</th>\n",
       "    </tr>\n",
       "  </thead>\n",
       "  <tbody>\n",
       "    <tr>\n",
       "      <th>anger</th>\n",
       "      <td>0.667032</td>\n",
       "      <td>0.655753</td>\n",
       "      <td>0.637346</td>\n",
       "      <td>0.651686</td>\n",
       "    </tr>\n",
       "    <tr>\n",
       "      <th>joy</th>\n",
       "      <td>0.109576</td>\n",
       "      <td>0.121665</td>\n",
       "      <td>0.119502</td>\n",
       "      <td>0.109838</td>\n",
       "    </tr>\n",
       "    <tr>\n",
       "      <th>optimism</th>\n",
       "      <td>0.107099</td>\n",
       "      <td>0.106975</td>\n",
       "      <td>0.123612</td>\n",
       "      <td>0.116734</td>\n",
       "    </tr>\n",
       "    <tr>\n",
       "      <th>sadness</th>\n",
       "      <td>0.116296</td>\n",
       "      <td>0.115607</td>\n",
       "      <td>0.119540</td>\n",
       "      <td>0.121742</td>\n",
       "    </tr>\n",
       "  </tbody>\n",
       "</table>\n",
       "</div>"
      ],
      "text/plain": [
       "           Right_R   Right_L    Left_R    Left_L\n",
       "anger     0.667032  0.655753  0.637346  0.651686\n",
       "joy       0.109576  0.121665  0.119502  0.109838\n",
       "optimism  0.107099  0.106975  0.123612  0.116734\n",
       "sadness   0.116296  0.115607  0.119540  0.121742"
      ]
     },
     "execution_count": 474,
     "metadata": {},
     "output_type": "execute_result"
    }
   ],
   "source": [
    "def get_mean_emotions_for_pos_neg_entity_mentions(df1, df2, ent, cols):\n",
    "    \n",
    "    return pd.concat((pd.DataFrame(df1[cols].mean(), columns = [ent + '_R']), df2[cols].mean()), axis = 1).rename(columns={0: ent + \"_L\"})\n",
    "\n",
    "_df1 = get_mean_emotions_for_pos_neg_entity_mentions(R_fav, R_unfav, ent = 'Right', cols = ['anger', 'joy', 'optimism', 'sadness'])\n",
    "_df2 = get_mean_emotions_for_pos_neg_entity_mentions(L_fav, L_unfav, ent = 'Left', cols = ['anger', 'joy', 'optimism', 'sadness'])\n",
    "# _df3 = get_mean_emotions_for_pos_neg_entity_mentions(T_pos_mentions_L, T_neg_mentions_L, ent = 'Trump_L', cols = ['anger', 'joy', 'optimism', 'sadness'])\n",
    "# _df4 = get_mean_emotions_for_pos_neg_entity_mentions(B_pos_mentions_L, B_neg_mentions_L, ent = 'Biden_L', cols = ['anger', 'joy', 'optimism', 'sadness'])\n",
    "comb_df = pd.concat((_df1, _df2), axis = 1)\n",
    "comb_df"
   ]
  },
  {
   "cell_type": "code",
   "execution_count": 468,
   "id": "e9722b7d-8139-42e4-9a17-9f2e56fd790d",
   "metadata": {},
   "outputs": [
    {
     "data": {
      "text/plain": [
       "Index(['Unnamed: 0.5', 'Unnamed: 0.4', 'Unnamed: 0.3', 'Unnamed: 0.2',\n",
       "       'Unnamed: 0.1', 'Unnamed: 0', 'tweet_id', 'conversation_id',\n",
       "       'author_id', 'created_at', 'geo', 'lang', 'like_count', 'quote_count',\n",
       "       'reply_count', 'retweet_count', 'source', 'text', 'anger', 'joy',\n",
       "       'optimism', 'sadness', 'publication', 'topic_labels', 'theme',\n",
       "       'pos_senti', 'neu_senti', 'neg_senti', 'date', 'week', 'flag',\n",
       "       'Trump_flag', 'Biden_flag', 'Trump_Biden_flag', 'trump_pos',\n",
       "       'trump_neg', 'trump_neu', 'biden_pos', 'biden_neg', 'biden_neu',\n",
       "       'topics', 'topic_ids', 'subtopic', 'publish_date', 'day', 'month',\n",
       "       'year', 'timestamp', 'anger_norm', 'optimism_norm', 'sadness_norm',\n",
       "       'joy_norm'],\n",
       "      dtype='object')"
      ]
     },
     "execution_count": 468,
     "metadata": {},
     "output_type": "execute_result"
    }
   ],
   "source": [
    "R_fav.columns"
   ]
  },
  {
   "cell_type": "code",
   "execution_count": 475,
   "id": "78e4fef3-2dfa-461c-9230-24895176e412",
   "metadata": {},
   "outputs": [
    {
     "data": {
      "text/html": [
       "<div>\n",
       "<style scoped>\n",
       "    .dataframe tbody tr th:only-of-type {\n",
       "        vertical-align: middle;\n",
       "    }\n",
       "\n",
       "    .dataframe tbody tr th {\n",
       "        vertical-align: top;\n",
       "    }\n",
       "\n",
       "    .dataframe thead th {\n",
       "        text-align: right;\n",
       "    }\n",
       "</style>\n",
       "<table border=\"1\" class=\"dataframe\">\n",
       "  <thead>\n",
       "    <tr style=\"text-align: right;\">\n",
       "      <th></th>\n",
       "      <th>Right_R</th>\n",
       "      <th>Right_L</th>\n",
       "      <th>Left_R</th>\n",
       "      <th>Left_L</th>\n",
       "    </tr>\n",
       "  </thead>\n",
       "  <tbody>\n",
       "    <tr>\n",
       "      <th>anger_norm</th>\n",
       "      <td>0.675298</td>\n",
       "      <td>0.663067</td>\n",
       "      <td>0.644326</td>\n",
       "      <td>0.659211</td>\n",
       "    </tr>\n",
       "    <tr>\n",
       "      <th>optimism_norm</th>\n",
       "      <td>0.111365</td>\n",
       "      <td>0.110252</td>\n",
       "      <td>0.126447</td>\n",
       "      <td>0.120314</td>\n",
       "    </tr>\n",
       "    <tr>\n",
       "      <th>sadness_norm</th>\n",
       "      <td>0.114471</td>\n",
       "      <td>0.113710</td>\n",
       "      <td>0.118381</td>\n",
       "      <td>0.119854</td>\n",
       "    </tr>\n",
       "    <tr>\n",
       "      <th>joy_norm</th>\n",
       "      <td>0.109963</td>\n",
       "      <td>0.122335</td>\n",
       "      <td>0.120923</td>\n",
       "      <td>0.111058</td>\n",
       "    </tr>\n",
       "  </tbody>\n",
       "</table>\n",
       "</div>"
      ],
      "text/plain": [
       "                Right_R   Right_L    Left_R    Left_L\n",
       "anger_norm     0.675298  0.663067  0.644326  0.659211\n",
       "optimism_norm  0.111365  0.110252  0.126447  0.120314\n",
       "sadness_norm   0.114471  0.113710  0.118381  0.119854\n",
       "joy_norm       0.109963  0.122335  0.120923  0.111058"
      ]
     },
     "execution_count": 475,
     "metadata": {},
     "output_type": "execute_result"
    }
   ],
   "source": [
    "def get_mean_emotions_for_pos_neg_entity_mentions(df1, df2, ent, cols):\n",
    "    \n",
    "    return pd.concat((pd.DataFrame(df1[cols].mean(), columns = [ent + '_R']), df2[cols].mean()), axis = 1).rename(columns={0: ent + \"_L\"})\n",
    "\n",
    "_df1 = get_mean_emotions_for_pos_neg_entity_mentions(R_fav, R_unfav, ent = 'Right', cols = ['anger_norm', 'optimism_norm', 'sadness_norm', 'joy_norm'])\n",
    "_df2 = get_mean_emotions_for_pos_neg_entity_mentions(L_fav, L_unfav, ent = 'Left', cols = ['anger_norm', 'optimism_norm', 'sadness_norm', 'joy_norm'])\n",
    "# _df3 = get_mean_emotions_for_pos_neg_entity_mentions(T_pos_mentions_L, T_neg_mentions_L, ent = 'Trump_L', cols = ['anger', 'joy', 'optimism', 'sadness'])\n",
    "# _df4 = get_mean_emotions_for_pos_neg_entity_mentions(B_pos_mentions_L, B_neg_mentions_L, ent = 'Biden_L', cols = ['anger', 'joy', 'optimism', 'sadness'])\n",
    "comb_df = pd.concat((_df1, _df2), axis = 1)\n",
    "comb_df"
   ]
  },
  {
   "cell_type": "code",
   "execution_count": 471,
   "id": "2fd350ea-0723-4892-839e-ecb26208c93d",
   "metadata": {},
   "outputs": [
    {
     "data": {
      "text/html": [
       "<div>\n",
       "<style scoped>\n",
       "    .dataframe tbody tr th:only-of-type {\n",
       "        vertical-align: middle;\n",
       "    }\n",
       "\n",
       "    .dataframe tbody tr th {\n",
       "        vertical-align: top;\n",
       "    }\n",
       "\n",
       "    .dataframe thead th {\n",
       "        text-align: right;\n",
       "    }\n",
       "</style>\n",
       "<table border=\"1\" class=\"dataframe\">\n",
       "  <thead>\n",
       "    <tr style=\"text-align: right;\">\n",
       "      <th></th>\n",
       "      <th>anger_norm</th>\n",
       "      <th>optimism_norm</th>\n",
       "      <th>sadness_norm</th>\n",
       "      <th>joy_norm</th>\n",
       "    </tr>\n",
       "  </thead>\n",
       "  <tbody>\n",
       "    <tr>\n",
       "      <th>21396</th>\n",
       "      <td>0.028542</td>\n",
       "      <td>0.787781</td>\n",
       "      <td>0.112130</td>\n",
       "      <td>0.114907</td>\n",
       "    </tr>\n",
       "    <tr>\n",
       "      <th>21397</th>\n",
       "      <td>0.272171</td>\n",
       "      <td>0.090032</td>\n",
       "      <td>0.638124</td>\n",
       "      <td>0.008282</td>\n",
       "    </tr>\n",
       "    <tr>\n",
       "      <th>21398</th>\n",
       "      <td>0.919470</td>\n",
       "      <td>0.031083</td>\n",
       "      <td>0.040775</td>\n",
       "      <td>0.015528</td>\n",
       "    </tr>\n",
       "    <tr>\n",
       "      <th>21399</th>\n",
       "      <td>0.961264</td>\n",
       "      <td>0.010718</td>\n",
       "      <td>0.022426</td>\n",
       "      <td>0.011387</td>\n",
       "    </tr>\n",
       "    <tr>\n",
       "      <th>21400</th>\n",
       "      <td>0.525994</td>\n",
       "      <td>0.026795</td>\n",
       "      <td>0.443425</td>\n",
       "      <td>0.008282</td>\n",
       "    </tr>\n",
       "    <tr>\n",
       "      <th>...</th>\n",
       "      <td>...</td>\n",
       "      <td>...</td>\n",
       "      <td>...</td>\n",
       "      <td>...</td>\n",
       "    </tr>\n",
       "    <tr>\n",
       "      <th>760809</th>\n",
       "      <td>NaN</td>\n",
       "      <td>NaN</td>\n",
       "      <td>NaN</td>\n",
       "      <td>NaN</td>\n",
       "    </tr>\n",
       "    <tr>\n",
       "      <th>760810</th>\n",
       "      <td>NaN</td>\n",
       "      <td>NaN</td>\n",
       "      <td>NaN</td>\n",
       "      <td>NaN</td>\n",
       "    </tr>\n",
       "    <tr>\n",
       "      <th>760811</th>\n",
       "      <td>NaN</td>\n",
       "      <td>NaN</td>\n",
       "      <td>NaN</td>\n",
       "      <td>NaN</td>\n",
       "    </tr>\n",
       "    <tr>\n",
       "      <th>760812</th>\n",
       "      <td>NaN</td>\n",
       "      <td>NaN</td>\n",
       "      <td>NaN</td>\n",
       "      <td>NaN</td>\n",
       "    </tr>\n",
       "    <tr>\n",
       "      <th>760813</th>\n",
       "      <td>NaN</td>\n",
       "      <td>NaN</td>\n",
       "      <td>NaN</td>\n",
       "      <td>NaN</td>\n",
       "    </tr>\n",
       "  </tbody>\n",
       "</table>\n",
       "<p>60194 rows × 4 columns</p>\n",
       "</div>"
      ],
      "text/plain": [
       "        anger_norm  optimism_norm  sadness_norm  joy_norm\n",
       "21396     0.028542       0.787781      0.112130  0.114907\n",
       "21397     0.272171       0.090032      0.638124  0.008282\n",
       "21398     0.919470       0.031083      0.040775  0.015528\n",
       "21399     0.961264       0.010718      0.022426  0.011387\n",
       "21400     0.525994       0.026795      0.443425  0.008282\n",
       "...            ...            ...           ...       ...\n",
       "760809         NaN            NaN           NaN       NaN\n",
       "760810         NaN            NaN           NaN       NaN\n",
       "760811         NaN            NaN           NaN       NaN\n",
       "760812         NaN            NaN           NaN       NaN\n",
       "760813         NaN            NaN           NaN       NaN\n",
       "\n",
       "[60194 rows x 4 columns]"
      ]
     },
     "execution_count": 471,
     "metadata": {},
     "output_type": "execute_result"
    }
   ],
   "source": [
    "cols = ['anger_norm', 'optimism_norm', 'sadness_norm', 'joy_norm']\n",
    "R_fav[cols]"
   ]
  },
  {
   "cell_type": "code",
   "execution_count": 470,
   "id": "57f51a4f-5c05-481b-a04d-f538900562e6",
   "metadata": {},
   "outputs": [
    {
     "data": {
      "text/plain": [
       "['anger', 'joy', 'optimism', 'sadness']"
      ]
     },
     "execution_count": 470,
     "metadata": {},
     "output_type": "execute_result"
    }
   ],
   "source": []
  },
  {
   "cell_type": "markdown",
   "id": "e1676d78-b7d9-4f9f-9813-2f99f6744e28",
   "metadata": {},
   "source": [
    "### Mean emotions across topics (L vs R)"
   ]
  },
  {
   "cell_type": "code",
   "execution_count": 305,
   "id": "73e868bf-46cd-4ae7-85a6-d14b0c628d2e",
   "metadata": {},
   "outputs": [
    {
     "data": {
      "text/html": [
       "<div>\n",
       "<style scoped>\n",
       "    .dataframe tbody tr th:only-of-type {\n",
       "        vertical-align: middle;\n",
       "    }\n",
       "\n",
       "    .dataframe tbody tr th {\n",
       "        vertical-align: top;\n",
       "    }\n",
       "\n",
       "    .dataframe thead th {\n",
       "        text-align: right;\n",
       "    }\n",
       "</style>\n",
       "<table border=\"1\" class=\"dataframe\">\n",
       "  <thead>\n",
       "    <tr style=\"text-align: right;\">\n",
       "      <th></th>\n",
       "      <th>anger</th>\n",
       "      <th>joy</th>\n",
       "      <th>optimism</th>\n",
       "      <th>sadness</th>\n",
       "    </tr>\n",
       "  </thead>\n",
       "  <tbody>\n",
       "    <tr>\n",
       "      <th>mean</th>\n",
       "      <td>0.637153</td>\n",
       "      <td>0.118623</td>\n",
       "      <td>0.120524</td>\n",
       "      <td>0.123699</td>\n",
       "    </tr>\n",
       "    <tr>\n",
       "      <th>mean</th>\n",
       "      <td>0.617871</td>\n",
       "      <td>0.129014</td>\n",
       "      <td>0.123748</td>\n",
       "      <td>0.129362</td>\n",
       "    </tr>\n",
       "    <tr>\n",
       "      <th>mean</th>\n",
       "      <td>0.654856</td>\n",
       "      <td>0.118770</td>\n",
       "      <td>0.108667</td>\n",
       "      <td>0.117708</td>\n",
       "    </tr>\n",
       "  </tbody>\n",
       "</table>\n",
       "</div>"
      ],
      "text/plain": [
       "         anger       joy  optimism   sadness\n",
       "mean  0.637153  0.118623  0.120524  0.123699\n",
       "mean  0.617871  0.129014  0.123748  0.129362\n",
       "mean  0.654856  0.118770  0.108667  0.117708"
      ]
     },
     "execution_count": 305,
     "metadata": {},
     "output_type": "execute_result"
    }
   ],
   "source": [
    "df = pd.DataFrame()\n",
    "cols = ['anger', 'joy', 'optimism', 'sadness']\n",
    "df = pd.concat((df, L_user_resp[cols].describe().loc['mean']), axis = 1)\n",
    "df = pd.concat((df, C_user_resp[cols].describe().loc['mean']), axis = 1)\n",
    "df = pd.concat((df, R_user_resp[cols].describe().loc['mean']), axis = 1)\n",
    "# df.T.to_csv('results/user_resp_analysis/mean_emotions.csv')\n",
    "df.T"
   ]
  },
  {
   "cell_type": "code",
   "execution_count": null,
   "id": "f6566a50-631a-4b32-bca5-cd9ec992c7a3",
   "metadata": {},
   "outputs": [],
   "source": []
  },
  {
   "cell_type": "markdown",
   "id": "c2d56709-5411-4709-a300-206524cfe7ec",
   "metadata": {},
   "source": [
    "### Fav-vs-UnFav"
   ]
  },
  {
   "cell_type": "code",
   "execution_count": null,
   "id": "4dc197ee-7ebc-43a9-a451-7b0baccc5fd2",
   "metadata": {},
   "outputs": [],
   "source": []
  },
  {
   "cell_type": "code",
   "execution_count": null,
   "id": "0407c70c-eed7-4f79-af93-5a7a9e3436ee",
   "metadata": {},
   "outputs": [],
   "source": [
    "# # df_L_T = L_user_resp[L_user_resp.Trump_flag == True]\n",
    "\n",
    "# L_unfav1, L_fav1 = get_pos_neg_mentions(L_user_resp[L_user_resp.Trump_flag == True], 'trump')\n",
    "# L_fav2, L_unfav2 = get_pos_neg_mentions(L_user_resp[L_user_resp.Biden_flag == True], 'biden')\n",
    "\n",
    "# L_fav = pd.concat((L_fav1, L_fav2), axis = 0)\n",
    "# L_unfav = pd.concat((L_unfav1, L_unfav2), axis = 0)\n",
    "\n",
    "# # df_L_T = L_user_resp[L_user_resp.Trump_flag == True]\n",
    "\n",
    "# R_fav1, R_unfav1 = get_pos_neg_mentions(R_user_resp[R_user_resp.Trump_flag == True], 'trump')\n",
    "# R_unfav2, R_fav2 = get_pos_neg_mentions(R_user_resp[R_user_resp.Biden_flag == True], 'biden')\n",
    "\n",
    "# R_fav = pd.concat((R_fav1, R_fav2), axis = 0)\n",
    "# R_unfav = pd.concat((R_unfav1, R_unfav2), axis = 0)"
   ]
  },
  {
   "cell_type": "code",
   "execution_count": null,
   "id": "1cb879d3-9536-4a15-beba-a9370aedf826",
   "metadata": {},
   "outputs": [],
   "source": []
  }
 ],
 "metadata": {
  "kernelspec": {
   "display_name": "py3_10",
   "language": "python",
   "name": "py3_10"
  },
  "language_info": {
   "codemirror_mode": {
    "name": "ipython",
    "version": 3
   },
   "file_extension": ".py",
   "mimetype": "text/x-python",
   "name": "python",
   "nbconvert_exporter": "python",
   "pygments_lexer": "ipython3",
   "version": "3.10.12"
  }
 },
 "nbformat": 4,
 "nbformat_minor": 5
}
