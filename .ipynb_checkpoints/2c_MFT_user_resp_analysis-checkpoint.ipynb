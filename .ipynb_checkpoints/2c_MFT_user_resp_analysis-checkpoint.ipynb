{
 "cells": [
  {
   "cell_type": "code",
   "execution_count": 143,
   "id": "4028dce5-f73c-4945-83c9-6dce49065b89",
   "metadata": {
    "tags": []
   },
   "outputs": [],
   "source": [
    "import pandas as pd\n",
    "import numpy as np\n",
    "import sys\n",
    "import matplotlib.pyplot as plt"
   ]
  },
  {
   "cell_type": "code",
   "execution_count": 55,
   "id": "ea9edd10-67b6-40c7-b296-697dd79d4d1f",
   "metadata": {
    "tags": []
   },
   "outputs": [],
   "source": [
    "# data.drop_duplicates(subset = ['tweet_id']).shape, data.shape"
   ]
  },
  {
   "cell_type": "code",
   "execution_count": 144,
   "id": "9c1ddb49-b3f6-4131-82f9-6f6e0be232d5",
   "metadata": {
    "tags": []
   },
   "outputs": [
    {
     "name": "stderr",
     "output_type": "stream",
     "text": [
      "/home/ahaque2/venv/py3_7/lib/python3.7/site-packages/IPython/core/interactiveshell.py:3553: DtypeWarning: Columns (59,60,61) have mixed types.Specify dtype option on import or set low_memory=False.\n",
      "  exec(code_obj, self.user_global_ns, self.user_ns)\n"
     ]
    }
   ],
   "source": [
    "user_resp = pd.read_csv('dataset/user_resp.csv')"
   ]
  },
  {
   "cell_type": "code",
   "execution_count": 5,
   "id": "ad2778f6-cc51-46c4-bd73-d0e7f35e75db",
   "metadata": {
    "tags": []
   },
   "outputs": [],
   "source": [
    "# user_resp = user_resp.dropna(subset = ['clean_text'])"
   ]
  },
  {
   "cell_type": "code",
   "execution_count": 6,
   "id": "f67e9d3b-6194-4cfb-9a9a-660a3f1b8d3e",
   "metadata": {
    "tags": []
   },
   "outputs": [
    {
     "data": {
      "text/plain": [
       "((4039474, 65),\n",
       " Index(['Unnamed: 0', 'Unnamed: 0.1', 'Unnamed: 0.1.1', 'tweet_id',\n",
       "        'conversation_id', 'author_id_x', 'created_at_x', 'geo_x', 'lang_x',\n",
       "        'like_count_x', 'quote_count_x', 'reply_count_x', 'retweet_count_x',\n",
       "        'source_x', 'text_x', 'anger', 'joy', 'optimism', 'sadness',\n",
       "        'tweet_id_y', 'author_id_y', 'created_at_y', 'geo_y', 'lang_y',\n",
       "        'like_count_y', 'quote_count_y', 'reply_count_y', 'retweet_count_y',\n",
       "        'source_y', 'text_y', 'publication', 'topics_x', 'topic_labels',\n",
       "        'theme', 'vad_pos_senti', 'vad_neu_senti', 'vad_neg_senti', 'trump_neg',\n",
       "        'trump_neu', 'trump_pos', 'biden_neg', 'biden_neu', 'biden_pos',\n",
       "        'trump_flag', 'biden_flag', 'tweet_freq_y', 'neg_senti', 'neu_senti',\n",
       "        'pos_senti', 'topics_y', 'subtopic', 'topic_ids', 'subtopic.1',\n",
       "        'trump_pos_new', 'trump_neg_new', 'trump_neu_new', 'biden_pos_new',\n",
       "        'biden_neg_new', 'biden_neu_new', 'Trump_flag', 'Biden_flag',\n",
       "        'Trump_Biden_flag', 'topic_id', 'clean_text', 'pred_labels'],\n",
       "       dtype='object'))"
      ]
     },
     "execution_count": 6,
     "metadata": {},
     "output_type": "execute_result"
    }
   ],
   "source": [
    "user_resp.shape, user_resp.columns"
   ]
  },
  {
   "cell_type": "code",
   "execution_count": 145,
   "id": "d9c1ffae-d128-4a2a-bd64-6bdcb8c5c222",
   "metadata": {
    "tags": []
   },
   "outputs": [],
   "source": [
    "softmax_score_df = pd.read_csv('dataset/user_resp_MFT_all_softmax.csv')\n",
    "user_resp_df = user_resp[['tweet_id', 'conversation_id', 'author_id_x', 'publication', 'topics_x', 'topics_y', 'trump_pos_new', 'trump_neg_new', 'trump_neu_new', 'biden_pos_new', 'biden_neg_new', \n",
    "                          'biden_neu_new', 'Trump_flag', 'Biden_flag', 'Trump_Biden_flag', 'topic_id', 'clean_text']].merge(softmax_score_df, on = 'tweet_id', how = 'inner')"
   ]
  },
  {
   "cell_type": "code",
   "execution_count": 1,
   "id": "4274e70b-89e4-4733-8925-6b2d95195e5b",
   "metadata": {
    "collapsed": true,
    "jupyter": {
     "outputs_hidden": true
    },
    "tags": []
   },
   "outputs": [
    {
     "ename": "NameError",
     "evalue": "name 'user_resp_df' is not defined",
     "output_type": "error",
     "traceback": [
      "\u001b[0;31m---------------------------------------------------------------------------\u001b[0m",
      "\u001b[0;31mNameError\u001b[0m                                 Traceback (most recent call last)",
      "\u001b[0;32m/tmp/ipykernel_2641334/201605438.py\u001b[0m in \u001b[0;36m<module>\u001b[0;34m\u001b[0m\n\u001b[0;32m----> 1\u001b[0;31m \u001b[0muser_resp_df\u001b[0m\u001b[0;34m.\u001b[0m\u001b[0mcolumns\u001b[0m\u001b[0;34m,\u001b[0m \u001b[0muser_resp_df\u001b[0m\u001b[0;34m.\u001b[0m\u001b[0mshape\u001b[0m\u001b[0;34m\u001b[0m\u001b[0;34m\u001b[0m\u001b[0m\n\u001b[0m",
      "\u001b[0;31mNameError\u001b[0m: name 'user_resp_df' is not defined"
     ]
    }
   ],
   "source": [
    "user_resp_df.columns, user_resp_df.shape"
   ]
  },
  {
   "cell_type": "code",
   "execution_count": 57,
   "id": "bfd373d0-4f21-4da4-863b-0bebfad204c0",
   "metadata": {
    "tags": []
   },
   "outputs": [],
   "source": [
    "# softmax_score_df_ = pd.read_csv('../dataset/user_resp_MFT_softmax.csv')\n",
    "# user_resp_df_ = user_resp[['tweet_id', 'conversation_id', 'author_id_x', 'publication', 'topics_x', 'topics_y', 'trump_pos_new', 'trump_neg_new', 'trump_neu_new', 'biden_pos_new', 'biden_neg_new', \n",
    "#                           'biden_neu_new', 'Trump_flag', 'Biden_flag', 'Trump_Biden_flag', 'topic_id', 'clean_text', 'pred_labels']].merge(softmax_score_df_, on = 'tweet_id', how = 'inner')"
   ]
  },
  {
   "cell_type": "code",
   "execution_count": 148,
   "id": "ea0861ac-5e86-4cee-853b-09336bc72b91",
   "metadata": {
    "tags": []
   },
   "outputs": [],
   "source": [
    "mft_id_to_label_mapping = pd.read_csv('../dataset/MFT_label_to_id_mapping_new.csv')"
   ]
  },
  {
   "cell_type": "code",
   "execution_count": 149,
   "id": "7c203c27-e34a-4521-9672-7e17a8bcdfb9",
   "metadata": {
    "tags": []
   },
   "outputs": [
    {
     "data": {
      "text/html": [
       "<div>\n",
       "<style scoped>\n",
       "    .dataframe tbody tr th:only-of-type {\n",
       "        vertical-align: middle;\n",
       "    }\n",
       "\n",
       "    .dataframe tbody tr th {\n",
       "        vertical-align: top;\n",
       "    }\n",
       "\n",
       "    .dataframe thead th {\n",
       "        text-align: right;\n",
       "    }\n",
       "</style>\n",
       "<table border=\"1\" class=\"dataframe\">\n",
       "  <thead>\n",
       "    <tr style=\"text-align: right;\">\n",
       "      <th></th>\n",
       "      <th>Unnamed: 0</th>\n",
       "      <th>label</th>\n",
       "      <th>label_id</th>\n",
       "    </tr>\n",
       "  </thead>\n",
       "  <tbody>\n",
       "    <tr>\n",
       "      <th>0</th>\n",
       "      <td>0</td>\n",
       "      <td>non-moral</td>\n",
       "      <td>4</td>\n",
       "    </tr>\n",
       "    <tr>\n",
       "      <th>1</th>\n",
       "      <td>2</td>\n",
       "      <td>care</td>\n",
       "      <td>0</td>\n",
       "    </tr>\n",
       "    <tr>\n",
       "      <th>2</th>\n",
       "      <td>3</td>\n",
       "      <td>harm</td>\n",
       "      <td>3</td>\n",
       "    </tr>\n",
       "    <tr>\n",
       "      <th>3</th>\n",
       "      <td>5</td>\n",
       "      <td>authority</td>\n",
       "      <td>7</td>\n",
       "    </tr>\n",
       "    <tr>\n",
       "      <th>4</th>\n",
       "      <td>6</td>\n",
       "      <td>subversion</td>\n",
       "      <td>1</td>\n",
       "    </tr>\n",
       "    <tr>\n",
       "      <th>5</th>\n",
       "      <td>11</td>\n",
       "      <td>loyalty</td>\n",
       "      <td>8</td>\n",
       "    </tr>\n",
       "    <tr>\n",
       "      <th>6</th>\n",
       "      <td>16</td>\n",
       "      <td>betrayal</td>\n",
       "      <td>6</td>\n",
       "    </tr>\n",
       "    <tr>\n",
       "      <th>7</th>\n",
       "      <td>25</td>\n",
       "      <td>cheating</td>\n",
       "      <td>2</td>\n",
       "    </tr>\n",
       "    <tr>\n",
       "      <th>8</th>\n",
       "      <td>31</td>\n",
       "      <td>fairness</td>\n",
       "      <td>5</td>\n",
       "    </tr>\n",
       "    <tr>\n",
       "      <th>9</th>\n",
       "      <td>36</td>\n",
       "      <td>purity</td>\n",
       "      <td>9</td>\n",
       "    </tr>\n",
       "    <tr>\n",
       "      <th>10</th>\n",
       "      <td>55</td>\n",
       "      <td>degradation</td>\n",
       "      <td>10</td>\n",
       "    </tr>\n",
       "  </tbody>\n",
       "</table>\n",
       "</div>"
      ],
      "text/plain": [
       "    Unnamed: 0        label  label_id\n",
       "0            0    non-moral         4\n",
       "1            2         care         0\n",
       "2            3         harm         3\n",
       "3            5    authority         7\n",
       "4            6   subversion         1\n",
       "5           11      loyalty         8\n",
       "6           16     betrayal         6\n",
       "7           25     cheating         2\n",
       "8           31     fairness         5\n",
       "9           36       purity         9\n",
       "10          55  degradation        10"
      ]
     },
     "execution_count": 149,
     "metadata": {},
     "output_type": "execute_result"
    }
   ],
   "source": [
    "mft_id_to_label_mapping"
   ]
  },
  {
   "cell_type": "code",
   "execution_count": 156,
   "id": "c34fe48e-ead5-4ad9-bc59-7e8ffb3e67d8",
   "metadata": {
    "tags": []
   },
   "outputs": [],
   "source": [
    "cols = dict()\n",
    "for i, j in enumerate(list(mft_id_to_label_mapping[['label', 'label_id']].sort_values(by = ['label_id']).label)):\n",
    "    cols[str(i)] = j"
   ]
  },
  {
   "cell_type": "code",
   "execution_count": 157,
   "id": "a5593e84-d8b8-4ed2-a145-bf5974496e22",
   "metadata": {
    "tags": []
   },
   "outputs": [
    {
     "data": {
      "text/plain": [
       "{'0': 'care',\n",
       " '1': 'subversion',\n",
       " '2': 'cheating',\n",
       " '3': 'harm',\n",
       " '4': 'non-moral',\n",
       " '5': 'fairness',\n",
       " '6': 'betrayal',\n",
       " '7': 'authority',\n",
       " '8': 'loyalty',\n",
       " '9': 'purity',\n",
       " '10': 'degradation'}"
      ]
     },
     "execution_count": 157,
     "metadata": {},
     "output_type": "execute_result"
    }
   ],
   "source": [
    "cols"
   ]
  },
  {
   "cell_type": "code",
   "execution_count": 159,
   "id": "77181486-03bf-4046-be73-812de5d574ae",
   "metadata": {
    "tags": []
   },
   "outputs": [],
   "source": [
    "user_resp_df = user_resp_df.rename(columns = cols)"
   ]
  },
  {
   "cell_type": "code",
   "execution_count": 162,
   "id": "1cef080a-63d8-4e82-903e-aff3f14d469f",
   "metadata": {
    "tags": []
   },
   "outputs": [
    {
     "data": {
      "text/plain": [
       "election             811683\n",
       "covid                513528\n",
       "none                 492784\n",
       "other                475862\n",
       "democrats            230990\n",
       "media                181116\n",
       "republican           179635\n",
       "blm                  176056\n",
       "national             147922\n",
       "supreme_court        117820\n",
       "white_house          114838\n",
       "american             106982\n",
       "economy              105129\n",
       "conspiracy_theory    103200\n",
       "international         68794\n",
       "newyork               68772\n",
       "capitol               64217\n",
       "impeachment           51839\n",
       "healthcare            18553\n",
       "immigration            9749\n",
       "Name: topics_y, dtype: int64"
      ]
     },
     "execution_count": 162,
     "metadata": {},
     "output_type": "execute_result"
    }
   ],
   "source": [
    "user_resp_df.topics_y.value_counts()"
   ]
  },
  {
   "cell_type": "code",
   "execution_count": 164,
   "id": "c75477a2-c839-41b4-bf9e-1cd73de98064",
   "metadata": {
    "tags": []
   },
   "outputs": [],
   "source": [
    "ur_ = user_resp_df[['tweet_id', 'conversation_id', 'topics_y', 'care', 'subversion', 'cheating', 'harm', 'non-moral', 'fairness', 'betrayal', 'authority', 'loyalty', 'purity', 'degradation']]"
   ]
  },
  {
   "cell_type": "code",
   "execution_count": 166,
   "id": "18466ab2-bcde-4db3-859e-8493f2230143",
   "metadata": {
    "tags": []
   },
   "outputs": [],
   "source": [
    "ur_.to_csv('NewSlant_user_response.csv')"
   ]
  },
  {
   "cell_type": "code",
   "execution_count": 59,
   "id": "020589a6-d532-4694-a41e-9d8177987526",
   "metadata": {
    "tags": []
   },
   "outputs": [
    {
     "data": {
      "text/plain": [
       "Index(['tweet_id', 'conversation_id', 'author_id_x', 'publication', 'topics_x',\n",
       "       'topics_y', 'trump_pos_new', 'trump_neg_new', 'trump_neu_new',\n",
       "       'biden_pos_new', 'biden_neg_new', 'biden_neu_new', 'Trump_flag',\n",
       "       'Biden_flag', 'Trump_Biden_flag', 'topic_id', 'clean_text',\n",
       "       'Unnamed: 0', '0', '1', '2', '3', '4', '5', '6', '7', '8', '9', '10',\n",
       "       'pred_labels'],\n",
       "      dtype='object')"
      ]
     },
     "execution_count": 59,
     "metadata": {},
     "output_type": "execute_result"
    }
   ],
   "source": [
    "user_resp_df.columns"
   ]
  },
  {
   "cell_type": "code",
   "execution_count": 60,
   "id": "df359179-d186-4df8-bf13-9981bc809ccf",
   "metadata": {
    "tags": []
   },
   "outputs": [
    {
     "data": {
      "text/plain": [
       "((1123219, 30), (2755152, 30), (161098, 30))"
      ]
     },
     "execution_count": 60,
     "metadata": {},
     "output_type": "execute_result"
    }
   ],
   "source": [
    "R_user_resp = user_resp_df[((user_resp_df['publication'] == 'Breitbart News') | (user_resp_df['publication'] == 'Fox News'))]\n",
    "L_user_resp = user_resp_df[((user_resp_df['publication'] == 'CNN') | (user_resp_df['publication'] == 'The Washington Post'))]\n",
    "C_user_resp = user_resp_df[((user_resp_df['publication'] == 'Business Insider') | (user_resp_df['publication'] ==  'USA Today'))]\n",
    "\n",
    "R_user_resp.shape, L_user_resp.shape, C_user_resp.shape"
   ]
  },
  {
   "cell_type": "code",
   "execution_count": 61,
   "id": "bd02c461-69dd-4c6f-a3d9-884b13f6b960",
   "metadata": {
    "tags": []
   },
   "outputs": [
    {
     "data": {
      "text/plain": [
       "((1123219, 30), (2755152, 30), (161098, 30))"
      ]
     },
     "execution_count": 61,
     "metadata": {},
     "output_type": "execute_result"
    }
   ],
   "source": [
    "# user_resp_.columns\n",
    "R_user_resp.shape, L_user_resp.shape, C_user_resp.shape"
   ]
  },
  {
   "cell_type": "code",
   "execution_count": 62,
   "id": "fa8f6a99-5bd9-411a-a564-43d40038f17e",
   "metadata": {
    "tags": []
   },
   "outputs": [],
   "source": [
    "topics = ['election', 'covid', 'blm', 'supreme_court', 'economy', 'conspiracy_theory', 'capitol', 'impeachment', 'healthcare', 'immigration']"
   ]
  },
  {
   "cell_type": "markdown",
   "id": "46ebe872-e908-41a0-ae4f-b14de7522ad0",
   "metadata": {},
   "source": [
    "### Topic wise mean moral foundations"
   ]
  },
  {
   "cell_type": "code",
   "execution_count": 65,
   "id": "8e1e01b4-0608-41f4-8673-fffee5bb17e5",
   "metadata": {
    "tags": []
   },
   "outputs": [],
   "source": [
    "def get_averages(df):\n",
    "    \n",
    "    means = []\n",
    "    for i in range(11):\n",
    "        \n",
    "        # if(i == 3):\n",
    "        #     continue\n",
    "        means.append(df[str(i)].mean())\n",
    "        \n",
    "    return pd.DataFrame(means)\n",
    "\n",
    "# df1_mean = get_averages(L_sel_ur).rename(columns = {0: 'left'})\n",
    "# df2_mean = get_averages(cross_exp_ur).rename(columns = {0: 'center'})\n",
    "# df3_mean = get_averages(R_sel_ur).rename(columns = {0: 'right'})\n",
    "\n",
    "df1_mean = get_averages(L_user_resp).rename(columns = {0: 'left'})\n",
    "df2_mean = get_averages(C_user_resp).rename(columns = {0: 'center'})\n",
    "df3_mean = get_averages(R_user_resp).rename(columns = {0: 'right'})\n",
    "\n",
    "df_ = pd.DataFrame()\n",
    "for top in topics:\n",
    "    \n",
    "    if((top in L_user_resp.topics_y.to_list()) & (top in C_user_resp.topics_y.to_list()) & (top in R_user_resp.topics_y.to_list())):\n",
    "        \n",
    "#         df1 = get_averages(L_sel_ur[L_sel_ur.topics_y == top]).rename(columns = {0: 'left'})\n",
    "#         df2 = get_averages(cross_exp_ur[cross_exp_ur.topics_y == top]).rename(columns = {0: 'center'})\n",
    "#         df3 = get_averages(R_sel_ur[R_sel_ur.topics_y == top]).rename(columns = {0: 'right'})\n",
    "        \n",
    "        df1 = get_averages(L_user_resp[L_user_resp.topics_y == top]).rename(columns = {0: 'left'})\n",
    "        df2 = get_averages(C_user_resp[C_user_resp.topics_y == top]).rename(columns = {0: 'center'})\n",
    "        df3 = get_averages(R_user_resp[R_user_resp.topics_y == top]).rename(columns = {0: 'right'})\n",
    "        \n",
    "        df1 = df1 - df1_mean\n",
    "        df2 = df2 - df2_mean\n",
    "        df3 = df3 - df3_mean\n",
    "        \n",
    "        df = pd.concat((df1, df2, df3), axis = 1)\n",
    "        df['topic'] = top\n",
    "        # df.rename(columns = {})\n",
    "        # df_['topic'] = top\n",
    "        # df.index = list(mft_id_to_label_mapping[mft_id_to_label_mapping.label_id != 3][['label', 'label_id']].sort_values(by = ['label_id']).label)\n",
    "        df.index = list(mft_id_to_label_mapping[['label', 'label_id']].sort_values(by = ['label_id']).label)\n",
    "        df_ = pd.concat((df_, df), axis = 0)\n",
    "        \n",
    "        # df.plot.bar(figsize = (5, 3), rot=55)\n",
    "        # plt.title(top)\n",
    "        # plt.legend(['Left', 'Center', 'Right'])\n",
    "        \n",
    "        # print(df)\n",
    "        \n",
    "        \n",
    "        # sys.exit()\n",
    "        "
   ]
  },
  {
   "cell_type": "code",
   "execution_count": 66,
   "id": "a1ad3725-d83f-4c32-ab53-22de4e96a73a",
   "metadata": {
    "tags": []
   },
   "outputs": [],
   "source": [
    "df_['mf'] = df_.index"
   ]
  },
  {
   "cell_type": "code",
   "execution_count": 67,
   "id": "cea488d4-87af-4f60-a74c-cb2ee877d870",
   "metadata": {
    "tags": []
   },
   "outputs": [
    {
     "data": {
      "text/html": [
       "<div>\n",
       "<style scoped>\n",
       "    .dataframe tbody tr th:only-of-type {\n",
       "        vertical-align: middle;\n",
       "    }\n",
       "\n",
       "    .dataframe tbody tr th {\n",
       "        vertical-align: top;\n",
       "    }\n",
       "\n",
       "    .dataframe thead th {\n",
       "        text-align: right;\n",
       "    }\n",
       "</style>\n",
       "<table border=\"1\" class=\"dataframe\">\n",
       "  <thead>\n",
       "    <tr style=\"text-align: right;\">\n",
       "      <th></th>\n",
       "      <th>left</th>\n",
       "      <th>center</th>\n",
       "      <th>right</th>\n",
       "      <th>topic</th>\n",
       "      <th>mf</th>\n",
       "    </tr>\n",
       "  </thead>\n",
       "  <tbody>\n",
       "    <tr>\n",
       "      <th>care</th>\n",
       "      <td>-0.001497</td>\n",
       "      <td>-0.001068</td>\n",
       "      <td>-0.000982</td>\n",
       "      <td>election</td>\n",
       "      <td>care</td>\n",
       "    </tr>\n",
       "    <tr>\n",
       "      <th>subversion</th>\n",
       "      <td>0.002095</td>\n",
       "      <td>0.001563</td>\n",
       "      <td>-0.001008</td>\n",
       "      <td>election</td>\n",
       "      <td>subversion</td>\n",
       "    </tr>\n",
       "    <tr>\n",
       "      <th>cheating</th>\n",
       "      <td>0.013220</td>\n",
       "      <td>0.018714</td>\n",
       "      <td>0.008011</td>\n",
       "      <td>election</td>\n",
       "      <td>cheating</td>\n",
       "    </tr>\n",
       "    <tr>\n",
       "      <th>harm</th>\n",
       "      <td>-0.006157</td>\n",
       "      <td>-0.006814</td>\n",
       "      <td>-0.006175</td>\n",
       "      <td>election</td>\n",
       "      <td>harm</td>\n",
       "    </tr>\n",
       "    <tr>\n",
       "      <th>non-moral</th>\n",
       "      <td>-0.004321</td>\n",
       "      <td>-0.007803</td>\n",
       "      <td>0.004649</td>\n",
       "      <td>election</td>\n",
       "      <td>non-moral</td>\n",
       "    </tr>\n",
       "    <tr>\n",
       "      <th>fairness</th>\n",
       "      <td>-0.000275</td>\n",
       "      <td>-0.000063</td>\n",
       "      <td>-0.000168</td>\n",
       "      <td>election</td>\n",
       "      <td>fairness</td>\n",
       "    </tr>\n",
       "    <tr>\n",
       "      <th>betrayal</th>\n",
       "      <td>-0.000385</td>\n",
       "      <td>0.000418</td>\n",
       "      <td>-0.001366</td>\n",
       "      <td>election</td>\n",
       "      <td>betrayal</td>\n",
       "    </tr>\n",
       "    <tr>\n",
       "      <th>authority</th>\n",
       "      <td>-0.000086</td>\n",
       "      <td>0.000434</td>\n",
       "      <td>0.000545</td>\n",
       "      <td>election</td>\n",
       "      <td>authority</td>\n",
       "    </tr>\n",
       "    <tr>\n",
       "      <th>loyalty</th>\n",
       "      <td>0.000240</td>\n",
       "      <td>0.000736</td>\n",
       "      <td>0.000928</td>\n",
       "      <td>election</td>\n",
       "      <td>loyalty</td>\n",
       "    </tr>\n",
       "    <tr>\n",
       "      <th>purity</th>\n",
       "      <td>-0.000457</td>\n",
       "      <td>-0.000652</td>\n",
       "      <td>-0.000342</td>\n",
       "      <td>election</td>\n",
       "      <td>purity</td>\n",
       "    </tr>\n",
       "    <tr>\n",
       "      <th>degradation</th>\n",
       "      <td>-0.002378</td>\n",
       "      <td>-0.005467</td>\n",
       "      <td>-0.004092</td>\n",
       "      <td>election</td>\n",
       "      <td>degradation</td>\n",
       "    </tr>\n",
       "  </tbody>\n",
       "</table>\n",
       "</div>"
      ],
      "text/plain": [
       "                 left    center     right     topic           mf\n",
       "care        -0.001497 -0.001068 -0.000982  election         care\n",
       "subversion   0.002095  0.001563 -0.001008  election   subversion\n",
       "cheating     0.013220  0.018714  0.008011  election     cheating\n",
       "harm        -0.006157 -0.006814 -0.006175  election         harm\n",
       "non-moral   -0.004321 -0.007803  0.004649  election    non-moral\n",
       "fairness    -0.000275 -0.000063 -0.000168  election     fairness\n",
       "betrayal    -0.000385  0.000418 -0.001366  election     betrayal\n",
       "authority   -0.000086  0.000434  0.000545  election    authority\n",
       "loyalty      0.000240  0.000736  0.000928  election      loyalty\n",
       "purity      -0.000457 -0.000652 -0.000342  election       purity\n",
       "degradation -0.002378 -0.005467 -0.004092  election  degradation"
      ]
     },
     "execution_count": 67,
     "metadata": {},
     "output_type": "execute_result"
    }
   ],
   "source": [
    "df_[df_['topic'] == 'election']"
   ]
  },
  {
   "cell_type": "code",
   "execution_count": 68,
   "id": "18946725-1adb-45c1-84da-efdca846d151",
   "metadata": {
    "tags": []
   },
   "outputs": [
    {
     "data": {
      "text/html": [
       "<div>\n",
       "<style scoped>\n",
       "    .dataframe tbody tr th:only-of-type {\n",
       "        vertical-align: middle;\n",
       "    }\n",
       "\n",
       "    .dataframe tbody tr th {\n",
       "        vertical-align: top;\n",
       "    }\n",
       "\n",
       "    .dataframe thead th {\n",
       "        text-align: right;\n",
       "    }\n",
       "</style>\n",
       "<table border=\"1\" class=\"dataframe\">\n",
       "  <thead>\n",
       "    <tr style=\"text-align: right;\">\n",
       "      <th>mf</th>\n",
       "      <th>care</th>\n",
       "      <th>subversion</th>\n",
       "      <th>cheating</th>\n",
       "      <th>harm</th>\n",
       "      <th>non-moral</th>\n",
       "      <th>fairness</th>\n",
       "      <th>betrayal</th>\n",
       "      <th>authority</th>\n",
       "      <th>loyalty</th>\n",
       "      <th>purity</th>\n",
       "      <th>degradation</th>\n",
       "      <th>topic</th>\n",
       "      <th>pub</th>\n",
       "    </tr>\n",
       "  </thead>\n",
       "  <tbody>\n",
       "    <tr>\n",
       "      <th>left</th>\n",
       "      <td>-0.001497</td>\n",
       "      <td>0.002095</td>\n",
       "      <td>0.013220</td>\n",
       "      <td>-0.006157</td>\n",
       "      <td>-0.004321</td>\n",
       "      <td>-0.000275</td>\n",
       "      <td>-0.000385</td>\n",
       "      <td>-0.000086</td>\n",
       "      <td>0.000240</td>\n",
       "      <td>-0.000457</td>\n",
       "      <td>-0.002378</td>\n",
       "      <td>election</td>\n",
       "      <td>left</td>\n",
       "    </tr>\n",
       "    <tr>\n",
       "      <th>center</th>\n",
       "      <td>-0.001068</td>\n",
       "      <td>0.001563</td>\n",
       "      <td>0.018714</td>\n",
       "      <td>-0.006814</td>\n",
       "      <td>-0.007803</td>\n",
       "      <td>-0.000063</td>\n",
       "      <td>0.000418</td>\n",
       "      <td>0.000434</td>\n",
       "      <td>0.000736</td>\n",
       "      <td>-0.000652</td>\n",
       "      <td>-0.005467</td>\n",
       "      <td>election</td>\n",
       "      <td>center</td>\n",
       "    </tr>\n",
       "    <tr>\n",
       "      <th>right</th>\n",
       "      <td>-0.000982</td>\n",
       "      <td>-0.001008</td>\n",
       "      <td>0.008011</td>\n",
       "      <td>-0.006175</td>\n",
       "      <td>0.004649</td>\n",
       "      <td>-0.000168</td>\n",
       "      <td>-0.001366</td>\n",
       "      <td>0.000545</td>\n",
       "      <td>0.000928</td>\n",
       "      <td>-0.000342</td>\n",
       "      <td>-0.004092</td>\n",
       "      <td>election</td>\n",
       "      <td>right</td>\n",
       "    </tr>\n",
       "    <tr>\n",
       "      <th>left</th>\n",
       "      <td>0.002155</td>\n",
       "      <td>-0.010685</td>\n",
       "      <td>-0.015543</td>\n",
       "      <td>0.008806</td>\n",
       "      <td>0.022058</td>\n",
       "      <td>-0.001851</td>\n",
       "      <td>-0.003082</td>\n",
       "      <td>-0.002480</td>\n",
       "      <td>-0.001658</td>\n",
       "      <td>-0.000121</td>\n",
       "      <td>0.002402</td>\n",
       "      <td>covid</td>\n",
       "      <td>left</td>\n",
       "    </tr>\n",
       "    <tr>\n",
       "      <th>center</th>\n",
       "      <td>0.001869</td>\n",
       "      <td>-0.011341</td>\n",
       "      <td>-0.021743</td>\n",
       "      <td>0.005749</td>\n",
       "      <td>0.021426</td>\n",
       "      <td>-0.002466</td>\n",
       "      <td>-0.004202</td>\n",
       "      <td>-0.003711</td>\n",
       "      <td>-0.001597</td>\n",
       "      <td>-0.000335</td>\n",
       "      <td>0.016351</td>\n",
       "      <td>covid</td>\n",
       "      <td>center</td>\n",
       "    </tr>\n",
       "    <tr>\n",
       "      <th>right</th>\n",
       "      <td>0.001935</td>\n",
       "      <td>-0.016244</td>\n",
       "      <td>-0.023005</td>\n",
       "      <td>0.005300</td>\n",
       "      <td>0.041058</td>\n",
       "      <td>-0.001478</td>\n",
       "      <td>-0.005448</td>\n",
       "      <td>-0.002515</td>\n",
       "      <td>-0.002145</td>\n",
       "      <td>-0.000580</td>\n",
       "      <td>0.003122</td>\n",
       "      <td>covid</td>\n",
       "      <td>right</td>\n",
       "    </tr>\n",
       "    <tr>\n",
       "      <th>left</th>\n",
       "      <td>0.001180</td>\n",
       "      <td>-0.004266</td>\n",
       "      <td>-0.005547</td>\n",
       "      <td>0.021937</td>\n",
       "      <td>-0.023696</td>\n",
       "      <td>0.004099</td>\n",
       "      <td>0.007911</td>\n",
       "      <td>-0.000736</td>\n",
       "      <td>0.000451</td>\n",
       "      <td>0.000028</td>\n",
       "      <td>-0.001362</td>\n",
       "      <td>blm</td>\n",
       "      <td>left</td>\n",
       "    </tr>\n",
       "    <tr>\n",
       "      <th>center</th>\n",
       "      <td>0.000698</td>\n",
       "      <td>0.008423</td>\n",
       "      <td>0.012735</td>\n",
       "      <td>0.033893</td>\n",
       "      <td>-0.074716</td>\n",
       "      <td>0.003698</td>\n",
       "      <td>0.012198</td>\n",
       "      <td>0.000866</td>\n",
       "      <td>-0.000744</td>\n",
       "      <td>0.000019</td>\n",
       "      <td>0.002930</td>\n",
       "      <td>blm</td>\n",
       "      <td>center</td>\n",
       "    </tr>\n",
       "    <tr>\n",
       "      <th>right</th>\n",
       "      <td>0.001693</td>\n",
       "      <td>-0.016440</td>\n",
       "      <td>-0.021175</td>\n",
       "      <td>0.009907</td>\n",
       "      <td>0.013535</td>\n",
       "      <td>-0.000218</td>\n",
       "      <td>-0.001724</td>\n",
       "      <td>-0.002407</td>\n",
       "      <td>0.000422</td>\n",
       "      <td>0.006061</td>\n",
       "      <td>0.010346</td>\n",
       "      <td>blm</td>\n",
       "      <td>right</td>\n",
       "    </tr>\n",
       "    <tr>\n",
       "      <th>left</th>\n",
       "      <td>-0.000584</td>\n",
       "      <td>0.005335</td>\n",
       "      <td>0.010348</td>\n",
       "      <td>-0.008665</td>\n",
       "      <td>-0.022487</td>\n",
       "      <td>0.011940</td>\n",
       "      <td>-0.002280</td>\n",
       "      <td>0.006443</td>\n",
       "      <td>0.000291</td>\n",
       "      <td>0.001034</td>\n",
       "      <td>-0.001377</td>\n",
       "      <td>supreme_court</td>\n",
       "      <td>left</td>\n",
       "    </tr>\n",
       "    <tr>\n",
       "      <th>center</th>\n",
       "      <td>-0.002111</td>\n",
       "      <td>0.022037</td>\n",
       "      <td>-0.003151</td>\n",
       "      <td>-0.004654</td>\n",
       "      <td>-0.031573</td>\n",
       "      <td>0.002279</td>\n",
       "      <td>-0.001712</td>\n",
       "      <td>0.006595</td>\n",
       "      <td>-0.000780</td>\n",
       "      <td>0.000639</td>\n",
       "      <td>0.012430</td>\n",
       "      <td>supreme_court</td>\n",
       "      <td>center</td>\n",
       "    </tr>\n",
       "    <tr>\n",
       "      <th>right</th>\n",
       "      <td>-0.001000</td>\n",
       "      <td>0.013599</td>\n",
       "      <td>0.020126</td>\n",
       "      <td>-0.007649</td>\n",
       "      <td>-0.033196</td>\n",
       "      <td>0.006698</td>\n",
       "      <td>-0.000305</td>\n",
       "      <td>0.007648</td>\n",
       "      <td>-0.000234</td>\n",
       "      <td>0.000176</td>\n",
       "      <td>-0.005863</td>\n",
       "      <td>supreme_court</td>\n",
       "      <td>right</td>\n",
       "    </tr>\n",
       "    <tr>\n",
       "      <th>left</th>\n",
       "      <td>-0.000630</td>\n",
       "      <td>0.011126</td>\n",
       "      <td>0.034858</td>\n",
       "      <td>-0.011461</td>\n",
       "      <td>-0.023493</td>\n",
       "      <td>-0.001247</td>\n",
       "      <td>0.000331</td>\n",
       "      <td>0.000513</td>\n",
       "      <td>0.000258</td>\n",
       "      <td>-0.001277</td>\n",
       "      <td>-0.008979</td>\n",
       "      <td>economy</td>\n",
       "      <td>left</td>\n",
       "    </tr>\n",
       "    <tr>\n",
       "      <th>center</th>\n",
       "      <td>-0.000279</td>\n",
       "      <td>0.020118</td>\n",
       "      <td>0.043741</td>\n",
       "      <td>-0.005549</td>\n",
       "      <td>-0.051445</td>\n",
       "      <td>-0.000631</td>\n",
       "      <td>0.001625</td>\n",
       "      <td>0.002474</td>\n",
       "      <td>-0.001013</td>\n",
       "      <td>-0.001636</td>\n",
       "      <td>-0.007403</td>\n",
       "      <td>economy</td>\n",
       "      <td>center</td>\n",
       "    </tr>\n",
       "    <tr>\n",
       "      <th>right</th>\n",
       "      <td>0.002310</td>\n",
       "      <td>0.024686</td>\n",
       "      <td>0.035224</td>\n",
       "      <td>-0.001900</td>\n",
       "      <td>-0.061276</td>\n",
       "      <td>0.000295</td>\n",
       "      <td>0.004803</td>\n",
       "      <td>0.004610</td>\n",
       "      <td>0.000230</td>\n",
       "      <td>-0.000886</td>\n",
       "      <td>-0.008097</td>\n",
       "      <td>economy</td>\n",
       "      <td>right</td>\n",
       "    </tr>\n",
       "    <tr>\n",
       "      <th>left</th>\n",
       "      <td>-0.002221</td>\n",
       "      <td>-0.002116</td>\n",
       "      <td>0.031459</td>\n",
       "      <td>-0.005506</td>\n",
       "      <td>-0.014839</td>\n",
       "      <td>-0.000538</td>\n",
       "      <td>-0.001114</td>\n",
       "      <td>-0.003360</td>\n",
       "      <td>-0.002398</td>\n",
       "      <td>0.000056</td>\n",
       "      <td>0.000577</td>\n",
       "      <td>conspiracy_theory</td>\n",
       "      <td>left</td>\n",
       "    </tr>\n",
       "    <tr>\n",
       "      <th>center</th>\n",
       "      <td>-0.001415</td>\n",
       "      <td>-0.033145</td>\n",
       "      <td>0.008897</td>\n",
       "      <td>-0.012761</td>\n",
       "      <td>0.069678</td>\n",
       "      <td>-0.001276</td>\n",
       "      <td>-0.006753</td>\n",
       "      <td>-0.008037</td>\n",
       "      <td>-0.002840</td>\n",
       "      <td>-0.000085</td>\n",
       "      <td>-0.012262</td>\n",
       "      <td>conspiracy_theory</td>\n",
       "      <td>center</td>\n",
       "    </tr>\n",
       "    <tr>\n",
       "      <th>right</th>\n",
       "      <td>-0.000567</td>\n",
       "      <td>-0.000212</td>\n",
       "      <td>-0.020387</td>\n",
       "      <td>-0.003674</td>\n",
       "      <td>0.026241</td>\n",
       "      <td>-0.002671</td>\n",
       "      <td>-0.003165</td>\n",
       "      <td>0.006617</td>\n",
       "      <td>0.000343</td>\n",
       "      <td>-0.000372</td>\n",
       "      <td>-0.002152</td>\n",
       "      <td>conspiracy_theory</td>\n",
       "      <td>right</td>\n",
       "    </tr>\n",
       "    <tr>\n",
       "      <th>left</th>\n",
       "      <td>0.003566</td>\n",
       "      <td>0.025028</td>\n",
       "      <td>-0.014214</td>\n",
       "      <td>0.018989</td>\n",
       "      <td>-0.059330</td>\n",
       "      <td>0.000021</td>\n",
       "      <td>0.016766</td>\n",
       "      <td>0.003191</td>\n",
       "      <td>0.001412</td>\n",
       "      <td>-0.000220</td>\n",
       "      <td>0.004791</td>\n",
       "      <td>capitol</td>\n",
       "      <td>left</td>\n",
       "    </tr>\n",
       "    <tr>\n",
       "      <th>center</th>\n",
       "      <td>-0.000307</td>\n",
       "      <td>0.029676</td>\n",
       "      <td>-0.000084</td>\n",
       "      <td>0.024158</td>\n",
       "      <td>-0.075003</td>\n",
       "      <td>0.001108</td>\n",
       "      <td>0.019560</td>\n",
       "      <td>0.001865</td>\n",
       "      <td>-0.000876</td>\n",
       "      <td>0.000226</td>\n",
       "      <td>-0.000324</td>\n",
       "      <td>capitol</td>\n",
       "      <td>center</td>\n",
       "    </tr>\n",
       "    <tr>\n",
       "      <th>right</th>\n",
       "      <td>-0.000325</td>\n",
       "      <td>0.022551</td>\n",
       "      <td>-0.006657</td>\n",
       "      <td>0.025337</td>\n",
       "      <td>-0.062929</td>\n",
       "      <td>0.002400</td>\n",
       "      <td>0.019371</td>\n",
       "      <td>0.000011</td>\n",
       "      <td>-0.000006</td>\n",
       "      <td>-0.000698</td>\n",
       "      <td>0.000945</td>\n",
       "      <td>capitol</td>\n",
       "      <td>right</td>\n",
       "    </tr>\n",
       "    <tr>\n",
       "      <th>left</th>\n",
       "      <td>-0.001370</td>\n",
       "      <td>0.033277</td>\n",
       "      <td>-0.010163</td>\n",
       "      <td>-0.008530</td>\n",
       "      <td>-0.032570</td>\n",
       "      <td>0.000816</td>\n",
       "      <td>0.002327</td>\n",
       "      <td>0.008239</td>\n",
       "      <td>0.000054</td>\n",
       "      <td>-0.000131</td>\n",
       "      <td>0.008050</td>\n",
       "      <td>impeachment</td>\n",
       "      <td>left</td>\n",
       "    </tr>\n",
       "    <tr>\n",
       "      <th>center</th>\n",
       "      <td>0.001567</td>\n",
       "      <td>0.029804</td>\n",
       "      <td>-0.008111</td>\n",
       "      <td>-0.001343</td>\n",
       "      <td>-0.055434</td>\n",
       "      <td>0.003385</td>\n",
       "      <td>0.006081</td>\n",
       "      <td>0.013673</td>\n",
       "      <td>0.006693</td>\n",
       "      <td>0.001150</td>\n",
       "      <td>0.002534</td>\n",
       "      <td>impeachment</td>\n",
       "      <td>center</td>\n",
       "    </tr>\n",
       "    <tr>\n",
       "      <th>right</th>\n",
       "      <td>-0.000097</td>\n",
       "      <td>0.040253</td>\n",
       "      <td>-0.012871</td>\n",
       "      <td>0.005684</td>\n",
       "      <td>-0.061190</td>\n",
       "      <td>0.000061</td>\n",
       "      <td>0.009045</td>\n",
       "      <td>0.009139</td>\n",
       "      <td>0.008158</td>\n",
       "      <td>-0.000407</td>\n",
       "      <td>0.002225</td>\n",
       "      <td>impeachment</td>\n",
       "      <td>right</td>\n",
       "    </tr>\n",
       "    <tr>\n",
       "      <th>left</th>\n",
       "      <td>0.001690</td>\n",
       "      <td>0.010716</td>\n",
       "      <td>0.005663</td>\n",
       "      <td>0.002060</td>\n",
       "      <td>-0.022068</td>\n",
       "      <td>0.001514</td>\n",
       "      <td>-0.000578</td>\n",
       "      <td>0.002650</td>\n",
       "      <td>-0.000537</td>\n",
       "      <td>-0.000455</td>\n",
       "      <td>-0.000653</td>\n",
       "      <td>healthcare</td>\n",
       "      <td>left</td>\n",
       "    </tr>\n",
       "    <tr>\n",
       "      <th>center</th>\n",
       "      <td>-0.001072</td>\n",
       "      <td>-0.007230</td>\n",
       "      <td>0.000608</td>\n",
       "      <td>0.018570</td>\n",
       "      <td>-0.007733</td>\n",
       "      <td>-0.000962</td>\n",
       "      <td>-0.001589</td>\n",
       "      <td>-0.001623</td>\n",
       "      <td>-0.001088</td>\n",
       "      <td>0.002917</td>\n",
       "      <td>-0.000799</td>\n",
       "      <td>healthcare</td>\n",
       "      <td>center</td>\n",
       "    </tr>\n",
       "    <tr>\n",
       "      <th>right</th>\n",
       "      <td>-0.000131</td>\n",
       "      <td>0.000014</td>\n",
       "      <td>-0.002423</td>\n",
       "      <td>-0.000948</td>\n",
       "      <td>0.020514</td>\n",
       "      <td>0.002407</td>\n",
       "      <td>-0.001214</td>\n",
       "      <td>0.000304</td>\n",
       "      <td>-0.000415</td>\n",
       "      <td>-0.001814</td>\n",
       "      <td>-0.016294</td>\n",
       "      <td>healthcare</td>\n",
       "      <td>right</td>\n",
       "    </tr>\n",
       "    <tr>\n",
       "      <th>left</th>\n",
       "      <td>0.003851</td>\n",
       "      <td>-0.016902</td>\n",
       "      <td>-0.023573</td>\n",
       "      <td>0.015997</td>\n",
       "      <td>0.016489</td>\n",
       "      <td>0.001289</td>\n",
       "      <td>-0.002998</td>\n",
       "      <td>-0.003046</td>\n",
       "      <td>-0.000236</td>\n",
       "      <td>0.000700</td>\n",
       "      <td>0.008429</td>\n",
       "      <td>immigration</td>\n",
       "      <td>left</td>\n",
       "    </tr>\n",
       "    <tr>\n",
       "      <th>center</th>\n",
       "      <td>0.003181</td>\n",
       "      <td>0.024389</td>\n",
       "      <td>-0.017104</td>\n",
       "      <td>0.011436</td>\n",
       "      <td>-0.034321</td>\n",
       "      <td>0.001764</td>\n",
       "      <td>0.008037</td>\n",
       "      <td>0.002382</td>\n",
       "      <td>0.015301</td>\n",
       "      <td>0.002264</td>\n",
       "      <td>-0.017330</td>\n",
       "      <td>immigration</td>\n",
       "      <td>center</td>\n",
       "    </tr>\n",
       "    <tr>\n",
       "      <th>right</th>\n",
       "      <td>0.007884</td>\n",
       "      <td>0.022156</td>\n",
       "      <td>-0.018498</td>\n",
       "      <td>0.008211</td>\n",
       "      <td>-0.035039</td>\n",
       "      <td>0.001916</td>\n",
       "      <td>0.007299</td>\n",
       "      <td>0.006668</td>\n",
       "      <td>0.006177</td>\n",
       "      <td>-0.001194</td>\n",
       "      <td>-0.005580</td>\n",
       "      <td>immigration</td>\n",
       "      <td>right</td>\n",
       "    </tr>\n",
       "  </tbody>\n",
       "</table>\n",
       "</div>"
      ],
      "text/plain": [
       "mf          care  subversion  cheating      harm  non-moral  fairness  \\\n",
       "left   -0.001497    0.002095  0.013220 -0.006157  -0.004321 -0.000275   \n",
       "center -0.001068    0.001563  0.018714 -0.006814  -0.007803 -0.000063   \n",
       "right  -0.000982   -0.001008  0.008011 -0.006175   0.004649 -0.000168   \n",
       "left    0.002155   -0.010685 -0.015543  0.008806   0.022058 -0.001851   \n",
       "center  0.001869   -0.011341 -0.021743  0.005749   0.021426 -0.002466   \n",
       "right   0.001935   -0.016244 -0.023005  0.005300   0.041058 -0.001478   \n",
       "left    0.001180   -0.004266 -0.005547  0.021937  -0.023696  0.004099   \n",
       "center  0.000698    0.008423  0.012735  0.033893  -0.074716  0.003698   \n",
       "right   0.001693   -0.016440 -0.021175  0.009907   0.013535 -0.000218   \n",
       "left   -0.000584    0.005335  0.010348 -0.008665  -0.022487  0.011940   \n",
       "center -0.002111    0.022037 -0.003151 -0.004654  -0.031573  0.002279   \n",
       "right  -0.001000    0.013599  0.020126 -0.007649  -0.033196  0.006698   \n",
       "left   -0.000630    0.011126  0.034858 -0.011461  -0.023493 -0.001247   \n",
       "center -0.000279    0.020118  0.043741 -0.005549  -0.051445 -0.000631   \n",
       "right   0.002310    0.024686  0.035224 -0.001900  -0.061276  0.000295   \n",
       "left   -0.002221   -0.002116  0.031459 -0.005506  -0.014839 -0.000538   \n",
       "center -0.001415   -0.033145  0.008897 -0.012761   0.069678 -0.001276   \n",
       "right  -0.000567   -0.000212 -0.020387 -0.003674   0.026241 -0.002671   \n",
       "left    0.003566    0.025028 -0.014214  0.018989  -0.059330  0.000021   \n",
       "center -0.000307    0.029676 -0.000084  0.024158  -0.075003  0.001108   \n",
       "right  -0.000325    0.022551 -0.006657  0.025337  -0.062929  0.002400   \n",
       "left   -0.001370    0.033277 -0.010163 -0.008530  -0.032570  0.000816   \n",
       "center  0.001567    0.029804 -0.008111 -0.001343  -0.055434  0.003385   \n",
       "right  -0.000097    0.040253 -0.012871  0.005684  -0.061190  0.000061   \n",
       "left    0.001690    0.010716  0.005663  0.002060  -0.022068  0.001514   \n",
       "center -0.001072   -0.007230  0.000608  0.018570  -0.007733 -0.000962   \n",
       "right  -0.000131    0.000014 -0.002423 -0.000948   0.020514  0.002407   \n",
       "left    0.003851   -0.016902 -0.023573  0.015997   0.016489  0.001289   \n",
       "center  0.003181    0.024389 -0.017104  0.011436  -0.034321  0.001764   \n",
       "right   0.007884    0.022156 -0.018498  0.008211  -0.035039  0.001916   \n",
       "\n",
       "mf      betrayal  authority   loyalty    purity  degradation  \\\n",
       "left   -0.000385  -0.000086  0.000240 -0.000457    -0.002378   \n",
       "center  0.000418   0.000434  0.000736 -0.000652    -0.005467   \n",
       "right  -0.001366   0.000545  0.000928 -0.000342    -0.004092   \n",
       "left   -0.003082  -0.002480 -0.001658 -0.000121     0.002402   \n",
       "center -0.004202  -0.003711 -0.001597 -0.000335     0.016351   \n",
       "right  -0.005448  -0.002515 -0.002145 -0.000580     0.003122   \n",
       "left    0.007911  -0.000736  0.000451  0.000028    -0.001362   \n",
       "center  0.012198   0.000866 -0.000744  0.000019     0.002930   \n",
       "right  -0.001724  -0.002407  0.000422  0.006061     0.010346   \n",
       "left   -0.002280   0.006443  0.000291  0.001034    -0.001377   \n",
       "center -0.001712   0.006595 -0.000780  0.000639     0.012430   \n",
       "right  -0.000305   0.007648 -0.000234  0.000176    -0.005863   \n",
       "left    0.000331   0.000513  0.000258 -0.001277    -0.008979   \n",
       "center  0.001625   0.002474 -0.001013 -0.001636    -0.007403   \n",
       "right   0.004803   0.004610  0.000230 -0.000886    -0.008097   \n",
       "left   -0.001114  -0.003360 -0.002398  0.000056     0.000577   \n",
       "center -0.006753  -0.008037 -0.002840 -0.000085    -0.012262   \n",
       "right  -0.003165   0.006617  0.000343 -0.000372    -0.002152   \n",
       "left    0.016766   0.003191  0.001412 -0.000220     0.004791   \n",
       "center  0.019560   0.001865 -0.000876  0.000226    -0.000324   \n",
       "right   0.019371   0.000011 -0.000006 -0.000698     0.000945   \n",
       "left    0.002327   0.008239  0.000054 -0.000131     0.008050   \n",
       "center  0.006081   0.013673  0.006693  0.001150     0.002534   \n",
       "right   0.009045   0.009139  0.008158 -0.000407     0.002225   \n",
       "left   -0.000578   0.002650 -0.000537 -0.000455    -0.000653   \n",
       "center -0.001589  -0.001623 -0.001088  0.002917    -0.000799   \n",
       "right  -0.001214   0.000304 -0.000415 -0.001814    -0.016294   \n",
       "left   -0.002998  -0.003046 -0.000236  0.000700     0.008429   \n",
       "center  0.008037   0.002382  0.015301  0.002264    -0.017330   \n",
       "right   0.007299   0.006668  0.006177 -0.001194    -0.005580   \n",
       "\n",
       "mf                  topic     pub  \n",
       "left             election    left  \n",
       "center           election  center  \n",
       "right            election   right  \n",
       "left                covid    left  \n",
       "center              covid  center  \n",
       "right               covid   right  \n",
       "left                  blm    left  \n",
       "center                blm  center  \n",
       "right                 blm   right  \n",
       "left        supreme_court    left  \n",
       "center      supreme_court  center  \n",
       "right       supreme_court   right  \n",
       "left              economy    left  \n",
       "center            economy  center  \n",
       "right             economy   right  \n",
       "left    conspiracy_theory    left  \n",
       "center  conspiracy_theory  center  \n",
       "right   conspiracy_theory   right  \n",
       "left              capitol    left  \n",
       "center            capitol  center  \n",
       "right             capitol   right  \n",
       "left          impeachment    left  \n",
       "center        impeachment  center  \n",
       "right         impeachment   right  \n",
       "left           healthcare    left  \n",
       "center         healthcare  center  \n",
       "right          healthcare   right  \n",
       "left          immigration    left  \n",
       "center        immigration  center  \n",
       "right         immigration   right  "
      ]
     },
     "execution_count": 68,
     "metadata": {},
     "output_type": "execute_result"
    }
   ],
   "source": [
    "def get_dataframe(df, topics, political_inc):\n",
    "    \n",
    "    df_ = pd.DataFrame()\n",
    "    # topics = df.topic.unique()\n",
    "    for top in topics:\n",
    "        \n",
    "        for pol_inc in political_inc:\n",
    "            temp_df = df[df.topic == top][[pol_inc, 'mf']]\n",
    "            temp_df.index = temp_df.mf\n",
    "            temp_df = temp_df[[pol_inc]].T\n",
    "            temp_df['topic'] = top\n",
    "            temp_df['pub'] = pol_inc\n",
    "            # print(temp_df[pos_morals])\n",
    "            # temp_df['pos'] = temp_df[pos_morals].mean(axis=1)\n",
    "            # temp_df['neg'] = temp_df[neg_morals].mean(axis=1)\n",
    "            # df.sum(axis=1)\n",
    "            # sys.exit()\n",
    "            # print(temp_df)\n",
    "            df_ = pd.concat((df_, temp_df), axis = 0)\n",
    "            \n",
    "    return df_\n",
    "    # return pd.concat((df_[df_.pub == 'left'], df_[df_.pub == 'center'], df_[df_.pub == 'right']), axis = 0)\n",
    "\n",
    "df_mean_ms = get_dataframe(df_, topics, ['left', 'center', 'right']) \n",
    "df_mean_ms"
   ]
  },
  {
   "cell_type": "code",
   "execution_count": 69,
   "id": "65d92e30-60f5-4f98-bc92-b3385f689393",
   "metadata": {
    "tags": []
   },
   "outputs": [],
   "source": [
    "final_df = pd.DataFrame()\n",
    "df2 = pd.concat((df1_mean, df2_mean, df3_mean), axis = 1)\n",
    "for top in topics:\n",
    "    \n",
    "    temp_df = df_[df_.topic == top]\n",
    "    # print(temp_df[['left', 'center', 'right']])\n",
    "    df2.index = temp_df.index\n",
    "    # sys.exit()\n",
    "    df_temp = (temp_df[['left', 'center', 'right']] * 100)/df2[['left', 'center', 'right']]\n",
    "    # print(temp_df[['left', 'center', 'right']].shape)\n",
    "    # df_temp.rename(columns = {'left': 'L_increase', 'center': 'C_increase', 'right': 'R_increase'})\n",
    "    df_temp['topic'] = top\n",
    "    \n",
    "    # df_temp['ms'] = df1.index\n",
    "    # print(df_temp.shape)\n",
    "    final_df = pd.concat((final_df, df_temp), axis = 0)\n",
    "    # df_temp"
   ]
  },
  {
   "cell_type": "code",
   "execution_count": 70,
   "id": "041ca4eb-7e3a-433d-9c35-9db2cf7f576a",
   "metadata": {
    "tags": []
   },
   "outputs": [],
   "source": [
    "final_df['mf'] = final_df.index\n",
    "final_df = get_dataframe(final_df, topics, ['left', 'center', 'right']) "
   ]
  },
  {
   "cell_type": "code",
   "execution_count": 72,
   "id": "d3ba83e7-8d2e-4689-96fa-3b663fbfbd49",
   "metadata": {
    "tags": []
   },
   "outputs": [],
   "source": [
    "final_df.round().to_csv('results/mean_diff_L_C_R.csv')"
   ]
  },
  {
   "cell_type": "code",
   "execution_count": null,
   "id": "8601b033-632a-4635-bd82-5703b5b415d6",
   "metadata": {},
   "outputs": [],
   "source": []
  },
  {
   "cell_type": "code",
   "execution_count": 107,
   "id": "6a2c328c-5272-4b37-acef-ede09040c5c3",
   "metadata": {},
   "outputs": [
    {
     "data": {
      "text/plain": [
       "((714668, 30), (159426, 30), (181721, 30))"
      ]
     },
     "execution_count": 107,
     "metadata": {},
     "output_type": "execute_result"
    }
   ],
   "source": [
    "L_sel_ur.shape, R_sel_ur.shape, cross_exp_ur.shape"
   ]
  },
  {
   "cell_type": "code",
   "execution_count": 109,
   "id": "b7f9f1dd-6150-496a-81da-a591c90df2bd",
   "metadata": {},
   "outputs": [
    {
     "data": {
      "text/plain": [
       "((2755152, 30), (1123219, 30), (161098, 30))"
      ]
     },
     "execution_count": 109,
     "metadata": {},
     "output_type": "execute_result"
    }
   ],
   "source": [
    "L_user_resp.shape, R_user_resp.shape, C_user_resp.shape"
   ]
  },
  {
   "cell_type": "code",
   "execution_count": 111,
   "id": "07b307ee-be72-4444-a47f-0928f5388f07",
   "metadata": {},
   "outputs": [
    {
     "data": {
      "text/plain": [
       "Index(['tweet_id', 'conversation_id', 'author_id_x', 'publication', 'topics_x',\n",
       "       'topics_y', 'trump_pos_new', 'trump_neg_new', 'trump_neu_new',\n",
       "       'biden_pos_new', 'biden_neg_new', 'biden_neu_new', 'Trump_flag',\n",
       "       'Biden_flag', 'Trump_Biden_flag', 'topic_id', 'clean_text',\n",
       "       'Unnamed: 0', '0', '1', '2', '3', '4', '5', '6', '7', '8', '9', '10',\n",
       "       'pred_labels'],\n",
       "      dtype='object')"
      ]
     },
     "execution_count": 111,
     "metadata": {},
     "output_type": "execute_result"
    }
   ],
   "source": [
    "L_sel_ur.columns"
   ]
  },
  {
   "cell_type": "code",
   "execution_count": 115,
   "id": "a1799e99-306f-44fb-b97a-45a33e970540",
   "metadata": {
    "tags": []
   },
   "outputs": [],
   "source": [
    "sel_L_exp_users = L_sel_ur.author_id_x.unique()\n",
    "sel_R_exp_users = R_sel_ur.author_id_x.unique()\n",
    "cross_exp_users = cross_exp_ur.author_id_x.unique()"
   ]
  },
  {
   "cell_type": "code",
   "execution_count": 119,
   "id": "36714bac-158e-4d03-b233-4560a6d8d28a",
   "metadata": {},
   "outputs": [
    {
     "data": {
      "text/plain": [
       "Index(['Unnamed: 0', 'author_id', 'CNN', 'The Washington Post',\n",
       "       'Business Insider', 'USA Today', 'Fox News', 'Breitbart News', 'L', 'C',\n",
       "       'R', 'L_f', 'C_f', 'R_f', 'tweet_count'],\n",
       "      dtype='object')"
      ]
     },
     "execution_count": 119,
     "metadata": {},
     "output_type": "execute_result"
    }
   ],
   "source": [
    "user_details.columns"
   ]
  },
  {
   "cell_type": "code",
   "execution_count": 128,
   "id": "912135eb-5b39-4b34-ae90-33db9a54d389",
   "metadata": {},
   "outputs": [],
   "source": [
    "user_det_sel_L = user_details[user_details.author_id.isin(list(sel_L_exp_users))].drop_duplicates(subset = ['author_id'])\n",
    "user_det_sel_R = user_details[user_details.author_id.isin(list(sel_R_exp_users))].drop_duplicates(subset = ['author_id'])\n",
    "user_det_cross_exp = user_details[user_details.author_id.isin(list(cross_exp_users))].drop_duplicates(subset = ['author_id'])"
   ]
  },
  {
   "cell_type": "code",
   "execution_count": 132,
   "id": "abd57b94-6f21-4ec5-b4f9-055744910a35",
   "metadata": {},
   "outputs": [
    {
     "data": {
      "text/plain": [
       "(31.464234928403716, 24.105242150079828, 28.94162273370194)"
      ]
     },
     "execution_count": 132,
     "metadata": {},
     "output_type": "execute_result"
    }
   ],
   "source": [
    "user_det_sel_L.tweet_count.sum()/user_det_sel_L.shape[0], user_det_sel_R.tweet_count.sum()/user_det_sel_R.shape[0], user_det_cross_exp.tweet_count.sum()/user_det_cross_exp.shape[0]"
   ]
  },
  {
   "cell_type": "code",
   "execution_count": 127,
   "id": "b5ea81dc-daba-43d0-b526-66a1ace7e46f",
   "metadata": {},
   "outputs": [
    {
     "data": {
      "text/html": [
       "<div>\n",
       "<style scoped>\n",
       "    .dataframe tbody tr th:only-of-type {\n",
       "        vertical-align: middle;\n",
       "    }\n",
       "\n",
       "    .dataframe tbody tr th {\n",
       "        vertical-align: top;\n",
       "    }\n",
       "\n",
       "    .dataframe thead th {\n",
       "        text-align: right;\n",
       "    }\n",
       "</style>\n",
       "<table border=\"1\" class=\"dataframe\">\n",
       "  <thead>\n",
       "    <tr style=\"text-align: right;\">\n",
       "      <th></th>\n",
       "      <th>Unnamed: 0</th>\n",
       "      <th>author_id</th>\n",
       "      <th>CNN</th>\n",
       "      <th>The Washington Post</th>\n",
       "      <th>Business Insider</th>\n",
       "      <th>USA Today</th>\n",
       "      <th>Fox News</th>\n",
       "      <th>Breitbart News</th>\n",
       "      <th>L</th>\n",
       "      <th>C</th>\n",
       "      <th>R</th>\n",
       "      <th>L_f</th>\n",
       "      <th>C_f</th>\n",
       "      <th>R_f</th>\n",
       "      <th>tweet_count</th>\n",
       "    </tr>\n",
       "  </thead>\n",
       "  <tbody>\n",
       "    <tr>\n",
       "      <th>0</th>\n",
       "      <td>0</td>\n",
       "      <td>9.227897e+17</td>\n",
       "      <td>3759</td>\n",
       "      <td>2819</td>\n",
       "      <td>0</td>\n",
       "      <td>0</td>\n",
       "      <td>839</td>\n",
       "      <td>0</td>\n",
       "      <td>6578</td>\n",
       "      <td>0</td>\n",
       "      <td>839</td>\n",
       "      <td>0.886881</td>\n",
       "      <td>0.0</td>\n",
       "      <td>0.113119</td>\n",
       "      <td>7417</td>\n",
       "    </tr>\n",
       "    <tr>\n",
       "      <th>3</th>\n",
       "      <td>3</td>\n",
       "      <td>1.234975e+18</td>\n",
       "      <td>2832</td>\n",
       "      <td>13</td>\n",
       "      <td>0</td>\n",
       "      <td>0</td>\n",
       "      <td>0</td>\n",
       "      <td>0</td>\n",
       "      <td>2845</td>\n",
       "      <td>0</td>\n",
       "      <td>0</td>\n",
       "      <td>1.000000</td>\n",
       "      <td>0.0</td>\n",
       "      <td>0.000000</td>\n",
       "      <td>2845</td>\n",
       "    </tr>\n",
       "    <tr>\n",
       "      <th>5</th>\n",
       "      <td>5</td>\n",
       "      <td>7.916413e+17</td>\n",
       "      <td>2523</td>\n",
       "      <td>0</td>\n",
       "      <td>0</td>\n",
       "      <td>0</td>\n",
       "      <td>0</td>\n",
       "      <td>0</td>\n",
       "      <td>2523</td>\n",
       "      <td>0</td>\n",
       "      <td>0</td>\n",
       "      <td>1.000000</td>\n",
       "      <td>0.0</td>\n",
       "      <td>0.000000</td>\n",
       "      <td>2523</td>\n",
       "    </tr>\n",
       "    <tr>\n",
       "      <th>10</th>\n",
       "      <td>10</td>\n",
       "      <td>1.112868e+18</td>\n",
       "      <td>4</td>\n",
       "      <td>1942</td>\n",
       "      <td>0</td>\n",
       "      <td>0</td>\n",
       "      <td>0</td>\n",
       "      <td>0</td>\n",
       "      <td>1946</td>\n",
       "      <td>0</td>\n",
       "      <td>0</td>\n",
       "      <td>1.000000</td>\n",
       "      <td>0.0</td>\n",
       "      <td>0.000000</td>\n",
       "      <td>1946</td>\n",
       "    </tr>\n",
       "    <tr>\n",
       "      <th>12</th>\n",
       "      <td>12</td>\n",
       "      <td>2.311106e+07</td>\n",
       "      <td>542</td>\n",
       "      <td>1231</td>\n",
       "      <td>0</td>\n",
       "      <td>0</td>\n",
       "      <td>0</td>\n",
       "      <td>0</td>\n",
       "      <td>1773</td>\n",
       "      <td>0</td>\n",
       "      <td>0</td>\n",
       "      <td>1.000000</td>\n",
       "      <td>0.0</td>\n",
       "      <td>0.000000</td>\n",
       "      <td>1773</td>\n",
       "    </tr>\n",
       "    <tr>\n",
       "      <th>...</th>\n",
       "      <td>...</td>\n",
       "      <td>...</td>\n",
       "      <td>...</td>\n",
       "      <td>...</td>\n",
       "      <td>...</td>\n",
       "      <td>...</td>\n",
       "      <td>...</td>\n",
       "      <td>...</td>\n",
       "      <td>...</td>\n",
       "      <td>...</td>\n",
       "      <td>...</td>\n",
       "      <td>...</td>\n",
       "      <td>...</td>\n",
       "      <td>...</td>\n",
       "      <td>...</td>\n",
       "    </tr>\n",
       "    <tr>\n",
       "      <th>91116</th>\n",
       "      <td>91116</td>\n",
       "      <td>1.313947e+18</td>\n",
       "      <td>9</td>\n",
       "      <td>2</td>\n",
       "      <td>0</td>\n",
       "      <td>0</td>\n",
       "      <td>0</td>\n",
       "      <td>0</td>\n",
       "      <td>11</td>\n",
       "      <td>0</td>\n",
       "      <td>0</td>\n",
       "      <td>1.000000</td>\n",
       "      <td>0.0</td>\n",
       "      <td>0.000000</td>\n",
       "      <td>11</td>\n",
       "    </tr>\n",
       "    <tr>\n",
       "      <th>91117</th>\n",
       "      <td>91117</td>\n",
       "      <td>1.655661e+08</td>\n",
       "      <td>0</td>\n",
       "      <td>11</td>\n",
       "      <td>0</td>\n",
       "      <td>0</td>\n",
       "      <td>0</td>\n",
       "      <td>0</td>\n",
       "      <td>11</td>\n",
       "      <td>0</td>\n",
       "      <td>0</td>\n",
       "      <td>1.000000</td>\n",
       "      <td>0.0</td>\n",
       "      <td>0.000000</td>\n",
       "      <td>11</td>\n",
       "    </tr>\n",
       "    <tr>\n",
       "      <th>91118</th>\n",
       "      <td>91118</td>\n",
       "      <td>2.624421e+08</td>\n",
       "      <td>11</td>\n",
       "      <td>0</td>\n",
       "      <td>0</td>\n",
       "      <td>0</td>\n",
       "      <td>0</td>\n",
       "      <td>0</td>\n",
       "      <td>11</td>\n",
       "      <td>0</td>\n",
       "      <td>0</td>\n",
       "      <td>1.000000</td>\n",
       "      <td>0.0</td>\n",
       "      <td>0.000000</td>\n",
       "      <td>11</td>\n",
       "    </tr>\n",
       "    <tr>\n",
       "      <th>91119</th>\n",
       "      <td>91119</td>\n",
       "      <td>2.680411e+09</td>\n",
       "      <td>6</td>\n",
       "      <td>5</td>\n",
       "      <td>0</td>\n",
       "      <td>0</td>\n",
       "      <td>0</td>\n",
       "      <td>0</td>\n",
       "      <td>11</td>\n",
       "      <td>0</td>\n",
       "      <td>0</td>\n",
       "      <td>1.000000</td>\n",
       "      <td>0.0</td>\n",
       "      <td>0.000000</td>\n",
       "      <td>11</td>\n",
       "    </tr>\n",
       "    <tr>\n",
       "      <th>91121</th>\n",
       "      <td>91121</td>\n",
       "      <td>3.924947e+08</td>\n",
       "      <td>10</td>\n",
       "      <td>1</td>\n",
       "      <td>0</td>\n",
       "      <td>0</td>\n",
       "      <td>0</td>\n",
       "      <td>0</td>\n",
       "      <td>11</td>\n",
       "      <td>0</td>\n",
       "      <td>0</td>\n",
       "      <td>1.000000</td>\n",
       "      <td>0.0</td>\n",
       "      <td>0.000000</td>\n",
       "      <td>11</td>\n",
       "    </tr>\n",
       "  </tbody>\n",
       "</table>\n",
       "<p>30239 rows × 15 columns</p>\n",
       "</div>"
      ],
      "text/plain": [
       "       Unnamed: 0     author_id   CNN  The Washington Post  Business Insider  \\\n",
       "0               0  9.227897e+17  3759                 2819                 0   \n",
       "3               3  1.234975e+18  2832                   13                 0   \n",
       "5               5  7.916413e+17  2523                    0                 0   \n",
       "10             10  1.112868e+18     4                 1942                 0   \n",
       "12             12  2.311106e+07   542                 1231                 0   \n",
       "...           ...           ...   ...                  ...               ...   \n",
       "91116       91116  1.313947e+18     9                    2                 0   \n",
       "91117       91117  1.655661e+08     0                   11                 0   \n",
       "91118       91118  2.624421e+08    11                    0                 0   \n",
       "91119       91119  2.680411e+09     6                    5                 0   \n",
       "91121       91121  3.924947e+08    10                    1                 0   \n",
       "\n",
       "       USA Today  Fox News  Breitbart News     L  C    R       L_f  C_f  \\\n",
       "0              0       839               0  6578  0  839  0.886881  0.0   \n",
       "3              0         0               0  2845  0    0  1.000000  0.0   \n",
       "5              0         0               0  2523  0    0  1.000000  0.0   \n",
       "10             0         0               0  1946  0    0  1.000000  0.0   \n",
       "12             0         0               0  1773  0    0  1.000000  0.0   \n",
       "...          ...       ...             ...   ... ..  ...       ...  ...   \n",
       "91116          0         0               0    11  0    0  1.000000  0.0   \n",
       "91117          0         0               0    11  0    0  1.000000  0.0   \n",
       "91118          0         0               0    11  0    0  1.000000  0.0   \n",
       "91119          0         0               0    11  0    0  1.000000  0.0   \n",
       "91121          0         0               0    11  0    0  1.000000  0.0   \n",
       "\n",
       "            R_f  tweet_count  \n",
       "0      0.113119         7417  \n",
       "3      0.000000         2845  \n",
       "5      0.000000         2523  \n",
       "10     0.000000         1946  \n",
       "12     0.000000         1773  \n",
       "...         ...          ...  \n",
       "91116  0.000000           11  \n",
       "91117  0.000000           11  \n",
       "91118  0.000000           11  \n",
       "91119  0.000000           11  \n",
       "91121  0.000000           11  \n",
       "\n",
       "[30239 rows x 15 columns]"
      ]
     },
     "execution_count": 127,
     "metadata": {},
     "output_type": "execute_result"
    }
   ],
   "source": [
    "user_det_sel_L = user_det_sel_L.drop_duplicates(subset = ['author_id'])"
   ]
  },
  {
   "cell_type": "code",
   "execution_count": 139,
   "id": "fc1924ea-efdc-4dde-becd-e82c3eca00bc",
   "metadata": {
    "tags": []
   },
   "outputs": [],
   "source": [
    "L_user_details = user_details[user_details.L > 0].drop_duplicates(subset = ['author_id'])\n",
    "R_user_details = user_details[user_details.R > 0].drop_duplicates(subset = ['author_id'])"
   ]
  },
  {
   "cell_type": "code",
   "execution_count": 140,
   "id": "a3a529eb-37a1-4f52-99ff-a416cc447bc2",
   "metadata": {
    "tags": []
   },
   "outputs": [
    {
     "data": {
      "text/plain": [
       "(36.60812150821099, 38.41151321957622)"
      ]
     },
     "execution_count": 140,
     "metadata": {},
     "output_type": "execute_result"
    }
   ],
   "source": [
    "L_user_details.tweet_count.sum()/L_user_details.shape[0], R_user_details.tweet_count.sum()/R_user_details.shape[0]"
   ]
  },
  {
   "cell_type": "code",
   "execution_count": 141,
   "id": "e8f5f876-b86a-4478-afc9-d686f64a1f3e",
   "metadata": {
    "tags": []
   },
   "outputs": [],
   "source": [
    "user_details_ = user_details.drop_duplicates(subset = ['author_id'])"
   ]
  },
  {
   "cell_type": "code",
   "execution_count": 142,
   "id": "976c94c7-e5b6-4025-bbbf-87b274d6bce3",
   "metadata": {
    "tags": []
   },
   "outputs": [
    {
     "data": {
      "text/plain": [
       "(91096, 15)"
      ]
     },
     "execution_count": 142,
     "metadata": {},
     "output_type": "execute_result"
    }
   ],
   "source": [
    "user_details_.shape"
   ]
  },
  {
   "cell_type": "code",
   "execution_count": null,
   "id": "eb282b1d-c43b-4133-8681-60b8310e91b9",
   "metadata": {
    "tags": []
   },
   "outputs": [],
   "source": [
    "map_mft = dict()\n",
    "for i, k in mft_id_to_label_mapping[['label', 'label_id']].iterrows():\n",
    "    # print(i, k.label_id)\n",
    "    map_mft[str(k.label_id)] = k.label\n",
    "    \n",
    "L_user_resp_ = L_user_resp.rename(columns = map_mft)\n",
    "C_user_resp_ = C_user_resp.rename(columns = map_mft)\n",
    "R_user_resp_ = R_user_resp.rename(columns = map_mft)\n",
    "\n",
    "L_sel_ur_ = L_sel_ur.rename(columns = map_mft)\n",
    "cross_exp_ur_ = cross_exp_ur.rename(columns = map_mft)\n",
    "R_sel_ur_ = R_sel_ur.rename(columns = map_mft)"
   ]
  },
  {
   "cell_type": "code",
   "execution_count": null,
   "id": "6c734c89-27c8-4d9d-a802-5027fdc06177",
   "metadata": {
    "tags": []
   },
   "outputs": [],
   "source": [
    "moral_senti = ['subversion', 'cheating', 'care', 'non-moral', 'fairness', 'betrayal', 'harm', 'authority', 'purity', 'loyalty', 'degradation']\n",
    "\n",
    "def get_overall_means(df1, df2, df3, moral_senti):\n",
    "\n",
    "    temp_df1 = pd.DataFrame(df1[moral_senti].mean()).rename(columns = {0:'L'})\n",
    "    temp_df2 = pd.DataFrame(df2[moral_senti].mean()).rename(columns = {0:'C'})\n",
    "    temp_df3 = pd.DataFrame(df3[moral_senti].mean()).rename(columns = {0:'R'})\n",
    "    \n",
    "    return temp_df1.join(temp_df2, how='inner').join(temp_df3, how='inner')\n",
    "    \n",
    "    return temp_df3\n",
    "\n",
    "overl_means1 = get_overall_means(L_user_resp_, C_user_resp_, R_user_resp_, moral_senti)\n",
    "overl_means2 = get_overall_means(L_sel_ur_, cross_exp_ur_, R_sel_ur_, moral_senti)"
   ]
  },
  {
   "cell_type": "code",
   "execution_count": null,
   "id": "ab1863ab-d243-42c3-a114-23cfbfc7d81a",
   "metadata": {
    "tags": []
   },
   "outputs": [],
   "source": [
    "overl_means1.to_csv('results/mean_mss_overall_L_C_R.csv')\n",
    "overl_means2.to_csv('results/mean_mss_overall_sel_vs_cross.csv')"
   ]
  },
  {
   "cell_type": "code",
   "execution_count": null,
   "id": "ce9ed50d-45b2-4b9b-9624-8ca447200bed",
   "metadata": {
    "tags": []
   },
   "outputs": [],
   "source": []
  },
  {
   "cell_type": "code",
   "execution_count": null,
   "id": "d7a6d997-1687-41d5-88c6-769c89e9caa9",
   "metadata": {
    "tags": []
   },
   "outputs": [],
   "source": [
    "def get_counts(df1, df2, df3):\n",
    "\n",
    "    df1_ur_vc = df1.pred_labels.value_counts()\n",
    "    df1_ur = pd.DataFrame(df1_ur_vc).rename(columns ={'pred_labels':'counts'})\n",
    "    df1_ur['ms'] = [map_mft[str(x)] for x in df1_ur_vc.index]\n",
    "\n",
    "    df2_ur_vc = df2.pred_labels.value_counts()\n",
    "    df2_ur = pd.DataFrame(df2_ur_vc).rename(columns ={'pred_labels':'counts'})\n",
    "    df2_ur['ms'] = [map_mft[str(x)] for x in df2_ur_vc.index]\n",
    "\n",
    "    df3_ur_vc = df3.pred_labels.value_counts()\n",
    "    df3_ur = pd.DataFrame(df3_ur_vc).rename(columns ={'pred_labels':'counts'})\n",
    "    df3_ur['ms'] = [map_mft[str(x)] for x in df3_ur_vc.index]\n",
    "\n",
    "    counts_df = df1_ur.merge(df2_ur, on = 'ms', how = 'inner').merge(df3_ur, on = 'ms', how = 'inner').rename(columns = {'counts_x': 'L_counts', 'counts_y': 'C_counts', 'counts': 'R_counts'})\n",
    "\n",
    "    counts_df['L_prop'] = counts_df.L_counts/counts_df.L_counts.sum()\n",
    "    counts_df['C_prop'] = counts_df.C_counts/counts_df.C_counts.sum()\n",
    "    counts_df['R_prop'] = counts_df.R_counts/counts_df.R_counts.sum()\n",
    "\n",
    "    return counts_df\n",
    "\n",
    "# counts_df.to_csv('results/ms_counts_L_R_C.csv')"
   ]
  },
  {
   "cell_type": "code",
   "execution_count": null,
   "id": "c3922a47-e052-4ca1-8ba0-0e1d00728baf",
   "metadata": {
    "tags": []
   },
   "outputs": [],
   "source": [
    "counts_df1 = get_counts(L_user_resp, C_user_resp, R_user_resp)\n",
    "counts_df2 = get_counts(L_sel_ur, cross_exp_ur, R_sel_ur)"
   ]
  },
  {
   "cell_type": "code",
   "execution_count": null,
   "id": "9ec8b533-5f29-4b46-a922-3d051e4cac18",
   "metadata": {},
   "outputs": [],
   "source": []
  },
  {
   "cell_type": "code",
   "execution_count": null,
   "id": "6a6cfd11-c438-4b97-8067-7df2172ba6d8",
   "metadata": {
    "tags": []
   },
   "outputs": [],
   "source": [
    "counts_df1.to_csv('results/ms_counts_L_R_C.csv')"
   ]
  },
  {
   "cell_type": "code",
   "execution_count": null,
   "id": "0c3e9026-38e7-4499-8bb2-85b05a18e96a",
   "metadata": {
    "tags": []
   },
   "outputs": [],
   "source": [
    "counts_df2.to_csv('results/ms_counts_sel_vs_cross_exp.csv')"
   ]
  },
  {
   "cell_type": "code",
   "execution_count": null,
   "id": "083e5ee0-7b0e-44fc-ac7e-51d7211d5b3c",
   "metadata": {},
   "outputs": [],
   "source": []
  },
  {
   "cell_type": "code",
   "execution_count": null,
   "id": "e7334d60-3396-46b1-9d86-2b7f5d3e0912",
   "metadata": {
    "tags": []
   },
   "outputs": [],
   "source": [
    "R_user_resp = R_user_resp[R_user_resp.pred_labels != 3]\n",
    "L_user_resp = L_user_resp[L_user_resp.pred_labels != 3]"
   ]
  },
  {
   "cell_type": "code",
   "execution_count": null,
   "id": "6d237116-d244-45f0-ae6b-9d552747bda0",
   "metadata": {},
   "outputs": [],
   "source": [
    "R_user_resp = R_user_resp.merge(mft_id_to_label_mapping[['label', 'label_id']].rename(columns = {'label_id': 'pred_labels'}), on = 'pred_labels', how = 'inner')\n",
    "L_user_resp = L_user_resp.merge(mft_id_to_label_mapping[['label', 'label_id']].rename(columns = {'label_id': 'pred_labels'}), on = 'pred_labels', how = 'inner')"
   ]
  },
  {
   "cell_type": "code",
   "execution_count": null,
   "id": "775a625d-2ac6-48ad-aea1-00ce7801cfd6",
   "metadata": {
    "tags": []
   },
   "outputs": [],
   "source": []
  },
  {
   "cell_type": "code",
   "execution_count": null,
   "id": "19e96bf2-5ad5-4100-9614-e27b955b2b7d",
   "metadata": {
    "tags": []
   },
   "outputs": [],
   "source": [
    "user_resp.topics_y.unique()"
   ]
  },
  {
   "cell_type": "code",
   "execution_count": null,
   "id": "12ed0d14-59ca-475a-951e-6f081f73e6d8",
   "metadata": {
    "tags": []
   },
   "outputs": [],
   "source": [
    "R_user_resp.columns"
   ]
  },
  {
   "cell_type": "code",
   "execution_count": null,
   "id": "7cf325cd-2e71-45de-b265-7299965911e7",
   "metadata": {
    "tags": []
   },
   "outputs": [],
   "source": []
  },
  {
   "cell_type": "code",
   "execution_count": null,
   "id": "c38a12a9-40c4-49ec-983c-0c843d6963eb",
   "metadata": {
    "tags": []
   },
   "outputs": [],
   "source": [
    "L_user_resp.pred_labels.value_counts()"
   ]
  },
  {
   "cell_type": "code",
   "execution_count": null,
   "id": "7569e84e-e360-4cd9-afbe-b48b2fefd1d6",
   "metadata": {
    "tags": []
   },
   "outputs": [],
   "source": [
    "topics = ['election', 'conspiracy_theory', 'capitol', 'blm', 'impeachment', 'covid', 'international', 'economy', 'media', 'supreme_court', 'immigration', 'white_house', 'healthcare']"
   ]
  },
  {
   "cell_type": "code",
   "execution_count": 84,
   "id": "3d313291-01c8-4d78-a65a-3e11d60be6a7",
   "metadata": {
    "collapsed": true,
    "jupyter": {
     "outputs_hidden": true
    },
    "tags": []
   },
   "outputs": [
    {
     "data": {
      "image/png": "[encoded data removed]",
      "text/plain": [
       "<Figure size 500x300 with 1 Axes>"
      ]
     },
     "metadata": {},
     "output_type": "display_data"
    },
    {
     "data": {
      "image/png": "[encoded data removed]",
      "text/plain": [
       "<Figure size 500x300 with 1 Axes>"
      ]
     },
     "metadata": {},
     "output_type": "display_data"
    },
    {
     "data": {
      "image/png": "[encoded data removed]",
      "text/plain": [
       "<Figure size 500x300 with 1 Axes>"
      ]
     },
     "metadata": {},
     "output_type": "display_data"
    },
    {
     "data": {
      "image/png": "[encoded data removed]",
      "text/plain": [
       "<Figure size 500x300 with 1 Axes>"
      ]
     },
     "metadata": {},
     "output_type": "display_data"
    },
    {
     "data": {
      "image/png": "[encoded data removed]",
      "text/plain": [
       "<Figure size 500x300 with 1 Axes>"
      ]
     },
     "metadata": {},
     "output_type": "display_data"
    },
    {
     "data": {
      "image/png": "[encoded data removed]",
      "text/plain": [
       "<Figure size 500x300 with 1 Axes>"
      ]
     },
     "metadata": {},
     "output_type": "display_data"
    },
    {
     "data": {
      "image/png": "[encoded data removed]",
      "text/plain": [
       "<Figure size 500x300 with 1 Axes>"
      ]
     },
     "metadata": {},
     "output_type": "display_data"
    },
    {
     "data": {
      "image/png": "[encoded data removed]",
      "text/plain": [
       "<Figure size 500x300 with 1 Axes>"
      ]
     },
     "metadata": {},
     "output_type": "display_data"
    },
    {
     "data": {
      "image/png": "[encoded data removed]",
      "text/plain": [
       "<Figure size 500x300 with 1 Axes>"
      ]
     },
     "metadata": {},
     "output_type": "display_data"
    },
    {
     "data": {
      "image/png": "[encoded data removed]",
      "text/plain": [
       "<Figure size 500x300 with 1 Axes>"
      ]
     },
     "metadata": {},
     "output_type": "display_data"
    }
   ],
   "source": [
    "def get_proportions(df):\n",
    "    \n",
    "    # print(df)\n",
    "    \n",
    "    return (df.labels.value_counts() * 100)/df.shape[0]\n",
    "\n",
    "def get_averages(df):\n",
    "    \n",
    "    means = []\n",
    "    for i in range(11):\n",
    "        if(i!=3):\n",
    "            means.append(df[str(i)].mean())\n",
    "        \n",
    "        \n",
    "    return pd.DataFrame(means)\n",
    "    \n",
    "    \n",
    "# for top in list(user_resp.topics_y.unique()):\n",
    "for top in topics:\n",
    "    \n",
    "    if((top in R_user_resp.topics_y.to_list()) & (top in L_user_resp.topics_y.to_list())):\n",
    "        \n",
    "#         df1 = get_proportions(L_user_resp[L_user_resp.topics_y == top])\n",
    "#         df2 = get_proportions(R_user_resp[R_user_resp.topics_y == top])\n",
    "        \n",
    "#         print(df1)\n",
    "        \n",
    "        df1 = get_averages(L_user_resp[L_user_resp.topics_y == top])\n",
    "        df2 = get_averages(R_user_resp[R_user_resp.topics_y == top])\n",
    "        \n",
    "#         print(df1)\n",
    "#         print(df2)\n",
    "        \n",
    "        df = pd.concat((df1, df2), axis = 1)\n",
    "        df.index = list(mft_id_to_label_mapping[mft_id_to_label_mapping.label_id != 3][['label', 'label_id']].sort_values(by = ['label_id']).label)\n",
    "        \n",
    "        df.plot.bar(figsize = (5, 3), rot=55)\n",
    "        plt.title(top)\n",
    "        plt.legend(['Left', 'Right'])\n",
    "        \n",
    "        # plt.set_xaxis\n",
    "        \n",
    "        # sys.exit()\n",
    "        "
   ]
  },
  {
   "cell_type": "markdown",
   "id": "78ece43d-fd35-4716-bc29-dbc5432d0df9",
   "metadata": {},
   "source": [
    "### User response based on positive negative mentions"
   ]
  },
  {
   "cell_type": "code",
   "execution_count": null,
   "id": "5bea2318-2bb3-4815-933e-4cf249fe4a40",
   "metadata": {
    "tags": []
   },
   "outputs": [],
   "source": [
    "def get_pos_neg_mentions(df, entity):\n",
    "    \n",
    "    entity_mentions = df[df[entity.title() + '_flag'] == True]\n",
    "    pos_mean = entity_mentions[entity + '_pos_new'].mean()\n",
    "    neu_mean = entity_mentions[entity + '_neu_new'].mean()\n",
    "    neg_mean = entity_mentions[entity + '_neg_new'].mean()\n",
    "    pos_entity_mentions = entity_mentions[((entity_mentions[entity + '_pos_new'] > pos_mean))]\n",
    "    neg_entity_mentions = entity_mentions[((entity_mentions[entity + '_neg_new'] > neg_mean))]\n",
    "    \n",
    "    return pos_entity_mentions, neg_entity_mentions\n",
    "\n",
    "for entity in ['biden', 'trump']:\n",
    "\n",
    "    for top in topics:\n",
    "\n",
    "        if((top in R_user_resp.topics_y.to_list()) & (top in L_user_resp.topics_y.to_list()) & (top in C_user_resp.topics_y.to_list())):\n",
    "\n",
    "            L_pos_men, L_neg_men = get_pos_neg_mentions(L_user_resp, entity)\n",
    "            R_pos_men, R_neg_men = get_pos_neg_mentions(R_user_resp, entity)\n",
    "            C_pos_men, C_neg_men = get_pos_neg_mentions(C_user_resp, entity)\n",
    "\n",
    "            df1 = get_averages(L_pos_men[L_pos_men.topics_y == top]).rename(columns = {0: 'left'})\n",
    "            df2 = get_averages(R_pos_men[R_pos_men.topics_y == top]).rename(columns = {0: 'right'})\n",
    "            df3 = get_averages(C_pos_men[C_pos_men.topics_y == top]).rename(columns = {0: 'center'})\n",
    "\n",
    "            df = pd.concat((df1, df2, df3), axis = 1)\n",
    "            df.index = list(mft_id_to_label_mapping[mft_id_to_label_mapping.label_id != 3][['label', 'label_id']].sort_values(by = ['label_id']).label)\n",
    "            \n",
    "            # print(df)\n",
    "            # sys.exit()\n",
    "\n",
    "            df.plot.bar(figsize = (5, 3), rot=55)\n",
    "            plt.title(top + ' ' + entity + ' [pos]' )\n",
    "            plt.legend(['Left', 'Right', 'Center'])"
   ]
  },
  {
   "cell_type": "markdown",
   "id": "dd47cf90-3eb8-4d8b-a91b-480342a789df",
   "metadata": {},
   "source": [
    "### Mean user resonse (moral sentiment scores) Left-vs-centyer-vs-right"
   ]
  },
  {
   "cell_type": "code",
   "execution_count": null,
   "id": "c40698a7-2d2c-462e-8377-b9fed51e5818",
   "metadata": {
    "tags": []
   },
   "outputs": [],
   "source": [
    "R_user_resp.columns"
   ]
  },
  {
   "cell_type": "markdown",
   "id": "27c1c69b-7349-4bd7-8357-86101214d51d",
   "metadata": {},
   "source": [
    "### Selective exposure vs cross exposure"
   ]
  },
  {
   "cell_type": "code",
   "execution_count": 93,
   "id": "5c9cb8e0-28ac-45db-acb1-1cfcf1eab92f",
   "metadata": {
    "tags": []
   },
   "outputs": [],
   "source": [
    "user_details = pd.read_csv('/home/ahaque2/backup/code/NewSlant/dataset/user_details.csv')"
   ]
  },
  {
   "cell_type": "code",
   "execution_count": 94,
   "id": "318b2884-d849-4764-9947-651568a67ca1",
   "metadata": {
    "tags": []
   },
   "outputs": [
    {
     "data": {
      "text/html": [
       "<div>\n",
       "<style scoped>\n",
       "    .dataframe tbody tr th:only-of-type {\n",
       "        vertical-align: middle;\n",
       "    }\n",
       "\n",
       "    .dataframe tbody tr th {\n",
       "        vertical-align: top;\n",
       "    }\n",
       "\n",
       "    .dataframe thead th {\n",
       "        text-align: right;\n",
       "    }\n",
       "</style>\n",
       "<table border=\"1\" class=\"dataframe\">\n",
       "  <thead>\n",
       "    <tr style=\"text-align: right;\">\n",
       "      <th></th>\n",
       "      <th>Unnamed: 0</th>\n",
       "      <th>author_id</th>\n",
       "      <th>CNN</th>\n",
       "      <th>The Washington Post</th>\n",
       "      <th>Business Insider</th>\n",
       "      <th>USA Today</th>\n",
       "      <th>Fox News</th>\n",
       "      <th>Breitbart News</th>\n",
       "      <th>L</th>\n",
       "      <th>C</th>\n",
       "      <th>R</th>\n",
       "      <th>L_f</th>\n",
       "      <th>C_f</th>\n",
       "      <th>R_f</th>\n",
       "      <th>tweet_count</th>\n",
       "    </tr>\n",
       "  </thead>\n",
       "  <tbody>\n",
       "    <tr>\n",
       "      <th>0</th>\n",
       "      <td>0</td>\n",
       "      <td>9.227897e+17</td>\n",
       "      <td>3759</td>\n",
       "      <td>2819</td>\n",
       "      <td>0</td>\n",
       "      <td>0</td>\n",
       "      <td>839</td>\n",
       "      <td>0</td>\n",
       "      <td>6578</td>\n",
       "      <td>0</td>\n",
       "      <td>839</td>\n",
       "      <td>0.886881</td>\n",
       "      <td>0.000000</td>\n",
       "      <td>0.113119</td>\n",
       "      <td>7417</td>\n",
       "    </tr>\n",
       "    <tr>\n",
       "      <th>1</th>\n",
       "      <td>1</td>\n",
       "      <td>9.775106e+08</td>\n",
       "      <td>3831</td>\n",
       "      <td>527</td>\n",
       "      <td>1</td>\n",
       "      <td>0</td>\n",
       "      <td>8</td>\n",
       "      <td>3</td>\n",
       "      <td>4358</td>\n",
       "      <td>1</td>\n",
       "      <td>11</td>\n",
       "      <td>0.997254</td>\n",
       "      <td>0.000229</td>\n",
       "      <td>0.002517</td>\n",
       "      <td>4370</td>\n",
       "    </tr>\n",
       "    <tr>\n",
       "      <th>2</th>\n",
       "      <td>2</td>\n",
       "      <td>1.722010e+09</td>\n",
       "      <td>2051</td>\n",
       "      <td>1711</td>\n",
       "      <td>0</td>\n",
       "      <td>5</td>\n",
       "      <td>209</td>\n",
       "      <td>3</td>\n",
       "      <td>3762</td>\n",
       "      <td>5</td>\n",
       "      <td>212</td>\n",
       "      <td>0.945464</td>\n",
       "      <td>0.001257</td>\n",
       "      <td>0.053280</td>\n",
       "      <td>3979</td>\n",
       "    </tr>\n",
       "    <tr>\n",
       "      <th>3</th>\n",
       "      <td>3</td>\n",
       "      <td>1.234975e+18</td>\n",
       "      <td>2832</td>\n",
       "      <td>13</td>\n",
       "      <td>0</td>\n",
       "      <td>0</td>\n",
       "      <td>0</td>\n",
       "      <td>0</td>\n",
       "      <td>2845</td>\n",
       "      <td>0</td>\n",
       "      <td>0</td>\n",
       "      <td>1.000000</td>\n",
       "      <td>0.000000</td>\n",
       "      <td>0.000000</td>\n",
       "      <td>2845</td>\n",
       "    </tr>\n",
       "    <tr>\n",
       "      <th>4</th>\n",
       "      <td>4</td>\n",
       "      <td>8.587169e+17</td>\n",
       "      <td>79</td>\n",
       "      <td>2449</td>\n",
       "      <td>0</td>\n",
       "      <td>2</td>\n",
       "      <td>22</td>\n",
       "      <td>0</td>\n",
       "      <td>2528</td>\n",
       "      <td>2</td>\n",
       "      <td>22</td>\n",
       "      <td>0.990596</td>\n",
       "      <td>0.000784</td>\n",
       "      <td>0.008621</td>\n",
       "      <td>2552</td>\n",
       "    </tr>\n",
       "  </tbody>\n",
       "</table>\n",
       "</div>"
      ],
      "text/plain": [
       "   Unnamed: 0     author_id   CNN  The Washington Post  Business Insider  \\\n",
       "0           0  9.227897e+17  3759                 2819                 0   \n",
       "1           1  9.775106e+08  3831                  527                 1   \n",
       "2           2  1.722010e+09  2051                 1711                 0   \n",
       "3           3  1.234975e+18  2832                   13                 0   \n",
       "4           4  8.587169e+17    79                 2449                 0   \n",
       "\n",
       "   USA Today  Fox News  Breitbart News     L  C    R       L_f       C_f  \\\n",
       "0          0       839               0  6578  0  839  0.886881  0.000000   \n",
       "1          0         8               3  4358  1   11  0.997254  0.000229   \n",
       "2          5       209               3  3762  5  212  0.945464  0.001257   \n",
       "3          0         0               0  2845  0    0  1.000000  0.000000   \n",
       "4          2        22               0  2528  2   22  0.990596  0.000784   \n",
       "\n",
       "        R_f  tweet_count  \n",
       "0  0.113119         7417  \n",
       "1  0.002517         4370  \n",
       "2  0.053280         3979  \n",
       "3  0.000000         2845  \n",
       "4  0.008621         2552  "
      ]
     },
     "execution_count": 94,
     "metadata": {},
     "output_type": "execute_result"
    }
   ],
   "source": [
    "user_details.head()"
   ]
  },
  {
   "cell_type": "code",
   "execution_count": 95,
   "id": "64eb1531-8fe7-49ea-97d6-7ffedcdad633",
   "metadata": {
    "tags": []
   },
   "outputs": [],
   "source": [
    "L_sel_exp = user_details[((user_details.L > 0) & (user_details.R == 0) & (user_details.C == 0))] \n",
    "R_sel_exp = user_details[((user_details.L == 0) & (user_details.R > 0) & (user_details.C == 0))]\n",
    "\n",
    "cross_exp = user_details[((user_details.L_f > 0.3) & (user_details.R_f > 0.3) & (user_details.C == 0))]"
   ]
  },
  {
   "cell_type": "code",
   "execution_count": 96,
   "id": "972cb9bb-7d60-4c85-9ab7-5a0da7b976af",
   "metadata": {
    "tags": []
   },
   "outputs": [
    {
     "data": {
      "text/plain": [
       "((714668, 30), (159426, 30), (181721, 30))"
      ]
     },
     "execution_count": 96,
     "metadata": {},
     "output_type": "execute_result"
    }
   ],
   "source": [
    "L_sel_ur = user_resp_df[user_resp_df.author_id_x.isin(L_sel_exp.author_id)]\n",
    "R_sel_ur = user_resp_df[user_resp_df.author_id_x.isin(R_sel_exp.author_id)]\n",
    "\n",
    "cross_exp_ur = user_resp_df[user_resp_df.author_id_x.isin(cross_exp.author_id)]\n",
    "L_sel_ur.shape, R_sel_ur.shape, cross_exp_ur.shape"
   ]
  },
  {
   "cell_type": "code",
   "execution_count": 97,
   "id": "0e0cb39f-183e-4726-9c1c-2399a76913ca",
   "metadata": {
    "tags": []
   },
   "outputs": [
    {
     "data": {
      "text/plain": [
       "((714668, 30), (159426, 30), (181721, 30))"
      ]
     },
     "execution_count": 97,
     "metadata": {},
     "output_type": "execute_result"
    }
   ],
   "source": [
    "L_sel_ur.shape, R_sel_ur.shape, cross_exp_ur.shape"
   ]
  },
  {
   "cell_type": "code",
   "execution_count": 98,
   "id": "dee36bde-c41c-49e3-a4f5-e887cfcb3c79",
   "metadata": {
    "tags": []
   },
   "outputs": [
    {
     "data": {
      "text/plain": [
       "Index(['tweet_id', 'conversation_id', 'author_id_x', 'publication', 'topics_x',\n",
       "       'topics_y', 'trump_pos_new', 'trump_neg_new', 'trump_neu_new',\n",
       "       'biden_pos_new', 'biden_neg_new', 'biden_neu_new', 'Trump_flag',\n",
       "       'Biden_flag', 'Trump_Biden_flag', 'topic_id', 'clean_text',\n",
       "       'Unnamed: 0', '0', '1', '2', '3', '4', '5', '6', '7', '8', '9', '10',\n",
       "       'pred_labels'],\n",
       "      dtype='object')"
      ]
     },
     "execution_count": 98,
     "metadata": {},
     "output_type": "execute_result"
    }
   ],
   "source": [
    "L_sel_ur.columns"
   ]
  },
  {
   "cell_type": "code",
   "execution_count": 100,
   "id": "4c3d7fb2-ec77-434e-bcd2-6af1b9f28c5b",
   "metadata": {
    "tags": []
   },
   "outputs": [],
   "source": [
    "# L_user_resp['1'].describe(), C_user_resp['1'].describe(), R_user_resp['1'].describe()"
   ]
  },
  {
   "cell_type": "code",
   "execution_count": null,
   "id": "87d836a8-5c0b-4d23-b18e-9624cc614fa0",
   "metadata": {},
   "outputs": [],
   "source": []
  },
  {
   "cell_type": "code",
   "execution_count": null,
   "id": "82723967-ac4a-48e9-9f85-50e29ccc7573",
   "metadata": {
    "tags": []
   },
   "outputs": [],
   "source": [
    "L_sel_ur = L_sel_ur.drop(columns=['3'])\n",
    "R_sel_ur = R_sel_ur.drop(columns=['3'])\n",
    "cross_exp_ur = cross_exp_ur.drop(columns=['3'])"
   ]
  },
  {
   "cell_type": "code",
   "execution_count": null,
   "id": "6c12c8ad-2c1e-406a-a310-ebec68bac203",
   "metadata": {
    "tags": []
   },
   "outputs": [],
   "source": [
    "cross_exp"
   ]
  },
  {
   "cell_type": "code",
   "execution_count": null,
   "id": "c8935bfa-8c6c-4626-8eaf-244fcb8a2737",
   "metadata": {
    "tags": []
   },
   "outputs": [],
   "source": [
    "L_sel_ur.columns, "
   ]
  },
  {
   "cell_type": "code",
   "execution_count": null,
   "id": "009194d5-2a38-4edb-9e75-8067e0549f6b",
   "metadata": {
    "tags": []
   },
   "outputs": [],
   "source": [
    "list(mft_id_to_label_mapping[mft_id_to_label_mapping.label_id != 3][['label', 'label_id']].sort_values(by = ['label_id']).label)"
   ]
  },
  {
   "cell_type": "markdown",
   "id": "5c2fdaaf-4858-4466-bba9-80d59ecf57ea",
   "metadata": {},
   "source": [
    "### Over-all"
   ]
  },
  {
   "cell_type": "code",
   "execution_count": 101,
   "id": "6d963b4f-221e-4986-9593-3029fc9d8ed5",
   "metadata": {
    "tags": []
   },
   "outputs": [
    {
     "data": {
      "text/plain": [
       "<matplotlib.legend.Legend at 0x7f1cfa67f7d0>"
      ]
     },
     "execution_count": 101,
     "metadata": {},
     "output_type": "execute_result"
    },
    {
     "data": {
      "image/png": "[encoded data removed]",
      "text/plain": [
       "<Figure size 500x300 with 1 Axes>"
      ]
     },
     "metadata": {},
     "output_type": "display_data"
    }
   ],
   "source": [
    "def get_averages(df):\n",
    "    \n",
    "    means = []\n",
    "    for i in range(11):\n",
    "        \n",
    "        if(i == 4):\n",
    "            continue\n",
    "        means.append(df[str(i)].mean())\n",
    "        \n",
    "    return pd.DataFrame(means)\n",
    "\n",
    "df_ = pd.DataFrame()\n",
    "\n",
    "# df1 = get_averages(L_user_resp).rename(columns = {0: 'left'})\n",
    "# df2 = get_averages(C_user_resp).rename(columns = {0: 'center'})\n",
    "# df3 = get_averages(R_user_resp).rename(columns = {0: 'right'})\n",
    "\n",
    "df1 = get_averages(L_sel_ur).rename(columns = {0: 'left'})\n",
    "df2 = get_averages(cross_exp_ur).rename(columns = {0: 'center'})\n",
    "df3 = get_averages(R_sel_ur).rename(columns = {0: 'right'})\n",
    "\n",
    "df = pd.concat((df1, df2, df3), axis = 1)\n",
    "# df.rename(columns = {})\n",
    "df_ = pd.concat((df_, df), axis = 0)\n",
    "# df_['topic'] = top\n",
    "df.index = list(mft_id_to_label_mapping[mft_id_to_label_mapping.label_id != 4][['label', 'label_id']].sort_values(by = ['label_id']).label)\n",
    "# df.index = list(mft_id_to_label_mapping[['label', 'label_id']].sort_values(by = ['label_id']).label)\n",
    "\n",
    "df.plot.bar(figsize = (5, 3), rot=55)\n",
    "plt.title(top)\n",
    "plt.legend(['Left', 'cross', 'Right'])\n",
    "\n",
    "# print(df)\n",
    "        \n",
    "        # plt.set_xaxis\n",
    "        \n",
    "        # sys.exit()\n",
    "        "
   ]
  },
  {
   "cell_type": "code",
   "execution_count": 91,
   "id": "cdd70612-0b6f-46d3-a317-b25b03b15649",
   "metadata": {
    "tags": []
   },
   "outputs": [
    {
     "data": {
      "text/html": [
       "<div>\n",
       "<style scoped>\n",
       "    .dataframe tbody tr th:only-of-type {\n",
       "        vertical-align: middle;\n",
       "    }\n",
       "\n",
       "    .dataframe tbody tr th {\n",
       "        vertical-align: top;\n",
       "    }\n",
       "\n",
       "    .dataframe thead th {\n",
       "        text-align: right;\n",
       "    }\n",
       "</style>\n",
       "<table border=\"1\" class=\"dataframe\">\n",
       "  <thead>\n",
       "    <tr style=\"text-align: right;\">\n",
       "      <th></th>\n",
       "      <th>left</th>\n",
       "      <th>center</th>\n",
       "      <th>right</th>\n",
       "    </tr>\n",
       "  </thead>\n",
       "  <tbody>\n",
       "    <tr>\n",
       "      <th>care</th>\n",
       "      <td>0.011870</td>\n",
       "      <td>0.011889</td>\n",
       "      <td>0.010360</td>\n",
       "    </tr>\n",
       "    <tr>\n",
       "      <th>subversion</th>\n",
       "      <td>0.142219</td>\n",
       "      <td>0.136953</td>\n",
       "      <td>0.139867</td>\n",
       "    </tr>\n",
       "    <tr>\n",
       "      <th>cheating</th>\n",
       "      <td>0.149164</td>\n",
       "      <td>0.145260</td>\n",
       "      <td>0.146806</td>\n",
       "    </tr>\n",
       "    <tr>\n",
       "      <th>harm</th>\n",
       "      <td>0.046973</td>\n",
       "      <td>0.042166</td>\n",
       "      <td>0.039262</td>\n",
       "    </tr>\n",
       "    <tr>\n",
       "      <th>fairness</th>\n",
       "      <td>0.020677</td>\n",
       "      <td>0.020540</td>\n",
       "      <td>0.019658</td>\n",
       "    </tr>\n",
       "    <tr>\n",
       "      <th>betrayal</th>\n",
       "      <td>0.036092</td>\n",
       "      <td>0.034998</td>\n",
       "      <td>0.035200</td>\n",
       "    </tr>\n",
       "    <tr>\n",
       "      <th>authority</th>\n",
       "      <td>0.034862</td>\n",
       "      <td>0.033916</td>\n",
       "      <td>0.033715</td>\n",
       "    </tr>\n",
       "    <tr>\n",
       "      <th>loyalty</th>\n",
       "      <td>0.024572</td>\n",
       "      <td>0.025343</td>\n",
       "      <td>0.024678</td>\n",
       "    </tr>\n",
       "    <tr>\n",
       "      <th>purity</th>\n",
       "      <td>0.007350</td>\n",
       "      <td>0.006920</td>\n",
       "      <td>0.007113</td>\n",
       "    </tr>\n",
       "    <tr>\n",
       "      <th>degradation</th>\n",
       "      <td>0.052629</td>\n",
       "      <td>0.051119</td>\n",
       "      <td>0.053468</td>\n",
       "    </tr>\n",
       "  </tbody>\n",
       "</table>\n",
       "</div>"
      ],
      "text/plain": [
       "                 left    center     right\n",
       "care         0.011870  0.011889  0.010360\n",
       "subversion   0.142219  0.136953  0.139867\n",
       "cheating     0.149164  0.145260  0.146806\n",
       "harm         0.046973  0.042166  0.039262\n",
       "fairness     0.020677  0.020540  0.019658\n",
       "betrayal     0.036092  0.034998  0.035200\n",
       "authority    0.034862  0.033916  0.033715\n",
       "loyalty      0.024572  0.025343  0.024678\n",
       "purity       0.007350  0.006920  0.007113\n",
       "degradation  0.052629  0.051119  0.053468"
      ]
     },
     "execution_count": 91,
     "metadata": {},
     "output_type": "execute_result"
    }
   ],
   "source": [
    "df"
   ]
  },
  {
   "cell_type": "code",
   "execution_count": null,
   "id": "89a0f832-d219-4e62-b849-eb0230a0a501",
   "metadata": {
    "tags": []
   },
   "outputs": [],
   "source": []
  },
  {
   "cell_type": "code",
   "execution_count": 103,
   "id": "efb6a990-d9c6-4f51-b8ba-643db21c487e",
   "metadata": {
    "tags": []
   },
   "outputs": [
    {
     "data": {
      "text/plain": [
       "<matplotlib.legend.Legend at 0x7f1cbfb48f50>"
      ]
     },
     "execution_count": 103,
     "metadata": {},
     "output_type": "execute_result"
    },
    {
     "data": {
      "image/png": "[encoded data removed]",
      "text/plain": [
       "<Figure size 500x300 with 1 Axes>"
      ]
     },
     "metadata": {},
     "output_type": "display_data"
    }
   ],
   "source": [
    "def get_averages(df):\n",
    "    \n",
    "    means = []\n",
    "    for i in range(11):\n",
    "        \n",
    "        if(i == 4):\n",
    "            continue\n",
    "        means.append(df[str(i)].mean())\n",
    "        \n",
    "    return pd.DataFrame(means)\n",
    "\n",
    "df_ = pd.DataFrame()\n",
    "\n",
    "df1 = get_averages(L_user_resp).rename(columns = {0: 'left'})\n",
    "df2 = get_averages(C_user_resp).rename(columns = {0: 'center'})\n",
    "df3 = get_averages(R_user_resp).rename(columns = {0: 'right'})\n",
    "\n",
    "df = pd.concat((df1, df2, df3), axis = 1)\n",
    "# df.rename(columns = {})\n",
    "# df_ = pd.concat((df_, df), axis = 0)\n",
    "# df_['topic'] = top\n",
    "df.index = list(mft_id_to_label_mapping[mft_id_to_label_mapping.label_id != 4][['label', 'label_id']].sort_values(by = ['label_id']).label)\n",
    "\n",
    "df.plot.bar(figsize = (5, 3), rot=55)\n",
    "# plt.title(top)\n",
    "plt.legend(['Left', 'Center', 'Right'])\n",
    "\n",
    "# print(df)\n",
    "        \n",
    "        # plt.set_xaxis\n",
    "        \n",
    "        # sys.exit()\n",
    "        "
   ]
  },
  {
   "cell_type": "code",
   "execution_count": 104,
   "id": "0adbf175-0cc5-4c19-a46d-7cf4a8db293a",
   "metadata": {
    "tags": []
   },
   "outputs": [],
   "source": [
    "df.to_csv('results/mean_moral_sentiments_L_R_C_new.csv')"
   ]
  },
  {
   "cell_type": "markdown",
   "id": "96a3a96e-1bb3-421c-8f66-0038f48a5215",
   "metadata": {},
   "source": [
    "### Topic wise"
   ]
  },
  {
   "cell_type": "code",
   "execution_count": null,
   "id": "48456f1a-1c77-43b5-97ca-07f082b8a8fe",
   "metadata": {
    "tags": []
   },
   "outputs": [],
   "source": [
    "def get_averages(df):\n",
    "    \n",
    "    means = []\n",
    "    for i in range(11):\n",
    "        \n",
    "        if(i == 3):\n",
    "            continue\n",
    "        means.append(df[str(i)].mean())\n",
    "        \n",
    "    return pd.DataFrame(means)\n",
    "\n",
    "df_ = pd.DataFrame()\n",
    "for top in topics:\n",
    "    \n",
    "    if((top in L_sel_ur.topics_y.to_list()) & (top in R_sel_ur.topics_y.to_list()) & (top in cross_exp_ur.topics_y.to_list())):\n",
    "        \n",
    "        df1 = get_averages(L_sel_ur[L_sel_ur.topics_y == top]).rename(columns = {0: 'left'})\n",
    "        df2 = get_averages(cross_exp_ur[cross_exp_ur.topics_y == top]).rename(columns = {0: 'center'})\n",
    "        df3 = get_averages(R_sel_ur[R_sel_ur.topics_y == top]).rename(columns = {0: 'right'})\n",
    "        \n",
    "        df = pd.concat((df1, df2, df3), axis = 1)\n",
    "        df['topic'] = top\n",
    "        # df.rename(columns = {})\n",
    "        df_ = pd.concat((df_, df), axis = 0)\n",
    "        # df_['topic'] = top\n",
    "        df.index = list(mft_id_to_label_mapping[mft_id_to_label_mapping.label_id != 3][['label', 'label_id']].sort_values(by = ['label_id']).label)\n",
    "        \n",
    "        df.plot.bar(figsize = (5, 3), rot=55)\n",
    "        plt.title(top)\n",
    "        plt.legend(['Left', 'Cross', 'Right'])\n",
    "        \n",
    "        # print(df)\n",
    "        \n",
    "        # plt.set_xaxis\n",
    "        \n",
    "        # sys.exit()\n",
    "        "
   ]
  },
  {
   "cell_type": "code",
   "execution_count": null,
   "id": "ce40ea66-db48-41f4-aca1-cc5c29ad8299",
   "metadata": {
    "tags": []
   },
   "outputs": [],
   "source": [
    "ms = []\n",
    "for i in df_.index:\n",
    "    ms.append(mft_id_to_label_mapping[mft_id_to_label_mapping.label_id == i].label.values[0])\n",
    "    \n",
    "df_['ms'] = ms"
   ]
  },
  {
   "cell_type": "code",
   "execution_count": null,
   "id": "1872986e-cfa4-4030-a501-7f1a69f55264",
   "metadata": {
    "tags": []
   },
   "outputs": [],
   "source": [
    "# df_.to_csv('results/mean_sel_vs_cross_exp.csv')"
   ]
  },
  {
   "cell_type": "code",
   "execution_count": null,
   "id": "56708ec2-553e-4630-a052-f973dcdfd053",
   "metadata": {
    "tags": []
   },
   "outputs": [],
   "source": [
    "L_sel_ur.columns"
   ]
  },
  {
   "cell_type": "markdown",
   "id": "025ba854-e4b7-48e8-aacd-6504212c017e",
   "metadata": {
    "tags": []
   },
   "source": [
    "### Topic Wise change in mean moral sentiments"
   ]
  },
  {
   "cell_type": "code",
   "execution_count": null,
   "id": "08bfc3ad-950a-411d-aeff-02b7d8aab2d3",
   "metadata": {
    "tags": []
   },
   "outputs": [],
   "source": [
    "def get_averages(df):\n",
    "    \n",
    "    means = []\n",
    "    for i in range(11):\n",
    "        \n",
    "        # if(i == 3):\n",
    "        #     continue\n",
    "        means.append(df[str(i)].mean())\n",
    "        \n",
    "    return pd.DataFrame(means)\n",
    "\n",
    "# df1_mean = get_averages(L_sel_ur).rename(columns = {0: 'left'})\n",
    "# df2_mean = get_averages(cross_exp_ur).rename(columns = {0: 'center'})\n",
    "# df3_mean = get_averages(R_sel_ur).rename(columns = {0: 'right'})\n",
    "\n",
    "df1_mean = get_averages(L_user_resp).rename(columns = {0: 'left'})\n",
    "df2_mean = get_averages(C_user_resp).rename(columns = {0: 'center'})\n",
    "df3_mean = get_averages(R_user_resp).rename(columns = {0: 'right'})\n",
    "\n",
    "df_ = pd.DataFrame()\n",
    "for top in topics:\n",
    "    \n",
    "    if((top in L_sel_ur.topics_y.to_list()) & (top in R_sel_ur.topics_y.to_list()) & (top in cross_exp_ur.topics_y.to_list())):\n",
    "        \n",
    "#         df1 = get_averages(L_sel_ur[L_sel_ur.topics_y == top]).rename(columns = {0: 'left'})\n",
    "#         df2 = get_averages(cross_exp_ur[cross_exp_ur.topics_y == top]).rename(columns = {0: 'center'})\n",
    "#         df3 = get_averages(R_sel_ur[R_sel_ur.topics_y == top]).rename(columns = {0: 'right'})\n",
    "        \n",
    "        df1 = get_averages(L_user_resp[L_user_resp.topics_y == top]).rename(columns = {0: 'left'})\n",
    "        df2 = get_averages(C_user_resp[C_user_resp.topics_y == top]).rename(columns = {0: 'center'})\n",
    "        df3 = get_averages(R_user_resp[R_user_resp.topics_y == top]).rename(columns = {0: 'right'})\n",
    "        \n",
    "        df1 = df1 - df1_mean\n",
    "        df2 = df2 - df2_mean\n",
    "        df3 = df3 - df3_mean\n",
    "        \n",
    "        df = pd.concat((df1, df2, df3), axis = 1)\n",
    "        df['topic'] = top\n",
    "        # df.rename(columns = {})\n",
    "        # df_['topic'] = top\n",
    "        # df.index = list(mft_id_to_label_mapping[mft_id_to_label_mapping.label_id != 3][['label', 'label_id']].sort_values(by = ['label_id']).label)\n",
    "        df.index = list(mft_id_to_label_mapping[['label', 'label_id']].sort_values(by = ['label_id']).label)\n",
    "        df_ = pd.concat((df_, df), axis = 0)\n",
    "        \n",
    "        # df.plot.bar(figsize = (5, 3), rot=55)\n",
    "        # plt.title(top)\n",
    "        # plt.legend(['Left', 'Center', 'Right'])\n",
    "        \n",
    "        # print(df)\n",
    "        \n",
    "        # plt.set_xaxis\n",
    "        \n",
    "        # sys.exit()\n",
    "        "
   ]
  },
  {
   "cell_type": "code",
   "execution_count": null,
   "id": "7d49ba23-2d7f-4b2d-a53b-4925d6c959f6",
   "metadata": {},
   "outputs": [],
   "source": [
    "df_['ms'] = df_.index"
   ]
  },
  {
   "cell_type": "code",
   "execution_count": null,
   "id": "ba1f9c22-cbfa-4e45-8d26-6fb5e2400321",
   "metadata": {
    "tags": []
   },
   "outputs": [],
   "source": [
    "df2 = pd.concat((df1_mean, df2_mean, df3_mean), axis = 1)\n",
    "df2"
   ]
  },
  {
   "cell_type": "code",
   "execution_count": null,
   "id": "c9f12b2e-33d9-4fe4-bfd5-4e1cab5af39a",
   "metadata": {
    "tags": []
   },
   "outputs": [],
   "source": [
    "final_df = pd.DataFrame()\n",
    "for top in topics:\n",
    "    \n",
    "    temp_df = df_[df_.topic == top]\n",
    "    # print(temp_df[['left', 'center', 'right']])\n",
    "    df2.index = temp_df.index\n",
    "    # sys.exit()\n",
    "    df_temp = (temp_df[['left', 'center', 'right']] * 100)/df2[['left', 'center', 'right']]\n",
    "    # print(temp_df[['left', 'center', 'right']].shape)\n",
    "    # df_temp.rename(columns = {'left': 'L_increase', 'center': 'C_increase', 'right': 'R_increase'})\n",
    "    df_temp['topic'] = top\n",
    "    \n",
    "    # df_temp['ms'] = df1.index\n",
    "    # print(df_temp.shape)\n",
    "    final_df = pd.concat((final_df, df_temp), axis = 0)\n",
    "    # df_temp"
   ]
  },
  {
   "cell_type": "code",
   "execution_count": null,
   "id": "03a94140-9c20-4c97-a4c3-2b8dba0a3b39",
   "metadata": {
    "tags": []
   },
   "outputs": [],
   "source": [
    "final_df.to_csv('results/mean_diff_percent_overall_L_C_R.csv')"
   ]
  },
  {
   "cell_type": "code",
   "execution_count": null,
   "id": "10ff8922-f70b-4f98-9f9a-c3e395da4467",
   "metadata": {
    "tags": []
   },
   "outputs": [],
   "source": [
    "df_temp1 = pd.read_csv('results/mean_diff_percent_overall_L_C_R.csv')"
   ]
  },
  {
   "cell_type": "code",
   "execution_count": null,
   "id": "a1a49e02-9348-44d2-aa6e-c1946dc6cdbb",
   "metadata": {
    "tags": []
   },
   "outputs": [],
   "source": [
    "df_.to_csv('results/mean_topic_wise_L_C_R.csv')"
   ]
  },
  {
   "cell_type": "code",
   "execution_count": null,
   "id": "fa12b6f9-1cd1-4bd1-af52-db3b76821c29",
   "metadata": {
    "tags": []
   },
   "outputs": [],
   "source": [
    "df_.to_csv('results/mean_diff_topic_wise_L_C_R.csv')"
   ]
  },
  {
   "cell_type": "code",
   "execution_count": null,
   "id": "32bb94cc-4547-4605-96e0-d801cf44aa33",
   "metadata": {
    "tags": []
   },
   "outputs": [],
   "source": [
    "def get_averages(df):\n",
    "    \n",
    "    means = []\n",
    "    for i in range(11):\n",
    "        \n",
    "        means.append(df[str(i)].mean())\n",
    "        \n",
    "    return pd.DataFrame(means)\n",
    "\n",
    "df1_mean = get_averages(L_sel_ur).rename(columns = {0: 'left'})\n",
    "df2_mean = get_averages(cross_exp_ur).rename(columns = {0: 'center'})\n",
    "df3_mean = get_averages(R_sel_ur).rename(columns = {0: 'right'})\n",
    "\n",
    "# print(df1)\n",
    "\n",
    "# sys.exit()\n",
    "\n",
    "df_ = pd.DataFrame()\n",
    "for top in topics:\n",
    "    \n",
    "    if((top in L_sel_ur.topics_y.to_list()) & (top in R_sel_ur.topics_y.to_list()) & (top in cross_exp_ur.topics_y.to_list())):\n",
    "        \n",
    "        df1 = get_averages(L_sel_ur[L_sel_ur.topics_y == top]).rename(columns = {0: 'left'})\n",
    "        df2 = get_averages(cross_exp_ur[cross_exp_ur.topics_y == top]).rename(columns = {0: 'center'})\n",
    "        df3 = get_averages(R_sel_ur[R_sel_ur.topics_y == top]).rename(columns = {0: 'right'})\n",
    "        \n",
    "        df1 = df1 - df1_mean\n",
    "        df2 = df2 - df2_mean\n",
    "        df3 = df3 - df3_mean\n",
    "        \n",
    "        df = pd.concat((df1, df2, df3), axis = 1)\n",
    "        df['topic'] = top\n",
    "        \n",
    "        # df.rename(columns = {})\n",
    "        # df_['topic'] = top\n",
    "        # df.index = list(mft_id_to_label_mapping[mft_id_to_label_mapping.label_id != 3][['label', 'label_id']].sort_values(by = ['label_id']).label)\n",
    "        df.index = list(mft_id_to_label_mapping[['label', 'label_id']].sort_values(by = ['label_id']).label)\n",
    "        df_ = pd.concat((df_, df), axis = 0)\n",
    "        \n",
    "        # df.plot.bar(figsize = (5, 3), rot=55)\n",
    "        # plt.title(top)\n",
    "        # plt.legend(['Left', 'Cross', 'Right'])\n",
    "        \n",
    "        # print(df)\n",
    "        \n",
    "        # plt.set_xaxis\n",
    "        \n",
    "        # sys.exit()\n",
    "        "
   ]
  },
  {
   "cell_type": "code",
   "execution_count": null,
   "id": "b077b454-f761-43a8-bc61-135ff6ad7885",
   "metadata": {
    "tags": []
   },
   "outputs": [],
   "source": [
    "df_['ms'] = df_.index\n",
    "df_.shape"
   ]
  },
  {
   "cell_type": "code",
   "execution_count": null,
   "id": "45270452-d2ce-4de9-9a13-6697349ef4e4",
   "metadata": {
    "tags": []
   },
   "outputs": [],
   "source": [
    "df_.to_csv('results/mean_topic_wise_sel_vs_cross.csv')"
   ]
  },
  {
   "cell_type": "code",
   "execution_count": null,
   "id": "040d780a-870b-4c61-80f4-880804bedcb7",
   "metadata": {
    "tags": []
   },
   "outputs": [],
   "source": [
    "df_"
   ]
  },
  {
   "cell_type": "code",
   "execution_count": null,
   "id": "3b6e5751-b39d-48b1-a406-16e3532f9f4a",
   "metadata": {
    "tags": []
   },
   "outputs": [],
   "source": [
    "df2 = pd.concat((df1_mean, df2_mean, df3_mean), axis = 1)\n",
    "df2"
   ]
  },
  {
   "cell_type": "code",
   "execution_count": null,
   "id": "b4c72463-4e2d-4cbc-8b80-7f16c0b3f6e9",
   "metadata": {
    "tags": []
   },
   "outputs": [],
   "source": [
    "final_df = pd.DataFrame()\n",
    "for top in topics:\n",
    "    \n",
    "    temp_df = df_[df_.topic == top]\n",
    "    # print(temp_df[['left', 'center', 'right']])\n",
    "    df2.index = temp_df.index\n",
    "    # sys.exit()\n",
    "    df_temp = (temp_df[['left', 'center', 'right']] * 100)/df2[['left', 'center', 'right']]\n",
    "    # print(temp_df[['left', 'center', 'right']].shape)\n",
    "    # df_temp.rename(columns = {'left': 'L_increase', 'center': 'C_increase', 'right': 'R_increase'})\n",
    "    df_temp['topic'] = top\n",
    "    \n",
    "    # df_temp['ms'] = df1.index\n",
    "    # print(df_temp.shape)\n",
    "    final_df = pd.concat((final_df, df_temp), axis = 0)\n",
    "    # df_temp"
   ]
  },
  {
   "cell_type": "code",
   "execution_count": null,
   "id": "442cdaad-6dc2-48c0-a6dc-0280a795bc88",
   "metadata": {
    "tags": []
   },
   "outputs": [],
   "source": [
    "final_df[final_df.left > 50]"
   ]
  },
  {
   "cell_type": "code",
   "execution_count": null,
   "id": "354a4b0f-8e86-40df-a2c7-1a100a0c16d3",
   "metadata": {
    "tags": []
   },
   "outputs": [],
   "source": [
    "final_df[final_df.right > 50]"
   ]
  },
  {
   "cell_type": "code",
   "execution_count": null,
   "id": "2476d1fa-402c-4884-9ba5-7e43ad31dc03",
   "metadata": {
    "tags": []
   },
   "outputs": [],
   "source": [
    "final_df[final_df.center > 50]"
   ]
  },
  {
   "cell_type": "code",
   "execution_count": null,
   "id": "48e347b8-74ec-4055-8d9d-d06ca3532d0d",
   "metadata": {
    "tags": []
   },
   "outputs": [],
   "source": [
    "final_df.to_csv('results/mean_diff_percent_sel_vs_cross_exposure.csv')"
   ]
  },
  {
   "cell_type": "code",
   "execution_count": null,
   "id": "865871e2-11c0-4599-b20e-9ee94d6e62ca",
   "metadata": {},
   "outputs": [],
   "source": []
  },
  {
   "cell_type": "code",
   "execution_count": null,
   "id": "fca8c47a-c118-4678-9fb8-e95569aee4c8",
   "metadata": {
    "tags": []
   },
   "outputs": [],
   "source": [
    "df_temp.to_csv('results/mean_diff_percent_overall_L_C_R.csv')"
   ]
  },
  {
   "cell_type": "code",
   "execution_count": null,
   "id": "9e0a8f12-ddc3-46eb-adcf-249d09398b8e",
   "metadata": {
    "tags": []
   },
   "outputs": [],
   "source": [
    "for top in topics:\n",
    "    \n",
    "\n",
    "    df = df_temp[df_temp.topic == top]\n",
    "    df.index = df.ms\n",
    "    \n",
    "    df.plot.bar(figsize = (5, 3), rot=55)\n",
    "    plt.title(top)\n",
    "    plt.legend(['Left', 'Cross', 'Right'])\n",
    "\n",
    "    # print(df)"
   ]
  },
  {
   "cell_type": "code",
   "execution_count": null,
   "id": "fe694fd0-3116-4cfb-abd7-8d631e3e496f",
   "metadata": {},
   "outputs": [],
   "source": []
  },
  {
   "cell_type": "code",
   "execution_count": null,
   "id": "8fbfc761-cd91-4892-a27f-005d68d8a7b1",
   "metadata": {},
   "outputs": [],
   "source": []
  },
  {
   "cell_type": "code",
   "execution_count": null,
   "id": "9b87a8e8-1cda-4bfa-a6e1-31c2fa3653f3",
   "metadata": {
    "tags": []
   },
   "outputs": [],
   "source": [
    "df_temp[((df_temp.left > 50) | (df_temp.left < -50))].ms.value_counts()"
   ]
  },
  {
   "cell_type": "code",
   "execution_count": null,
   "id": "2b7ae478-4108-4ad8-94f6-a9fb1f4b340a",
   "metadata": {
    "tags": []
   },
   "outputs": [],
   "source": [
    "df_temp[((df_temp.right > 50) | (df_temp.right < -50))].ms.value_counts()"
   ]
  },
  {
   "cell_type": "code",
   "execution_count": null,
   "id": "ac214af0-d949-4568-b0e2-2d5850d1aa65",
   "metadata": {
    "tags": []
   },
   "outputs": [],
   "source": [
    "df_temp1 = pd.read_csv('results/mean_diff_percent_overall_L_C_R.csv')\n",
    "df_temp2 = pd.read_csv('results/mean_diff_percent_sel_exposed.csv')\n",
    "\n",
    "topics = ['election', 'conspiracy_theory', 'capitol', 'blm', 'impeachment', 'covid', 'economy', 'supreme_court', 'immigration', 'healthcare']\n",
    "df_temp1 = df_temp1[df_temp1.topic.isin(topics)]\n",
    "df_temp2 = df_temp2[df_temp2.topic.isin(topics)]"
   ]
  },
  {
   "cell_type": "code",
   "execution_count": null,
   "id": "a2a314b6-5de1-4b2d-a73f-8fe288a1e01f",
   "metadata": {
    "tags": []
   },
   "outputs": [],
   "source": [
    "df_temp1 = pd.read_csv('results/mean_diff_percent_overall_L_C_R.csv')"
   ]
  },
  {
   "cell_type": "code",
   "execution_count": null,
   "id": "10b42408-b82e-4478-af7a-c3c78f8d7e2c",
   "metadata": {
    "tags": []
   },
   "outputs": [],
   "source": [
    "df_temp1[(((df_temp1.left - df_temp1.right) > 50) | ((df_temp1.left - df_temp1.right < -50)))]"
   ]
  },
  {
   "cell_type": "code",
   "execution_count": null,
   "id": "1b3f0129-6a5c-412a-9921-ac050dbac4ed",
   "metadata": {},
   "outputs": [],
   "source": []
  },
  {
   "cell_type": "code",
   "execution_count": null,
   "id": "7a100cb2-773a-4caf-8c29-8dc7d5411883",
   "metadata": {
    "tags": []
   },
   "outputs": [],
   "source": [
    "pos_morals = ['care', 'fairness', 'loyalty', 'authority', 'purity']\n",
    "neg_morals = ['harm', 'cheating', 'betrayal', 'subversion', 'degradation']"
   ]
  },
  {
   "cell_type": "code",
   "execution_count": null,
   "id": "ea27e6dd-b6a4-486d-92cc-9b36a5edf0c2",
   "metadata": {
    "tags": []
   },
   "outputs": [],
   "source": [
    "t_df = df_temp1[((df_temp1.right > 25) | (df_temp1.right < -25))]\n",
    "\n",
    "get_dataframe(t_df, topics, ['right']) \n",
    "# df_temp1[((df_temp1.right > 25) | (df_temp1.right < -25))].shape\n",
    "# df_temp2[df_temp2.left > 25].shape, df_temp2[df_temp2.right > 25].shape"
   ]
  },
  {
   "cell_type": "code",
   "execution_count": null,
   "id": "861e78c8-b61d-49b4-a6c4-83aaad97f92a",
   "metadata": {
    "tags": []
   },
   "outputs": [],
   "source": [
    "get_dataframe(t_df, topics, ['left']) "
   ]
  },
  {
   "cell_type": "code",
   "execution_count": null,
   "id": "f2e3213e-97a5-4281-af08-f86e74080cd7",
   "metadata": {
    "tags": []
   },
   "outputs": [],
   "source": [
    "df_temp1[((df_temp1.left - df_temp1.right > 50) | (df_temp1.right - df_temp1.left > 50))]"
   ]
  },
  {
   "cell_type": "code",
   "execution_count": null,
   "id": "29e28df5-392c-4eb3-b81a-2f6e1ddd6514",
   "metadata": {
    "tags": []
   },
   "outputs": [],
   "source": [
    "def get_dataframe(df, topics, political_inc):\n",
    "    \n",
    "    df_ = pd.DataFrame()\n",
    "    # topics = df.topic.unique()\n",
    "    for top in topics:\n",
    "        \n",
    "        for pol_inc in political_inc:\n",
    "            temp_df = df[df.topic == top][[pol_inc, 'ms']]\n",
    "            temp_df.index = temp_df.ms\n",
    "            temp_df = temp_df[[pol_inc]].T\n",
    "            temp_df['topic'] = top\n",
    "            temp_df['pub'] = pol_inc\n",
    "            # print(temp_df[pos_morals])\n",
    "            # temp_df['pos'] = temp_df[pos_morals].mean(axis=1)\n",
    "            # temp_df['neg'] = temp_df[neg_morals].mean(axis=1)\n",
    "            # df.sum(axis=1)\n",
    "            # sys.exit()\n",
    "            # print(temp_df)\n",
    "            df_ = pd.concat((df_, temp_df), axis = 0)\n",
    "            \n",
    "    return df_\n",
    "    # return pd.concat((df_[df_.pub == 'left'], df_[df_.pub == 'center'], df_[df_.pub == 'right']), axis = 0)\n",
    "\n",
    "df_mean_ms = get_dataframe(df_temp1, topics, ['left', 'center', 'right']) \n",
    "df_mean_ms"
   ]
  },
  {
   "cell_type": "code",
   "execution_count": null,
   "id": "eb13693a-e52b-4514-938f-85f7bc88fa4b",
   "metadata": {
    "tags": []
   },
   "outputs": [],
   "source": [
    "df_mean_ms.to_csv('results/mean_diff_L_C_R_2.csv')"
   ]
  },
  {
   "cell_type": "code",
   "execution_count": null,
   "id": "9595ec81-5805-4038-b89d-08bcebfae406",
   "metadata": {
    "tags": []
   },
   "outputs": [],
   "source": [
    "df_mean_ms[df_mean_ms['non-moral'] > 20]"
   ]
  },
  {
   "cell_type": "code",
   "execution_count": null,
   "id": "beb2dd0e-9f18-428f-a6b3-f2185351c377",
   "metadata": {},
   "outputs": [],
   "source": []
  },
  {
   "cell_type": "code",
   "execution_count": null,
   "id": "cc289fbe-c5f8-4279-b2eb-706a163cdd22",
   "metadata": {
    "tags": []
   },
   "outputs": [],
   "source": [
    "df_mean_ms.to_csv('results/mean_diff_L_C_R.csv')"
   ]
  },
  {
   "cell_type": "code",
   "execution_count": null,
   "id": "4c4fe49c-4c9f-4b89-aa16-3d9d0628b284",
   "metadata": {
    "tags": []
   },
   "outputs": [],
   "source": [
    "df_mean_ms[((df_mean_ms['pos'] > 0) & (df_mean_ms.pub == 'right'))]"
   ]
  },
  {
   "cell_type": "markdown",
   "id": "9cad1511-df33-47bd-835f-23dfc5743aee",
   "metadata": {
    "tags": []
   },
   "source": [
    "### Greater than 50\\% change"
   ]
  },
  {
   "cell_type": "code",
   "execution_count": null,
   "id": "42ab144f-ee49-4725-9364-0db7d4c4d7b9",
   "metadata": {
    "tags": []
   },
   "outputs": [],
   "source": [
    "r_topics = df_temp1[((df_temp1.right > 50) | (df_temp1.right < -50))].topic.unique()\n",
    "df_mean_ms1 = get_dataframe(df_temp1, r_topics, ['right']) \n",
    "\n",
    "l_topics = df_temp1[((df_temp1.left > 50) | (df_temp1.left < -50))].topic.unique()\n",
    "df_mean_ms2 = get_dataframe(df_temp1, l_topics, ['left']) \n",
    "\n",
    "l_topics = df_temp1[((df_temp1.center > 50) | (df_temp1.center < -50))].topic.unique()\n",
    "df_mean_ms3 = get_dataframe(df_temp1, l_topics, ['center']) \n",
    "\n",
    "df_mean_ms = pd.concat((df_mean_ms1, df_mean_ms2, df_mean_ms3), axis = 0)\n",
    "df_mean_ms"
   ]
  },
  {
   "cell_type": "markdown",
   "id": "4c524350-a062-4339-9f53-ae09176d6795",
   "metadata": {},
   "source": [
    "### Greater than 50\\% change across L-vs-R"
   ]
  },
  {
   "cell_type": "code",
   "execution_count": null,
   "id": "165881c7-e27a-4149-89a7-9ccc38811eff",
   "metadata": {
    "tags": []
   },
   "outputs": [],
   "source": [
    "changed_topics = df_temp1[(((df_temp1.left - df_temp1.right) > 50) | ((df_temp1.left - df_temp1.right) < -50))].topic.unique()\n",
    "df_mean_ms1 = get_dataframe(df_temp1, changed_topics, ['left']) \n",
    "df_mean_ms2 = get_dataframe(df_temp1, changed_topics, ['right']) \n",
    "df_mean_ms3 = get_dataframe(df_temp1, changed_topics, ['center'])\n",
    "\n",
    "df_mean_ms = pd.concat((df_mean_ms1, df_mean_ms2, df_mean_ms3), axis = 0)\n",
    "df_mean_ms"
   ]
  },
  {
   "cell_type": "code",
   "execution_count": null,
   "id": "cf0cf42f-0564-41a4-b217-4acf3748be78",
   "metadata": {
    "tags": []
   },
   "outputs": [],
   "source": [
    "df_temp1"
   ]
  },
  {
   "cell_type": "code",
   "execution_count": null,
   "id": "4129e170-8531-49bb-a2f6-1f9c79d959a4",
   "metadata": {
    "tags": []
   },
   "outputs": [],
   "source": [
    "pos_morals = ['care', 'fairness', 'loyalty', 'authority', 'purity']\n",
    "neg_morals = ['harm', 'cheating', 'betrayal', 'subversion', 'degradation']\n",
    "df_temp1[((df_temp1.right > 25) & (df_temp1.ms.isin(pos_morals)))]"
   ]
  },
  {
   "cell_type": "code",
   "execution_count": null,
   "id": "99fa7558-a01f-4226-abdb-ca18ff6a97a7",
   "metadata": {
    "tags": []
   },
   "outputs": [],
   "source": [
    "df_temp2[((df_temp2.left > 25) & (df_temp2.ms.isin(neg_morals)))]"
   ]
  },
  {
   "cell_type": "code",
   "execution_count": null,
   "id": "1d38ba13-f2e2-47e3-8ff8-1465760e84ae",
   "metadata": {
    "tags": []
   },
   "outputs": [],
   "source": [
    "df_temp1[(((df_temp1.right - df_temp1.left) > 50) | ((df_temp1.left - df_temp1.right) > 50))]"
   ]
  },
  {
   "cell_type": "code",
   "execution_count": null,
   "id": "c8e58492-3dd0-48ce-b7c8-16d80c9f6e4b",
   "metadata": {},
   "outputs": [],
   "source": [
    "C_user_resp[C_user_resp.topics_y == 'healthcare']"
   ]
  },
  {
   "cell_type": "markdown",
   "id": "4a2fd751-d60a-4ab3-a8f3-38bae9fc4e9e",
   "metadata": {},
   "source": [
    "### User respone per tweet"
   ]
  },
  {
   "cell_type": "code",
   "execution_count": null,
   "id": "89a40adc-bc16-4549-99b4-1b1b68ad8ee8",
   "metadata": {
    "tags": []
   },
   "outputs": [],
   "source": [
    "news_tweets = pd.read_csv('../results/news_tweets.csv')"
   ]
  },
  {
   "cell_type": "code",
   "execution_count": null,
   "id": "ff07c940-1cbb-4c94-ae3e-4e1e950afcae",
   "metadata": {
    "tags": []
   },
   "outputs": [],
   "source": [
    "news_tweets.shape, news_tweets.columns"
   ]
  },
  {
   "cell_type": "code",
   "execution_count": null,
   "id": "c8e081fe-28d7-45a7-9ced-2c5190bc2909",
   "metadata": {
    "tags": []
   },
   "outputs": [],
   "source": [
    "R_news_tweets = news_tweets[((news_tweets['publication'] == 'Breitbart News') | (news_tweets['publication'] == 'Fox News'))]\n",
    "L_news_tweets = news_tweets[((news_tweets['publication'] == 'CNN') | (news_tweets['publication'] == 'The Washington Post'))]\n",
    "C_news_tweets = news_tweets[((news_tweets['publication'] == 'Business Insider') | (news_tweets['publication'] ==  'USA Today'))]"
   ]
  },
  {
   "cell_type": "code",
   "execution_count": null,
   "id": "0e8f1382-6231-45e9-b682-0be19fd7c8cc",
   "metadata": {
    "tags": []
   },
   "outputs": [],
   "source": [
    "L_user_resp.columns"
   ]
  },
  {
   "cell_type": "code",
   "execution_count": null,
   "id": "706cd543-beb7-4efe-8fcd-a941061c185f",
   "metadata": {
    "tags": []
   },
   "outputs": [],
   "source": [
    "R_news_tweets.conversation_id.nunique(), L_news_tweets.conversation_id.nunique(), C_news_tweets.conversation_id.nunique()"
   ]
  },
  {
   "cell_type": "code",
   "execution_count": null,
   "id": "add36c23-f93c-4aae-a1ff-0e2f92cfd87a",
   "metadata": {
    "tags": []
   },
   "outputs": [],
   "source": [
    "row = []\n",
    "for top in topics:\n",
    "    print(top)\n",
    "    l = L_user_resp[L_user_resp.topics_y == top].tweet_id.nunique()/L_news_tweets[L_news_tweets.topics == top].conversation_id.nunique()\n",
    "    c = C_user_resp[C_user_resp.topics_y == top].tweet_id.nunique()/C_news_tweets[C_news_tweets.topics == top].conversation_id.nunique()\n",
    "    r = R_user_resp[R_user_resp.topics_y == top].tweet_id.nunique()/R_news_tweets[R_news_tweets.topics == top].conversation_id.nunique()\n",
    "    row.append([top, l, c, r])"
   ]
  },
  {
   "cell_type": "code",
   "execution_count": null,
   "id": "e2af4711-f25c-492b-9d41-22f812732e90",
   "metadata": {
    "tags": []
   },
   "outputs": [],
   "source": [
    "pd.DataFrame(row, columns = ['topic', 'left', 'center', 'right']).to_csv('results/resp_per_tweet.csv')"
   ]
  }
 ],
 "metadata": {
  "kernelspec": {
   "display_name": "py3_7",
   "language": "python",
   "name": "py3_7"
  },
  "language_info": {
   "codemirror_mode": {
    "name": "ipython",
    "version": 3
   },
   "file_extension": ".py",
   "mimetype": "text/x-python",
   "name": "python",
   "nbconvert_exporter": "python",
   "pygments_lexer": "ipython3",
   "version": "3.7.17"
  }
 },
 "nbformat": 4,
 "nbformat_minor": 5
}
