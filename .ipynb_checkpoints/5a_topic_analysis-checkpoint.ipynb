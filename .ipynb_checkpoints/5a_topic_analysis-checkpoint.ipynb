{
 "cells": [
  {
   "cell_type": "code",
   "execution_count": 1,
   "id": "02376e0a-e116-477a-b91b-fb84eb5329cb",
   "metadata": {},
   "outputs": [],
   "source": [
    "import pandas as pd\n",
    "import sys"
   ]
  },
  {
   "cell_type": "code",
   "execution_count": 3,
   "id": "706553ce-1dfc-4cfd-8b9d-2790ff778743",
   "metadata": {},
   "outputs": [],
   "source": [
    "# Download and place dataset under the dataset/ folder\n",
    "\n",
    "news = pd.read_csv('dataset/news.csv')\n",
    "news_tweets = pd.read_csv('dataset/news_tweets.csv')\n",
    "# user_resp = pd.read_csv('results/user_response.csv')"
   ]
  },
  {
   "cell_type": "code",
   "execution_count": 4,
   "id": "83bbd095-d8ab-47c8-8348-f80c103f376c",
   "metadata": {},
   "outputs": [
    {
     "data": {
      "text/plain": [
       "((35886, 32), (24584, 49))"
      ]
     },
     "execution_count": 4,
     "metadata": {},
     "output_type": "execute_result"
    }
   ],
   "source": [
    "news.shape, news_tweets.shape"
   ]
  },
  {
   "cell_type": "code",
   "execution_count": 5,
   "id": "2e4c6cc4-933f-4a68-8a01-4ccf28e161fc",
   "metadata": {},
   "outputs": [],
   "source": [
    "# news_filtered = news[news['topic_ids'] != -1]\n",
    "# news_tweets_filtered = news_tweets[news_tweets['topic_ids'] != -1]"
   ]
  },
  {
   "cell_type": "code",
   "execution_count": 6,
   "id": "5f359bd6-5679-4629-b660-1fc5eaa267dc",
   "metadata": {},
   "outputs": [],
   "source": [
    "R_news = news[((news['publication'] == 'Breitbart News') | (news['publication'] == 'Fox News'))]\n",
    "L_news = news[((news['publication'] == 'CNN') | (news['publication'] == 'The Washington Post'))]\n",
    "C_news = news[((news['publication'] == 'Business Insider') | (news['publication'] ==  'USA Today'))]"
   ]
  },
  {
   "cell_type": "code",
   "execution_count": 7,
   "id": "a1744969-f364-4cfb-bd0f-20adbc2af1ad",
   "metadata": {},
   "outputs": [
    {
     "data": {
      "text/plain": [
       "((15704, 32), (11163, 32), (9019, 32))"
      ]
     },
     "execution_count": 7,
     "metadata": {},
     "output_type": "execute_result"
    }
   ],
   "source": [
    "R_news.shape, L_news.shape, C_news.shape"
   ]
  },
  {
   "cell_type": "code",
   "execution_count": 8,
   "id": "916112c0-f8e3-4c92-b130-fa26625aa24e",
   "metadata": {},
   "outputs": [],
   "source": [
    "R_news_tweets = news_tweets[((news_tweets['publication'] == 'Breitbart News') | (news_tweets['publication'] == 'Fox News'))]\n",
    "L_news_tweets = news_tweets[((news_tweets['publication'] == 'CNN') | (news_tweets['publication'] == 'The Washington Post'))]\n",
    "C_news_tweets = news_tweets[((news_tweets['publication'] == 'Business Insider') | (news_tweets['publication'] ==  'USA Today'))]"
   ]
  },
  {
   "cell_type": "code",
   "execution_count": 9,
   "id": "c6af0a53-fdbb-45a1-ba65-26259b4eea7a",
   "metadata": {},
   "outputs": [
    {
     "data": {
      "text/plain": [
       "((4115, 49), (13107, 49), (7362, 49))"
      ]
     },
     "execution_count": 9,
     "metadata": {},
     "output_type": "execute_result"
    }
   ],
   "source": [
    "R_news_tweets.shape, L_news_tweets.shape, C_news_tweets.shape"
   ]
  },
  {
   "cell_type": "code",
   "execution_count": 10,
   "id": "9d2bf3d0-1502-4538-97c3-31809e476f9a",
   "metadata": {},
   "outputs": [
    {
     "data": {
      "text/plain": [
       "trump_pos_new    0.161783\n",
       "trump_neg_new    0.503286\n",
       "trump_neu_new    0.334931\n",
       "biden_pos_new    0.177913\n",
       "biden_neg_new    0.409237\n",
       "biden_neu_new    0.412850\n",
       "dtype: float64"
      ]
     },
     "execution_count": 10,
     "metadata": {},
     "output_type": "execute_result"
    }
   ],
   "source": [
    "R_news[['trump_pos_new', 'trump_neg_new', 'trump_neu_new', 'biden_pos_new', 'biden_neg_new', 'biden_neu_new']].mean()"
   ]
  },
  {
   "cell_type": "code",
   "execution_count": 11,
   "id": "f0e94f92-287a-4187-be73-3da5d62de5ad",
   "metadata": {},
   "outputs": [
    {
     "data": {
      "text/plain": [
       "trump_pos_new    0.110019\n",
       "trump_neg_new    0.567835\n",
       "trump_neu_new    0.322146\n",
       "biden_pos_new    0.274957\n",
       "biden_neg_new    0.217636\n",
       "biden_neu_new    0.507407\n",
       "dtype: float64"
      ]
     },
     "execution_count": 11,
     "metadata": {},
     "output_type": "execute_result"
    }
   ],
   "source": [
    "L_news[['trump_pos_new', 'trump_neg_new', 'trump_neu_new', 'biden_pos_new', 'biden_neg_new', 'biden_neu_new']].mean()"
   ]
  },
  {
   "cell_type": "code",
   "execution_count": 12,
   "id": "e1d5b215-05af-4acc-a6d2-562f1daa4dc7",
   "metadata": {},
   "outputs": [
    {
     "data": {
      "text/plain": [
       "trump_pos_new    0.128275\n",
       "trump_neg_new    0.550279\n",
       "trump_neu_new    0.321447\n",
       "biden_pos_new    0.294181\n",
       "biden_neg_new    0.243145\n",
       "biden_neu_new    0.462674\n",
       "dtype: float64"
      ]
     },
     "execution_count": 12,
     "metadata": {},
     "output_type": "execute_result"
    }
   ],
   "source": [
    "C_news[['trump_pos_new', 'trump_neg_new', 'trump_neu_new', 'biden_pos_new', 'biden_neg_new', 'biden_neu_new']].mean()"
   ]
  },
  {
   "cell_type": "code",
   "execution_count": null,
   "id": "5be48d8e-662a-4332-ab36-4c231f80c1fb",
   "metadata": {},
   "outputs": [],
   "source": []
  },
  {
   "cell_type": "code",
   "execution_count": 13,
   "id": "8a776151-01d4-4bce-8e1b-dd8da95b8e0a",
   "metadata": {},
   "outputs": [
    {
     "data": {
      "text/plain": [
       "((4115, 49), (13107, 49), (7362, 49))"
      ]
     },
     "execution_count": 13,
     "metadata": {},
     "output_type": "execute_result"
    }
   ],
   "source": [
    "R_news_tweets.shape, L_news_tweets.shape, C_news_tweets.shape"
   ]
  },
  {
   "cell_type": "code",
   "execution_count": 14,
   "id": "191bddd7-520f-4437-9935-569b72f97223",
   "metadata": {},
   "outputs": [
    {
     "data": {
      "text/plain": [
       "(47,\n",
       " array(['covid', 'social_media', 'election', 'other', 'economy',\n",
       "        'internatinal', 'court', 'democrats', 'healthcare', 'climate',\n",
       "        'republican', 'security', 'immigration', 'floyd', 'capitol',\n",
       "        'hunter_biden', 'proud boys', 'first_lady', 'abortion',\n",
       "        'pres_debate'], dtype=object),\n",
       " 53,\n",
       " array(['american', 'white_house', 'republican', 'other', 'none',\n",
       "        'impeachment', 'covid', 'election', 'capitol', 'national',\n",
       "        'supreme_court', 'economy', 'democrats', 'international',\n",
       "        'healthcare', 'immigration', 'blm', 'newyork', 'media',\n",
       "        'conspiracy_theory'], dtype=object))"
      ]
     },
     "execution_count": 14,
     "metadata": {},
     "output_type": "execute_result"
    }
   ],
   "source": [
    "news.subtopic.nunique(), news.topics.unique(), news_tweets.subtopic.nunique(), news_tweets.topics.unique()"
   ]
  },
  {
   "cell_type": "markdown",
   "id": "f5ae12a2-14b0-4eda-bf80-ea1d27e6f608",
   "metadata": {},
   "source": [
    "### Topic-wise sentiment means"
   ]
  },
  {
   "cell_type": "code",
   "execution_count": 15,
   "id": "1e95ab07-8176-4e06-98b1-4d0e5034fac8",
   "metadata": {},
   "outputs": [
    {
     "name": "stderr",
     "output_type": "stream",
     "text": [
      "/tmp/ipykernel_1152109/3753601638.py:1: FutureWarning: The default value of numeric_only in DataFrameGroupBy.mean is deprecated. In a future version, numeric_only will default to False. Either specify numeric_only or select only columns which should be valid for the function.\n",
      "  df1 = R_news.groupby('topics').mean()\n"
     ]
    }
   ],
   "source": [
    "df1 = R_news.groupby('topics').mean()"
   ]
  },
  {
   "cell_type": "code",
   "execution_count": 16,
   "id": "4d99ac5b-e596-4fc2-ab50-73d3cdf97f8a",
   "metadata": {},
   "outputs": [
    {
     "name": "stderr",
     "output_type": "stream",
     "text": [
      "/tmp/ipykernel_1152109/1180168080.py:1: FutureWarning: The default value of numeric_only in DataFrameGroupBy.mean is deprecated. In a future version, numeric_only will default to False. Either specify numeric_only or select only columns which should be valid for the function.\n",
      "  df2 = L_news.groupby('topics').mean()\n"
     ]
    }
   ],
   "source": [
    "df2 = L_news.groupby('topics').mean()"
   ]
  },
  {
   "cell_type": "code",
   "execution_count": 17,
   "id": "c3ef27ec-994c-48b5-b6cb-bcffbd2e05e4",
   "metadata": {},
   "outputs": [
    {
     "name": "stderr",
     "output_type": "stream",
     "text": [
      "/tmp/ipykernel_1152109/3392689116.py:1: FutureWarning: The default value of numeric_only in DataFrameGroupBy.mean is deprecated. In a future version, numeric_only will default to False. Either specify numeric_only or select only columns which should be valid for the function.\n",
      "  df3 = C_news.groupby('topics').mean()\n"
     ]
    }
   ],
   "source": [
    "df3 = C_news.groupby('topics').mean()"
   ]
  },
  {
   "cell_type": "code",
   "execution_count": 18,
   "id": "f7c59dfe-fdb6-4391-a28b-a414ee6931e3",
   "metadata": {},
   "outputs": [
    {
     "data": {
      "text/plain": [
       "((20, 24), (20, 24), (20, 24))"
      ]
     },
     "execution_count": 18,
     "metadata": {},
     "output_type": "execute_result"
    }
   ],
   "source": [
    "df1.shape, df2.shape, df3.shape"
   ]
  },
  {
   "cell_type": "code",
   "execution_count": 19,
   "id": "2485c6db-c3c9-47ef-b4f5-c60ce54cafc8",
   "metadata": {},
   "outputs": [],
   "source": [
    "df1 = df1[['trump_pos_new', 'trump_neg_new', 'trump_neu_new', 'biden_pos_new', 'biden_neg_new', 'biden_neu_new']]\n",
    "df2 = df2[['trump_pos_new', 'trump_neg_new', 'trump_neu_new', 'biden_pos_new', 'biden_neg_new', 'biden_neu_new']]\n",
    "df3 = df3[['trump_pos_new', 'trump_neg_new', 'trump_neu_new', 'biden_pos_new', 'biden_neg_new', 'biden_neu_new']]"
   ]
  },
  {
   "cell_type": "code",
   "execution_count": 20,
   "id": "71b32374-5142-4339-af53-9b29511e9a52",
   "metadata": {},
   "outputs": [],
   "source": [
    "df1['trump_fav_score'] = df1.trump_pos_new/df1.trump_neg_new\n",
    "df2['trump_fav_score'] = df2.trump_pos_new/df2.trump_neg_new\n",
    "df3['trump_fav_score'] = df3.trump_pos_new/df3.trump_neg_new\n",
    "\n",
    "df1['biden_fav_score'] = df1.biden_pos_new/df1.biden_neg_new\n",
    "df2['biden_fav_score'] = df2.biden_pos_new/df2.biden_neg_new\n",
    "df3['biden_fav_score'] = df3.biden_pos_new/df3.biden_neg_new"
   ]
  },
  {
   "cell_type": "code",
   "execution_count": 21,
   "id": "2046a59b-16cb-4078-9784-929eaea31fd6",
   "metadata": {},
   "outputs": [
    {
     "data": {
      "text/plain": [
       "(Index(['abortion', 'capitol', 'climate', 'court', 'covid', 'democrats',\n",
       "        'economy', 'election', 'first_lady', 'floyd', 'healthcare',\n",
       "        'hunter_biden', 'immigration', 'internatinal', 'other', 'pres_debate',\n",
       "        'proud boys', 'republican', 'security', 'social_media'],\n",
       "       dtype='object', name='topics'),\n",
       " Index(['abortion', 'capitol', 'climate', 'court', 'covid', 'democrats',\n",
       "        'economy', 'election', 'first_lady', 'floyd', 'healthcare',\n",
       "        'hunter_biden', 'immigration', 'internatinal', 'other', 'pres_debate',\n",
       "        'proud boys', 'republican', 'security', 'social_media'],\n",
       "       dtype='object', name='topics'),\n",
       " Index(['abortion', 'capitol', 'climate', 'court', 'covid', 'democrats',\n",
       "        'economy', 'election', 'first_lady', 'floyd', 'healthcare',\n",
       "        'hunter_biden', 'immigration', 'internatinal', 'other', 'pres_debate',\n",
       "        'proud boys', 'republican', 'security', 'social_media'],\n",
       "       dtype='object', name='topics'))"
      ]
     },
     "execution_count": 21,
     "metadata": {},
     "output_type": "execute_result"
    }
   ],
   "source": [
    "df1.index.unique(), df2.index.unique(), df3.index.unique()"
   ]
  },
  {
   "cell_type": "code",
   "execution_count": 23,
   "id": "af7374dd-7380-4765-b23e-34a3fb8c5cac",
   "metadata": {},
   "outputs": [],
   "source": [
    "pd.concat((df1[['trump_fav_score', 'biden_fav_score']].rename(columns = {'trump_fav_score': 'trump_fav_score_R', 'biden_fav_score': 'biden_fav_score_R'}), \n",
    "           df2[['trump_fav_score', 'biden_fav_score']].rename(columns = {'trump_fav_score': 'trump_fav_score_L', 'biden_fav_score': 'biden_fav_score_L'}), \n",
    "           df3[['trump_fav_score', 'biden_fav_score']].rename(columns = {'trump_fav_score': 'trump_fav_score_C', 'biden_fav_score': 'biden_fav_score_C'})), axis = 1).to_csv('results/favorability_scores_news_headlines.csv')"
   ]
  },
  {
   "cell_type": "code",
   "execution_count": null,
   "id": "b39f91f1-8ff5-453b-9fa5-4cf427813462",
   "metadata": {},
   "outputs": [],
   "source": []
  },
  {
   "cell_type": "code",
   "execution_count": 24,
   "id": "26fcb4af-db96-4c9f-ba6e-ddec7c3d1e9e",
   "metadata": {},
   "outputs": [],
   "source": [
    "# df1.reset_index(drop=True).merge(df2.reset_index(drop=True), left_index=True, right_index=True)\n",
    "df1.to_csv('results/R_news_tweets_subtopic_based_mean_sentiments.csv')\n",
    "df2.to_csv('results/L_news_tweets_subtopic_based_mean_sentiments.csv')"
   ]
  },
  {
   "cell_type": "code",
   "execution_count": 25,
   "id": "bcf2d7e0-e3f3-4c38-9d55-aade2abbd340",
   "metadata": {},
   "outputs": [
    {
     "data": {
      "text/html": [
       "<div>\n",
       "<style scoped>\n",
       "    .dataframe tbody tr th:only-of-type {\n",
       "        vertical-align: middle;\n",
       "    }\n",
       "\n",
       "    .dataframe tbody tr th {\n",
       "        vertical-align: top;\n",
       "    }\n",
       "\n",
       "    .dataframe thead th {\n",
       "        text-align: right;\n",
       "    }\n",
       "</style>\n",
       "<table border=\"1\" class=\"dataframe\">\n",
       "  <thead>\n",
       "    <tr style=\"text-align: right;\">\n",
       "      <th></th>\n",
       "      <th>trump_pos_new</th>\n",
       "      <th>trump_neg_new</th>\n",
       "      <th>trump_neu_new</th>\n",
       "      <th>biden_pos_new</th>\n",
       "      <th>biden_neg_new</th>\n",
       "      <th>biden_neu_new</th>\n",
       "      <th>trump_fav_score</th>\n",
       "      <th>biden_fav_score</th>\n",
       "    </tr>\n",
       "    <tr>\n",
       "      <th>topics</th>\n",
       "      <th></th>\n",
       "      <th></th>\n",
       "      <th></th>\n",
       "      <th></th>\n",
       "      <th></th>\n",
       "      <th></th>\n",
       "      <th></th>\n",
       "      <th></th>\n",
       "    </tr>\n",
       "  </thead>\n",
       "  <tbody>\n",
       "    <tr>\n",
       "      <th>abortion</th>\n",
       "      <td>0.078996</td>\n",
       "      <td>0.636226</td>\n",
       "      <td>0.284779</td>\n",
       "      <td>0.379313</td>\n",
       "      <td>0.218090</td>\n",
       "      <td>0.402597</td>\n",
       "      <td>0.124163</td>\n",
       "      <td>1.739248</td>\n",
       "    </tr>\n",
       "    <tr>\n",
       "      <th>capitol</th>\n",
       "      <td>0.050790</td>\n",
       "      <td>0.745370</td>\n",
       "      <td>0.203840</td>\n",
       "      <td>0.215293</td>\n",
       "      <td>0.130617</td>\n",
       "      <td>0.654091</td>\n",
       "      <td>0.068141</td>\n",
       "      <td>1.648281</td>\n",
       "    </tr>\n",
       "    <tr>\n",
       "      <th>climate</th>\n",
       "      <td>0.160363</td>\n",
       "      <td>0.479995</td>\n",
       "      <td>0.359641</td>\n",
       "      <td>0.405006</td>\n",
       "      <td>0.205851</td>\n",
       "      <td>0.389143</td>\n",
       "      <td>0.334094</td>\n",
       "      <td>1.967471</td>\n",
       "    </tr>\n",
       "    <tr>\n",
       "      <th>court</th>\n",
       "      <td>0.118898</td>\n",
       "      <td>0.492988</td>\n",
       "      <td>0.388114</td>\n",
       "      <td>0.236043</td>\n",
       "      <td>0.195428</td>\n",
       "      <td>0.568529</td>\n",
       "      <td>0.241179</td>\n",
       "      <td>1.207824</td>\n",
       "    </tr>\n",
       "    <tr>\n",
       "      <th>covid</th>\n",
       "      <td>0.135867</td>\n",
       "      <td>0.543563</td>\n",
       "      <td>0.320569</td>\n",
       "      <td>0.257824</td>\n",
       "      <td>0.186267</td>\n",
       "      <td>0.555909</td>\n",
       "      <td>0.249957</td>\n",
       "      <td>1.384160</td>\n",
       "    </tr>\n",
       "    <tr>\n",
       "      <th>democrats</th>\n",
       "      <td>0.095377</td>\n",
       "      <td>0.622150</td>\n",
       "      <td>0.282474</td>\n",
       "      <td>0.295080</td>\n",
       "      <td>0.159275</td>\n",
       "      <td>0.545645</td>\n",
       "      <td>0.153301</td>\n",
       "      <td>1.852643</td>\n",
       "    </tr>\n",
       "    <tr>\n",
       "      <th>economy</th>\n",
       "      <td>0.147144</td>\n",
       "      <td>0.597935</td>\n",
       "      <td>0.254921</td>\n",
       "      <td>0.347618</td>\n",
       "      <td>0.256485</td>\n",
       "      <td>0.395897</td>\n",
       "      <td>0.246088</td>\n",
       "      <td>1.355313</td>\n",
       "    </tr>\n",
       "    <tr>\n",
       "      <th>election</th>\n",
       "      <td>0.103657</td>\n",
       "      <td>0.674238</td>\n",
       "      <td>0.222105</td>\n",
       "      <td>0.369275</td>\n",
       "      <td>0.237824</td>\n",
       "      <td>0.392901</td>\n",
       "      <td>0.153739</td>\n",
       "      <td>1.552725</td>\n",
       "    </tr>\n",
       "    <tr>\n",
       "      <th>first_lady</th>\n",
       "      <td>0.149317</td>\n",
       "      <td>0.421089</td>\n",
       "      <td>0.429594</td>\n",
       "      <td>0.311099</td>\n",
       "      <td>0.325345</td>\n",
       "      <td>0.363556</td>\n",
       "      <td>0.354596</td>\n",
       "      <td>0.956214</td>\n",
       "    </tr>\n",
       "    <tr>\n",
       "      <th>floyd</th>\n",
       "      <td>0.122503</td>\n",
       "      <td>0.570655</td>\n",
       "      <td>0.306843</td>\n",
       "      <td>0.212490</td>\n",
       "      <td>0.289362</td>\n",
       "      <td>0.498148</td>\n",
       "      <td>0.214670</td>\n",
       "      <td>0.734338</td>\n",
       "    </tr>\n",
       "    <tr>\n",
       "      <th>healthcare</th>\n",
       "      <td>0.236004</td>\n",
       "      <td>0.507444</td>\n",
       "      <td>0.256553</td>\n",
       "      <td>0.239277</td>\n",
       "      <td>0.276928</td>\n",
       "      <td>0.483794</td>\n",
       "      <td>0.465083</td>\n",
       "      <td>0.864041</td>\n",
       "    </tr>\n",
       "    <tr>\n",
       "      <th>hunter_biden</th>\n",
       "      <td>0.038474</td>\n",
       "      <td>0.634128</td>\n",
       "      <td>0.327398</td>\n",
       "      <td>0.031462</td>\n",
       "      <td>0.514006</td>\n",
       "      <td>0.454533</td>\n",
       "      <td>0.060672</td>\n",
       "      <td>0.061209</td>\n",
       "    </tr>\n",
       "    <tr>\n",
       "      <th>immigration</th>\n",
       "      <td>0.088850</td>\n",
       "      <td>0.522689</td>\n",
       "      <td>0.388461</td>\n",
       "      <td>0.295856</td>\n",
       "      <td>0.214208</td>\n",
       "      <td>0.489936</td>\n",
       "      <td>0.169987</td>\n",
       "      <td>1.381161</td>\n",
       "    </tr>\n",
       "    <tr>\n",
       "      <th>internatinal</th>\n",
       "      <td>0.100495</td>\n",
       "      <td>0.560646</td>\n",
       "      <td>0.338858</td>\n",
       "      <td>0.243076</td>\n",
       "      <td>0.253035</td>\n",
       "      <td>0.503889</td>\n",
       "      <td>0.179249</td>\n",
       "      <td>0.960641</td>\n",
       "    </tr>\n",
       "    <tr>\n",
       "      <th>other</th>\n",
       "      <td>0.098163</td>\n",
       "      <td>0.499663</td>\n",
       "      <td>0.402173</td>\n",
       "      <td>0.235776</td>\n",
       "      <td>0.200805</td>\n",
       "      <td>0.563419</td>\n",
       "      <td>0.196459</td>\n",
       "      <td>1.174157</td>\n",
       "    </tr>\n",
       "    <tr>\n",
       "      <th>pres_debate</th>\n",
       "      <td>0.111483</td>\n",
       "      <td>0.508990</td>\n",
       "      <td>0.379527</td>\n",
       "      <td>0.184179</td>\n",
       "      <td>0.199876</td>\n",
       "      <td>0.615946</td>\n",
       "      <td>0.219027</td>\n",
       "      <td>0.921465</td>\n",
       "    </tr>\n",
       "    <tr>\n",
       "      <th>proud boys</th>\n",
       "      <td>0.121275</td>\n",
       "      <td>0.742795</td>\n",
       "      <td>0.135930</td>\n",
       "      <td>0.199724</td>\n",
       "      <td>0.521818</td>\n",
       "      <td>0.278457</td>\n",
       "      <td>0.163269</td>\n",
       "      <td>0.382747</td>\n",
       "    </tr>\n",
       "    <tr>\n",
       "      <th>republican</th>\n",
       "      <td>0.163764</td>\n",
       "      <td>0.481416</td>\n",
       "      <td>0.354819</td>\n",
       "      <td>0.304845</td>\n",
       "      <td>0.206708</td>\n",
       "      <td>0.488447</td>\n",
       "      <td>0.340172</td>\n",
       "      <td>1.474762</td>\n",
       "    </tr>\n",
       "    <tr>\n",
       "      <th>security</th>\n",
       "      <td>0.072233</td>\n",
       "      <td>0.630159</td>\n",
       "      <td>0.297608</td>\n",
       "      <td>0.159426</td>\n",
       "      <td>0.240527</td>\n",
       "      <td>0.600047</td>\n",
       "      <td>0.114627</td>\n",
       "      <td>0.662821</td>\n",
       "    </tr>\n",
       "    <tr>\n",
       "      <th>social_media</th>\n",
       "      <td>0.066030</td>\n",
       "      <td>0.683012</td>\n",
       "      <td>0.250958</td>\n",
       "      <td>0.207620</td>\n",
       "      <td>0.341497</td>\n",
       "      <td>0.450883</td>\n",
       "      <td>0.096675</td>\n",
       "      <td>0.607970</td>\n",
       "    </tr>\n",
       "  </tbody>\n",
       "</table>\n",
       "</div>"
      ],
      "text/plain": [
       "              trump_pos_new  trump_neg_new  trump_neu_new  biden_pos_new  \\\n",
       "topics                                                                     \n",
       "abortion           0.078996       0.636226       0.284779       0.379313   \n",
       "capitol            0.050790       0.745370       0.203840       0.215293   \n",
       "climate            0.160363       0.479995       0.359641       0.405006   \n",
       "court              0.118898       0.492988       0.388114       0.236043   \n",
       "covid              0.135867       0.543563       0.320569       0.257824   \n",
       "democrats          0.095377       0.622150       0.282474       0.295080   \n",
       "economy            0.147144       0.597935       0.254921       0.347618   \n",
       "election           0.103657       0.674238       0.222105       0.369275   \n",
       "first_lady         0.149317       0.421089       0.429594       0.311099   \n",
       "floyd              0.122503       0.570655       0.306843       0.212490   \n",
       "healthcare         0.236004       0.507444       0.256553       0.239277   \n",
       "hunter_biden       0.038474       0.634128       0.327398       0.031462   \n",
       "immigration        0.088850       0.522689       0.388461       0.295856   \n",
       "internatinal       0.100495       0.560646       0.338858       0.243076   \n",
       "other              0.098163       0.499663       0.402173       0.235776   \n",
       "pres_debate        0.111483       0.508990       0.379527       0.184179   \n",
       "proud boys         0.121275       0.742795       0.135930       0.199724   \n",
       "republican         0.163764       0.481416       0.354819       0.304845   \n",
       "security           0.072233       0.630159       0.297608       0.159426   \n",
       "social_media       0.066030       0.683012       0.250958       0.207620   \n",
       "\n",
       "              biden_neg_new  biden_neu_new  trump_fav_score  biden_fav_score  \n",
       "topics                                                                        \n",
       "abortion           0.218090       0.402597         0.124163         1.739248  \n",
       "capitol            0.130617       0.654091         0.068141         1.648281  \n",
       "climate            0.205851       0.389143         0.334094         1.967471  \n",
       "court              0.195428       0.568529         0.241179         1.207824  \n",
       "covid              0.186267       0.555909         0.249957         1.384160  \n",
       "democrats          0.159275       0.545645         0.153301         1.852643  \n",
       "economy            0.256485       0.395897         0.246088         1.355313  \n",
       "election           0.237824       0.392901         0.153739         1.552725  \n",
       "first_lady         0.325345       0.363556         0.354596         0.956214  \n",
       "floyd              0.289362       0.498148         0.214670         0.734338  \n",
       "healthcare         0.276928       0.483794         0.465083         0.864041  \n",
       "hunter_biden       0.514006       0.454533         0.060672         0.061209  \n",
       "immigration        0.214208       0.489936         0.169987         1.381161  \n",
       "internatinal       0.253035       0.503889         0.179249         0.960641  \n",
       "other              0.200805       0.563419         0.196459         1.174157  \n",
       "pres_debate        0.199876       0.615946         0.219027         0.921465  \n",
       "proud boys         0.521818       0.278457         0.163269         0.382747  \n",
       "republican         0.206708       0.488447         0.340172         1.474762  \n",
       "security           0.240527       0.600047         0.114627         0.662821  \n",
       "social_media       0.341497       0.450883         0.096675         0.607970  "
      ]
     },
     "execution_count": 25,
     "metadata": {},
     "output_type": "execute_result"
    }
   ],
   "source": [
    "df2"
   ]
  },
  {
   "cell_type": "code",
   "execution_count": 26,
   "id": "552ad7f7-4686-495f-92f9-3e45d2447e0e",
   "metadata": {},
   "outputs": [],
   "source": [
    "# df1.reset_index(drop=True).merge(df2.reset_index(drop=True), left_index=True, right_index=True)\n",
    "df1.to_csv('results/R_news_tweets_subtopic_based_mean_sentiments.csv')\n",
    "df2.to_csv('results/L_news_tweets_subtopic_based_mean_sentiments.csv')"
   ]
  },
  {
   "cell_type": "code",
   "execution_count": null,
   "id": "bd7b7e5a-0eb1-4f3c-b1b7-77efb2d2781f",
   "metadata": {},
   "outputs": [],
   "source": []
  },
  {
   "cell_type": "markdown",
   "id": "ab94ffd8-7d4e-4b3c-90a1-adca58bb9a3c",
   "metadata": {},
   "source": [
    "### Publisher-wise Trump vs Biden"
   ]
  },
  {
   "cell_type": "code",
   "execution_count": 27,
   "id": "d170be95-842d-4bb0-af66-032a399c9b98",
   "metadata": {},
   "outputs": [
    {
     "data": {
      "text/plain": [
       "Fox News               8327\n",
       "Breitbart News         7377\n",
       "CNN                    6485\n",
       "Business Insider       4803\n",
       "The Washington Post    4678\n",
       "USA Today              4216\n",
       "Name: publication, dtype: int64"
      ]
     },
     "execution_count": 27,
     "metadata": {},
     "output_type": "execute_result"
    }
   ],
   "source": [
    "news.publication.value_counts()"
   ]
  },
  {
   "cell_type": "code",
   "execution_count": 28,
   "id": "2827e6f6-29d7-4212-a046-491aa0e9accd",
   "metadata": {},
   "outputs": [
    {
     "name": "stderr",
     "output_type": "stream",
     "text": [
      "/tmp/ipykernel_1152109/3957141388.py:1: FutureWarning: The default value of numeric_only in DataFrameGroupBy.mean is deprecated. In a future version, numeric_only will default to False. Either specify numeric_only or select only columns which should be valid for the function.\n",
      "  pubwise_news_mean = news.groupby('publication').mean()\n"
     ]
    }
   ],
   "source": [
    "pubwise_news_mean = news.groupby('publication').mean()"
   ]
  },
  {
   "cell_type": "code",
   "execution_count": 30,
   "id": "1f4a3bba-7c69-45a1-873b-218d3f30d09d",
   "metadata": {},
   "outputs": [],
   "source": [
    "pubwise_news_mean[['topic_ids', 'trump_pos_new', 'trump_neg_new', 'trump_neu_new', 'biden_pos_new', 'biden_neg_new', 'biden_neu_new']].to_csv('results/Trump-vs-Biden_news_tweets.csv')"
   ]
  }
 ],
 "metadata": {
  "kernelspec": {
   "display_name": "py3_10",
   "language": "python",
   "name": "py3_10"
  },
  "language_info": {
   "codemirror_mode": {
    "name": "ipython",
    "version": 3
   },
   "file_extension": ".py",
   "mimetype": "text/x-python",
   "name": "python",
   "nbconvert_exporter": "python",
   "pygments_lexer": "ipython3",
   "version": "3.10.6"
  }
 },
 "nbformat": 4,
 "nbformat_minor": 5
}
