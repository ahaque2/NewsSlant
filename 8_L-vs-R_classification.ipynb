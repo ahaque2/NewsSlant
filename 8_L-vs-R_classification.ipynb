{
 "cells": [
  {
   "cell_type": "code",
   "execution_count": 6,
   "id": "75f3ad91-3888-4378-bc15-fde030e15da1",
   "metadata": {},
   "outputs": [],
   "source": [
    "import pandas as pd\n",
    "import numpy as np\n",
    "import sys"
   ]
  },
  {
   "cell_type": "code",
   "execution_count": 7,
   "id": "ee74ad79-3e85-4f7d-962e-8e2519ae41f5",
   "metadata": {},
   "outputs": [],
   "source": [
    "data = pd.read_csv('datasets/L-vs-R-news_labeled.csv')"
   ]
  },
  {
   "cell_type": "code",
   "execution_count": 8,
   "id": "8cdb7c5c-2094-4dd4-92c6-b1a98859df64",
   "metadata": {},
   "outputs": [
    {
     "data": {
      "text/plain": [
       "Index(['Unnamed: 0', 'right', 'left', 'sim', 'label'], dtype='object')"
      ]
     },
     "execution_count": 8,
     "metadata": {},
     "output_type": "execute_result"
    }
   ],
   "source": [
    "data.columns"
   ]
  },
  {
   "cell_type": "markdown",
   "id": "6567e397-1561-4ac1-80d2-dcbc5d781538",
   "metadata": {},
   "source": [
    "### Traditional Approach"
   ]
  },
  {
   "cell_type": "code",
   "execution_count": 9,
   "id": "aef72ecf-ec23-4ff6-9b92-f8b64d9b2108",
   "metadata": {},
   "outputs": [
    {
     "name": "stderr",
     "output_type": "stream",
     "text": [
      "/home/ahaque2/venv/py3_7/lib/python3.7/site-packages/tqdm/auto.py:22: TqdmWarning: IProgress not found. Please update jupyter and ipywidgets. See https://ipywidgets.readthedocs.io/en/stable/user_install.html\n",
      "  from .autonotebook import tqdm as notebook_tqdm\n"
     ]
    },
    {
     "data": {
      "text/plain": [
       "SentenceTransformer(\n",
       "  (0): Transformer({'max_seq_length': 128, 'do_lower_case': False}) with Transformer model: BertModel \n",
       "  (1): Pooling({'word_embedding_dimension': 384, 'pooling_mode_cls_token': False, 'pooling_mode_mean_tokens': True, 'pooling_mode_max_tokens': False, 'pooling_mode_mean_sqrt_len_tokens': False})\n",
       ")"
      ]
     },
     "execution_count": 9,
     "metadata": {},
     "output_type": "execute_result"
    }
   ],
   "source": [
    "import torch\n",
    "from sentence_transformers import SentenceTransformer\n",
    "\n",
    "device = torch.device('cuda') if torch.cuda.is_available() else torch.device('cpu')\n",
    "model_sent = SentenceTransformer('paraphrase-MiniLM-L6-v2')\n",
    "model_sent.to(device)"
   ]
  },
  {
   "cell_type": "code",
   "execution_count": 10,
   "id": "bda95e3f-05fa-4038-988a-f1d9d9bb7ae3",
   "metadata": {},
   "outputs": [
    {
     "data": {
      "text/plain": [
       "(3811, 384)"
      ]
     },
     "execution_count": 10,
     "metadata": {},
     "output_type": "execute_result"
    }
   ],
   "source": [
    "embedding_r = model_sent.encode(data.right)\n",
    "embedding_r.shape"
   ]
  },
  {
   "cell_type": "code",
   "execution_count": 11,
   "id": "5de3be7e-d605-42e3-ab14-755920016cf3",
   "metadata": {},
   "outputs": [
    {
     "data": {
      "text/plain": [
       "(3811, 384)"
      ]
     },
     "execution_count": 11,
     "metadata": {},
     "output_type": "execute_result"
    }
   ],
   "source": [
    "embedding_l = model_sent.encode(data.left)\n",
    "embedding_l.shape"
   ]
  },
  {
   "cell_type": "code",
   "execution_count": 12,
   "id": "007cc6bd-0a9d-4da8-b565-9a1e0424f545",
   "metadata": {},
   "outputs": [],
   "source": [
    "embeddings = np.concatenate((embedding_r, embedding_l), axis = 1)"
   ]
  },
  {
   "cell_type": "code",
   "execution_count": 13,
   "id": "0fdd87d6-baa6-4c58-b579-9437d28d7955",
   "metadata": {},
   "outputs": [
    {
     "data": {
      "text/plain": [
       "(3811, 768)"
      ]
     },
     "execution_count": 13,
     "metadata": {},
     "output_type": "execute_result"
    }
   ],
   "source": [
    "embeddings.shape"
   ]
  },
  {
   "cell_type": "code",
   "execution_count": 18,
   "id": "f9a55955-013e-4c6f-b9d2-649a3182ad6f",
   "metadata": {},
   "outputs": [],
   "source": [
    "from sklearn.model_selection import train_test_split\n",
    "y = data['label']\n",
    "X_train, X_test, y_train, y_test = train_test_split(embeddings, y,\n",
    "                                                    stratify=y, \n",
    "                                                    test_size=0.25)"
   ]
  },
  {
   "cell_type": "code",
   "execution_count": 19,
   "id": "e523adc1-a223-4bd5-a4ef-5ecc5fa1ddb6",
   "metadata": {},
   "outputs": [],
   "source": [
    "#Import svm model\n",
    "from sklearn import svm\n",
    "\n",
    "#Create a svm Classifier\n",
    "clf = svm.SVC(kernel='linear') # Linear Kernel\n",
    "\n",
    "#Train the model using the training sets\n",
    "clf.fit(X_train, y_train)\n",
    "\n",
    "#Predict the response for test dataset\n",
    "y_pred = clf.predict(X_test)"
   ]
  },
  {
   "cell_type": "code",
   "execution_count": 20,
   "id": "1954aa0c-906e-4b38-b21c-fad1a51366d1",
   "metadata": {},
   "outputs": [
    {
     "name": "stdout",
     "output_type": "stream",
     "text": [
      "Accuracy: 0.8269\n",
      "Precision: 0.8193\n",
      "Recall: 0.8382\n"
     ]
    }
   ],
   "source": [
    "from sklearn import metrics\n",
    "\n",
    "print(\"Accuracy:\", round(metrics.accuracy_score(y_test, y_pred), 4))\n",
    "print(\"Precision:\", round(metrics.precision_score(y_test, y_pred), 4))\n",
    "print(\"Recall:\", round(metrics.recall_score(y_test, y_pred), 4))"
   ]
  },
  {
   "cell_type": "code",
   "execution_count": null,
   "id": "93789978-ffc3-4f5e-b9b5-ba6ffbad5222",
   "metadata": {},
   "outputs": [],
   "source": []
  },
  {
   "cell_type": "code",
   "execution_count": null,
   "id": "d3000a3c-b672-4a0e-96f1-441e1b393a46",
   "metadata": {},
   "outputs": [],
   "source": []
  }
 ],
 "metadata": {
  "kernelspec": {
   "display_name": "py3_7",
   "language": "python",
   "name": "py3_7"
  },
  "language_info": {
   "codemirror_mode": {
    "name": "ipython",
    "version": 3
   },
   "file_extension": ".py",
   "mimetype": "text/x-python",
   "name": "python",
   "nbconvert_exporter": "python",
   "pygments_lexer": "ipython3",
   "version": "3.7.15"
  }
 },
 "nbformat": 4,
 "nbformat_minor": 5
}
