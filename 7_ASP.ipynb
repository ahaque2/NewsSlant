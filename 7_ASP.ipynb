{
 "cells": [
  {
   "cell_type": "code",
   "execution_count": 9,
   "id": "c7862a95-82a2-43f4-945c-427bf2277bc5",
   "metadata": {},
   "outputs": [],
   "source": [
    "import pandas as pd"
   ]
  },
  {
   "cell_type": "code",
   "execution_count": 1,
   "id": "94f2b770-6108-47f1-8673-f77267645b07",
   "metadata": {},
   "outputs": [
    {
     "name": "stderr",
     "output_type": "stream",
     "text": [
      "/home/ahaque2/venv/py3_7/lib/python3.7/site-packages/tqdm/auto.py:22: TqdmWarning: IProgress not found. Please update jupyter and ipywidgets. See https://ipywidgets.readthedocs.io/en/stable/user_install.html\n",
      "  from .autonotebook import tqdm as notebook_tqdm\n"
     ]
    }
   ],
   "source": [
    "import torch"
   ]
  },
  {
   "cell_type": "code",
   "execution_count": 10,
   "id": "c7b9a929-7a55-4bf1-a9db-474274973f1a",
   "metadata": {},
   "outputs": [],
   "source": [
    "news = pd.read_csv('results/news.csv')\n",
    "news_tweets = pd.read_csv('results/news_tweets.csv')\n",
    "# user_resp = pd.read_csv('results/user_response.csv')"
   ]
  },
  {
   "cell_type": "code",
   "execution_count": 13,
   "id": "42cec043-57df-425d-b5c9-5d47cc1fc2d1",
   "metadata": {},
   "outputs": [
    {
     "data": {
      "text/plain": [
       "0    President Donald Trump reacted to the news on ...\n",
       "1    President Donald Trump signed an executive ord...\n",
       "2    President Donald Trump signaled on Sunday nigh...\n",
       "3    A Florida man with coronavirus claims an anti-...\n",
       "4    During a statement on Monday, 2020 Democratic ...\n",
       "5    CNNs Jake Tapper is admitting he knew Rep. Ale...\n",
       "6    President Donald Trump did something difficult...\n",
       "7    President Donald Trump jokingly distanced hims...\n",
       "8    In the final analysis, mortality rates for cor...\n",
       "9    Joe Bidens new foray into regular video update...\n",
       "Name: text, dtype: object"
      ]
     },
     "execution_count": 13,
     "metadata": {},
     "output_type": "execute_result"
    }
   ],
   "source": [
    "news.text.iloc[0:10]"
   ]
  },
  {
   "cell_type": "code",
   "execution_count": 2,
   "id": "c0ac16ac-7dcf-4165-90eb-e492d993163a",
   "metadata": {},
   "outputs": [],
   "source": [
    "from transformers import BertTokenizer, BertModel"
   ]
  },
  {
   "cell_type": "code",
   "execution_count": 3,
   "id": "25d3de80-2bca-4cba-bf38-72bf47d93527",
   "metadata": {},
   "outputs": [],
   "source": [
    "device = torch.device('cuda') if torch.cuda.is_available() else torch.device('cpu')\n",
    "\n",
    "#model = DistilBertForSequenceClassification.from_pretrained('distilbert-base-uncased'"
   ]
  },
  {
   "cell_type": "code",
   "execution_count": 5,
   "id": "2bfc13e3-7926-4579-b355-95c70ee33ef9",
   "metadata": {},
   "outputs": [
    {
     "name": "stderr",
     "output_type": "stream",
     "text": [
      "Some weights of the model checkpoint at bert-base-uncased were not used when initializing BertModel: ['cls.seq_relationship.weight', 'cls.predictions.transform.dense.bias', 'cls.predictions.bias', 'cls.predictions.transform.LayerNorm.weight', 'cls.predictions.transform.LayerNorm.bias', 'cls.seq_relationship.bias', 'cls.predictions.decoder.weight', 'cls.predictions.transform.dense.weight']\n",
      "- This IS expected if you are initializing BertModel from the checkpoint of a model trained on another task or with another architecture (e.g. initializing a BertForSequenceClassification model from a BertForPreTraining model).\n",
      "- This IS NOT expected if you are initializing BertModel from the checkpoint of a model that you expect to be exactly identical (initializing a BertForSequenceClassification model from a BertForSequenceClassification model).\n"
     ]
    }
   ],
   "source": [
    "tokenizer = BertTokenizer.from_pretrained('bert-base-uncased')\n",
    "model = BertModel.from_pretrained('bert-base-uncased')\n",
    "model.to(device)\n",
    "input_ids = torch.tensor(tokenizer.encode(\"Hello, my dog is cute\")).to(device).unsqueeze(0)  # Batch size 1\n",
    "outputs = model(input_ids)\n",
    "last_hidden_states = outputs[0]  # The last hidden-state is the first element of the output tuple"
   ]
  },
  {
   "cell_type": "code",
   "execution_count": 7,
   "id": "02381f39-6373-4766-8707-5ba6595f4465",
   "metadata": {},
   "outputs": [
    {
     "data": {
      "text/plain": [
       "torch.Size([1, 8, 768])"
      ]
     },
     "execution_count": 7,
     "metadata": {},
     "output_type": "execute_result"
    }
   ],
   "source": [
    "last_hidden_states.shape"
   ]
  },
  {
   "cell_type": "code",
   "execution_count": 30,
   "id": "099421fc-bab6-4600-b45d-a42cce620573",
   "metadata": {},
   "outputs": [],
   "source": []
  },
  {
   "cell_type": "code",
   "execution_count": 33,
   "id": "dfbefdcc-15f4-40f1-b324-c954c4a383e8",
   "metadata": {},
   "outputs": [
    {
     "data": {
      "text/plain": [
       "(10, 384)"
      ]
     },
     "execution_count": 33,
     "metadata": {},
     "output_type": "execute_result"
    }
   ],
   "source": [
    "# #Sentences we want to encode. Example:\n",
    "\n",
    "# from sentence_transformers import SentenceTransformer\n",
    "# model_sent = SentenceTransformer('paraphrase-MiniLM-L6-v2')\n",
    "\n",
    "# #Sentences are encoded by calling model.encode()\n",
    "# embedding = model.encode(news.text.iloc[0:10])\n",
    "# embedding.shape"
   ]
  },
  {
   "cell_type": "code",
   "execution_count": null,
   "id": "35fb0b5a-7dc1-43ed-a5ca-25fe998e6f6c",
   "metadata": {},
   "outputs": [],
   "source": []
  },
  {
   "cell_type": "code",
   "execution_count": 19,
   "id": "127f1889-4163-438f-8c09-719bcd2f9b41",
   "metadata": {},
   "outputs": [
    {
     "data": {
      "text/plain": [
       "173"
      ]
     },
     "execution_count": 19,
     "metadata": {},
     "output_type": "execute_result"
    }
   ],
   "source": [
    "len(tokenizer.encode(news.text.iloc[0]))"
   ]
  },
  {
   "cell_type": "code",
   "execution_count": 28,
   "id": "571fad4a-5e5d-4fb0-966a-74275012e456",
   "metadata": {},
   "outputs": [
    {
     "data": {
      "text/plain": [
       "torch.Size([1, 173, 768])"
      ]
     },
     "execution_count": 28,
     "metadata": {},
     "output_type": "execute_result"
    }
   ],
   "source": [
    "model(torch.tensor(tokenizer.encode(news.text.iloc[0])).to(device).unsqueeze(0))['last_hidden_state'].shape"
   ]
  },
  {
   "cell_type": "code",
   "execution_count": null,
   "id": "61e952cb-c139-4d28-af02-b4c8c6308b2c",
   "metadata": {},
   "outputs": [],
   "source": []
  }
 ],
 "metadata": {
  "kernelspec": {
   "display_name": "py3_7",
   "language": "python",
   "name": "py3_7"
  },
  "language_info": {
   "codemirror_mode": {
    "name": "ipython",
    "version": 3
   },
   "file_extension": ".py",
   "mimetype": "text/x-python",
   "name": "python",
   "nbconvert_exporter": "python",
   "pygments_lexer": "ipython3",
   "version": "3.7.15"
  }
 },
 "nbformat": 4,
 "nbformat_minor": 5
}
