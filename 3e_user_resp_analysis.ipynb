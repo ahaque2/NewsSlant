{
 "cells": [
  {
   "cell_type": "code",
   "execution_count": 1,
   "id": "370152f9-8d76-424e-95fa-96b648c67b65",
   "metadata": {},
   "outputs": [],
   "source": [
    "import pandas as pd\n",
    "import numpy as np\n",
    "import sys"
   ]
  },
  {
   "cell_type": "code",
   "execution_count": null,
   "id": "16914f53-6166-4a9c-abdd-a465b6ab32f7",
   "metadata": {},
   "outputs": [],
   "source": []
  },
  {
   "cell_type": "code",
   "execution_count": 3,
   "id": "0275d032-cfdf-49a1-a150-15b4dffaaaf1",
   "metadata": {},
   "outputs": [
    {
     "name": "stderr",
     "output_type": "stream",
     "text": [
      "/home/ahaque2/venv/py3_7/lib/python3.7/site-packages/IPython/core/interactiveshell.py:3553: DtypeWarning: Columns (1,8,9,10,15,16,17,19,36,37,39,46,47,58,59,60) have mixed types.Specify dtype option on import or set low_memory=False.\n",
      "  exec(code_obj, self.user_global_ns, self.user_ns)\n"
     ]
    }
   ],
   "source": [
    "news = pd.read_csv('results/news.csv')\n",
    "news_tweets = pd.read_csv('results/news_tweets.csv')\n",
    "user_resp_new = pd.read_csv('results/user_resp.csv')"
   ]
  },
  {
   "cell_type": "code",
   "execution_count": 2,
   "id": "e0d92c59-0b39-405a-99c5-4002cc199214",
   "metadata": {},
   "outputs": [],
   "source": [
    "user_resp = pd.read_parquet('results_old/user_resp_newslant_with_senti.parquet')"
   ]
  },
  {
   "cell_type": "code",
   "execution_count": 4,
   "id": "dc35dfa8-e7a4-4074-995e-0d58e8cad6cf",
   "metadata": {},
   "outputs": [
    {
     "data": {
      "text/plain": [
       "((5178156, 46), (4039614, 62))"
      ]
     },
     "execution_count": 4,
     "metadata": {},
     "output_type": "execute_result"
    }
   ],
   "source": [
    "user_resp.shape, user_resp_new.shape"
   ]
  },
  {
   "cell_type": "code",
   "execution_count": 5,
   "id": "36d7e0d8-65ea-4003-9d45-52431a2b12ff",
   "metadata": {},
   "outputs": [],
   "source": [
    "f_user_resp = user_resp[user_resp.conversation_id.isin(news_tweets.conversation_id)]"
   ]
  },
  {
   "cell_type": "code",
   "execution_count": 20,
   "id": "0fab377b-5a23-4d81-adeb-7a5138cd4a3a",
   "metadata": {},
   "outputs": [
    {
     "data": {
      "text/plain": [
       "(4039614, 46)"
      ]
     },
     "execution_count": 20,
     "metadata": {},
     "output_type": "execute_result"
    }
   ],
   "source": [
    "f_user_resp.shape"
   ]
  },
  {
   "cell_type": "code",
   "execution_count": 12,
   "id": "b06b50c4-8369-4894-ba00-f0055ca9ea9d",
   "metadata": {},
   "outputs": [
    {
     "data": {
      "text/plain": [
       "(4039614, 46)"
      ]
     },
     "execution_count": 12,
     "metadata": {},
     "output_type": "execute_result"
    }
   ],
   "source": [
    "f_user_resp.shape"
   ]
  },
  {
   "cell_type": "code",
   "execution_count": 18,
   "id": "3a017b72-7cd3-472e-9d7a-2d136491eb62",
   "metadata": {},
   "outputs": [
    {
     "data": {
      "text/plain": [
       "(4039614, 62)"
      ]
     },
     "execution_count": 18,
     "metadata": {},
     "output_type": "execute_result"
    }
   ],
   "source": [
    "user_resp_new.shape"
   ]
  },
  {
   "cell_type": "code",
   "execution_count": 22,
   "id": "48356b2a-8346-4002-a2d8-0300c7b252b6",
   "metadata": {},
   "outputs": [
    {
     "data": {
      "text/plain": [
       "Index(['tweet_id', 'conversation_id', 'author_id_x', 'created_at_x', 'geo_x',\n",
       "       'lang_x', 'like_count_x', 'quote_count_x', 'reply_count_x',\n",
       "       'retweet_count_x', 'source_x', 'text_x', 'anger', 'joy', 'optimism',\n",
       "       'sadness', 'tweet_id_y', 'author_id_y', 'created_at_y', 'geo_y',\n",
       "       'lang_y', 'like_count_y', 'quote_count_y', 'reply_count_y',\n",
       "       'retweet_count_y', 'source_y', 'text_y', 'publication', 'topics',\n",
       "       'topic_labels', 'theme', 'vad_pos_senti', 'vad_neu_senti',\n",
       "       'vad_neg_senti', 'trump_neg', 'trump_neu', 'trump_pos', 'biden_neg',\n",
       "       'biden_neu', 'biden_pos', 'trump_flag', 'biden_flag', 'tweet_freq_y',\n",
       "       'neg_senti', 'neu_senti', 'pos_senti'],\n",
       "      dtype='object')"
      ]
     },
     "execution_count": 22,
     "metadata": {},
     "output_type": "execute_result"
    }
   ],
   "source": [
    "user_resp.columns"
   ]
  },
  {
   "cell_type": "code",
   "execution_count": 21,
   "id": "32d5a343-43cd-4735-9618-0b0da9f1bf5b",
   "metadata": {},
   "outputs": [
    {
     "data": {
      "text/plain": [
       "(4039614, 6)"
      ]
     },
     "execution_count": 21,
     "metadata": {},
     "output_type": "execute_result"
    }
   ],
   "source": [
    "user_resp_new[['trump_pos_new', 'trump_neg_new', 'trump_neu_new', 'biden_pos_new', 'biden_neg_new', 'biden_neu_new']].shape"
   ]
  },
  {
   "cell_type": "code",
   "execution_count": null,
   "id": "44eadc26-ae9d-43b2-a61a-0153fa566ca0",
   "metadata": {},
   "outputs": [],
   "source": []
  }
 ],
 "metadata": {
  "kernelspec": {
   "display_name": "py3_7",
   "language": "python",
   "name": "py3_7"
  },
  "language_info": {
   "codemirror_mode": {
    "name": "ipython",
    "version": 3
   },
   "file_extension": ".py",
   "mimetype": "text/x-python",
   "name": "python",
   "nbconvert_exporter": "python",
   "pygments_lexer": "ipython3",
   "version": "3.7.15"
  }
 },
 "nbformat": 4,
 "nbformat_minor": 5
}
