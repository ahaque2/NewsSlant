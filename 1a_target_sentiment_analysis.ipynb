{
 "cells": [
  {
   "cell_type": "code",
   "execution_count": 164,
   "id": "9964552b-62e2-4c5d-8033-44366e428765",
   "metadata": {},
   "outputs": [],
   "source": [
    "import pandas as pd\n",
    "import sys"
   ]
  },
  {
   "cell_type": "code",
   "execution_count": 166,
   "id": "779c0ae9-a38e-47b9-a264-cee7b3579903",
   "metadata": {},
   "outputs": [],
   "source": [
    "# news = pd.read_csv('results/news.csv')\n",
    "news_tweets = pd.read_csv('results/older_sentiment/news_tweets.csv')\n",
    "# user_resp = pd.read_csv('results/user_response.csv')"
   ]
  },
  {
   "cell_type": "code",
   "execution_count": 3,
   "id": "1e23f024-251a-49b6-b882-7a513993eb7f",
   "metadata": {},
   "outputs": [],
   "source": [
    "i = 1"
   ]
  },
  {
   "cell_type": "code",
   "execution_count": 167,
   "id": "3f0bb873-1d29-41f6-906b-6d50b367132e",
   "metadata": {},
   "outputs": [
    {
     "data": {
      "text/plain": [
       "(34790, 36)"
      ]
     },
     "execution_count": 167,
     "metadata": {},
     "output_type": "execute_result"
    }
   ],
   "source": [
    "news_tweets.shape"
   ]
  },
  {
   "cell_type": "code",
   "execution_count": 12,
   "id": "75af4515-9579-4740-a85c-e8ded1aac3b3",
   "metadata": {},
   "outputs": [
    {
     "data": {
      "text/html": [
       "<div>\n",
       "<style scoped>\n",
       "    .dataframe tbody tr th:only-of-type {\n",
       "        vertical-align: middle;\n",
       "    }\n",
       "\n",
       "    .dataframe tbody tr th {\n",
       "        vertical-align: top;\n",
       "    }\n",
       "\n",
       "    .dataframe thead th {\n",
       "        text-align: right;\n",
       "    }\n",
       "</style>\n",
       "<table border=\"1\" class=\"dataframe\">\n",
       "  <thead>\n",
       "    <tr style=\"text-align: right;\">\n",
       "      <th></th>\n",
       "      <th>title</th>\n",
       "      <th>trump_neg</th>\n",
       "      <th>trump_neu</th>\n",
       "      <th>trump_pos</th>\n",
       "      <th>biden_neg</th>\n",
       "      <th>biden_neu</th>\n",
       "      <th>biden_pos</th>\n",
       "    </tr>\n",
       "  </thead>\n",
       "  <tbody>\n",
       "    <tr>\n",
       "      <th>0</th>\n",
       "      <td>Trump Reacts to Romney Being Isolated for Poss...</td>\n",
       "      <td>0.00000</td>\n",
       "      <td>0.943155</td>\n",
       "      <td>0.000000</td>\n",
       "      <td>0.0</td>\n",
       "      <td>0.000000</td>\n",
       "      <td>0.0</td>\n",
       "    </tr>\n",
       "    <tr>\n",
       "      <th>1</th>\n",
       "      <td>Trump Signs Executive Order to Prevent Hoardin...</td>\n",
       "      <td>0.00000</td>\n",
       "      <td>0.000000</td>\n",
       "      <td>0.535006</td>\n",
       "      <td>0.0</td>\n",
       "      <td>0.000000</td>\n",
       "      <td>0.0</td>\n",
       "    </tr>\n",
       "    <tr>\n",
       "      <th>2</th>\n",
       "      <td>Donald Trump: 'We Cannot Let the Cure Be Worse...</td>\n",
       "      <td>0.00000</td>\n",
       "      <td>0.737229</td>\n",
       "      <td>0.000000</td>\n",
       "      <td>0.0</td>\n",
       "      <td>0.000000</td>\n",
       "      <td>0.0</td>\n",
       "    </tr>\n",
       "    <tr>\n",
       "      <th>3</th>\n",
       "      <td>Man with Coronavirus Credits Drug Touted by Tr...</td>\n",
       "      <td>0.00000</td>\n",
       "      <td>0.000000</td>\n",
       "      <td>0.612008</td>\n",
       "      <td>0.0</td>\n",
       "      <td>0.000000</td>\n",
       "      <td>0.0</td>\n",
       "    </tr>\n",
       "    <tr>\n",
       "      <th>4</th>\n",
       "      <td>Biden: Trump and McConnell Trying to Put a Cor...</td>\n",
       "      <td>0.54157</td>\n",
       "      <td>0.000000</td>\n",
       "      <td>0.000000</td>\n",
       "      <td>0.0</td>\n",
       "      <td>0.572135</td>\n",
       "      <td>0.0</td>\n",
       "    </tr>\n",
       "  </tbody>\n",
       "</table>\n",
       "</div>"
      ],
      "text/plain": [
       "                                               title  trump_neg  trump_neu  \\\n",
       "0  Trump Reacts to Romney Being Isolated for Poss...    0.00000   0.943155   \n",
       "1  Trump Signs Executive Order to Prevent Hoardin...    0.00000   0.000000   \n",
       "2  Donald Trump: 'We Cannot Let the Cure Be Worse...    0.00000   0.737229   \n",
       "3  Man with Coronavirus Credits Drug Touted by Tr...    0.00000   0.000000   \n",
       "4  Biden: Trump and McConnell Trying to Put a Cor...    0.54157   0.000000   \n",
       "\n",
       "   trump_pos  biden_neg  biden_neu  biden_pos  \n",
       "0   0.000000        0.0   0.000000        0.0  \n",
       "1   0.535006        0.0   0.000000        0.0  \n",
       "2   0.000000        0.0   0.000000        0.0  \n",
       "3   0.612008        0.0   0.000000        0.0  \n",
       "4   0.000000        0.0   0.572135        0.0  "
      ]
     },
     "execution_count": 12,
     "metadata": {},
     "output_type": "execute_result"
    }
   ],
   "source": [
    "news[['title', 'trump_neg', 'trump_neu', 'trump_pos', 'biden_neg', 'biden_neu', 'biden_pos']].head(5)"
   ]
  },
  {
   "cell_type": "code",
   "execution_count": 36,
   "id": "6c9df588-d4b0-4c23-8120-de0b1bcdf995",
   "metadata": {},
   "outputs": [
    {
     "data": {
      "text/plain": [
       "'aviru'"
      ]
     },
     "execution_count": 36,
     "metadata": {},
     "output_type": "execute_result"
    }
   ],
   "source": [
    "news.title[0][-6:-1]"
   ]
  },
  {
   "cell_type": "code",
   "execution_count": 20,
   "id": "113c4177-4bf8-4507-a3e7-40d7ffc50759",
   "metadata": {},
   "outputs": [
    {
     "data": {
      "text/plain": [
       "27650"
      ]
     },
     "execution_count": 20,
     "metadata": {},
     "output_type": "execute_result"
    }
   ],
   "source": [
    "news.title.str.contains('Trump').sum()"
   ]
  },
  {
   "cell_type": "code",
   "execution_count": 169,
   "id": "0c7d14f2-97f7-4299-98dd-ab7b290d3fbb",
   "metadata": {},
   "outputs": [
    {
     "data": {
      "text/plain": [
       "True    26412\n",
       "Name: text, dtype: int64"
      ]
     },
     "execution_count": 169,
     "metadata": {},
     "output_type": "execute_result"
    }
   ],
   "source": [
    "(news_tweets_filtered.text.str.contains('Trump') | news_tweets_filtered.text.str.contains('Biden')).value_counts()"
   ]
  },
  {
   "cell_type": "code",
   "execution_count": 168,
   "id": "c5e40da4-b7e4-46ca-98ac-78d3a7e64a9b",
   "metadata": {},
   "outputs": [],
   "source": [
    "news_tweets_filtered = news_tweets[news_tweets.text.str.contains('Trump') | news_tweets.text.str.contains('Biden')]"
   ]
  },
  {
   "cell_type": "code",
   "execution_count": null,
   "id": "1ac2a915-dec1-4b43-bf87-21ce53160322",
   "metadata": {},
   "outputs": [],
   "source": []
  },
  {
   "cell_type": "code",
   "execution_count": null,
   "id": "d914bfb7-d1db-4569-a554-ad732e9e9e35",
   "metadata": {},
   "outputs": [],
   "source": []
  },
  {
   "cell_type": "code",
   "execution_count": 174,
   "id": "897cebf5-3159-445d-8723-affedc0db11d",
   "metadata": {
    "tags": []
   },
   "outputs": [
    {
     "name": "stdout",
     "output_type": "stream",
     "text": [
      "26411\r"
     ]
    }
   ],
   "source": [
    "ent = 'Biden' #'Biden']\n",
    "proc_head = []\n",
    "senti = []\n",
    "j = 0\n",
    "for i, n in enumerate(news_tweets_filtered.text):\n",
    "    # print(type(n))\n",
    "    k = n.split(ent)\n",
    "    # print(k)\n",
    "    sn = dict()\n",
    "    j+=1\n",
    "    if(ent in n):\n",
    "        # print(x)\n",
    "        # proc_head.append(x)\n",
    "        x = [k[0], ent, k[1]]\n",
    "        sentiment = tsc.infer_from_text(k[0].strip('\\n'), ent, k[1])\n",
    "        # print(x, sentiment)\n",
    "        # print(sentiment[0]['class_label'], sentiment[0]['class_prob'])\n",
    "        sn[sentiment[0]['class_label']] = sentiment[0]['class_prob']\n",
    "        sn[sentiment[1]['class_label']] = sentiment[1]['class_prob']\n",
    "        sn[sentiment[2]['class_label']] = sentiment[2]['class_prob']\n",
    "        senti.append(sn)\n",
    "        print(j, end = \"\\r\")\n",
    "        # sys.exit()\n",
    "    else:\n",
    "        senti.append(None)"
   ]
  },
  {
   "cell_type": "code",
   "execution_count": 177,
   "id": "22370800-8340-4e83-9b81-28743454be67",
   "metadata": {},
   "outputs": [
    {
     "data": {
      "text/plain": [
       "(26412, (26412, 42))"
      ]
     },
     "execution_count": 177,
     "metadata": {},
     "output_type": "execute_result"
    }
   ],
   "source": [
    "len(senti), news_tweets_filtered.shape"
   ]
  },
  {
   "cell_type": "code",
   "execution_count": 178,
   "id": "1f40df05-5af5-44b9-be6e-b5ec4a78861a",
   "metadata": {},
   "outputs": [],
   "source": [
    "pos_t_senti = [x['positive'] if x != None else None for x in senti]\n",
    "neg_t_senti = [x['negative'] if x != None else None for x in senti]\n",
    "neu_t_senti = [x['neutral'] if x != None else None for x in senti]"
   ]
  },
  {
   "cell_type": "code",
   "execution_count": 179,
   "id": "7a308e88-a090-42ad-931b-907b1d6fbd8d",
   "metadata": {},
   "outputs": [
    {
     "name": "stderr",
     "output_type": "stream",
     "text": [
      "/home/ahaque2/venv/py3_7/lib/python3.7/site-packages/ipykernel_launcher.py:1: SettingWithCopyWarning: \n",
      "A value is trying to be set on a copy of a slice from a DataFrame.\n",
      "Try using .loc[row_indexer,col_indexer] = value instead\n",
      "\n",
      "See the caveats in the documentation: https://pandas.pydata.org/pandas-docs/stable/user_guide/indexing.html#returning-a-view-versus-a-copy\n",
      "  \"\"\"Entry point for launching an IPython kernel.\n",
      "/home/ahaque2/venv/py3_7/lib/python3.7/site-packages/ipykernel_launcher.py:2: SettingWithCopyWarning: \n",
      "A value is trying to be set on a copy of a slice from a DataFrame.\n",
      "Try using .loc[row_indexer,col_indexer] = value instead\n",
      "\n",
      "See the caveats in the documentation: https://pandas.pydata.org/pandas-docs/stable/user_guide/indexing.html#returning-a-view-versus-a-copy\n",
      "  \n",
      "/home/ahaque2/venv/py3_7/lib/python3.7/site-packages/ipykernel_launcher.py:3: SettingWithCopyWarning: \n",
      "A value is trying to be set on a copy of a slice from a DataFrame.\n",
      "Try using .loc[row_indexer,col_indexer] = value instead\n",
      "\n",
      "See the caveats in the documentation: https://pandas.pydata.org/pandas-docs/stable/user_guide/indexing.html#returning-a-view-versus-a-copy\n",
      "  This is separate from the ipykernel package so we can avoid doing imports until\n"
     ]
    }
   ],
   "source": [
    "news_tweets_filtered['biden_pos_new'] = pos_t_senti\n",
    "news_tweets_filtered['biden_neg_new'] = neg_t_senti\n",
    "news_tweets_filtered['biden_neu_new'] = neu_t_senti"
   ]
  },
  {
   "cell_type": "code",
   "execution_count": 180,
   "id": "8ada1e61-cd73-4a73-86ce-b3e34982f122",
   "metadata": {},
   "outputs": [],
   "source": [
    "news_tweets_filtered.to_csv('results/news_tweets.csv')"
   ]
  },
  {
   "cell_type": "code",
   "execution_count": 162,
   "id": "b1965b82-bc48-4f08-be5f-a8e7aea62645",
   "metadata": {},
   "outputs": [
    {
     "data": {
      "text/plain": [
       "(Index(['Unnamed: 0', 'Unnamed: 0.3', 'Unnamed: 0.2', 'Unnamed: 0.1',\n",
       "        'Unnamed: 0.1.1', 'Unnamed: 0.1.1.1', 'tweet_id', 'conversation_id',\n",
       "        'author_id', 'created_at', 'geo', 'lang', 'like_count', 'quote_count',\n",
       "        'reply_count', 'retweet_count', 'source', 'text', 'display_name',\n",
       "        'topics', 'topic_labels', 'theme', 'pos_senti', 'neu_senti',\n",
       "        'neg_senti', 'publication', 'date', 'week', 'polIncl', 'hashtag',\n",
       "        'clean_text', 'proc_text', 'Segmented#', 'processed_text', 'topic_ids',\n",
       "        'subtopic', 'biden_pos_new', 'biden_neg_new', 'biden_neu_new',\n",
       "        'trump_pos_new', 'trump_neg_new', 'trump_neu_new'],\n",
       "       dtype='object'),\n",
       " (26412, 42))"
      ]
     },
     "execution_count": 162,
     "metadata": {},
     "output_type": "execute_result"
    }
   ],
   "source": [
    "news_tweets_filtered.columns, news_tweets_filtered.shape"
   ]
  },
  {
   "cell_type": "code",
   "execution_count": 89,
   "id": "06a4f882-c78b-4e5b-aa6b-e8d671166514",
   "metadata": {},
   "outputs": [],
   "source": [
    "# len(pos_t_senti)"
   ]
  },
  {
   "cell_type": "code",
   "execution_count": 51,
   "id": "f8cc936a-bacb-4532-8b7d-365ac289d5b1",
   "metadata": {},
   "outputs": [],
   "source": [
    "# from NewsSentiment import TargetSentimentClassifier\n",
    "# for x in proc_head:\n",
    "#     # print(type(x))\n",
    "#     tsc = TargetSentimentClassifier()\n",
    "#     sentiment = tsc.infer_from_text(\"\" ,\"Mark Meadows\", \"'s coverup of Trump’s coup attempt is falling apart.\")\n",
    "#     print(sentiment[0])"
   ]
  },
  {
   "cell_type": "code",
   "execution_count": null,
   "id": "d4d6ca2b-bd04-43d7-85cc-14518292a660",
   "metadata": {},
   "outputs": [],
   "source": []
  }
 ],
 "metadata": {
  "kernelspec": {
   "display_name": "py3_7",
   "language": "python",
   "name": "py3_7"
  },
  "language_info": {
   "codemirror_mode": {
    "name": "ipython",
    "version": 3
   },
   "file_extension": ".py",
   "mimetype": "text/x-python",
   "name": "python",
   "nbconvert_exporter": "python",
   "pygments_lexer": "ipython3",
   "version": "3.7.15"
  }
 },
 "nbformat": 4,
 "nbformat_minor": 5
}
